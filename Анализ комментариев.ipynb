{
 "cells": [
  {
   "cell_type": "markdown",
   "metadata": {
    "toc": true
   },
   "source": [
    "<h1>Содержание<span class=\"tocSkip\"></span></h1>\n",
    "<div class=\"toc\"><ul class=\"toc-item\"><li><span><a href=\"#Подготовка\" data-toc-modified-id=\"Подготовка-1\"><span class=\"toc-item-num\">1&nbsp;&nbsp;</span>Подготовка</a></span><ul class=\"toc-item\"><li><span><a href=\"#Изучение-общей-информации-по-данным\" data-toc-modified-id=\"Изучение-общей-информации-по-данным-1.1\"><span class=\"toc-item-num\">1.1&nbsp;&nbsp;</span>Изучение общей информации по данным</a></span></li><li><span><a href=\"#Обработка-данных\" data-toc-modified-id=\"Обработка-данных-1.2\"><span class=\"toc-item-num\">1.2&nbsp;&nbsp;</span>Обработка данных</a></span></li><li><span><a href=\"#Деление-выборки\" data-toc-modified-id=\"Деление-выборки-1.3\"><span class=\"toc-item-num\">1.3&nbsp;&nbsp;</span>Деление выборки</a></span></li></ul></li><li><span><a href=\"#Обучение\" data-toc-modified-id=\"Обучение-2\"><span class=\"toc-item-num\">2&nbsp;&nbsp;</span>Обучение</a></span><ul class=\"toc-item\"><li><span><a href=\"#Модель-логистической-регрессии\" data-toc-modified-id=\"Модель-логистической-регрессии-2.1\"><span class=\"toc-item-num\">2.1&nbsp;&nbsp;</span>Модель логистической регрессии</a></span></li><li><span><a href=\"#Модель-решающего-дерева\" data-toc-modified-id=\"Модель-решающего-дерева-2.2\"><span class=\"toc-item-num\">2.2&nbsp;&nbsp;</span>Модель решающего дерева</a></span></li><li><span><a href=\"#Проверка-модели-на-тестовой-выборке\" data-toc-modified-id=\"Проверка-модели-на-тестовой-выборке-2.3\"><span class=\"toc-item-num\">2.3&nbsp;&nbsp;</span>Проверка модели на тестовой выборке</a></span></li></ul></li><li><span><a href=\"#Выводы\" data-toc-modified-id=\"Выводы-3\"><span class=\"toc-item-num\">3&nbsp;&nbsp;</span>Выводы</a></span></li><li><span><a href=\"#Чек-лист-проверки\" data-toc-modified-id=\"Чек-лист-проверки-4\"><span class=\"toc-item-num\">4&nbsp;&nbsp;</span>Чек-лист проверки</a></span></li></ul></div>"
   ]
  },
  {
   "cell_type": "markdown",
   "metadata": {},
   "source": [
    "# Проект для «Викишоп»"
   ]
  },
  {
   "cell_type": "markdown",
   "metadata": {},
   "source": [
    "Интернет-магазин «Викишоп» запускает новый сервис. Теперь пользователи могут редактировать и дополнять описания товаров, как в вики-сообществах. То есть клиенты предлагают свои правки и комментируют изменения других. Магазину нужен инструмент, который будет искать токсичные комментарии и отправлять их на модерацию. \n",
    "\n",
    "Обучите модель классифицировать комментарии на позитивные и негативные. В вашем распоряжении набор данных с разметкой о токсичности правок.\n",
    "\n",
    "Постройте модель со значением метрики качества *F1* не меньше 0.75. \n",
    "\n",
    "**Инструкция по выполнению проекта**\n",
    "\n",
    "1. Загрузите и подготовьте данные.\n",
    "2. Обучите разные модели. \n",
    "3. Сделайте выводы.\n",
    "\n",
    "Для выполнения проекта применять *BERT* необязательно, но вы можете попробовать.\n",
    "\n",
    "**Описание данных**\n",
    "\n",
    "Столбец *text* в нём содержит текст комментария, а *toxic* — целевой признак."
   ]
  },
  {
   "cell_type": "markdown",
   "metadata": {},
   "source": [
    "## Подготовка"
   ]
  },
  {
   "cell_type": "code",
   "execution_count": 1,
   "metadata": {
    "scrolled": true
   },
   "outputs": [
    {
     "name": "stderr",
     "output_type": "stream",
     "text": [
      "[nltk_data] Downloading package stopwords to /home/jovyan/nltk_data...\n",
      "[nltk_data]   Package stopwords is already up-to-date!\n",
      "[nltk_data] Downloading package wordnet to /home/jovyan/nltk_data...\n",
      "[nltk_data]   Package wordnet is already up-to-date!\n",
      "[nltk_data] Downloading package averaged_perceptron_tagger to\n",
      "[nltk_data]     /home/jovyan/nltk_data...\n",
      "[nltk_data]   Unzipping taggers/averaged_perceptron_tagger.zip.\n"
     ]
    },
    {
     "data": {
      "text/plain": [
       "True"
      ]
     },
     "execution_count": 1,
     "metadata": {},
     "output_type": "execute_result"
    }
   ],
   "source": [
    "import pandas as pd\n",
    "import numpy as np\n",
    "import nltk\n",
    "import string\n",
    "from nltk import pos_tag\n",
    "from nltk import word_tokenize\n",
    "from nltk.corpus import stopwords, wordnet\n",
    "from nltk.stem import WordNetLemmatizer\n",
    "from tqdm.notebook import tqdm\n",
    "tqdm.pandas()\n",
    "from sklearn.tree import DecisionTreeClassifier\n",
    "from sklearn.linear_model import LogisticRegression\n",
    "from sklearn.feature_extraction.text import CountVectorizer, TfidfVectorizer\n",
    "from sklearn.model_selection import train_test_split, GridSearchCV\n",
    "from sklearn.metrics import f1_score \n",
    "from sklearn.pipeline import Pipeline\n",
    "nltk.download('stopwords')\n",
    "nltk.download('wordnet')\n",
    "nltk.download('averaged_perceptron_tagger')"
   ]
  },
  {
   "cell_type": "code",
   "execution_count": 2,
   "metadata": {},
   "outputs": [],
   "source": [
    "# загрузим данные\n",
    "df = pd.read_csv('/datasets/toxic_comments.csv')\n"
   ]
  },
  {
   "cell_type": "markdown",
   "metadata": {},
   "source": [
    "### Изучение общей информации по данным"
   ]
  },
  {
   "cell_type": "code",
   "execution_count": 3,
   "metadata": {},
   "outputs": [
    {
     "data": {
      "text/plain": [
       "(159292, 3)"
      ]
     },
     "execution_count": 3,
     "metadata": {},
     "output_type": "execute_result"
    }
   ],
   "source": [
    "# размер данных\n",
    "df.shape"
   ]
  },
  {
   "cell_type": "code",
   "execution_count": 4,
   "metadata": {},
   "outputs": [
    {
     "name": "stdout",
     "output_type": "stream",
     "text": [
      "<class 'pandas.core.frame.DataFrame'>\n",
      "RangeIndex: 159292 entries, 0 to 159291\n",
      "Data columns (total 3 columns):\n",
      " #   Column      Non-Null Count   Dtype \n",
      "---  ------      --------------   ----- \n",
      " 0   Unnamed: 0  159292 non-null  int64 \n",
      " 1   text        159292 non-null  object\n",
      " 2   toxic       159292 non-null  int64 \n",
      "dtypes: int64(2), object(1)\n",
      "memory usage: 3.6+ MB\n"
     ]
    }
   ],
   "source": [
    "# общая информация о данных\n",
    "df.info()"
   ]
  },
  {
   "cell_type": "code",
   "execution_count": 5,
   "metadata": {},
   "outputs": [
    {
     "data": {
      "text/html": [
       "<div>\n",
       "<style scoped>\n",
       "    .dataframe tbody tr th:only-of-type {\n",
       "        vertical-align: middle;\n",
       "    }\n",
       "\n",
       "    .dataframe tbody tr th {\n",
       "        vertical-align: top;\n",
       "    }\n",
       "\n",
       "    .dataframe thead th {\n",
       "        text-align: right;\n",
       "    }\n",
       "</style>\n",
       "<table border=\"1\" class=\"dataframe\">\n",
       "  <thead>\n",
       "    <tr style=\"text-align: right;\">\n",
       "      <th></th>\n",
       "      <th>Unnamed: 0</th>\n",
       "      <th>text</th>\n",
       "      <th>toxic</th>\n",
       "    </tr>\n",
       "  </thead>\n",
       "  <tbody>\n",
       "    <tr>\n",
       "      <th>0</th>\n",
       "      <td>0</td>\n",
       "      <td>Explanation\\nWhy the edits made under my usern...</td>\n",
       "      <td>0</td>\n",
       "    </tr>\n",
       "    <tr>\n",
       "      <th>1</th>\n",
       "      <td>1</td>\n",
       "      <td>D'aww! He matches this background colour I'm s...</td>\n",
       "      <td>0</td>\n",
       "    </tr>\n",
       "    <tr>\n",
       "      <th>2</th>\n",
       "      <td>2</td>\n",
       "      <td>Hey man, I'm really not trying to edit war. It...</td>\n",
       "      <td>0</td>\n",
       "    </tr>\n",
       "    <tr>\n",
       "      <th>3</th>\n",
       "      <td>3</td>\n",
       "      <td>\"\\nMore\\nI can't make any real suggestions on ...</td>\n",
       "      <td>0</td>\n",
       "    </tr>\n",
       "    <tr>\n",
       "      <th>4</th>\n",
       "      <td>4</td>\n",
       "      <td>You, sir, are my hero. Any chance you remember...</td>\n",
       "      <td>0</td>\n",
       "    </tr>\n",
       "  </tbody>\n",
       "</table>\n",
       "</div>"
      ],
      "text/plain": [
       "   Unnamed: 0                                               text  toxic\n",
       "0           0  Explanation\\nWhy the edits made under my usern...      0\n",
       "1           1  D'aww! He matches this background colour I'm s...      0\n",
       "2           2  Hey man, I'm really not trying to edit war. It...      0\n",
       "3           3  \"\\nMore\\nI can't make any real suggestions on ...      0\n",
       "4           4  You, sir, are my hero. Any chance you remember...      0"
      ]
     },
     "execution_count": 5,
     "metadata": {},
     "output_type": "execute_result"
    }
   ],
   "source": [
    "df.head()"
   ]
  },
  {
   "cell_type": "code",
   "execution_count": 6,
   "metadata": {},
   "outputs": [
    {
     "data": {
      "text/html": [
       "<div>\n",
       "<style scoped>\n",
       "    .dataframe tbody tr th:only-of-type {\n",
       "        vertical-align: middle;\n",
       "    }\n",
       "\n",
       "    .dataframe tbody tr th {\n",
       "        vertical-align: top;\n",
       "    }\n",
       "\n",
       "    .dataframe thead th {\n",
       "        text-align: right;\n",
       "    }\n",
       "</style>\n",
       "<table border=\"1\" class=\"dataframe\">\n",
       "  <thead>\n",
       "    <tr style=\"text-align: right;\">\n",
       "      <th></th>\n",
       "      <th>Unnamed: 0</th>\n",
       "      <th>text</th>\n",
       "      <th>toxic</th>\n",
       "    </tr>\n",
       "  </thead>\n",
       "  <tbody>\n",
       "    <tr>\n",
       "      <th>159287</th>\n",
       "      <td>159446</td>\n",
       "      <td>\":::::And for the second time of asking, when ...</td>\n",
       "      <td>0</td>\n",
       "    </tr>\n",
       "    <tr>\n",
       "      <th>159288</th>\n",
       "      <td>159447</td>\n",
       "      <td>You should be ashamed of yourself \\n\\nThat is ...</td>\n",
       "      <td>0</td>\n",
       "    </tr>\n",
       "    <tr>\n",
       "      <th>159289</th>\n",
       "      <td>159448</td>\n",
       "      <td>Spitzer \\n\\nUmm, theres no actual article for ...</td>\n",
       "      <td>0</td>\n",
       "    </tr>\n",
       "    <tr>\n",
       "      <th>159290</th>\n",
       "      <td>159449</td>\n",
       "      <td>And it looks like it was actually you who put ...</td>\n",
       "      <td>0</td>\n",
       "    </tr>\n",
       "    <tr>\n",
       "      <th>159291</th>\n",
       "      <td>159450</td>\n",
       "      <td>\"\\nAnd ... I really don't think you understand...</td>\n",
       "      <td>0</td>\n",
       "    </tr>\n",
       "  </tbody>\n",
       "</table>\n",
       "</div>"
      ],
      "text/plain": [
       "        Unnamed: 0                                               text  toxic\n",
       "159287      159446  \":::::And for the second time of asking, when ...      0\n",
       "159288      159447  You should be ashamed of yourself \\n\\nThat is ...      0\n",
       "159289      159448  Spitzer \\n\\nUmm, theres no actual article for ...      0\n",
       "159290      159449  And it looks like it was actually you who put ...      0\n",
       "159291      159450  \"\\nAnd ... I really don't think you understand...      0"
      ]
     },
     "execution_count": 6,
     "metadata": {},
     "output_type": "execute_result"
    }
   ],
   "source": [
    "df.tail()"
   ]
  },
  {
   "cell_type": "code",
   "execution_count": 7,
   "metadata": {},
   "outputs": [
    {
     "data": {
      "text/html": [
       "<div>\n",
       "<style scoped>\n",
       "    .dataframe tbody tr th:only-of-type {\n",
       "        vertical-align: middle;\n",
       "    }\n",
       "\n",
       "    .dataframe tbody tr th {\n",
       "        vertical-align: top;\n",
       "    }\n",
       "\n",
       "    .dataframe thead th {\n",
       "        text-align: right;\n",
       "    }\n",
       "</style>\n",
       "<table border=\"1\" class=\"dataframe\">\n",
       "  <thead>\n",
       "    <tr style=\"text-align: right;\">\n",
       "      <th></th>\n",
       "      <th>Unnamed: 0</th>\n",
       "      <th>toxic</th>\n",
       "    </tr>\n",
       "  </thead>\n",
       "  <tbody>\n",
       "    <tr>\n",
       "      <th>count</th>\n",
       "      <td>159292.000000</td>\n",
       "      <td>159292.000000</td>\n",
       "    </tr>\n",
       "    <tr>\n",
       "      <th>mean</th>\n",
       "      <td>79725.697242</td>\n",
       "      <td>0.101612</td>\n",
       "    </tr>\n",
       "    <tr>\n",
       "      <th>std</th>\n",
       "      <td>46028.837471</td>\n",
       "      <td>0.302139</td>\n",
       "    </tr>\n",
       "    <tr>\n",
       "      <th>min</th>\n",
       "      <td>0.000000</td>\n",
       "      <td>0.000000</td>\n",
       "    </tr>\n",
       "    <tr>\n",
       "      <th>25%</th>\n",
       "      <td>39872.750000</td>\n",
       "      <td>0.000000</td>\n",
       "    </tr>\n",
       "    <tr>\n",
       "      <th>50%</th>\n",
       "      <td>79721.500000</td>\n",
       "      <td>0.000000</td>\n",
       "    </tr>\n",
       "    <tr>\n",
       "      <th>75%</th>\n",
       "      <td>119573.250000</td>\n",
       "      <td>0.000000</td>\n",
       "    </tr>\n",
       "    <tr>\n",
       "      <th>max</th>\n",
       "      <td>159450.000000</td>\n",
       "      <td>1.000000</td>\n",
       "    </tr>\n",
       "  </tbody>\n",
       "</table>\n",
       "</div>"
      ],
      "text/plain": [
       "          Unnamed: 0          toxic\n",
       "count  159292.000000  159292.000000\n",
       "mean    79725.697242       0.101612\n",
       "std     46028.837471       0.302139\n",
       "min         0.000000       0.000000\n",
       "25%     39872.750000       0.000000\n",
       "50%     79721.500000       0.000000\n",
       "75%    119573.250000       0.000000\n",
       "max    159450.000000       1.000000"
      ]
     },
     "execution_count": 7,
     "metadata": {},
     "output_type": "execute_result"
    }
   ],
   "source": [
    "df.describe()"
   ]
  },
  {
   "cell_type": "code",
   "execution_count": 8,
   "metadata": {},
   "outputs": [
    {
     "data": {
      "text/plain": [
       "Unnamed: 0    0\n",
       "text          0\n",
       "toxic         0\n",
       "dtype: int64"
      ]
     },
     "execution_count": 8,
     "metadata": {},
     "output_type": "execute_result"
    }
   ],
   "source": [
    "# проверим пропуски, их нет\n",
    "df.isna().sum()"
   ]
  },
  {
   "cell_type": "code",
   "execution_count": 9,
   "metadata": {
    "scrolled": false
   },
   "outputs": [
    {
     "data": {
      "text/plain": [
       "0"
      ]
     },
     "execution_count": 9,
     "metadata": {},
     "output_type": "execute_result"
    }
   ],
   "source": [
    "df.duplicated().sum() #посмотрим наличие дубликатов, не наблюдаются"
   ]
  },
  {
   "cell_type": "code",
   "execution_count": 10,
   "metadata": {},
   "outputs": [
    {
     "data": {
      "text/plain": [
       "0    0.898388\n",
       "1    0.101612\n",
       "Name: toxic, dtype: float64"
      ]
     },
     "execution_count": 10,
     "metadata": {},
     "output_type": "execute_result"
    }
   ],
   "source": [
    "# посмотрим на количество строк с разными классами в столбце целевого признака, выявлено соотношение 90/10\n",
    "df['toxic'].value_counts(normalize=True) "
   ]
  },
  {
   "cell_type": "markdown",
   "metadata": {},
   "source": [
    "### Обработка данных"
   ]
  },
  {
   "cell_type": "code",
   "execution_count": 11,
   "metadata": {},
   "outputs": [],
   "source": [
    "# Перевод в нижний регистр\n",
    "df['text_lower'] = df['text'].str.lower()"
   ]
  },
  {
   "cell_type": "code",
   "execution_count": 12,
   "metadata": {},
   "outputs": [
    {
     "name": "stdout",
     "output_type": "stream",
     "text": [
      "CPU times: user 1.49 s, sys: 44 ms, total: 1.53 s\n",
      "Wall time: 1.54 s\n"
     ]
    }
   ],
   "source": [
    "%%time\n",
    "# Удаление ненужных символов\n",
    "translator = str.maketrans('', '', string.punctuation + string.digits)\n",
    "df['text_no_punct'] = df['text_lower'].apply(lambda x: x.translate(translator))"
   ]
  },
  {
   "cell_type": "code",
   "execution_count": 13,
   "metadata": {
    "scrolled": true
   },
   "outputs": [
    {
     "name": "stdout",
     "output_type": "stream",
     "text": [
      "CPU times: user 51.7 s, sys: 157 ms, total: 51.8 s\n",
      "Wall time: 52 s\n"
     ]
    }
   ],
   "source": [
    "%%time\n",
    "# Удаление стоп-слов\n",
    "stop_words=set(stopwords.words('english'))\n",
    "stop_words.add('n')\n",
    "df['text_no_stopwords'] = df['text_no_punct'].apply(lambda x: ' '.join([word for word in word_tokenize(x) if word not in stop_words]))"
   ]
  },
  {
   "cell_type": "code",
   "execution_count": 14,
   "metadata": {},
   "outputs": [],
   "source": [
    "# первый вариант\n",
    "\n",
    "# функция определения тега слов \n",
    "def get_pos(word):\n",
    "    tag = nltk.pos_tag([word])[0][1][0].upper()\n",
    "    tag_dict = {\"J\": wordnet.ADJ,\n",
    "                \"N\": wordnet.NOUN,\n",
    "                \"V\": wordnet.VERB,\n",
    "                \"R\": wordnet.ADV}\n",
    "    return tag_dict.get(tag, wordnet.NOUN)\n",
    "\n",
    "# функция лемматизации \n",
    "def lemma_function(text):\n",
    "    m = WordNetLemmatizer()\n",
    "    word_list = nltk.word_tokenize(text)\n",
    "    lemma = ' '.join([m.lemmatize(word, get_pos(word)) for word in word_list])\n",
    "    return lemma"
   ]
  },
  {
   "cell_type": "code",
   "execution_count": 15,
   "metadata": {
    "scrolled": true
   },
   "outputs": [
    {
     "data": {
      "application/vnd.jupyter.widget-view+json": {
       "model_id": "404dae9fd06046418d881e39479bca29",
       "version_major": 2,
       "version_minor": 0
      },
      "text/plain": [
       "  0%|          | 0/159292 [00:00<?, ?it/s]"
      ]
     },
     "metadata": {},
     "output_type": "display_data"
    }
   ],
   "source": [
    "df['lemm_text'] = df['text_no_stopwords'].progress_apply(lemma_function)"
   ]
  },
  {
   "cell_type": "code",
   "execution_count": 16,
   "metadata": {},
   "outputs": [],
   "source": [
    "# второй вариант\n",
    "\n",
    "# функция определения тега слов \n",
    "def pos(tag):\n",
    "    postag = {'NN':'n', 'JJ':'a',\n",
    "              'VB':'v', 'RB':'r'}\n",
    "    try:\n",
    "        return postag[tag[:2]]\n",
    "    except:\n",
    "        return 'n' \n",
    "# функция лемматизации \n",
    "def lemmatize_sent(text): \n",
    "    m = WordNetLemmatizer()\n",
    "    word_list = nltk.word_tokenize(text)\n",
    "    lemma = ' '.join([m.lemmatize(word, pos=pos(tag))\n",
    "            for word, tag in pos_tag(word_list)])\n",
    "    return lemma\n"
   ]
  },
  {
   "cell_type": "code",
   "execution_count": 17,
   "metadata": {
    "scrolled": true
   },
   "outputs": [
    {
     "data": {
      "application/vnd.jupyter.widget-view+json": {
       "model_id": "792c61bb8c8a42db9e364cdd020ebba0",
       "version_major": 2,
       "version_minor": 0
      },
      "text/plain": [
       "  0%|          | 0/159292 [00:00<?, ?it/s]"
      ]
     },
     "metadata": {},
     "output_type": "display_data"
    }
   ],
   "source": [
    "df['lemm2_text'] = df['text_no_stopwords'].progress_apply(lemmatize_sent)"
   ]
  },
  {
   "cell_type": "code",
   "execution_count": 18,
   "metadata": {},
   "outputs": [
    {
     "data": {
      "text/html": [
       "<div>\n",
       "<style scoped>\n",
       "    .dataframe tbody tr th:only-of-type {\n",
       "        vertical-align: middle;\n",
       "    }\n",
       "\n",
       "    .dataframe tbody tr th {\n",
       "        vertical-align: top;\n",
       "    }\n",
       "\n",
       "    .dataframe thead th {\n",
       "        text-align: right;\n",
       "    }\n",
       "</style>\n",
       "<table border=\"1\" class=\"dataframe\">\n",
       "  <thead>\n",
       "    <tr style=\"text-align: right;\">\n",
       "      <th></th>\n",
       "      <th>Unnamed: 0</th>\n",
       "      <th>text</th>\n",
       "      <th>toxic</th>\n",
       "      <th>text_lower</th>\n",
       "      <th>text_no_punct</th>\n",
       "      <th>text_no_stopwords</th>\n",
       "      <th>lemm_text</th>\n",
       "      <th>lemm2_text</th>\n",
       "    </tr>\n",
       "  </thead>\n",
       "  <tbody>\n",
       "    <tr>\n",
       "      <th>0</th>\n",
       "      <td>0</td>\n",
       "      <td>Explanation\\nWhy the edits made under my usern...</td>\n",
       "      <td>0</td>\n",
       "      <td>explanation\\nwhy the edits made under my usern...</td>\n",
       "      <td>explanation\\nwhy the edits made under my usern...</td>\n",
       "      <td>explanation edits made username hardcore metal...</td>\n",
       "      <td>explanation edits make username hardcore metal...</td>\n",
       "      <td>explanation edits make username hardcore metal...</td>\n",
       "    </tr>\n",
       "    <tr>\n",
       "      <th>1</th>\n",
       "      <td>1</td>\n",
       "      <td>D'aww! He matches this background colour I'm s...</td>\n",
       "      <td>0</td>\n",
       "      <td>d'aww! he matches this background colour i'm s...</td>\n",
       "      <td>daww he matches this background colour im seem...</td>\n",
       "      <td>daww matches background colour im seemingly st...</td>\n",
       "      <td>daww match background colour im seemingly stuc...</td>\n",
       "      <td>daww match background colour im seemingly stuc...</td>\n",
       "    </tr>\n",
       "    <tr>\n",
       "      <th>2</th>\n",
       "      <td>2</td>\n",
       "      <td>Hey man, I'm really not trying to edit war. It...</td>\n",
       "      <td>0</td>\n",
       "      <td>hey man, i'm really not trying to edit war. it...</td>\n",
       "      <td>hey man im really not trying to edit war its j...</td>\n",
       "      <td>hey man im really trying edit war guy constant...</td>\n",
       "      <td>hey man im really try edit war guy constantly ...</td>\n",
       "      <td>hey man im really try edit war guy constantly ...</td>\n",
       "    </tr>\n",
       "    <tr>\n",
       "      <th>3</th>\n",
       "      <td>3</td>\n",
       "      <td>\"\\nMore\\nI can't make any real suggestions on ...</td>\n",
       "      <td>0</td>\n",
       "      <td>\"\\nmore\\ni can't make any real suggestions on ...</td>\n",
       "      <td>\\nmore\\ni cant make any real suggestions on im...</td>\n",
       "      <td>cant make real suggestions improvement wondere...</td>\n",
       "      <td>cant make real suggestion improvement wonder s...</td>\n",
       "      <td>cant make real suggestion improvement wonder s...</td>\n",
       "    </tr>\n",
       "    <tr>\n",
       "      <th>4</th>\n",
       "      <td>4</td>\n",
       "      <td>You, sir, are my hero. Any chance you remember...</td>\n",
       "      <td>0</td>\n",
       "      <td>you, sir, are my hero. any chance you remember...</td>\n",
       "      <td>you sir are my hero any chance you remember wh...</td>\n",
       "      <td>sir hero chance remember page thats</td>\n",
       "      <td>sir hero chance remember page thats</td>\n",
       "      <td>sir hero chance remember page thats</td>\n",
       "    </tr>\n",
       "  </tbody>\n",
       "</table>\n",
       "</div>"
      ],
      "text/plain": [
       "   Unnamed: 0                                               text  toxic  \\\n",
       "0           0  Explanation\\nWhy the edits made under my usern...      0   \n",
       "1           1  D'aww! He matches this background colour I'm s...      0   \n",
       "2           2  Hey man, I'm really not trying to edit war. It...      0   \n",
       "3           3  \"\\nMore\\nI can't make any real suggestions on ...      0   \n",
       "4           4  You, sir, are my hero. Any chance you remember...      0   \n",
       "\n",
       "                                          text_lower  \\\n",
       "0  explanation\\nwhy the edits made under my usern...   \n",
       "1  d'aww! he matches this background colour i'm s...   \n",
       "2  hey man, i'm really not trying to edit war. it...   \n",
       "3  \"\\nmore\\ni can't make any real suggestions on ...   \n",
       "4  you, sir, are my hero. any chance you remember...   \n",
       "\n",
       "                                       text_no_punct  \\\n",
       "0  explanation\\nwhy the edits made under my usern...   \n",
       "1  daww he matches this background colour im seem...   \n",
       "2  hey man im really not trying to edit war its j...   \n",
       "3  \\nmore\\ni cant make any real suggestions on im...   \n",
       "4  you sir are my hero any chance you remember wh...   \n",
       "\n",
       "                                   text_no_stopwords  \\\n",
       "0  explanation edits made username hardcore metal...   \n",
       "1  daww matches background colour im seemingly st...   \n",
       "2  hey man im really trying edit war guy constant...   \n",
       "3  cant make real suggestions improvement wondere...   \n",
       "4                sir hero chance remember page thats   \n",
       "\n",
       "                                           lemm_text  \\\n",
       "0  explanation edits make username hardcore metal...   \n",
       "1  daww match background colour im seemingly stuc...   \n",
       "2  hey man im really try edit war guy constantly ...   \n",
       "3  cant make real suggestion improvement wonder s...   \n",
       "4                sir hero chance remember page thats   \n",
       "\n",
       "                                          lemm2_text  \n",
       "0  explanation edits make username hardcore metal...  \n",
       "1  daww match background colour im seemingly stuc...  \n",
       "2  hey man im really try edit war guy constantly ...  \n",
       "3  cant make real suggestion improvement wonder s...  \n",
       "4                sir hero chance remember page thats  "
      ]
     },
     "execution_count": 18,
     "metadata": {},
     "output_type": "execute_result"
    }
   ],
   "source": [
    "df.head()"
   ]
  },
  {
   "cell_type": "code",
   "execution_count": 19,
   "metadata": {},
   "outputs": [
    {
     "data": {
      "text/plain": [
       "0         explanation edits make username hardcore metal...\n",
       "1         daww match background colour im seemingly stuc...\n",
       "2         hey man im really try edit war guy constantly ...\n",
       "3         cant make real suggestion improvement wonder s...\n",
       "4                       sir hero chance remember page thats\n",
       "                                ...                        \n",
       "159287    second time ask view completely contradicts co...\n",
       "159288                 ashamed horrible thing put talk page\n",
       "159289    spitzer umm there actual article prostitution ...\n",
       "159290    look like actually put speedy first version de...\n",
       "159291    really dont think understand come idea bad rig...\n",
       "Name: lemm_text, Length: 159292, dtype: object"
      ]
     },
     "execution_count": 19,
     "metadata": {},
     "output_type": "execute_result"
    }
   ],
   "source": [
    "df['lemm_text']"
   ]
  },
  {
   "cell_type": "markdown",
   "metadata": {},
   "source": [
    "### Деление выборки"
   ]
  },
  {
   "cell_type": "code",
   "execution_count": 20,
   "metadata": {},
   "outputs": [],
   "source": [
    "# выделим признаки\n",
    "features = df['lemm_text']"
   ]
  },
  {
   "cell_type": "code",
   "execution_count": 21,
   "metadata": {},
   "outputs": [],
   "source": [
    "# выделим целевой признак\n",
    "target = df['toxic']"
   ]
  },
  {
   "cell_type": "code",
   "execution_count": 22,
   "metadata": {
    "scrolled": true
   },
   "outputs": [
    {
     "data": {
      "text/plain": [
       "0    0.898388\n",
       "1    0.101612\n",
       "Name: toxic, dtype: float64"
      ]
     },
     "execution_count": 22,
     "metadata": {},
     "output_type": "execute_result"
    }
   ],
   "source": [
    "# посмотрим на количество строк с разными классами в столбце целевого признака, выявлено соотношение 90/10\n",
    "target.value_counts(normalize=True) "
   ]
  },
  {
   "cell_type": "code",
   "execution_count": 23,
   "metadata": {},
   "outputs": [],
   "source": [
    "# разделим данные на 90/10\n",
    "features_train, features_test, target_train, target_test = train_test_split(features, target, \\\n",
    "                                                                                test_size = 0.1, random_state=12345, \\\n",
    "                                                                                stratify=target)"
   ]
  },
  {
   "cell_type": "code",
   "execution_count": 24,
   "metadata": {},
   "outputs": [
    {
     "name": "stdout",
     "output_type": "stream",
     "text": [
      "Количество строк в target_train по классам: [128795  14567]\n",
      "Количество строк в target_test по классам: [14311  1619]\n"
     ]
    }
   ],
   "source": [
    "# проверим данные\n",
    "print(f\"Количество строк в target_train по классам: {np.bincount(target_train)}\")\n",
    "print(f\"Количество строк в target_test по классам: {np.bincount(target_test)}\")"
   ]
  },
  {
   "cell_type": "code",
   "execution_count": 25,
   "metadata": {
    "scrolled": true
   },
   "outputs": [
    {
     "data": {
      "text/plain": [
       "((143362,), (15930,))"
      ]
     },
     "execution_count": 25,
     "metadata": {},
     "output_type": "execute_result"
    }
   ],
   "source": [
    "# проверим разбиение\n",
    "features_train.shape, features_test.shape"
   ]
  },
  {
   "cell_type": "markdown",
   "metadata": {},
   "source": [
    "**Вывод по разделу**\n",
    "\n",
    "Ознакомились с данными\n",
    "- строк 159292, столбца 3\n",
    "- пропусков нет, дубликатов нет\n",
    "- установлен дисбаланс классов 90/10 в целевом признаке\n",
    "\n",
    "Провели обработку данных\n",
    "- перевод в нижний регистр\n",
    "- удаление лишних символов\n",
    "- удаление стоп-слов\n",
    "- лемматизация текста\n",
    "\n",
    "Разделили выборки\n",
    "- выделили признаки и целевой признак\n",
    "- выявили дисбаланс классов в целевом признаке, выявлено соотношение 90/10\n",
    "- разделили выборки на 90/10, учли дисбаланс классов"
   ]
  },
  {
   "cell_type": "markdown",
   "metadata": {},
   "source": [
    "## Обучение"
   ]
  },
  {
   "cell_type": "markdown",
   "metadata": {},
   "source": [
    "### Модель логистической регрессии"
   ]
  },
  {
   "cell_type": "code",
   "execution_count": 26,
   "metadata": {},
   "outputs": [],
   "source": [
    "f1_tfidf = []\n",
    "f1_bow = []"
   ]
  },
  {
   "cell_type": "code",
   "execution_count": 27,
   "metadata": {},
   "outputs": [
    {
     "name": "stdout",
     "output_type": "stream",
     "text": [
      "Fitting 3 folds for each of 2 candidates, totalling 6 fits\n",
      "[CV 1/3; 1/2] START classifier__C=1.............................................\n",
      "[CV 1/3; 1/2] END ...........................classifier__C=1; total time=  53.9s\n",
      "[CV 2/3; 1/2] START classifier__C=1.............................................\n",
      "[CV 2/3; 1/2] END ...........................classifier__C=1; total time=  41.6s\n",
      "[CV 3/3; 1/2] START classifier__C=1.............................................\n",
      "[CV 3/3; 1/2] END ...........................classifier__C=1; total time= 1.0min\n",
      "[CV 1/3; 2/2] START classifier__C=10............................................\n",
      "[CV 1/3; 2/2] END ..........................classifier__C=10; total time= 1.9min\n",
      "[CV 2/3; 2/2] START classifier__C=10............................................\n",
      "[CV 2/3; 2/2] END ..........................classifier__C=10; total time= 1.6min\n",
      "[CV 3/3; 2/2] START classifier__C=10............................................\n",
      "[CV 3/3; 2/2] END ..........................classifier__C=10; total time= 2.2min\n",
      "Лучшие гиперпараметры с TF-IDF:  {'classifier__C': 10}\n",
      "F1-score на тренировочной с TF-IDF:  0.7741284783360992\n",
      "CPU times: user 4min 9s, sys: 7min 14s, total: 11min 24s\n",
      "Wall time: 11min 26s\n"
     ]
    }
   ],
   "source": [
    "%%time\n",
    "# Обучим модель логистической регрессии с векторизацией признаков с TF-IDF\n",
    "classifier = LogisticRegression(random_state=12345, max_iter=1000)\n",
    "vectorizer = TfidfVectorizer()\n",
    "pipeline = Pipeline([\n",
    "    ('vectorizer', vectorizer),\n",
    "    ('classifier', classifier)\n",
    "])\n",
    "parameters = {\n",
    "    'classifier__C': [1, 10],\n",
    "}\n",
    "grid_lr_tf = GridSearchCV(pipeline, parameters, cv=3, scoring='f1', n_jobs=-1, verbose=10)\n",
    "grid_lr_tf.fit(features_train, target_train)\n",
    "best_params = grid_lr_tf.best_params_\n",
    "best_score = grid_lr_tf.best_score_\n",
    "print(f'Лучшие гиперпараметры с TF-IDF:  {best_params}')\n",
    "print(f'F1-score на тренировочной с TF-IDF:  {best_score}')\n",
    "f1_tfidf.append(round(best_score, 3))\n"
   ]
  },
  {
   "cell_type": "code",
   "execution_count": 28,
   "metadata": {
    "scrolled": false
   },
   "outputs": [
    {
     "name": "stdout",
     "output_type": "stream",
     "text": [
      "Fitting 3 folds for each of 2 candidates, totalling 6 fits\n",
      "[CV 1/3; 1/2] START classifier__C=1.............................................\n",
      "[CV 1/3; 1/2] END ...........................classifier__C=1; total time= 3.8min\n",
      "[CV 2/3; 1/2] START classifier__C=1.............................................\n",
      "[CV 2/3; 1/2] END ...........................classifier__C=1; total time= 3.6min\n",
      "[CV 3/3; 1/2] START classifier__C=1.............................................\n",
      "[CV 3/3; 1/2] END ...........................classifier__C=1; total time= 3.8min\n",
      "[CV 1/3; 2/2] START classifier__C=10............................................\n"
     ]
    },
    {
     "name": "stderr",
     "output_type": "stream",
     "text": [
      "/opt/conda/lib/python3.9/site-packages/sklearn/linear_model/_logistic.py:763: ConvergenceWarning: lbfgs failed to converge (status=1):\n",
      "STOP: TOTAL NO. of ITERATIONS REACHED LIMIT.\n",
      "\n",
      "Increase the number of iterations (max_iter) or scale the data as shown in:\n",
      "    https://scikit-learn.org/stable/modules/preprocessing.html\n",
      "Please also refer to the documentation for alternative solver options:\n",
      "    https://scikit-learn.org/stable/modules/linear_model.html#logistic-regression\n",
      "  n_iter_i = _check_optimize_result(\n"
     ]
    },
    {
     "name": "stdout",
     "output_type": "stream",
     "text": [
      "[CV 1/3; 2/2] END ..........................classifier__C=10; total time= 8.3min\n",
      "[CV 2/3; 2/2] START classifier__C=10............................................\n"
     ]
    },
    {
     "name": "stderr",
     "output_type": "stream",
     "text": [
      "/opt/conda/lib/python3.9/site-packages/sklearn/linear_model/_logistic.py:763: ConvergenceWarning: lbfgs failed to converge (status=1):\n",
      "STOP: TOTAL NO. of ITERATIONS REACHED LIMIT.\n",
      "\n",
      "Increase the number of iterations (max_iter) or scale the data as shown in:\n",
      "    https://scikit-learn.org/stable/modules/preprocessing.html\n",
      "Please also refer to the documentation for alternative solver options:\n",
      "    https://scikit-learn.org/stable/modules/linear_model.html#logistic-regression\n",
      "  n_iter_i = _check_optimize_result(\n"
     ]
    },
    {
     "name": "stdout",
     "output_type": "stream",
     "text": [
      "[CV 2/3; 2/2] END ..........................classifier__C=10; total time= 8.4min\n",
      "[CV 3/3; 2/2] START classifier__C=10............................................\n"
     ]
    },
    {
     "name": "stderr",
     "output_type": "stream",
     "text": [
      "/opt/conda/lib/python3.9/site-packages/sklearn/linear_model/_logistic.py:763: ConvergenceWarning: lbfgs failed to converge (status=1):\n",
      "STOP: TOTAL NO. of ITERATIONS REACHED LIMIT.\n",
      "\n",
      "Increase the number of iterations (max_iter) or scale the data as shown in:\n",
      "    https://scikit-learn.org/stable/modules/preprocessing.html\n",
      "Please also refer to the documentation for alternative solver options:\n",
      "    https://scikit-learn.org/stable/modules/linear_model.html#logistic-regression\n",
      "  n_iter_i = _check_optimize_result(\n"
     ]
    },
    {
     "name": "stdout",
     "output_type": "stream",
     "text": [
      "[CV 3/3; 2/2] END ..........................classifier__C=10; total time= 8.3min\n",
      "Лучшие гиперпараметры с BOW:  {'classifier__C': 10}\n",
      "F1-score на тренировочной с BOW:  0.7606236385345668\n",
      "CPU times: user 16min 13s, sys: 29min 54s, total: 46min 7s\n",
      "Wall time: 46min 11s\n"
     ]
    },
    {
     "name": "stderr",
     "output_type": "stream",
     "text": [
      "/opt/conda/lib/python3.9/site-packages/sklearn/linear_model/_logistic.py:763: ConvergenceWarning: lbfgs failed to converge (status=1):\n",
      "STOP: TOTAL NO. of ITERATIONS REACHED LIMIT.\n",
      "\n",
      "Increase the number of iterations (max_iter) or scale the data as shown in:\n",
      "    https://scikit-learn.org/stable/modules/preprocessing.html\n",
      "Please also refer to the documentation for alternative solver options:\n",
      "    https://scikit-learn.org/stable/modules/linear_model.html#logistic-regression\n",
      "  n_iter_i = _check_optimize_result(\n"
     ]
    }
   ],
   "source": [
    "%%time\n",
    "# Обучим модель логистической регрессии с векторизацией признаков BOW Создание мешка слов\n",
    "classifier = LogisticRegression(random_state=12345, max_iter=1000)\n",
    "vectorizer = CountVectorizer()\n",
    "pipeline = Pipeline([\n",
    "    ('vectorizer', vectorizer),\n",
    "    ('classifier', classifier)\n",
    "])\n",
    "parameters = {\n",
    "    'classifier__C': [1, 10],\n",
    "}\n",
    "grid_lr_bow = GridSearchCV(pipeline, parameters, cv=3, scoring='f1', n_jobs=-1, verbose=10)\n",
    "grid_lr_bow.fit(features_train, target_train)\n",
    "best_params = grid_lr_bow.best_params_\n",
    "best_score = grid_lr_bow.best_score_\n",
    "print(f'Лучшие гиперпараметры с BOW:  {best_params}')\n",
    "print(f'F1-score на тренировочной с BOW:  {best_score}')\n",
    "f1_bow.append(round(best_score, 3))"
   ]
  },
  {
   "cell_type": "markdown",
   "metadata": {},
   "source": [
    "  ### Модель решающего дерева"
   ]
  },
  {
   "cell_type": "code",
   "execution_count": 29,
   "metadata": {},
   "outputs": [
    {
     "name": "stdout",
     "output_type": "stream",
     "text": [
      "Fitting 3 folds for each of 2 candidates, totalling 6 fits\n",
      "[CV 1/3; 1/2] START classifier__max_depth=5.....................................\n",
      "[CV 1/3; 1/2] END ...................classifier__max_depth=5; total time=   7.8s\n",
      "[CV 2/3; 1/2] START classifier__max_depth=5.....................................\n",
      "[CV 2/3; 1/2] END ...................classifier__max_depth=5; total time=   7.7s\n",
      "[CV 3/3; 1/2] START classifier__max_depth=5.....................................\n",
      "[CV 3/3; 1/2] END ...................classifier__max_depth=5; total time=   7.9s\n",
      "[CV 1/3; 2/2] START classifier__max_depth=10....................................\n",
      "[CV 1/3; 2/2] END ..................classifier__max_depth=10; total time=  10.7s\n",
      "[CV 2/3; 2/2] START classifier__max_depth=10....................................\n",
      "[CV 2/3; 2/2] END ..................classifier__max_depth=10; total time=  10.8s\n",
      "[CV 3/3; 2/2] START classifier__max_depth=10....................................\n",
      "[CV 3/3; 2/2] END ..................classifier__max_depth=10; total time=  10.5s\n",
      "Лучшие гиперпараметры с TF-IDF:  {'classifier__max_depth': 10}\n",
      "F1-score на тренировочной с TF-IDF:  0.61\n",
      "CPU times: user 1min 9s, sys: 610 ms, total: 1min 9s\n",
      "Wall time: 1min 9s\n"
     ]
    }
   ],
   "source": [
    "%%time\n",
    "# Обучим модель решающего дерева с векторизацией признаков с TF-IDF\n",
    "classifier = DecisionTreeClassifier(random_state=12345)\n",
    "vectorizer = TfidfVectorizer()\n",
    "pipeline = Pipeline([\n",
    "    ('vectorizer', vectorizer),\n",
    "    ('classifier', classifier)\n",
    "])\n",
    "parameters = {\n",
    "    'classifier__max_depth': [5, 10],  \n",
    "}\n",
    "grid_tree_tf = GridSearchCV(pipeline, parameters, cv=3, scoring='f1', n_jobs=-1, verbose=10)\n",
    "grid_tree_tf.fit(features_train, target_train)\n",
    "best_params = grid_tree_tf.best_params_\n",
    "best_score = grid_tree_tf.best_score_\n",
    "print(f'Лучшие гиперпараметры с TF-IDF:  {best_params}')\n",
    "print(f'F1-score на тренировочной с TF-IDF:  {round(best_score, 3)}')\n",
    "f1_tfidf.append(round(best_score, 3))"
   ]
  },
  {
   "cell_type": "code",
   "execution_count": 30,
   "metadata": {
    "scrolled": false
   },
   "outputs": [
    {
     "name": "stdout",
     "output_type": "stream",
     "text": [
      "Fitting 3 folds for each of 2 candidates, totalling 6 fits\n",
      "[CV 1/3; 1/2] START classifier__max_depth=5.....................................\n",
      "[CV 1/3; 1/2] END ...................classifier__max_depth=5; total time=   6.5s\n",
      "[CV 2/3; 1/2] START classifier__max_depth=5.....................................\n",
      "[CV 2/3; 1/2] END ...................classifier__max_depth=5; total time=   6.5s\n",
      "[CV 3/3; 1/2] START classifier__max_depth=5.....................................\n",
      "[CV 3/3; 1/2] END ...................classifier__max_depth=5; total time=   6.5s\n",
      "[CV 1/3; 2/2] START classifier__max_depth=10....................................\n",
      "[CV 1/3; 2/2] END ..................classifier__max_depth=10; total time=   8.2s\n",
      "[CV 2/3; 2/2] START classifier__max_depth=10....................................\n",
      "[CV 2/3; 2/2] END ..................classifier__max_depth=10; total time=   8.7s\n",
      "[CV 3/3; 2/2] START classifier__max_depth=10....................................\n",
      "[CV 3/3; 2/2] END ..................classifier__max_depth=10; total time=   8.5s\n",
      "Лучшие гиперпараметры с BOW:  {'classifier__max_depth': 10}\n",
      "F1-score на тренировочной с BOW:  0.6127150358108399\n",
      "CPU times: user 54.3 s, sys: 457 ms, total: 54.8 s\n",
      "Wall time: 55.1 s\n"
     ]
    }
   ],
   "source": [
    "%%time\n",
    "# Обучим модель решающего дерева с векторизацией признаков BOW Создание мешка слов\n",
    "classifier = DecisionTreeClassifier(random_state=12345)\n",
    "vectorizer = CountVectorizer()\n",
    "pipeline = Pipeline([\n",
    "    ('vectorizer', vectorizer),\n",
    "    ('classifier', classifier)\n",
    "])\n",
    "parameters = {\n",
    "    'classifier__max_depth': [5, 10],  \n",
    "}\n",
    "grid_tree_bow = GridSearchCV(pipeline, parameters, cv=3, scoring='f1', n_jobs=-1, verbose=10)\n",
    "grid_tree_bow.fit(features_train, target_train)\n",
    "best_params = grid_tree_bow.best_params_\n",
    "best_score = grid_tree_bow.best_score_\n",
    "print(f'Лучшие гиперпараметры с BOW:  {best_params}')\n",
    "print(f'F1-score на тренировочной с BOW:  {best_score}')\n",
    "f1_bow.append(round(best_score, 3))"
   ]
  },
  {
   "cell_type": "code",
   "execution_count": 31,
   "metadata": {},
   "outputs": [
    {
     "data": {
      "text/html": [
       "<div>\n",
       "<style scoped>\n",
       "    .dataframe tbody tr th:only-of-type {\n",
       "        vertical-align: middle;\n",
       "    }\n",
       "\n",
       "    .dataframe tbody tr th {\n",
       "        vertical-align: top;\n",
       "    }\n",
       "\n",
       "    .dataframe thead th {\n",
       "        text-align: right;\n",
       "    }\n",
       "</style>\n",
       "<table border=\"1\" class=\"dataframe\">\n",
       "  <thead>\n",
       "    <tr style=\"text-align: right;\">\n",
       "      <th></th>\n",
       "      <th>Модель</th>\n",
       "      <th>F1-score на тренировочной с BOW:</th>\n",
       "      <th>F1-score на тренировочной с TF-IDF:</th>\n",
       "    </tr>\n",
       "  </thead>\n",
       "  <tbody>\n",
       "    <tr>\n",
       "      <th>0</th>\n",
       "      <td>Линейная регрессия</td>\n",
       "      <td>0.761</td>\n",
       "      <td>0.774</td>\n",
       "    </tr>\n",
       "    <tr>\n",
       "      <th>1</th>\n",
       "      <td>Модель Дерево решений</td>\n",
       "      <td>0.613</td>\n",
       "      <td>0.610</td>\n",
       "    </tr>\n",
       "  </tbody>\n",
       "</table>\n",
       "</div>"
      ],
      "text/plain": [
       "                  Модель  F1-score на тренировочной с BOW:  \\\n",
       "0     Линейная регрессия                             0.761   \n",
       "1  Модель Дерево решений                             0.613   \n",
       "\n",
       "   F1-score на тренировочной с TF-IDF:  \n",
       "0                                0.774  \n",
       "1                                0.610  "
      ]
     },
     "execution_count": 31,
     "metadata": {},
     "output_type": "execute_result"
    }
   ],
   "source": [
    "df_total = pd.DataFrame({'Модель':['Линейная регрессия', 'Модель Дерево решений'], \\\n",
    "                         'F1-score на тренировочной с BOW:':f1_bow,\n",
    "                         'F1-score на тренировочной с TF-IDF:':f1_tfidf})\n",
    "df_total"
   ]
  },
  {
   "cell_type": "markdown",
   "metadata": {},
   "source": [
    "**Вывод по разделу**\n",
    "\n",
    "Обучили две модели с векторизацией Мешка слов и TF-IDF и подбора параметров GridSearchCV, выбрали лучшие параметры и оценили качество моделей.\n",
    "\n",
    "Наилучший результат показала модель Логистическая регрессия с параметрами (random_state=12345, max_iter=1000, C=10) с векторизацией с TF-IDF\n",
    "\n",
    "F1-score на тренировочной 0.774"
   ]
  },
  {
   "cell_type": "markdown",
   "metadata": {},
   "source": [
    "### Проверка модели на тестовой выборке"
   ]
  },
  {
   "cell_type": "code",
   "execution_count": 33,
   "metadata": {},
   "outputs": [
    {
     "name": "stdout",
     "output_type": "stream",
     "text": [
      "Тестовая выборка\n",
      "F1-score на тесте: 0.791\n"
     ]
    }
   ],
   "source": [
    "prediction = best_pipeline.predict(features_test)\n",
    "f11 = f1_score(target_test, prediction)\n",
    "print('Тестовая выборка')\n",
    "print('F1-score на тесте:', round(f11, 3))"
   ]
  },
  {
   "cell_type": "markdown",
   "metadata": {},
   "source": [
    "## Выводы"
   ]
  },
  {
   "cell_type": "markdown",
   "metadata": {},
   "source": [
    "Проанализировав данные Интернет-магазин «Викишоп» удалось построить модель, которая будет искать токсичные комментарии и отправлять их на модерацию \n",
    "\n",
    "Модель Логистическая регрессия с параметрами (random_state=12345, max_iter=1000, C=10) с векторизацией с TF-IDF\n",
    "со значением F1 = 0.791\n",
    "\n",
    "в 1 разделе ознакомились с данными, выяснили, что:\n",
    "- строк 159292, столбца 3\n",
    "- пропусков нет, дубликатов нет\n",
    "- установлен дисбаланс классов 90/10 в целевом признаке\n",
    "\n",
    "Провели обработку данных\n",
    "- перевод в нижний регистр\n",
    "- удаление лишних символов\n",
    "- удаление стоп-слов\n",
    "- лемматизация текста\n",
    "\n",
    "Разделили выборки\n",
    "- выделили признаки и целевой признак\n",
    "- выявили дисбаланс классов в целевом признаке, выявлено соотношение 90/10\n",
    "- разделили выборки на 90/10, учли дисбаланс классов\n",
    "\n",
    "\n",
    "во 2 разделе обучили две модели с векторизацией Мешка слов и TF-IDF и подбора параметров GridSearchCV, выбрали лучшие параметры и оценили качество моделей.\n",
    "\n",
    "Наилучший результат показала модель Логистическая регрессия с параметрами (random_state=12345, max_iter=1000, C=10) с векторизацией с TF-IDF\n",
    "\n",
    "F1-score на тренировочной 0.774\n",
    "\n",
    "Протестировали лучшую модель на тестовой выборке:\n",
    "\n",
    "F1-score на тестовой выборке 0.791\n"
   ]
  }
 ],
 "metadata": {
  "ExecuteTimeLog": [
   {
    "duration": 461,
    "start_time": "2023-06-29T18:55:22.674Z"
   },
   {
    "duration": 144,
    "start_time": "2023-06-29T18:55:24.985Z"
   },
   {
    "duration": 203,
    "start_time": "2023-06-29T18:55:39.521Z"
   },
   {
    "duration": 62,
    "start_time": "2023-06-29T18:57:44.193Z"
   },
   {
    "duration": 14,
    "start_time": "2023-06-29T18:58:14.072Z"
   },
   {
    "duration": 51,
    "start_time": "2023-06-29T18:58:47.869Z"
   },
   {
    "duration": 511,
    "start_time": "2023-06-29T18:59:11.408Z"
   },
   {
    "duration": 1,
    "start_time": "2023-06-29T18:59:11.921Z"
   },
   {
    "duration": 80,
    "start_time": "2023-06-29T18:59:32.394Z"
   },
   {
    "duration": 225,
    "start_time": "2023-06-29T19:00:19.043Z"
   },
   {
    "duration": 3101,
    "start_time": "2023-06-29T19:02:08.146Z"
   },
   {
    "duration": 879,
    "start_time": "2023-06-29T19:02:52.357Z"
   },
   {
    "duration": 3,
    "start_time": "2023-06-29T19:02:58.544Z"
   },
   {
    "duration": 399,
    "start_time": "2023-06-29T19:03:11.309Z"
   },
   {
    "duration": 996,
    "start_time": "2023-06-29T19:03:11.711Z"
   },
   {
    "duration": 399,
    "start_time": "2023-06-29T19:04:25.479Z"
   },
   {
    "duration": 1008,
    "start_time": "2023-06-29T19:04:25.881Z"
   },
   {
    "duration": 9,
    "start_time": "2023-06-29T19:04:26.891Z"
   },
   {
    "duration": 62,
    "start_time": "2023-06-29T19:04:26.902Z"
   },
   {
    "duration": 10,
    "start_time": "2023-06-29T19:04:26.968Z"
   },
   {
    "duration": 10,
    "start_time": "2023-06-29T19:04:26.980Z"
   },
   {
    "duration": 27,
    "start_time": "2023-06-29T19:04:26.991Z"
   },
   {
    "duration": 53,
    "start_time": "2023-06-29T19:04:27.020Z"
   },
   {
    "duration": 84,
    "start_time": "2023-06-29T19:06:41.728Z"
   },
   {
    "duration": 256,
    "start_time": "2023-06-29T19:06:45.755Z"
   },
   {
    "duration": 12,
    "start_time": "2023-06-29T19:07:04.090Z"
   },
   {
    "duration": 863,
    "start_time": "2023-06-29T19:10:54.881Z"
   },
   {
    "duration": 11,
    "start_time": "2023-06-29T19:11:02.902Z"
   },
   {
    "duration": 1100,
    "start_time": "2023-06-30T04:48:04.216Z"
   },
   {
    "duration": 2233,
    "start_time": "2023-06-30T04:48:05.318Z"
   },
   {
    "duration": 8,
    "start_time": "2023-06-30T04:48:07.552Z"
   },
   {
    "duration": 32,
    "start_time": "2023-06-30T04:48:07.561Z"
   },
   {
    "duration": 29,
    "start_time": "2023-06-30T04:48:07.595Z"
   },
   {
    "duration": 12,
    "start_time": "2023-06-30T04:48:07.625Z"
   },
   {
    "duration": 20,
    "start_time": "2023-06-30T04:48:07.638Z"
   },
   {
    "duration": 19,
    "start_time": "2023-06-30T04:48:07.659Z"
   },
   {
    "duration": 226,
    "start_time": "2023-06-30T04:48:07.679Z"
   },
   {
    "duration": 398,
    "start_time": "2023-06-30T04:48:07.906Z"
   },
   {
    "duration": 0,
    "start_time": "2023-06-30T04:48:08.306Z"
   },
   {
    "duration": 0,
    "start_time": "2023-06-30T04:48:08.307Z"
   },
   {
    "duration": 0,
    "start_time": "2023-06-30T04:48:08.308Z"
   },
   {
    "duration": 0,
    "start_time": "2023-06-30T04:48:08.308Z"
   },
   {
    "duration": 1113,
    "start_time": "2023-06-30T04:48:55.896Z"
   },
   {
    "duration": 789,
    "start_time": "2023-06-30T04:48:57.011Z"
   },
   {
    "duration": 7,
    "start_time": "2023-06-30T04:48:57.802Z"
   },
   {
    "duration": 32,
    "start_time": "2023-06-30T04:48:57.810Z"
   },
   {
    "duration": 8,
    "start_time": "2023-06-30T04:48:57.843Z"
   },
   {
    "duration": 10,
    "start_time": "2023-06-30T04:48:57.853Z"
   },
   {
    "duration": 35,
    "start_time": "2023-06-30T04:48:57.865Z"
   },
   {
    "duration": 20,
    "start_time": "2023-06-30T04:48:57.902Z"
   },
   {
    "duration": 239,
    "start_time": "2023-06-30T04:48:57.923Z"
   },
   {
    "duration": 2473,
    "start_time": "2023-06-30T04:48:58.164Z"
   },
   {
    "duration": 198465,
    "start_time": "2023-06-30T04:49:00.639Z"
   },
   {
    "duration": 7,
    "start_time": "2023-06-30T04:52:19.106Z"
   },
   {
    "duration": 6,
    "start_time": "2023-06-30T04:52:19.114Z"
   },
   {
    "duration": 355,
    "start_time": "2023-06-30T04:52:19.121Z"
   },
   {
    "duration": 278,
    "start_time": "2023-06-30T04:52:19.478Z"
   },
   {
    "duration": 0,
    "start_time": "2023-06-30T04:52:19.757Z"
   },
   {
    "duration": 13,
    "start_time": "2023-06-30T04:54:25.670Z"
   },
   {
    "duration": 16,
    "start_time": "2023-06-30T04:54:32.767Z"
   },
   {
    "duration": 13,
    "start_time": "2023-06-30T05:07:29.985Z"
   },
   {
    "duration": 12,
    "start_time": "2023-06-30T05:07:33.569Z"
   },
   {
    "duration": 5,
    "start_time": "2023-06-30T05:07:53.127Z"
   },
   {
    "duration": 2,
    "start_time": "2023-06-30T05:07:58.399Z"
   },
   {
    "duration": 18,
    "start_time": "2023-06-30T05:08:00.624Z"
   },
   {
    "duration": 16,
    "start_time": "2023-06-30T05:08:20.471Z"
   },
   {
    "duration": 5,
    "start_time": "2023-06-30T05:08:56.215Z"
   },
   {
    "duration": 3,
    "start_time": "2023-06-30T05:09:38.888Z"
   },
   {
    "duration": 5,
    "start_time": "2023-06-30T05:09:45.225Z"
   },
   {
    "duration": 21,
    "start_time": "2023-06-30T05:09:56.983Z"
   },
   {
    "duration": 5,
    "start_time": "2023-06-30T05:12:18.356Z"
   },
   {
    "duration": 3,
    "start_time": "2023-06-30T05:12:30.245Z"
   },
   {
    "duration": 15,
    "start_time": "2023-06-30T05:12:45.565Z"
   },
   {
    "duration": 4,
    "start_time": "2023-06-30T05:16:43.357Z"
   },
   {
    "duration": 14,
    "start_time": "2023-06-30T05:16:54.092Z"
   },
   {
    "duration": 4,
    "start_time": "2023-06-30T05:17:21.940Z"
   },
   {
    "duration": 639,
    "start_time": "2023-06-30T05:17:54.756Z"
   },
   {
    "duration": 5,
    "start_time": "2023-06-30T05:18:02.683Z"
   },
   {
    "duration": 3,
    "start_time": "2023-06-30T05:19:11.340Z"
   },
   {
    "duration": 3,
    "start_time": "2023-06-30T05:19:47.667Z"
   },
   {
    "duration": 3,
    "start_time": "2023-06-30T05:19:57.444Z"
   },
   {
    "duration": 38,
    "start_time": "2023-06-30T05:20:29.892Z"
   },
   {
    "duration": 5,
    "start_time": "2023-06-30T05:22:40.747Z"
   },
   {
    "duration": 4,
    "start_time": "2023-06-30T05:22:45.026Z"
   },
   {
    "duration": 4,
    "start_time": "2023-06-30T05:23:28.460Z"
   },
   {
    "duration": 19,
    "start_time": "2023-06-30T05:23:36.058Z"
   },
   {
    "duration": 1937,
    "start_time": "2023-07-02T15:25:52.929Z"
   },
   {
    "duration": 1618,
    "start_time": "2023-07-02T15:29:58.806Z"
   },
   {
    "duration": 5366,
    "start_time": "2023-07-02T15:30:00.434Z"
   },
   {
    "duration": 9,
    "start_time": "2023-07-02T15:30:05.813Z"
   },
   {
    "duration": 76,
    "start_time": "2023-07-02T15:30:05.824Z"
   },
   {
    "duration": 20,
    "start_time": "2023-07-02T15:30:05.902Z"
   },
   {
    "duration": 25,
    "start_time": "2023-07-02T15:30:05.925Z"
   },
   {
    "duration": 50,
    "start_time": "2023-07-02T15:30:05.952Z"
   },
   {
    "duration": 35,
    "start_time": "2023-07-02T15:30:06.004Z"
   },
   {
    "duration": 386,
    "start_time": "2023-07-02T15:30:06.041Z"
   },
   {
    "duration": 17,
    "start_time": "2023-07-02T15:30:06.429Z"
   },
   {
    "duration": 22,
    "start_time": "2023-07-02T15:30:06.448Z"
   },
   {
    "duration": 8,
    "start_time": "2023-07-02T15:30:06.472Z"
   },
   {
    "duration": 117,
    "start_time": "2023-07-02T15:30:06.483Z"
   },
   {
    "duration": 0,
    "start_time": "2023-07-02T15:30:06.601Z"
   },
   {
    "duration": 0,
    "start_time": "2023-07-02T15:30:06.602Z"
   },
   {
    "duration": 0,
    "start_time": "2023-07-02T15:30:06.604Z"
   },
   {
    "duration": 0,
    "start_time": "2023-07-02T15:30:06.605Z"
   },
   {
    "duration": 0,
    "start_time": "2023-07-02T15:30:06.606Z"
   },
   {
    "duration": 0,
    "start_time": "2023-07-02T15:30:06.608Z"
   },
   {
    "duration": 0,
    "start_time": "2023-07-02T15:30:06.609Z"
   },
   {
    "duration": 0,
    "start_time": "2023-07-02T15:30:06.611Z"
   },
   {
    "duration": 0,
    "start_time": "2023-07-02T15:30:06.612Z"
   },
   {
    "duration": 0,
    "start_time": "2023-07-02T15:30:06.613Z"
   },
   {
    "duration": 18,
    "start_time": "2023-07-02T15:31:02.810Z"
   },
   {
    "duration": 18,
    "start_time": "2023-07-02T15:31:15.222Z"
   },
   {
    "duration": 13,
    "start_time": "2023-07-02T15:31:50.550Z"
   },
   {
    "duration": 20,
    "start_time": "2023-07-02T15:32:06.269Z"
   },
   {
    "duration": 1730,
    "start_time": "2023-07-02T15:32:09.401Z"
   },
   {
    "duration": 1709,
    "start_time": "2023-07-02T15:32:17.904Z"
   },
   {
    "duration": 1632,
    "start_time": "2023-07-02T15:32:34.311Z"
   },
   {
    "duration": 1037,
    "start_time": "2023-07-02T15:32:35.945Z"
   },
   {
    "duration": 18,
    "start_time": "2023-07-02T15:32:36.989Z"
   },
   {
    "duration": 67,
    "start_time": "2023-07-02T15:32:37.009Z"
   },
   {
    "duration": 14,
    "start_time": "2023-07-02T15:32:37.085Z"
   },
   {
    "duration": 22,
    "start_time": "2023-07-02T15:32:37.101Z"
   },
   {
    "duration": 27,
    "start_time": "2023-07-02T15:32:37.125Z"
   },
   {
    "duration": 39,
    "start_time": "2023-07-02T15:32:37.154Z"
   },
   {
    "duration": 313,
    "start_time": "2023-07-02T15:32:37.195Z"
   },
   {
    "duration": 24,
    "start_time": "2023-07-02T15:32:37.514Z"
   },
   {
    "duration": 15,
    "start_time": "2023-07-02T15:32:37.540Z"
   },
   {
    "duration": 42,
    "start_time": "2023-07-02T15:32:37.557Z"
   },
   {
    "duration": 8,
    "start_time": "2023-07-02T15:32:37.608Z"
   },
   {
    "duration": 4,
    "start_time": "2023-07-02T15:32:37.620Z"
   },
   {
    "duration": 133,
    "start_time": "2023-07-02T15:32:37.626Z"
   },
   {
    "duration": 0,
    "start_time": "2023-07-02T15:32:37.762Z"
   },
   {
    "duration": 0,
    "start_time": "2023-07-02T15:32:37.763Z"
   },
   {
    "duration": 0,
    "start_time": "2023-07-02T15:32:37.769Z"
   },
   {
    "duration": 0,
    "start_time": "2023-07-02T15:32:37.770Z"
   },
   {
    "duration": 0,
    "start_time": "2023-07-02T15:32:37.771Z"
   },
   {
    "duration": 0,
    "start_time": "2023-07-02T15:32:37.772Z"
   },
   {
    "duration": 0,
    "start_time": "2023-07-02T15:32:37.773Z"
   },
   {
    "duration": 0,
    "start_time": "2023-07-02T15:32:37.774Z"
   },
   {
    "duration": 0,
    "start_time": "2023-07-02T15:32:37.774Z"
   },
   {
    "duration": 0,
    "start_time": "2023-07-02T15:32:37.776Z"
   },
   {
    "duration": 22,
    "start_time": "2023-07-02T15:40:18.784Z"
   },
   {
    "duration": 11,
    "start_time": "2023-07-02T15:40:46.221Z"
   },
   {
    "duration": 15,
    "start_time": "2023-07-02T15:42:18.801Z"
   },
   {
    "duration": 12,
    "start_time": "2023-07-02T15:42:27.127Z"
   },
   {
    "duration": 20,
    "start_time": "2023-07-02T15:43:56.912Z"
   },
   {
    "duration": 12,
    "start_time": "2023-07-02T15:44:04.950Z"
   },
   {
    "duration": 7,
    "start_time": "2023-07-02T15:44:19.722Z"
   },
   {
    "duration": 9,
    "start_time": "2023-07-02T15:44:22.127Z"
   },
   {
    "duration": 31,
    "start_time": "2023-07-02T15:44:36.861Z"
   },
   {
    "duration": 9,
    "start_time": "2023-07-02T15:45:33.436Z"
   },
   {
    "duration": 12,
    "start_time": "2023-07-02T15:45:39.434Z"
   },
   {
    "duration": 18,
    "start_time": "2023-07-02T15:47:21.422Z"
   },
   {
    "duration": 5,
    "start_time": "2023-07-02T15:47:45.155Z"
   },
   {
    "duration": 5,
    "start_time": "2023-07-02T15:48:01.500Z"
   },
   {
    "duration": 4,
    "start_time": "2023-07-02T15:48:11.839Z"
   },
   {
    "duration": 22,
    "start_time": "2023-07-02T15:48:21.265Z"
   },
   {
    "duration": 1571,
    "start_time": "2023-07-02T15:52:52.029Z"
   },
   {
    "duration": 1056,
    "start_time": "2023-07-02T15:52:53.602Z"
   },
   {
    "duration": 13,
    "start_time": "2023-07-02T15:52:54.660Z"
   },
   {
    "duration": 52,
    "start_time": "2023-07-02T15:52:54.674Z"
   },
   {
    "duration": 17,
    "start_time": "2023-07-02T15:52:54.729Z"
   },
   {
    "duration": 9,
    "start_time": "2023-07-02T15:52:54.748Z"
   },
   {
    "duration": 46,
    "start_time": "2023-07-02T15:52:54.770Z"
   },
   {
    "duration": 35,
    "start_time": "2023-07-02T15:52:54.818Z"
   },
   {
    "duration": 333,
    "start_time": "2023-07-02T15:52:54.855Z"
   },
   {
    "duration": 27,
    "start_time": "2023-07-02T15:52:55.189Z"
   },
   {
    "duration": 120,
    "start_time": "2023-07-02T15:52:55.218Z"
   },
   {
    "duration": 0,
    "start_time": "2023-07-02T15:52:55.342Z"
   },
   {
    "duration": 0,
    "start_time": "2023-07-02T15:52:55.343Z"
   },
   {
    "duration": 0,
    "start_time": "2023-07-02T15:52:55.345Z"
   },
   {
    "duration": 0,
    "start_time": "2023-07-02T15:52:55.346Z"
   },
   {
    "duration": 0,
    "start_time": "2023-07-02T15:52:55.348Z"
   },
   {
    "duration": 0,
    "start_time": "2023-07-02T15:52:55.349Z"
   },
   {
    "duration": 0,
    "start_time": "2023-07-02T15:52:55.350Z"
   },
   {
    "duration": 0,
    "start_time": "2023-07-02T15:52:55.369Z"
   },
   {
    "duration": 0,
    "start_time": "2023-07-02T15:52:55.370Z"
   },
   {
    "duration": 0,
    "start_time": "2023-07-02T15:52:55.371Z"
   },
   {
    "duration": 0,
    "start_time": "2023-07-02T15:52:55.371Z"
   },
   {
    "duration": 0,
    "start_time": "2023-07-02T15:52:55.372Z"
   },
   {
    "duration": 0,
    "start_time": "2023-07-02T15:52:55.373Z"
   },
   {
    "duration": 0,
    "start_time": "2023-07-02T15:52:55.374Z"
   },
   {
    "duration": 0,
    "start_time": "2023-07-02T15:52:55.375Z"
   },
   {
    "duration": 0,
    "start_time": "2023-07-02T15:52:55.376Z"
   },
   {
    "duration": 0,
    "start_time": "2023-07-02T15:52:55.378Z"
   },
   {
    "duration": 0,
    "start_time": "2023-07-02T15:52:55.380Z"
   },
   {
    "duration": 0,
    "start_time": "2023-07-02T15:52:55.381Z"
   },
   {
    "duration": 0,
    "start_time": "2023-07-02T15:52:55.383Z"
   },
   {
    "duration": 0,
    "start_time": "2023-07-02T15:52:55.384Z"
   },
   {
    "duration": 11,
    "start_time": "2023-07-02T15:53:11.634Z"
   },
   {
    "duration": 15,
    "start_time": "2023-07-02T15:53:24.416Z"
   },
   {
    "duration": 14,
    "start_time": "2023-07-02T15:53:41.919Z"
   },
   {
    "duration": 16,
    "start_time": "2023-07-02T15:53:47.742Z"
   },
   {
    "duration": 11,
    "start_time": "2023-07-02T15:59:45.547Z"
   },
   {
    "duration": 303,
    "start_time": "2023-07-02T15:59:48.141Z"
   },
   {
    "duration": 14,
    "start_time": "2023-07-02T15:59:53.243Z"
   },
   {
    "duration": 8,
    "start_time": "2023-07-02T16:02:19.145Z"
   },
   {
    "duration": 12,
    "start_time": "2023-07-02T16:02:21.307Z"
   },
   {
    "duration": 1524,
    "start_time": "2023-07-02T16:02:35.354Z"
   },
   {
    "duration": 1004,
    "start_time": "2023-07-02T16:02:36.882Z"
   },
   {
    "duration": 21,
    "start_time": "2023-07-02T16:02:37.889Z"
   },
   {
    "duration": 65,
    "start_time": "2023-07-02T16:02:37.912Z"
   },
   {
    "duration": 21,
    "start_time": "2023-07-02T16:02:37.989Z"
   },
   {
    "duration": 16,
    "start_time": "2023-07-02T16:02:38.013Z"
   },
   {
    "duration": 45,
    "start_time": "2023-07-02T16:02:38.031Z"
   },
   {
    "duration": 40,
    "start_time": "2023-07-02T16:02:38.079Z"
   },
   {
    "duration": 312,
    "start_time": "2023-07-02T16:02:38.121Z"
   },
   {
    "duration": 39,
    "start_time": "2023-07-02T16:02:38.435Z"
   },
   {
    "duration": 21,
    "start_time": "2023-07-02T16:02:38.476Z"
   },
   {
    "duration": 19,
    "start_time": "2023-07-02T16:02:38.499Z"
   },
   {
    "duration": 16,
    "start_time": "2023-07-02T16:02:38.520Z"
   },
   {
    "duration": 14,
    "start_time": "2023-07-02T16:02:38.540Z"
   },
   {
    "duration": 135,
    "start_time": "2023-07-02T16:02:38.566Z"
   },
   {
    "duration": 0,
    "start_time": "2023-07-02T16:02:38.708Z"
   },
   {
    "duration": 0,
    "start_time": "2023-07-02T16:02:38.711Z"
   },
   {
    "duration": 0,
    "start_time": "2023-07-02T16:02:38.712Z"
   },
   {
    "duration": 0,
    "start_time": "2023-07-02T16:02:38.714Z"
   },
   {
    "duration": 0,
    "start_time": "2023-07-02T16:02:38.715Z"
   },
   {
    "duration": 0,
    "start_time": "2023-07-02T16:02:38.717Z"
   },
   {
    "duration": 0,
    "start_time": "2023-07-02T16:02:38.718Z"
   },
   {
    "duration": 0,
    "start_time": "2023-07-02T16:02:38.720Z"
   },
   {
    "duration": 1,
    "start_time": "2023-07-02T16:02:38.721Z"
   },
   {
    "duration": 0,
    "start_time": "2023-07-02T16:02:38.723Z"
   },
   {
    "duration": 0,
    "start_time": "2023-07-02T16:02:38.724Z"
   },
   {
    "duration": 0,
    "start_time": "2023-07-02T16:02:38.725Z"
   },
   {
    "duration": 0,
    "start_time": "2023-07-02T16:02:38.727Z"
   },
   {
    "duration": 0,
    "start_time": "2023-07-02T16:02:38.728Z"
   },
   {
    "duration": 0,
    "start_time": "2023-07-02T16:02:38.730Z"
   },
   {
    "duration": 0,
    "start_time": "2023-07-02T16:02:38.731Z"
   },
   {
    "duration": 0,
    "start_time": "2023-07-02T16:02:38.733Z"
   },
   {
    "duration": 0,
    "start_time": "2023-07-02T16:02:38.734Z"
   },
   {
    "duration": 0,
    "start_time": "2023-07-02T16:02:38.772Z"
   },
   {
    "duration": 12,
    "start_time": "2023-07-02T16:06:29.944Z"
   },
   {
    "duration": 12,
    "start_time": "2023-07-02T16:06:31.945Z"
   },
   {
    "duration": 12,
    "start_time": "2023-07-02T16:11:46.543Z"
   },
   {
    "duration": 25,
    "start_time": "2023-07-02T16:11:48.320Z"
   },
   {
    "duration": 25,
    "start_time": "2023-07-02T16:11:50.951Z"
   },
   {
    "duration": 20,
    "start_time": "2023-07-02T16:11:53.743Z"
   },
   {
    "duration": 13,
    "start_time": "2023-07-02T16:11:55.825Z"
   },
   {
    "duration": 13,
    "start_time": "2023-07-02T16:12:05.545Z"
   },
   {
    "duration": 11,
    "start_time": "2023-07-02T16:12:07.986Z"
   },
   {
    "duration": 26,
    "start_time": "2023-07-02T16:19:12.349Z"
   },
   {
    "duration": 15,
    "start_time": "2023-07-02T16:19:14.925Z"
   },
   {
    "duration": 13,
    "start_time": "2023-07-02T16:19:17.357Z"
   },
   {
    "duration": 27,
    "start_time": "2023-07-02T16:20:55.454Z"
   },
   {
    "duration": 8,
    "start_time": "2023-07-02T16:21:03.734Z"
   },
   {
    "duration": 6,
    "start_time": "2023-07-02T16:21:10.894Z"
   },
   {
    "duration": 11,
    "start_time": "2023-07-02T16:21:21.309Z"
   },
   {
    "duration": 6,
    "start_time": "2023-07-02T16:21:43.294Z"
   },
   {
    "duration": 7,
    "start_time": "2023-07-02T16:21:44.941Z"
   },
   {
    "duration": 21,
    "start_time": "2023-07-02T16:22:43.199Z"
   },
   {
    "duration": 23,
    "start_time": "2023-07-02T16:22:46.056Z"
   },
   {
    "duration": 16,
    "start_time": "2023-07-02T16:22:48.821Z"
   },
   {
    "duration": 10,
    "start_time": "2023-07-02T16:23:01.874Z"
   },
   {
    "duration": 14,
    "start_time": "2023-07-02T16:23:36.483Z"
   },
   {
    "duration": 11,
    "start_time": "2023-07-02T16:23:38.794Z"
   },
   {
    "duration": 10,
    "start_time": "2023-07-02T16:23:44.404Z"
   },
   {
    "duration": 26,
    "start_time": "2023-07-02T16:23:48.277Z"
   },
   {
    "duration": 17,
    "start_time": "2023-07-02T16:23:50.029Z"
   },
   {
    "duration": 10,
    "start_time": "2023-07-02T16:23:58.098Z"
   },
   {
    "duration": 21,
    "start_time": "2023-07-02T16:24:10.740Z"
   },
   {
    "duration": 23,
    "start_time": "2023-07-02T16:24:14.865Z"
   },
   {
    "duration": 11,
    "start_time": "2023-07-02T16:24:28.029Z"
   },
   {
    "duration": 15,
    "start_time": "2023-07-02T16:24:41.748Z"
   },
   {
    "duration": 17,
    "start_time": "2023-07-02T16:24:44.624Z"
   },
   {
    "duration": 9,
    "start_time": "2023-07-02T16:24:49.748Z"
   },
   {
    "duration": 11,
    "start_time": "2023-07-02T16:24:53.157Z"
   },
   {
    "duration": 23,
    "start_time": "2023-07-02T16:25:52.060Z"
   },
   {
    "duration": 14,
    "start_time": "2023-07-02T16:57:09.404Z"
   },
   {
    "duration": 2053,
    "start_time": "2023-07-02T16:57:53.232Z"
   },
   {
    "duration": 1798,
    "start_time": "2023-07-02T16:58:07.296Z"
   },
   {
    "duration": 6,
    "start_time": "2023-07-02T16:58:17.588Z"
   },
   {
    "duration": 4,
    "start_time": "2023-07-02T17:00:22.210Z"
   },
   {
    "duration": 50,
    "start_time": "2023-07-02T17:00:29.399Z"
   },
   {
    "duration": 10,
    "start_time": "2023-07-02T17:00:54.305Z"
   },
   {
    "duration": 10,
    "start_time": "2023-07-02T17:00:58.049Z"
   },
   {
    "duration": 26,
    "start_time": "2023-07-02T17:01:05.730Z"
   },
   {
    "duration": 21,
    "start_time": "2023-07-02T17:01:17.486Z"
   },
   {
    "duration": 30,
    "start_time": "2023-07-02T17:01:22.754Z"
   },
   {
    "duration": 12,
    "start_time": "2023-07-02T17:01:26.225Z"
   },
   {
    "duration": 7,
    "start_time": "2023-07-02T17:01:33.642Z"
   },
   {
    "duration": 33,
    "start_time": "2023-07-02T17:01:38.437Z"
   },
   {
    "duration": 4,
    "start_time": "2023-07-02T17:01:50.161Z"
   },
   {
    "duration": 10,
    "start_time": "2023-07-02T17:02:25.320Z"
   },
   {
    "duration": 326,
    "start_time": "2023-07-02T17:02:38.756Z"
   },
   {
    "duration": 6,
    "start_time": "2023-07-02T17:03:33.911Z"
   },
   {
    "duration": 25,
    "start_time": "2023-07-02T17:05:22.336Z"
   },
   {
    "duration": 12,
    "start_time": "2023-07-02T17:05:52.691Z"
   },
   {
    "duration": 3,
    "start_time": "2023-07-02T17:08:28.984Z"
   },
   {
    "duration": 261,
    "start_time": "2023-07-02T17:08:32.429Z"
   },
   {
    "duration": 129,
    "start_time": "2023-07-02T17:09:49.757Z"
   },
   {
    "duration": 3,
    "start_time": "2023-07-02T17:10:05.420Z"
   },
   {
    "duration": 4636,
    "start_time": "2023-07-02T17:10:16.540Z"
   },
   {
    "duration": 16,
    "start_time": "2023-07-02T17:12:21.155Z"
   },
   {
    "duration": 4,
    "start_time": "2023-07-02T17:15:11.543Z"
   },
   {
    "duration": 4631,
    "start_time": "2023-07-02T17:15:23.149Z"
   },
   {
    "duration": 4639,
    "start_time": "2023-07-02T17:16:00.090Z"
   },
   {
    "duration": 4,
    "start_time": "2023-07-02T17:21:36.664Z"
   },
   {
    "duration": 771,
    "start_time": "2023-07-02T17:21:38.822Z"
   },
   {
    "duration": 783,
    "start_time": "2023-07-02T17:22:34.525Z"
   },
   {
    "duration": 3,
    "start_time": "2023-07-02T17:22:37.494Z"
   },
   {
    "duration": 4,
    "start_time": "2023-07-02T17:22:39.013Z"
   },
   {
    "duration": 3,
    "start_time": "2023-07-02T17:22:52.150Z"
   },
   {
    "duration": 749,
    "start_time": "2023-07-02T17:22:55.190Z"
   },
   {
    "duration": 3,
    "start_time": "2023-07-02T17:23:33.294Z"
   },
   {
    "duration": 803,
    "start_time": "2023-07-02T17:23:41.131Z"
   },
   {
    "duration": 1498,
    "start_time": "2023-07-02T17:24:06.669Z"
   },
   {
    "duration": 4,
    "start_time": "2023-07-02T17:24:08.170Z"
   },
   {
    "duration": 3401,
    "start_time": "2023-07-02T17:24:08.177Z"
   },
   {
    "duration": 9,
    "start_time": "2023-07-02T17:24:11.580Z"
   },
   {
    "duration": 40,
    "start_time": "2023-07-02T17:24:11.591Z"
   },
   {
    "duration": 19,
    "start_time": "2023-07-02T17:24:11.633Z"
   },
   {
    "duration": 20,
    "start_time": "2023-07-02T17:24:11.654Z"
   },
   {
    "duration": 34,
    "start_time": "2023-07-02T17:24:11.676Z"
   },
   {
    "duration": 32,
    "start_time": "2023-07-02T17:24:11.712Z"
   },
   {
    "duration": 291,
    "start_time": "2023-07-02T17:24:11.746Z"
   },
   {
    "duration": 28,
    "start_time": "2023-07-02T17:24:12.040Z"
   },
   {
    "duration": 16,
    "start_time": "2023-07-02T17:24:12.069Z"
   },
   {
    "duration": 11,
    "start_time": "2023-07-02T17:24:12.087Z"
   },
   {
    "duration": 4,
    "start_time": "2023-07-02T17:24:12.101Z"
   },
   {
    "duration": 302,
    "start_time": "2023-07-02T17:24:12.107Z"
   },
   {
    "duration": 4,
    "start_time": "2023-07-02T17:24:12.411Z"
   },
   {
    "duration": 8,
    "start_time": "2023-07-02T17:24:12.416Z"
   },
   {
    "duration": 844,
    "start_time": "2023-07-02T17:24:12.425Z"
   },
   {
    "duration": 107,
    "start_time": "2023-07-02T17:24:13.271Z"
   },
   {
    "duration": 0,
    "start_time": "2023-07-02T17:24:13.380Z"
   },
   {
    "duration": 0,
    "start_time": "2023-07-02T17:24:13.381Z"
   },
   {
    "duration": 0,
    "start_time": "2023-07-02T17:24:13.382Z"
   },
   {
    "duration": 0,
    "start_time": "2023-07-02T17:24:13.383Z"
   },
   {
    "duration": 0,
    "start_time": "2023-07-02T17:24:13.384Z"
   },
   {
    "duration": 0,
    "start_time": "2023-07-02T17:24:13.386Z"
   },
   {
    "duration": 0,
    "start_time": "2023-07-02T17:24:13.387Z"
   },
   {
    "duration": 0,
    "start_time": "2023-07-02T17:24:13.389Z"
   },
   {
    "duration": 0,
    "start_time": "2023-07-02T17:24:13.399Z"
   },
   {
    "duration": 0,
    "start_time": "2023-07-02T17:24:13.401Z"
   },
   {
    "duration": 0,
    "start_time": "2023-07-02T17:24:13.402Z"
   },
   {
    "duration": 0,
    "start_time": "2023-07-02T17:24:13.403Z"
   },
   {
    "duration": 0,
    "start_time": "2023-07-02T17:24:13.405Z"
   },
   {
    "duration": 0,
    "start_time": "2023-07-02T17:24:13.406Z"
   },
   {
    "duration": 0,
    "start_time": "2023-07-02T17:24:13.408Z"
   },
   {
    "duration": 0,
    "start_time": "2023-07-02T17:24:13.409Z"
   },
   {
    "duration": 0,
    "start_time": "2023-07-02T17:24:13.410Z"
   },
   {
    "duration": 0,
    "start_time": "2023-07-02T17:24:13.412Z"
   },
   {
    "duration": 0,
    "start_time": "2023-07-02T17:24:13.413Z"
   },
   {
    "duration": 1330,
    "start_time": "2023-07-02T17:24:41.951Z"
   },
   {
    "duration": 3,
    "start_time": "2023-07-02T17:24:43.283Z"
   },
   {
    "duration": 1017,
    "start_time": "2023-07-02T17:24:43.288Z"
   },
   {
    "duration": 8,
    "start_time": "2023-07-02T17:24:44.307Z"
   },
   {
    "duration": 54,
    "start_time": "2023-07-02T17:24:44.317Z"
   },
   {
    "duration": 10,
    "start_time": "2023-07-02T17:24:44.373Z"
   },
   {
    "duration": 7,
    "start_time": "2023-07-02T17:24:44.385Z"
   },
   {
    "duration": 25,
    "start_time": "2023-07-02T17:24:44.394Z"
   },
   {
    "duration": 65,
    "start_time": "2023-07-02T17:24:44.420Z"
   },
   {
    "duration": 281,
    "start_time": "2023-07-02T17:24:44.487Z"
   },
   {
    "duration": 12,
    "start_time": "2023-07-02T17:24:44.769Z"
   },
   {
    "duration": 10,
    "start_time": "2023-07-02T17:24:44.783Z"
   },
   {
    "duration": 4,
    "start_time": "2023-07-02T17:24:44.795Z"
   },
   {
    "duration": 3,
    "start_time": "2023-07-02T17:24:44.802Z"
   },
   {
    "duration": 6,
    "start_time": "2023-07-02T17:24:44.806Z"
   },
   {
    "duration": 5,
    "start_time": "2023-07-02T17:24:44.814Z"
   },
   {
    "duration": 45,
    "start_time": "2023-07-02T17:24:44.821Z"
   },
   {
    "duration": 786,
    "start_time": "2023-07-02T17:24:44.869Z"
   },
   {
    "duration": 99,
    "start_time": "2023-07-02T17:24:45.657Z"
   },
   {
    "duration": 0,
    "start_time": "2023-07-02T17:24:45.758Z"
   },
   {
    "duration": 0,
    "start_time": "2023-07-02T17:24:45.768Z"
   },
   {
    "duration": 0,
    "start_time": "2023-07-02T17:24:45.769Z"
   },
   {
    "duration": 0,
    "start_time": "2023-07-02T17:24:45.771Z"
   },
   {
    "duration": 0,
    "start_time": "2023-07-02T17:24:45.773Z"
   },
   {
    "duration": 0,
    "start_time": "2023-07-02T17:24:45.774Z"
   },
   {
    "duration": 0,
    "start_time": "2023-07-02T17:24:45.775Z"
   },
   {
    "duration": 0,
    "start_time": "2023-07-02T17:24:45.777Z"
   },
   {
    "duration": 0,
    "start_time": "2023-07-02T17:24:45.778Z"
   },
   {
    "duration": 0,
    "start_time": "2023-07-02T17:24:45.779Z"
   },
   {
    "duration": 1,
    "start_time": "2023-07-02T17:24:45.780Z"
   },
   {
    "duration": 0,
    "start_time": "2023-07-02T17:24:45.781Z"
   },
   {
    "duration": 0,
    "start_time": "2023-07-02T17:24:45.783Z"
   },
   {
    "duration": 0,
    "start_time": "2023-07-02T17:24:45.784Z"
   },
   {
    "duration": 0,
    "start_time": "2023-07-02T17:24:45.785Z"
   },
   {
    "duration": 0,
    "start_time": "2023-07-02T17:24:45.786Z"
   },
   {
    "duration": 0,
    "start_time": "2023-07-02T17:24:45.787Z"
   },
   {
    "duration": 0,
    "start_time": "2023-07-02T17:24:45.789Z"
   },
   {
    "duration": 0,
    "start_time": "2023-07-02T17:24:45.790Z"
   },
   {
    "duration": 4,
    "start_time": "2023-07-02T17:28:17.796Z"
   },
   {
    "duration": 4,
    "start_time": "2023-07-02T17:28:19.812Z"
   },
   {
    "duration": 778,
    "start_time": "2023-07-02T17:28:22.058Z"
   },
   {
    "duration": 3,
    "start_time": "2023-07-02T17:28:46.749Z"
   },
   {
    "duration": 18,
    "start_time": "2023-07-02T17:28:54.320Z"
   },
   {
    "duration": 4,
    "start_time": "2023-07-02T17:29:09.589Z"
   },
   {
    "duration": 790,
    "start_time": "2023-07-02T17:29:11.477Z"
   },
   {
    "duration": 1338,
    "start_time": "2023-07-02T17:32:36.497Z"
   },
   {
    "duration": 4,
    "start_time": "2023-07-02T17:32:37.838Z"
   },
   {
    "duration": 1025,
    "start_time": "2023-07-02T17:32:37.844Z"
   },
   {
    "duration": 11,
    "start_time": "2023-07-02T17:32:38.872Z"
   },
   {
    "duration": 46,
    "start_time": "2023-07-02T17:32:38.886Z"
   },
   {
    "duration": 34,
    "start_time": "2023-07-02T17:32:38.935Z"
   },
   {
    "duration": 10,
    "start_time": "2023-07-02T17:32:38.971Z"
   },
   {
    "duration": 35,
    "start_time": "2023-07-02T17:32:38.983Z"
   },
   {
    "duration": 70,
    "start_time": "2023-07-02T17:32:39.020Z"
   },
   {
    "duration": 297,
    "start_time": "2023-07-02T17:32:39.092Z"
   },
   {
    "duration": 13,
    "start_time": "2023-07-02T17:32:39.391Z"
   },
   {
    "duration": 8,
    "start_time": "2023-07-02T17:32:39.406Z"
   },
   {
    "duration": 11,
    "start_time": "2023-07-02T17:32:39.416Z"
   },
   {
    "duration": 4,
    "start_time": "2023-07-02T17:32:39.432Z"
   },
   {
    "duration": 30,
    "start_time": "2023-07-02T17:32:39.438Z"
   },
   {
    "duration": 3,
    "start_time": "2023-07-02T17:32:39.470Z"
   },
   {
    "duration": 10,
    "start_time": "2023-07-02T17:32:39.475Z"
   },
   {
    "duration": 99,
    "start_time": "2023-07-02T17:32:39.487Z"
   },
   {
    "duration": 0,
    "start_time": "2023-07-02T17:32:39.587Z"
   },
   {
    "duration": 0,
    "start_time": "2023-07-02T17:32:39.589Z"
   },
   {
    "duration": 0,
    "start_time": "2023-07-02T17:32:39.590Z"
   },
   {
    "duration": 0,
    "start_time": "2023-07-02T17:32:39.591Z"
   },
   {
    "duration": 0,
    "start_time": "2023-07-02T17:32:39.592Z"
   },
   {
    "duration": 0,
    "start_time": "2023-07-02T17:32:39.593Z"
   },
   {
    "duration": 0,
    "start_time": "2023-07-02T17:32:39.594Z"
   },
   {
    "duration": 0,
    "start_time": "2023-07-02T17:32:39.595Z"
   },
   {
    "duration": 0,
    "start_time": "2023-07-02T17:32:39.596Z"
   },
   {
    "duration": 0,
    "start_time": "2023-07-02T17:32:39.597Z"
   },
   {
    "duration": 0,
    "start_time": "2023-07-02T17:32:39.599Z"
   },
   {
    "duration": 0,
    "start_time": "2023-07-02T17:32:39.600Z"
   },
   {
    "duration": 0,
    "start_time": "2023-07-02T17:32:39.601Z"
   },
   {
    "duration": 0,
    "start_time": "2023-07-02T17:32:39.602Z"
   },
   {
    "duration": 0,
    "start_time": "2023-07-02T17:32:39.603Z"
   },
   {
    "duration": 0,
    "start_time": "2023-07-02T17:32:39.604Z"
   },
   {
    "duration": 0,
    "start_time": "2023-07-02T17:32:39.605Z"
   },
   {
    "duration": 0,
    "start_time": "2023-07-02T17:32:39.606Z"
   },
   {
    "duration": 0,
    "start_time": "2023-07-02T17:32:39.607Z"
   },
   {
    "duration": 0,
    "start_time": "2023-07-02T17:32:39.609Z"
   },
   {
    "duration": 0,
    "start_time": "2023-07-02T17:32:39.610Z"
   },
   {
    "duration": 0,
    "start_time": "2023-07-02T17:32:39.612Z"
   },
   {
    "duration": 816,
    "start_time": "2023-07-02T17:32:58.274Z"
   },
   {
    "duration": 4,
    "start_time": "2023-07-02T17:38:20.248Z"
   },
   {
    "duration": 4,
    "start_time": "2023-07-02T17:38:22.423Z"
   },
   {
    "duration": 730,
    "start_time": "2023-07-02T17:38:24.840Z"
   },
   {
    "duration": 730,
    "start_time": "2023-07-02T17:39:09.535Z"
   },
   {
    "duration": 994,
    "start_time": "2023-07-02T17:40:59.973Z"
   },
   {
    "duration": 1356,
    "start_time": "2023-07-02T17:42:46.989Z"
   },
   {
    "duration": 4,
    "start_time": "2023-07-02T17:43:06.878Z"
   },
   {
    "duration": 6,
    "start_time": "2023-07-02T17:43:08.925Z"
   },
   {
    "duration": 93,
    "start_time": "2023-07-02T17:43:25.846Z"
   },
   {
    "duration": 5,
    "start_time": "2023-07-02T17:43:44.045Z"
   },
   {
    "duration": 19,
    "start_time": "2023-07-02T17:43:52.652Z"
   },
   {
    "duration": 17,
    "start_time": "2023-07-02T17:44:01.749Z"
   },
   {
    "duration": 5,
    "start_time": "2023-07-02T17:44:14.509Z"
   },
   {
    "duration": 5,
    "start_time": "2023-07-02T17:44:42.885Z"
   },
   {
    "duration": 4,
    "start_time": "2023-07-02T17:45:07.429Z"
   },
   {
    "duration": 4,
    "start_time": "2023-07-02T17:46:40.461Z"
   },
   {
    "duration": 7,
    "start_time": "2023-07-02T18:16:54.248Z"
   },
   {
    "duration": 5,
    "start_time": "2023-07-02T18:16:57.206Z"
   },
   {
    "duration": 3,
    "start_time": "2023-07-02T18:17:47.832Z"
   },
   {
    "duration": 5,
    "start_time": "2023-07-02T18:18:00.134Z"
   },
   {
    "duration": 5,
    "start_time": "2023-07-02T18:18:25.952Z"
   },
   {
    "duration": 4,
    "start_time": "2023-07-02T18:21:17.150Z"
   },
   {
    "duration": 18,
    "start_time": "2023-07-02T18:21:24.196Z"
   },
   {
    "duration": 7,
    "start_time": "2023-07-02T18:21:29.687Z"
   },
   {
    "duration": 4,
    "start_time": "2023-07-02T18:24:04.307Z"
   },
   {
    "duration": 5,
    "start_time": "2023-07-02T18:24:23.980Z"
   },
   {
    "duration": 2254,
    "start_time": "2023-07-02T18:25:54.122Z"
   },
   {
    "duration": 3,
    "start_time": "2023-07-02T18:25:56.378Z"
   },
   {
    "duration": 899,
    "start_time": "2023-07-02T18:25:56.383Z"
   },
   {
    "duration": 9,
    "start_time": "2023-07-02T18:25:57.284Z"
   },
   {
    "duration": 47,
    "start_time": "2023-07-02T18:25:57.295Z"
   },
   {
    "duration": 23,
    "start_time": "2023-07-02T18:25:57.345Z"
   },
   {
    "duration": 7,
    "start_time": "2023-07-02T18:25:57.369Z"
   },
   {
    "duration": 27,
    "start_time": "2023-07-02T18:25:57.378Z"
   },
   {
    "duration": 67,
    "start_time": "2023-07-02T18:25:57.406Z"
   },
   {
    "duration": 259,
    "start_time": "2023-07-02T18:25:57.474Z"
   },
   {
    "duration": 11,
    "start_time": "2023-07-02T18:25:57.735Z"
   },
   {
    "duration": 8,
    "start_time": "2023-07-02T18:25:57.747Z"
   },
   {
    "duration": 4,
    "start_time": "2023-07-02T18:25:57.766Z"
   },
   {
    "duration": 6,
    "start_time": "2023-07-02T18:25:57.774Z"
   },
   {
    "duration": 4,
    "start_time": "2023-07-02T18:25:57.782Z"
   },
   {
    "duration": 7,
    "start_time": "2023-07-02T18:25:57.787Z"
   },
   {
    "duration": 9,
    "start_time": "2023-07-02T18:25:57.795Z"
   },
   {
    "duration": 164,
    "start_time": "2023-07-02T18:25:57.805Z"
   },
   {
    "duration": 0,
    "start_time": "2023-07-02T18:25:57.971Z"
   },
   {
    "duration": 0,
    "start_time": "2023-07-02T18:25:57.972Z"
   },
   {
    "duration": 0,
    "start_time": "2023-07-02T18:25:57.973Z"
   },
   {
    "duration": 0,
    "start_time": "2023-07-02T18:25:57.974Z"
   },
   {
    "duration": 0,
    "start_time": "2023-07-02T18:25:57.975Z"
   },
   {
    "duration": 0,
    "start_time": "2023-07-02T18:25:57.976Z"
   },
   {
    "duration": 0,
    "start_time": "2023-07-02T18:25:57.977Z"
   },
   {
    "duration": 0,
    "start_time": "2023-07-02T18:25:57.979Z"
   },
   {
    "duration": 0,
    "start_time": "2023-07-02T18:25:57.980Z"
   },
   {
    "duration": 0,
    "start_time": "2023-07-02T18:25:57.981Z"
   },
   {
    "duration": 0,
    "start_time": "2023-07-02T18:25:57.982Z"
   },
   {
    "duration": 0,
    "start_time": "2023-07-02T18:25:57.984Z"
   },
   {
    "duration": 0,
    "start_time": "2023-07-02T18:25:57.985Z"
   },
   {
    "duration": 0,
    "start_time": "2023-07-02T18:25:57.986Z"
   },
   {
    "duration": 0,
    "start_time": "2023-07-02T18:25:57.987Z"
   },
   {
    "duration": 0,
    "start_time": "2023-07-02T18:25:57.988Z"
   },
   {
    "duration": 0,
    "start_time": "2023-07-02T18:25:57.989Z"
   },
   {
    "duration": 0,
    "start_time": "2023-07-02T18:25:57.990Z"
   },
   {
    "duration": 0,
    "start_time": "2023-07-02T18:25:57.991Z"
   },
   {
    "duration": 0,
    "start_time": "2023-07-02T18:25:57.992Z"
   },
   {
    "duration": 0,
    "start_time": "2023-07-02T18:25:57.994Z"
   },
   {
    "duration": 0,
    "start_time": "2023-07-02T18:25:57.995Z"
   },
   {
    "duration": 1,
    "start_time": "2023-07-02T18:25:57.996Z"
   },
   {
    "duration": 0,
    "start_time": "2023-07-02T18:25:57.997Z"
   },
   {
    "duration": 1,
    "start_time": "2023-07-02T18:25:57.998Z"
   },
   {
    "duration": 0,
    "start_time": "2023-07-02T18:25:57.999Z"
   },
   {
    "duration": 0,
    "start_time": "2023-07-02T18:25:58.000Z"
   },
   {
    "duration": 4,
    "start_time": "2023-07-02T18:38:26.990Z"
   },
   {
    "duration": 11,
    "start_time": "2023-07-02T18:41:16.594Z"
   },
   {
    "duration": 256,
    "start_time": "2023-07-02T18:41:19.937Z"
   },
   {
    "duration": 14,
    "start_time": "2023-07-02T18:41:24.097Z"
   },
   {
    "duration": 4,
    "start_time": "2023-07-02T18:41:43.230Z"
   },
   {
    "duration": 12,
    "start_time": "2023-07-02T18:41:43.237Z"
   },
   {
    "duration": 881,
    "start_time": "2023-07-02T18:41:43.252Z"
   },
   {
    "duration": 4,
    "start_time": "2023-07-02T18:41:44.136Z"
   },
   {
    "duration": 59,
    "start_time": "2023-07-02T18:41:44.143Z"
   },
   {
    "duration": 11,
    "start_time": "2023-07-02T18:41:44.204Z"
   },
   {
    "duration": 23,
    "start_time": "2023-07-02T18:41:44.217Z"
   },
   {
    "duration": 29,
    "start_time": "2023-07-02T18:41:44.242Z"
   },
   {
    "duration": 35,
    "start_time": "2023-07-02T18:41:44.273Z"
   },
   {
    "duration": 294,
    "start_time": "2023-07-02T18:41:44.310Z"
   },
   {
    "duration": 13,
    "start_time": "2023-07-02T18:41:44.606Z"
   },
   {
    "duration": 7,
    "start_time": "2023-07-02T18:41:44.621Z"
   },
   {
    "duration": 7,
    "start_time": "2023-07-02T18:41:44.630Z"
   },
   {
    "duration": 7,
    "start_time": "2023-07-02T18:41:44.640Z"
   },
   {
    "duration": 5,
    "start_time": "2023-07-02T18:43:20.950Z"
   },
   {
    "duration": 3,
    "start_time": "2023-07-02T18:44:45.999Z"
   },
   {
    "duration": 4,
    "start_time": "2023-07-02T18:44:54.740Z"
   },
   {
    "duration": 6,
    "start_time": "2023-07-02T18:45:11.490Z"
   },
   {
    "duration": 4,
    "start_time": "2023-07-02T18:54:19.699Z"
   },
   {
    "duration": 7,
    "start_time": "2023-07-02T18:54:37.986Z"
   },
   {
    "duration": 5,
    "start_time": "2023-07-02T18:54:49.984Z"
   },
   {
    "duration": 3293,
    "start_time": "2023-07-02T19:07:25.148Z"
   },
   {
    "duration": 4,
    "start_time": "2023-07-02T19:07:28.444Z"
   },
   {
    "duration": 1419,
    "start_time": "2023-07-02T19:07:28.450Z"
   },
   {
    "duration": 4,
    "start_time": "2023-07-02T19:07:29.871Z"
   },
   {
    "duration": 45,
    "start_time": "2023-07-02T19:07:29.878Z"
   },
   {
    "duration": 43,
    "start_time": "2023-07-02T19:07:29.925Z"
   },
   {
    "duration": 8,
    "start_time": "2023-07-02T19:07:29.970Z"
   },
   {
    "duration": 42,
    "start_time": "2023-07-02T19:07:29.981Z"
   },
   {
    "duration": 59,
    "start_time": "2023-07-02T19:07:30.025Z"
   },
   {
    "duration": 322,
    "start_time": "2023-07-02T19:07:30.089Z"
   },
   {
    "duration": 14,
    "start_time": "2023-07-02T19:07:30.413Z"
   },
   {
    "duration": 39,
    "start_time": "2023-07-02T19:07:30.429Z"
   },
   {
    "duration": 31,
    "start_time": "2023-07-02T19:07:30.469Z"
   },
   {
    "duration": 20,
    "start_time": "2023-07-02T19:07:30.504Z"
   },
   {
    "duration": 28,
    "start_time": "2023-07-02T19:07:30.526Z"
   },
   {
    "duration": 24,
    "start_time": "2023-07-02T19:07:30.557Z"
   },
   {
    "duration": 29,
    "start_time": "2023-07-02T19:07:30.583Z"
   },
   {
    "duration": 167,
    "start_time": "2023-07-02T19:07:30.614Z"
   },
   {
    "duration": 0,
    "start_time": "2023-07-02T19:07:30.784Z"
   },
   {
    "duration": 0,
    "start_time": "2023-07-02T19:07:30.786Z"
   },
   {
    "duration": 0,
    "start_time": "2023-07-02T19:07:30.788Z"
   },
   {
    "duration": 0,
    "start_time": "2023-07-02T19:07:30.790Z"
   },
   {
    "duration": 0,
    "start_time": "2023-07-02T19:07:30.792Z"
   },
   {
    "duration": 0,
    "start_time": "2023-07-02T19:07:30.794Z"
   },
   {
    "duration": 0,
    "start_time": "2023-07-02T19:07:30.795Z"
   },
   {
    "duration": 0,
    "start_time": "2023-07-02T19:07:30.797Z"
   },
   {
    "duration": 0,
    "start_time": "2023-07-02T19:07:30.799Z"
   },
   {
    "duration": 0,
    "start_time": "2023-07-02T19:07:30.801Z"
   },
   {
    "duration": 0,
    "start_time": "2023-07-02T19:07:30.803Z"
   },
   {
    "duration": 0,
    "start_time": "2023-07-02T19:07:30.804Z"
   },
   {
    "duration": 0,
    "start_time": "2023-07-02T19:07:30.806Z"
   },
   {
    "duration": 0,
    "start_time": "2023-07-02T19:07:30.807Z"
   },
   {
    "duration": 0,
    "start_time": "2023-07-02T19:07:30.809Z"
   },
   {
    "duration": 0,
    "start_time": "2023-07-02T19:07:30.811Z"
   },
   {
    "duration": 0,
    "start_time": "2023-07-02T19:07:30.812Z"
   },
   {
    "duration": 0,
    "start_time": "2023-07-02T19:07:30.814Z"
   },
   {
    "duration": 0,
    "start_time": "2023-07-02T19:07:30.868Z"
   },
   {
    "duration": 0,
    "start_time": "2023-07-02T19:07:30.870Z"
   },
   {
    "duration": 0,
    "start_time": "2023-07-02T19:07:30.872Z"
   },
   {
    "duration": 0,
    "start_time": "2023-07-02T19:07:30.873Z"
   },
   {
    "duration": 0,
    "start_time": "2023-07-02T19:07:30.876Z"
   },
   {
    "duration": 0,
    "start_time": "2023-07-02T19:07:30.877Z"
   },
   {
    "duration": 0,
    "start_time": "2023-07-02T19:07:30.879Z"
   },
   {
    "duration": 0,
    "start_time": "2023-07-02T19:07:30.883Z"
   },
   {
    "duration": 0,
    "start_time": "2023-07-02T19:07:30.884Z"
   },
   {
    "duration": 10,
    "start_time": "2023-07-02T19:08:12.314Z"
   },
   {
    "duration": 20,
    "start_time": "2023-07-02T19:16:47.189Z"
   },
   {
    "duration": 2732,
    "start_time": "2023-07-03T17:49:17.338Z"
   },
   {
    "duration": 3,
    "start_time": "2023-07-03T17:49:20.074Z"
   },
   {
    "duration": 3708,
    "start_time": "2023-07-03T17:49:20.080Z"
   },
   {
    "duration": 4,
    "start_time": "2023-07-03T17:49:23.789Z"
   },
   {
    "duration": 45,
    "start_time": "2023-07-03T17:49:23.796Z"
   },
   {
    "duration": 13,
    "start_time": "2023-07-03T17:49:23.843Z"
   },
   {
    "duration": 9,
    "start_time": "2023-07-03T17:49:23.858Z"
   },
   {
    "duration": 58,
    "start_time": "2023-07-03T17:49:23.870Z"
   },
   {
    "duration": 38,
    "start_time": "2023-07-03T17:49:23.930Z"
   },
   {
    "duration": 302,
    "start_time": "2023-07-03T17:49:23.972Z"
   },
   {
    "duration": 12,
    "start_time": "2023-07-03T17:49:24.276Z"
   },
   {
    "duration": 28,
    "start_time": "2023-07-03T17:49:24.290Z"
   },
   {
    "duration": 13,
    "start_time": "2023-07-03T17:49:24.319Z"
   },
   {
    "duration": 4,
    "start_time": "2023-07-03T17:49:24.337Z"
   },
   {
    "duration": 154,
    "start_time": "2023-07-03T17:49:24.343Z"
   },
   {
    "duration": 0,
    "start_time": "2023-07-03T17:49:24.499Z"
   },
   {
    "duration": 0,
    "start_time": "2023-07-03T17:49:24.517Z"
   },
   {
    "duration": 0,
    "start_time": "2023-07-03T17:49:24.518Z"
   },
   {
    "duration": 0,
    "start_time": "2023-07-03T17:49:24.519Z"
   },
   {
    "duration": 0,
    "start_time": "2023-07-03T17:49:24.520Z"
   },
   {
    "duration": 0,
    "start_time": "2023-07-03T17:49:24.521Z"
   },
   {
    "duration": 0,
    "start_time": "2023-07-03T17:49:24.522Z"
   },
   {
    "duration": 0,
    "start_time": "2023-07-03T17:49:24.524Z"
   },
   {
    "duration": 0,
    "start_time": "2023-07-03T17:49:24.525Z"
   },
   {
    "duration": 0,
    "start_time": "2023-07-03T17:49:24.526Z"
   },
   {
    "duration": 0,
    "start_time": "2023-07-03T17:49:24.528Z"
   },
   {
    "duration": 0,
    "start_time": "2023-07-03T17:49:24.529Z"
   },
   {
    "duration": 0,
    "start_time": "2023-07-03T17:49:24.530Z"
   },
   {
    "duration": 0,
    "start_time": "2023-07-03T17:49:24.532Z"
   },
   {
    "duration": 0,
    "start_time": "2023-07-03T17:49:24.533Z"
   },
   {
    "duration": 0,
    "start_time": "2023-07-03T17:49:24.534Z"
   },
   {
    "duration": 0,
    "start_time": "2023-07-03T17:49:24.536Z"
   },
   {
    "duration": 0,
    "start_time": "2023-07-03T17:49:24.537Z"
   },
   {
    "duration": 0,
    "start_time": "2023-07-03T17:49:24.538Z"
   },
   {
    "duration": 0,
    "start_time": "2023-07-03T17:49:24.540Z"
   },
   {
    "duration": 0,
    "start_time": "2023-07-03T17:49:24.541Z"
   },
   {
    "duration": 0,
    "start_time": "2023-07-03T17:49:24.543Z"
   },
   {
    "duration": 0,
    "start_time": "2023-07-03T17:49:24.544Z"
   },
   {
    "duration": 0,
    "start_time": "2023-07-03T17:49:24.546Z"
   },
   {
    "duration": 0,
    "start_time": "2023-07-03T17:49:24.547Z"
   },
   {
    "duration": 0,
    "start_time": "2023-07-03T17:49:24.548Z"
   },
   {
    "duration": 0,
    "start_time": "2023-07-03T17:49:24.550Z"
   },
   {
    "duration": 0,
    "start_time": "2023-07-03T17:49:24.551Z"
   },
   {
    "duration": 0,
    "start_time": "2023-07-03T17:49:24.552Z"
   },
   {
    "duration": 0,
    "start_time": "2023-07-03T17:49:24.552Z"
   },
   {
    "duration": 0,
    "start_time": "2023-07-03T17:49:24.554Z"
   },
   {
    "duration": 0,
    "start_time": "2023-07-03T17:49:24.556Z"
   },
   {
    "duration": 7,
    "start_time": "2023-07-03T18:12:05.611Z"
   },
   {
    "duration": 8,
    "start_time": "2023-07-03T18:13:13.531Z"
   },
   {
    "duration": 14,
    "start_time": "2023-07-03T18:20:59.897Z"
   },
   {
    "duration": 6,
    "start_time": "2023-07-03T18:24:49.894Z"
   },
   {
    "duration": 8,
    "start_time": "2023-07-03T18:25:50.422Z"
   },
   {
    "duration": 6,
    "start_time": "2023-07-03T18:25:59.973Z"
   },
   {
    "duration": 1976,
    "start_time": "2023-07-03T18:26:11.884Z"
   },
   {
    "duration": 1938,
    "start_time": "2023-07-03T18:26:24.196Z"
   },
   {
    "duration": 1756,
    "start_time": "2023-07-03T18:26:35.357Z"
   },
   {
    "duration": 9,
    "start_time": "2023-07-03T18:26:53.052Z"
   },
   {
    "duration": 10,
    "start_time": "2023-07-03T18:27:03.686Z"
   },
   {
    "duration": 6,
    "start_time": "2023-07-03T18:29:41.395Z"
   },
   {
    "duration": 14,
    "start_time": "2023-07-03T18:32:13.067Z"
   },
   {
    "duration": 6,
    "start_time": "2023-07-03T18:32:43.353Z"
   },
   {
    "duration": 5,
    "start_time": "2023-07-03T18:47:00.996Z"
   },
   {
    "duration": 15,
    "start_time": "2023-07-03T18:47:45.818Z"
   },
   {
    "duration": 5,
    "start_time": "2023-07-03T18:48:10.620Z"
   },
   {
    "duration": 5,
    "start_time": "2023-07-03T18:49:08.378Z"
   },
   {
    "duration": 173,
    "start_time": "2023-07-03T19:08:56.602Z"
   },
   {
    "duration": 275,
    "start_time": "2023-07-03T19:10:26.361Z"
   },
   {
    "duration": 14,
    "start_time": "2023-07-03T19:10:33.177Z"
   },
   {
    "duration": 2679,
    "start_time": "2023-07-03T19:10:52.969Z"
   },
   {
    "duration": 4,
    "start_time": "2023-07-03T19:10:55.651Z"
   },
   {
    "duration": 3483,
    "start_time": "2023-07-03T19:10:55.658Z"
   },
   {
    "duration": 11,
    "start_time": "2023-07-03T19:10:59.144Z"
   },
   {
    "duration": 47,
    "start_time": "2023-07-03T19:10:59.157Z"
   },
   {
    "duration": 26,
    "start_time": "2023-07-03T19:10:59.206Z"
   },
   {
    "duration": 17,
    "start_time": "2023-07-03T19:10:59.234Z"
   },
   {
    "duration": 29,
    "start_time": "2023-07-03T19:10:59.254Z"
   },
   {
    "duration": 32,
    "start_time": "2023-07-03T19:10:59.286Z"
   },
   {
    "duration": 263,
    "start_time": "2023-07-03T19:10:59.320Z"
   },
   {
    "duration": 15,
    "start_time": "2023-07-03T19:10:59.585Z"
   },
   {
    "duration": 329,
    "start_time": "2023-07-03T19:10:59.602Z"
   },
   {
    "duration": 19,
    "start_time": "2023-07-03T19:10:59.934Z"
   },
   {
    "duration": 56,
    "start_time": "2023-07-03T19:10:59.958Z"
   },
   {
    "duration": 5,
    "start_time": "2023-07-03T19:11:00.022Z"
   },
   {
    "duration": 78,
    "start_time": "2023-07-03T19:11:00.029Z"
   },
   {
    "duration": 36,
    "start_time": "2023-07-03T19:11:00.109Z"
   },
   {
    "duration": 51,
    "start_time": "2023-07-03T19:11:00.147Z"
   },
   {
    "duration": 175,
    "start_time": "2023-07-03T19:11:00.200Z"
   },
   {
    "duration": 0,
    "start_time": "2023-07-03T19:11:00.378Z"
   },
   {
    "duration": 0,
    "start_time": "2023-07-03T19:11:00.380Z"
   },
   {
    "duration": 0,
    "start_time": "2023-07-03T19:11:00.382Z"
   },
   {
    "duration": 0,
    "start_time": "2023-07-03T19:11:00.383Z"
   },
   {
    "duration": 0,
    "start_time": "2023-07-03T19:11:00.385Z"
   },
   {
    "duration": 0,
    "start_time": "2023-07-03T19:11:00.387Z"
   },
   {
    "duration": 0,
    "start_time": "2023-07-03T19:11:00.388Z"
   },
   {
    "duration": 0,
    "start_time": "2023-07-03T19:11:00.389Z"
   },
   {
    "duration": 0,
    "start_time": "2023-07-03T19:11:00.391Z"
   },
   {
    "duration": 0,
    "start_time": "2023-07-03T19:11:00.417Z"
   },
   {
    "duration": 0,
    "start_time": "2023-07-03T19:11:00.418Z"
   },
   {
    "duration": 0,
    "start_time": "2023-07-03T19:11:00.420Z"
   },
   {
    "duration": 0,
    "start_time": "2023-07-03T19:11:00.421Z"
   },
   {
    "duration": 0,
    "start_time": "2023-07-03T19:11:00.423Z"
   },
   {
    "duration": 0,
    "start_time": "2023-07-03T19:11:00.424Z"
   },
   {
    "duration": 0,
    "start_time": "2023-07-03T19:11:00.425Z"
   },
   {
    "duration": 0,
    "start_time": "2023-07-03T19:11:00.426Z"
   },
   {
    "duration": 0,
    "start_time": "2023-07-03T19:11:00.428Z"
   },
   {
    "duration": 0,
    "start_time": "2023-07-03T19:11:00.429Z"
   },
   {
    "duration": 0,
    "start_time": "2023-07-03T19:11:00.432Z"
   },
   {
    "duration": 0,
    "start_time": "2023-07-03T19:11:00.433Z"
   },
   {
    "duration": 0,
    "start_time": "2023-07-03T19:11:00.435Z"
   },
   {
    "duration": 0,
    "start_time": "2023-07-03T19:11:00.436Z"
   },
   {
    "duration": 0,
    "start_time": "2023-07-03T19:11:00.438Z"
   },
   {
    "duration": 0,
    "start_time": "2023-07-03T19:11:00.440Z"
   },
   {
    "duration": 0,
    "start_time": "2023-07-03T19:11:00.442Z"
   },
   {
    "duration": 0,
    "start_time": "2023-07-03T19:11:00.444Z"
   },
   {
    "duration": 9,
    "start_time": "2023-07-03T19:12:41.528Z"
   },
   {
    "duration": 7,
    "start_time": "2023-07-03T19:13:14.184Z"
   },
   {
    "duration": 39,
    "start_time": "2023-07-03T19:13:55.713Z"
   },
   {
    "duration": 9627,
    "start_time": "2023-07-03T19:14:06.601Z"
   },
   {
    "duration": 8826,
    "start_time": "2023-07-03T19:14:57.099Z"
   },
   {
    "duration": 9528,
    "start_time": "2023-07-03T19:15:07.454Z"
   },
   {
    "duration": 596,
    "start_time": "2023-07-03T19:17:17.174Z"
   },
   {
    "duration": 8,
    "start_time": "2023-07-03T19:24:04.181Z"
   },
   {
    "duration": 18428,
    "start_time": "2023-07-03T19:25:42.954Z"
   },
   {
    "duration": 13,
    "start_time": "2023-07-03T19:26:23.954Z"
   },
   {
    "duration": 3015,
    "start_time": "2023-07-03T19:26:44.132Z"
   },
   {
    "duration": 4,
    "start_time": "2023-07-03T19:26:47.150Z"
   },
   {
    "duration": 812,
    "start_time": "2023-07-03T19:26:47.156Z"
   },
   {
    "duration": 9,
    "start_time": "2023-07-03T19:26:47.969Z"
   },
   {
    "duration": 52,
    "start_time": "2023-07-03T19:26:47.980Z"
   },
   {
    "duration": 9,
    "start_time": "2023-07-03T19:26:48.034Z"
   },
   {
    "duration": 18,
    "start_time": "2023-07-03T19:26:48.044Z"
   },
   {
    "duration": 36,
    "start_time": "2023-07-03T19:26:48.064Z"
   },
   {
    "duration": 33,
    "start_time": "2023-07-03T19:26:48.101Z"
   },
   {
    "duration": 259,
    "start_time": "2023-07-03T19:26:48.136Z"
   },
   {
    "duration": 17,
    "start_time": "2023-07-03T19:26:48.396Z"
   },
   {
    "duration": 264,
    "start_time": "2023-07-03T19:26:48.430Z"
   },
   {
    "duration": 29,
    "start_time": "2023-07-03T19:26:48.695Z"
   },
   {
    "duration": 8929,
    "start_time": "2023-07-03T19:26:48.728Z"
   },
   {
    "duration": 34,
    "start_time": "2023-07-03T19:26:57.659Z"
   },
   {
    "duration": 181,
    "start_time": "2023-07-03T19:26:57.695Z"
   },
   {
    "duration": 0,
    "start_time": "2023-07-03T19:26:57.878Z"
   },
   {
    "duration": 0,
    "start_time": "2023-07-03T19:26:57.880Z"
   },
   {
    "duration": 0,
    "start_time": "2023-07-03T19:26:57.881Z"
   },
   {
    "duration": 0,
    "start_time": "2023-07-03T19:26:57.882Z"
   },
   {
    "duration": 0,
    "start_time": "2023-07-03T19:26:57.883Z"
   },
   {
    "duration": 0,
    "start_time": "2023-07-03T19:26:57.885Z"
   },
   {
    "duration": 0,
    "start_time": "2023-07-03T19:26:57.885Z"
   },
   {
    "duration": 0,
    "start_time": "2023-07-03T19:26:57.887Z"
   },
   {
    "duration": 0,
    "start_time": "2023-07-03T19:26:57.888Z"
   },
   {
    "duration": 0,
    "start_time": "2023-07-03T19:26:57.889Z"
   },
   {
    "duration": 0,
    "start_time": "2023-07-03T19:26:57.918Z"
   },
   {
    "duration": 0,
    "start_time": "2023-07-03T19:26:57.920Z"
   },
   {
    "duration": 0,
    "start_time": "2023-07-03T19:26:57.921Z"
   },
   {
    "duration": 0,
    "start_time": "2023-07-03T19:26:57.922Z"
   },
   {
    "duration": 0,
    "start_time": "2023-07-03T19:26:57.923Z"
   },
   {
    "duration": 0,
    "start_time": "2023-07-03T19:26:57.924Z"
   },
   {
    "duration": 0,
    "start_time": "2023-07-03T19:26:57.926Z"
   },
   {
    "duration": 0,
    "start_time": "2023-07-03T19:26:57.930Z"
   },
   {
    "duration": 0,
    "start_time": "2023-07-03T19:26:57.932Z"
   },
   {
    "duration": 1,
    "start_time": "2023-07-03T19:26:57.932Z"
   },
   {
    "duration": 0,
    "start_time": "2023-07-03T19:26:57.934Z"
   },
   {
    "duration": 0,
    "start_time": "2023-07-03T19:26:57.935Z"
   },
   {
    "duration": 0,
    "start_time": "2023-07-03T19:26:57.936Z"
   },
   {
    "duration": 0,
    "start_time": "2023-07-03T19:26:57.938Z"
   },
   {
    "duration": 0,
    "start_time": "2023-07-03T19:26:57.938Z"
   },
   {
    "duration": 0,
    "start_time": "2023-07-03T19:26:57.940Z"
   },
   {
    "duration": 0,
    "start_time": "2023-07-03T19:26:57.941Z"
   },
   {
    "duration": 0,
    "start_time": "2023-07-03T19:26:57.942Z"
   },
   {
    "duration": 0,
    "start_time": "2023-07-03T19:26:57.943Z"
   },
   {
    "duration": 0,
    "start_time": "2023-07-03T19:26:57.944Z"
   },
   {
    "duration": 0,
    "start_time": "2023-07-03T19:26:57.945Z"
   },
   {
    "duration": 0,
    "start_time": "2023-07-03T19:26:57.947Z"
   },
   {
    "duration": 4,
    "start_time": "2023-07-03T19:29:32.144Z"
   },
   {
    "duration": 1336,
    "start_time": "2023-07-03T19:29:39.265Z"
   },
   {
    "duration": 26516,
    "start_time": "2023-07-03T19:30:45.836Z"
   },
   {
    "duration": 26630,
    "start_time": "2023-07-03T19:31:27.794Z"
   },
   {
    "duration": 23,
    "start_time": "2023-07-03T19:31:54.426Z"
   },
   {
    "duration": 5,
    "start_time": "2023-07-03T19:35:05.832Z"
   },
   {
    "duration": 171,
    "start_time": "2023-07-03T19:35:05.839Z"
   },
   {
    "duration": 868,
    "start_time": "2023-07-03T19:35:06.012Z"
   },
   {
    "duration": 4,
    "start_time": "2023-07-03T19:35:06.882Z"
   },
   {
    "duration": 62,
    "start_time": "2023-07-03T19:35:06.888Z"
   },
   {
    "duration": 7,
    "start_time": "2023-07-03T19:35:06.951Z"
   },
   {
    "duration": 24,
    "start_time": "2023-07-03T19:35:06.960Z"
   },
   {
    "duration": 43,
    "start_time": "2023-07-03T19:35:06.985Z"
   },
   {
    "duration": 33,
    "start_time": "2023-07-03T19:35:07.031Z"
   },
   {
    "duration": 269,
    "start_time": "2023-07-03T19:35:07.067Z"
   },
   {
    "duration": 6,
    "start_time": "2023-07-03T19:35:07.338Z"
   },
   {
    "duration": 1856,
    "start_time": "2023-07-03T19:35:43.054Z"
   },
   {
    "duration": 16,
    "start_time": "2023-07-03T19:36:25.301Z"
   },
   {
    "duration": 286,
    "start_time": "2023-07-03T19:36:28.352Z"
   },
   {
    "duration": 15,
    "start_time": "2023-07-03T19:36:30.404Z"
   },
   {
    "duration": 35118,
    "start_time": "2023-07-03T19:36:32.711Z"
   },
   {
    "duration": 102657,
    "start_time": "2023-07-03T19:37:10.227Z"
   },
   {
    "duration": 29,
    "start_time": "2023-07-03T19:39:27.013Z"
   },
   {
    "duration": 156,
    "start_time": "2023-07-03T19:48:04.810Z"
   },
   {
    "duration": 129,
    "start_time": "2023-07-03T19:48:56.219Z"
   },
   {
    "duration": 12,
    "start_time": "2023-07-03T19:51:03.786Z"
   },
   {
    "duration": 5,
    "start_time": "2023-07-03T19:51:23.654Z"
   },
   {
    "duration": 8,
    "start_time": "2023-07-03T19:51:32.613Z"
   },
   {
    "duration": 776,
    "start_time": "2023-07-03T19:51:37.328Z"
   },
   {
    "duration": 12,
    "start_time": "2023-07-03T19:53:43.834Z"
   },
   {
    "duration": 5,
    "start_time": "2023-07-03T19:53:43.849Z"
   },
   {
    "duration": 783,
    "start_time": "2023-07-03T19:53:43.856Z"
   },
   {
    "duration": 3,
    "start_time": "2023-07-03T19:53:44.641Z"
   },
   {
    "duration": 35,
    "start_time": "2023-07-03T19:53:44.647Z"
   },
   {
    "duration": 12,
    "start_time": "2023-07-03T19:53:44.684Z"
   },
   {
    "duration": 31,
    "start_time": "2023-07-03T19:53:44.697Z"
   },
   {
    "duration": 28,
    "start_time": "2023-07-03T19:53:44.730Z"
   },
   {
    "duration": 27,
    "start_time": "2023-07-03T19:53:44.759Z"
   },
   {
    "duration": 243,
    "start_time": "2023-07-03T19:53:44.788Z"
   },
   {
    "duration": 6,
    "start_time": "2023-07-03T19:53:45.033Z"
   },
   {
    "duration": 290,
    "start_time": "2023-07-03T19:53:45.041Z"
   },
   {
    "duration": 1470,
    "start_time": "2023-07-03T19:53:45.333Z"
   },
   {
    "duration": 49584,
    "start_time": "2023-07-03T19:53:46.805Z"
   },
   {
    "duration": 19,
    "start_time": "2023-07-03T19:54:42.156Z"
   },
   {
    "duration": 14,
    "start_time": "2023-07-03T19:55:16.165Z"
   },
   {
    "duration": 742,
    "start_time": "2023-07-03T19:59:15.126Z"
   },
   {
    "duration": 50189,
    "start_time": "2023-07-03T20:00:37.839Z"
   },
   {
    "duration": 13,
    "start_time": "2023-07-03T20:01:31.599Z"
   },
   {
    "duration": 5,
    "start_time": "2023-07-03T20:02:18.712Z"
   },
   {
    "duration": 21,
    "start_time": "2023-07-03T20:02:18.720Z"
   },
   {
    "duration": 827,
    "start_time": "2023-07-03T20:02:18.743Z"
   },
   {
    "duration": 4,
    "start_time": "2023-07-03T20:02:19.572Z"
   },
   {
    "duration": 52,
    "start_time": "2023-07-03T20:02:19.579Z"
   },
   {
    "duration": 13,
    "start_time": "2023-07-03T20:02:19.640Z"
   },
   {
    "duration": 8,
    "start_time": "2023-07-03T20:02:19.656Z"
   },
   {
    "duration": 53,
    "start_time": "2023-07-03T20:02:19.666Z"
   },
   {
    "duration": 33,
    "start_time": "2023-07-03T20:02:19.724Z"
   },
   {
    "duration": 279,
    "start_time": "2023-07-03T20:02:19.759Z"
   },
   {
    "duration": 8,
    "start_time": "2023-07-03T20:02:20.041Z"
   },
   {
    "duration": 296,
    "start_time": "2023-07-03T20:02:20.051Z"
   },
   {
    "duration": 1538,
    "start_time": "2023-07-03T20:02:20.350Z"
   },
   {
    "duration": 50425,
    "start_time": "2023-07-03T20:02:21.891Z"
   },
   {
    "duration": 12,
    "start_time": "2023-07-03T20:03:12.322Z"
   },
   {
    "duration": 78,
    "start_time": "2023-07-03T20:04:09.616Z"
   },
   {
    "duration": 12,
    "start_time": "2023-07-03T20:04:21.343Z"
   },
   {
    "duration": 7,
    "start_time": "2023-07-03T20:04:36.096Z"
   },
   {
    "duration": 6,
    "start_time": "2023-07-03T20:04:38.946Z"
   },
   {
    "duration": 3528,
    "start_time": "2023-07-03T20:04:55.324Z"
   },
   {
    "duration": 4,
    "start_time": "2023-07-03T20:04:58.855Z"
   },
   {
    "duration": 3603,
    "start_time": "2023-07-03T20:04:58.861Z"
   },
   {
    "duration": 9,
    "start_time": "2023-07-03T20:05:02.466Z"
   },
   {
    "duration": 81,
    "start_time": "2023-07-03T20:05:02.478Z"
   },
   {
    "duration": 48,
    "start_time": "2023-07-03T20:05:02.561Z"
   },
   {
    "duration": 39,
    "start_time": "2023-07-03T20:05:02.611Z"
   },
   {
    "duration": 70,
    "start_time": "2023-07-03T20:05:02.652Z"
   },
   {
    "duration": 69,
    "start_time": "2023-07-03T20:05:02.723Z"
   },
   {
    "duration": 267,
    "start_time": "2023-07-03T20:05:02.794Z"
   },
   {
    "duration": 10,
    "start_time": "2023-07-03T20:05:03.063Z"
   },
   {
    "duration": 309,
    "start_time": "2023-07-03T20:05:03.075Z"
   },
   {
    "duration": 1589,
    "start_time": "2023-07-03T20:05:03.386Z"
   },
   {
    "duration": 52880,
    "start_time": "2023-07-03T20:05:04.978Z"
   },
   {
    "duration": 4,
    "start_time": "2023-07-03T20:05:57.859Z"
   },
   {
    "duration": 31,
    "start_time": "2023-07-03T20:05:57.865Z"
   },
   {
    "duration": 53069,
    "start_time": "2023-07-03T20:05:57.898Z"
   },
   {
    "duration": 14,
    "start_time": "2023-07-03T20:06:50.969Z"
   },
   {
    "duration": 47,
    "start_time": "2023-07-03T20:06:50.985Z"
   },
   {
    "duration": 16,
    "start_time": "2023-07-03T20:06:51.034Z"
   },
   {
    "duration": 9265,
    "start_time": "2023-07-03T20:06:51.052Z"
   },
   {
    "duration": 26436,
    "start_time": "2023-07-03T20:07:00.320Z"
   },
   {
    "duration": 270,
    "start_time": "2023-07-03T20:07:26.758Z"
   },
   {
    "duration": 0,
    "start_time": "2023-07-03T20:07:27.031Z"
   },
   {
    "duration": 0,
    "start_time": "2023-07-03T20:07:27.032Z"
   },
   {
    "duration": 0,
    "start_time": "2023-07-03T20:07:27.034Z"
   },
   {
    "duration": 0,
    "start_time": "2023-07-03T20:07:27.035Z"
   },
   {
    "duration": 0,
    "start_time": "2023-07-03T20:07:27.036Z"
   },
   {
    "duration": 0,
    "start_time": "2023-07-03T20:07:27.037Z"
   },
   {
    "duration": 0,
    "start_time": "2023-07-03T20:07:27.038Z"
   },
   {
    "duration": 0,
    "start_time": "2023-07-03T20:07:27.039Z"
   },
   {
    "duration": 0,
    "start_time": "2023-07-03T20:07:27.040Z"
   },
   {
    "duration": 1,
    "start_time": "2023-07-03T20:07:27.041Z"
   },
   {
    "duration": 0,
    "start_time": "2023-07-03T20:07:27.043Z"
   },
   {
    "duration": 0,
    "start_time": "2023-07-03T20:07:27.044Z"
   },
   {
    "duration": 0,
    "start_time": "2023-07-03T20:07:27.045Z"
   },
   {
    "duration": 0,
    "start_time": "2023-07-03T20:07:27.047Z"
   },
   {
    "duration": 0,
    "start_time": "2023-07-03T20:07:27.049Z"
   },
   {
    "duration": 0,
    "start_time": "2023-07-03T20:07:27.050Z"
   },
   {
    "duration": 0,
    "start_time": "2023-07-03T20:07:27.051Z"
   },
   {
    "duration": 0,
    "start_time": "2023-07-03T20:07:27.052Z"
   },
   {
    "duration": 0,
    "start_time": "2023-07-03T20:07:27.052Z"
   },
   {
    "duration": 0,
    "start_time": "2023-07-03T20:07:27.053Z"
   },
   {
    "duration": 0,
    "start_time": "2023-07-03T20:07:27.054Z"
   },
   {
    "duration": 0,
    "start_time": "2023-07-03T20:07:27.055Z"
   },
   {
    "duration": 0,
    "start_time": "2023-07-03T20:07:27.056Z"
   },
   {
    "duration": 0,
    "start_time": "2023-07-03T20:07:27.057Z"
   },
   {
    "duration": 0,
    "start_time": "2023-07-03T20:07:27.058Z"
   },
   {
    "duration": 0,
    "start_time": "2023-07-03T20:07:27.059Z"
   },
   {
    "duration": 0,
    "start_time": "2023-07-03T20:07:27.061Z"
   },
   {
    "duration": 0,
    "start_time": "2023-07-03T20:07:27.061Z"
   },
   {
    "duration": 0,
    "start_time": "2023-07-03T20:07:27.063Z"
   },
   {
    "duration": 0,
    "start_time": "2023-07-03T20:07:27.113Z"
   },
   {
    "duration": 0,
    "start_time": "2023-07-03T20:07:27.114Z"
   },
   {
    "duration": 10,
    "start_time": "2023-07-03T20:08:14.758Z"
   },
   {
    "duration": 1003,
    "start_time": "2023-07-03T20:08:59.958Z"
   },
   {
    "duration": 7,
    "start_time": "2023-07-03T20:09:22.935Z"
   },
   {
    "duration": 2500,
    "start_time": "2023-07-03T20:11:21.686Z"
   },
   {
    "duration": 15,
    "start_time": "2023-07-03T20:11:33.092Z"
   },
   {
    "duration": 23,
    "start_time": "2023-07-03T20:11:42.869Z"
   },
   {
    "duration": 35548,
    "start_time": "2023-07-03T20:12:24.733Z"
   },
   {
    "duration": 33,
    "start_time": "2023-07-03T20:13:09.871Z"
   },
   {
    "duration": 15,
    "start_time": "2023-07-03T20:14:36.275Z"
   },
   {
    "duration": 9770,
    "start_time": "2023-07-04T10:20:56.187Z"
   },
   {
    "duration": 6239,
    "start_time": "2023-07-04T10:21:05.964Z"
   },
   {
    "duration": 10,
    "start_time": "2023-07-04T10:21:12.205Z"
   },
   {
    "duration": 34,
    "start_time": "2023-07-04T10:21:12.217Z"
   },
   {
    "duration": 22,
    "start_time": "2023-07-04T10:21:12.253Z"
   },
   {
    "duration": 12,
    "start_time": "2023-07-04T10:21:12.284Z"
   },
   {
    "duration": 27,
    "start_time": "2023-07-04T10:21:12.298Z"
   },
   {
    "duration": 36,
    "start_time": "2023-07-04T10:21:12.327Z"
   },
   {
    "duration": 272,
    "start_time": "2023-07-04T10:21:12.365Z"
   },
   {
    "duration": 28,
    "start_time": "2023-07-04T10:21:12.639Z"
   },
   {
    "duration": 313,
    "start_time": "2023-07-04T10:21:12.669Z"
   },
   {
    "duration": 1960,
    "start_time": "2023-07-04T10:21:12.984Z"
   },
   {
    "duration": 68943,
    "start_time": "2023-07-04T10:21:14.945Z"
   },
   {
    "duration": 51559,
    "start_time": "2023-07-04T10:22:23.894Z"
   },
   {
    "duration": 25853,
    "start_time": "2023-07-04T10:23:15.456Z"
   },
   {
    "duration": 16,
    "start_time": "2023-07-04T10:23:41.310Z"
   },
   {
    "duration": 7,
    "start_time": "2023-07-04T10:23:41.328Z"
   },
   {
    "duration": 126,
    "start_time": "2023-07-04T10:23:41.337Z"
   },
   {
    "duration": 4,
    "start_time": "2023-07-04T10:23:41.467Z"
   },
   {
    "duration": 13051,
    "start_time": "2023-07-04T10:23:41.474Z"
   },
   {
    "duration": 313362,
    "start_time": "2023-07-04T10:23:54.528Z"
   },
   {
    "duration": 19,
    "start_time": "2023-07-04T10:29:07.892Z"
   },
   {
    "duration": 10,
    "start_time": "2023-07-04T10:29:07.914Z"
   },
   {
    "duration": 650,
    "start_time": "2023-07-04T10:29:07.927Z"
   },
   {
    "duration": 2152,
    "start_time": "2023-07-04T10:29:08.579Z"
   },
   {
    "duration": 0,
    "start_time": "2023-07-04T10:29:10.732Z"
   },
   {
    "duration": 8,
    "start_time": "2023-07-04T10:36:57.245Z"
   },
   {
    "duration": 207,
    "start_time": "2023-07-04T10:37:10.210Z"
   },
   {
    "duration": 13,
    "start_time": "2023-07-04T10:37:22.175Z"
   },
   {
    "duration": 181,
    "start_time": "2023-07-04T10:37:28.395Z"
   },
   {
    "duration": 40,
    "start_time": "2023-07-04T10:38:35.783Z"
   },
   {
    "duration": 14,
    "start_time": "2023-07-04T10:38:47.450Z"
   },
   {
    "duration": 610,
    "start_time": "2023-07-04T10:38:54.717Z"
   },
   {
    "duration": 237,
    "start_time": "2023-07-04T10:39:28.114Z"
   },
   {
    "duration": 9980,
    "start_time": "2023-07-04T10:41:53.189Z"
   },
   {
    "duration": 5398,
    "start_time": "2023-07-04T10:42:03.176Z"
   },
   {
    "duration": 12,
    "start_time": "2023-07-04T10:42:08.577Z"
   },
   {
    "duration": 76,
    "start_time": "2023-07-04T10:42:08.593Z"
   },
   {
    "duration": 26,
    "start_time": "2023-07-04T10:42:08.679Z"
   },
   {
    "duration": 13,
    "start_time": "2023-07-04T10:42:08.710Z"
   },
   {
    "duration": 66,
    "start_time": "2023-07-04T10:42:08.725Z"
   },
   {
    "duration": 35,
    "start_time": "2023-07-04T10:42:08.796Z"
   },
   {
    "duration": 331,
    "start_time": "2023-07-04T10:42:08.834Z"
   },
   {
    "duration": 14,
    "start_time": "2023-07-04T10:42:09.169Z"
   },
   {
    "duration": 411,
    "start_time": "2023-07-04T10:42:09.187Z"
   },
   {
    "duration": 2225,
    "start_time": "2023-07-04T10:42:09.607Z"
   },
   {
    "duration": 88396,
    "start_time": "2023-07-04T10:42:11.834Z"
   },
   {
    "duration": 3044,
    "start_time": "2023-07-04T10:43:40.234Z"
   },
   {
    "duration": 13,
    "start_time": "2023-07-04T10:43:43.283Z"
   },
   {
    "duration": 2530,
    "start_time": "2023-07-04T10:43:43.298Z"
   },
   {
    "duration": 0,
    "start_time": "2023-07-04T10:43:45.830Z"
   },
   {
    "duration": 0,
    "start_time": "2023-07-04T10:43:45.832Z"
   },
   {
    "duration": 0,
    "start_time": "2023-07-04T10:43:45.833Z"
   },
   {
    "duration": 0,
    "start_time": "2023-07-04T10:43:45.835Z"
   },
   {
    "duration": 0,
    "start_time": "2023-07-04T10:43:45.837Z"
   },
   {
    "duration": 0,
    "start_time": "2023-07-04T10:43:45.838Z"
   },
   {
    "duration": 0,
    "start_time": "2023-07-04T10:43:45.840Z"
   },
   {
    "duration": 0,
    "start_time": "2023-07-04T10:43:45.841Z"
   },
   {
    "duration": 0,
    "start_time": "2023-07-04T10:43:45.842Z"
   },
   {
    "duration": 0,
    "start_time": "2023-07-04T10:43:45.844Z"
   },
   {
    "duration": 0,
    "start_time": "2023-07-04T10:43:45.845Z"
   },
   {
    "duration": 144076,
    "start_time": "2023-07-04T10:48:00.180Z"
   },
   {
    "duration": 36,
    "start_time": "2023-07-04T10:50:32.359Z"
   },
   {
    "duration": 136556,
    "start_time": "2023-07-04T10:52:46.345Z"
   },
   {
    "duration": 15,
    "start_time": "2023-07-04T10:56:14.395Z"
   },
   {
    "duration": 137079,
    "start_time": "2023-07-04T10:57:06.206Z"
   },
   {
    "duration": 14,
    "start_time": "2023-07-04T11:02:48.725Z"
   },
   {
    "duration": 135,
    "start_time": "2023-07-04T11:03:22.302Z"
   },
   {
    "duration": 42862,
    "start_time": "2023-07-04T11:03:30.834Z"
   },
   {
    "duration": 18,
    "start_time": "2023-07-04T11:04:24.634Z"
   },
   {
    "duration": 22679,
    "start_time": "2023-07-04T11:04:33.142Z"
   },
   {
    "duration": 20,
    "start_time": "2023-07-04T11:05:04.251Z"
   },
   {
    "duration": 20830,
    "start_time": "2023-07-04T11:05:26.190Z"
   },
   {
    "duration": 16,
    "start_time": "2023-07-04T11:05:47.022Z"
   },
   {
    "duration": 13,
    "start_time": "2023-07-04T11:07:43.151Z"
   },
   {
    "duration": 943,
    "start_time": "2023-07-04T11:07:43.170Z"
   },
   {
    "duration": 6,
    "start_time": "2023-07-04T11:07:44.115Z"
   },
   {
    "duration": 58,
    "start_time": "2023-07-04T11:07:44.124Z"
   },
   {
    "duration": 10,
    "start_time": "2023-07-04T11:07:44.185Z"
   },
   {
    "duration": 11,
    "start_time": "2023-07-04T11:07:44.197Z"
   },
   {
    "duration": 27,
    "start_time": "2023-07-04T11:07:44.210Z"
   },
   {
    "duration": 35,
    "start_time": "2023-07-04T11:07:44.260Z"
   },
   {
    "duration": 360,
    "start_time": "2023-07-04T11:07:44.298Z"
   },
   {
    "duration": 11,
    "start_time": "2023-07-04T11:07:44.665Z"
   },
   {
    "duration": 310,
    "start_time": "2023-07-04T11:07:44.679Z"
   },
   {
    "duration": 1996,
    "start_time": "2023-07-04T11:07:44.991Z"
   },
   {
    "duration": 61398,
    "start_time": "2023-07-04T11:07:46.991Z"
   },
   {
    "duration": 127920,
    "start_time": "2023-07-04T11:08:48.391Z"
   },
   {
    "duration": 11,
    "start_time": "2023-07-04T11:11:23.891Z"
   },
   {
    "duration": 7,
    "start_time": "2023-07-04T11:11:33.377Z"
   },
   {
    "duration": 92,
    "start_time": "2023-07-04T11:11:36.466Z"
   },
   {
    "duration": 36,
    "start_time": "2023-07-04T11:11:53.301Z"
   },
   {
    "duration": 6441,
    "start_time": "2023-07-04T11:11:58.108Z"
   },
   {
    "duration": 7,
    "start_time": "2023-07-04T11:12:34.269Z"
   },
   {
    "duration": 4,
    "start_time": "2023-07-04T11:12:42.219Z"
   },
   {
    "duration": 6276,
    "start_time": "2023-07-04T11:12:51.109Z"
   },
   {
    "duration": 300,
    "start_time": "2023-07-04T11:13:29.986Z"
   },
   {
    "duration": 42,
    "start_time": "2023-07-04T11:15:49.260Z"
   },
   {
    "duration": 78,
    "start_time": "2023-07-04T11:15:56.396Z"
   },
   {
    "duration": 33,
    "start_time": "2023-07-04T11:16:04.687Z"
   },
   {
    "duration": 9866,
    "start_time": "2023-07-04T11:16:11.573Z"
   },
   {
    "duration": 238,
    "start_time": "2023-07-04T11:17:10.699Z"
   },
   {
    "duration": 10583,
    "start_time": "2023-07-04T11:18:01.776Z"
   },
   {
    "duration": 8,
    "start_time": "2023-07-04T11:19:39.198Z"
   },
   {
    "duration": 4,
    "start_time": "2023-07-04T11:21:06.748Z"
   },
   {
    "duration": 7,
    "start_time": "2023-07-04T11:21:10.881Z"
   },
   {
    "duration": 6,
    "start_time": "2023-07-04T11:21:32.547Z"
   },
   {
    "duration": 43,
    "start_time": "2023-07-04T11:21:36.722Z"
   },
   {
    "duration": 26,
    "start_time": "2023-07-04T11:21:39.586Z"
   },
   {
    "duration": 32,
    "start_time": "2023-07-04T11:21:52.870Z"
   },
   {
    "duration": 9690,
    "start_time": "2023-07-04T11:41:59.513Z"
   },
   {
    "duration": 31431,
    "start_time": "2023-07-04T11:43:02.799Z"
   },
   {
    "duration": 33406,
    "start_time": "2023-07-04T11:43:34.233Z"
   },
   {
    "duration": 215,
    "start_time": "2023-07-04T11:46:48.007Z"
   },
   {
    "duration": 8543,
    "start_time": "2023-07-04T11:48:13.578Z"
   },
   {
    "duration": 10263,
    "start_time": "2023-07-04T11:49:08.908Z"
   },
   {
    "duration": 35980,
    "start_time": "2023-07-04T11:49:50.115Z"
   },
   {
    "duration": 34773,
    "start_time": "2023-07-04T11:50:26.102Z"
   },
   {
    "duration": 44,
    "start_time": "2023-07-04T12:00:33.291Z"
   },
   {
    "duration": 3605,
    "start_time": "2023-07-04T12:00:44.304Z"
   },
   {
    "duration": 4117,
    "start_time": "2023-07-04T12:02:12.335Z"
   },
   {
    "duration": 2549,
    "start_time": "2023-07-04T12:02:16.454Z"
   },
   {
    "duration": 8,
    "start_time": "2023-07-04T12:02:19.005Z"
   },
   {
    "duration": 48,
    "start_time": "2023-07-04T12:02:19.015Z"
   },
   {
    "duration": 9,
    "start_time": "2023-07-04T12:02:19.065Z"
   },
   {
    "duration": 24,
    "start_time": "2023-07-04T12:02:19.079Z"
   },
   {
    "duration": 28,
    "start_time": "2023-07-04T12:02:19.104Z"
   },
   {
    "duration": 27,
    "start_time": "2023-07-04T12:02:19.133Z"
   },
   {
    "duration": 282,
    "start_time": "2023-07-04T12:02:19.162Z"
   },
   {
    "duration": 7,
    "start_time": "2023-07-04T12:02:19.447Z"
   },
   {
    "duration": 275,
    "start_time": "2023-07-04T12:02:19.455Z"
   },
   {
    "duration": 1565,
    "start_time": "2023-07-04T12:02:19.732Z"
   },
   {
    "duration": 48979,
    "start_time": "2023-07-04T12:02:21.299Z"
   },
   {
    "duration": 104808,
    "start_time": "2023-07-04T12:03:10.280Z"
   },
   {
    "duration": 21,
    "start_time": "2023-07-04T12:04:55.090Z"
   },
   {
    "duration": 50,
    "start_time": "2023-07-04T12:04:55.114Z"
   },
   {
    "duration": 5676,
    "start_time": "2023-07-04T12:04:55.165Z"
   },
   {
    "duration": 6252,
    "start_time": "2023-07-04T12:05:00.843Z"
   },
   {
    "duration": 22163,
    "start_time": "2023-07-04T12:05:07.098Z"
   },
   {
    "duration": 23281,
    "start_time": "2023-07-04T12:05:29.263Z"
   },
   {
    "duration": 6897,
    "start_time": "2023-07-04T12:05:52.546Z"
   },
   {
    "duration": 6889,
    "start_time": "2023-07-04T12:05:59.445Z"
   },
   {
    "duration": 26808,
    "start_time": "2023-07-04T12:06:06.336Z"
   },
   {
    "duration": 27114,
    "start_time": "2023-07-04T12:06:33.146Z"
   },
   {
    "duration": 276,
    "start_time": "2023-07-04T12:07:00.262Z"
   },
   {
    "duration": 9,
    "start_time": "2023-07-04T12:07:00.540Z"
   },
   {
    "duration": 0,
    "start_time": "2023-07-04T12:07:00.551Z"
   },
   {
    "duration": 0,
    "start_time": "2023-07-04T12:07:00.552Z"
   },
   {
    "duration": 0,
    "start_time": "2023-07-04T12:07:00.553Z"
   },
   {
    "duration": 0,
    "start_time": "2023-07-04T12:07:00.554Z"
   },
   {
    "duration": 0,
    "start_time": "2023-07-04T12:07:00.556Z"
   },
   {
    "duration": 0,
    "start_time": "2023-07-04T12:07:00.557Z"
   },
   {
    "duration": 0,
    "start_time": "2023-07-04T12:07:00.558Z"
   },
   {
    "duration": 0,
    "start_time": "2023-07-04T12:07:00.560Z"
   },
   {
    "duration": 0,
    "start_time": "2023-07-04T12:07:00.561Z"
   },
   {
    "duration": 0,
    "start_time": "2023-07-04T12:07:00.562Z"
   },
   {
    "duration": 241,
    "start_time": "2023-07-04T12:35:31.711Z"
   },
   {
    "duration": 19,
    "start_time": "2023-07-04T12:35:35.803Z"
   },
   {
    "duration": 3,
    "start_time": "2023-07-04T12:35:52.925Z"
   },
   {
    "duration": 5,
    "start_time": "2023-07-04T12:36:18.141Z"
   },
   {
    "duration": 20,
    "start_time": "2023-07-04T12:36:30.202Z"
   },
   {
    "duration": 7,
    "start_time": "2023-07-04T12:36:53.742Z"
   },
   {
    "duration": 5,
    "start_time": "2023-07-04T12:37:00.054Z"
   },
   {
    "duration": 5,
    "start_time": "2023-07-04T12:37:19.328Z"
   },
   {
    "duration": 20,
    "start_time": "2023-07-04T12:38:01.501Z"
   },
   {
    "duration": 15,
    "start_time": "2023-07-04T12:38:16.495Z"
   },
   {
    "duration": 193,
    "start_time": "2023-07-04T12:38:26.398Z"
   },
   {
    "duration": 16,
    "start_time": "2023-07-04T12:38:35.312Z"
   },
   {
    "duration": 218,
    "start_time": "2023-07-04T12:38:41.768Z"
   },
   {
    "duration": 24,
    "start_time": "2023-07-04T12:38:48.006Z"
   },
   {
    "duration": 169,
    "start_time": "2023-07-04T12:38:52.524Z"
   },
   {
    "duration": 5,
    "start_time": "2023-07-04T12:38:54.332Z"
   },
   {
    "duration": 10,
    "start_time": "2023-07-04T12:39:13.339Z"
   },
   {
    "duration": 19,
    "start_time": "2023-07-04T12:39:19.899Z"
   },
   {
    "duration": 6,
    "start_time": "2023-07-04T12:42:01.634Z"
   },
   {
    "duration": 30,
    "start_time": "2023-07-04T12:42:09.040Z"
   },
   {
    "duration": 57,
    "start_time": "2023-07-04T12:42:16.707Z"
   },
   {
    "duration": 11087,
    "start_time": "2023-07-04T12:45:52.666Z"
   },
   {
    "duration": 2594,
    "start_time": "2023-07-04T12:46:03.755Z"
   },
   {
    "duration": 11,
    "start_time": "2023-07-04T12:46:06.351Z"
   },
   {
    "duration": 81,
    "start_time": "2023-07-04T12:46:06.365Z"
   },
   {
    "duration": 62,
    "start_time": "2023-07-04T12:46:06.449Z"
   },
   {
    "duration": 19,
    "start_time": "2023-07-04T12:46:06.513Z"
   },
   {
    "duration": 30,
    "start_time": "2023-07-04T12:46:06.534Z"
   },
   {
    "duration": 31,
    "start_time": "2023-07-04T12:46:06.565Z"
   },
   {
    "duration": 251,
    "start_time": "2023-07-04T12:46:06.597Z"
   },
   {
    "duration": 291,
    "start_time": "2023-07-04T12:46:06.851Z"
   },
   {
    "duration": 1597,
    "start_time": "2023-07-04T12:46:07.144Z"
   },
   {
    "duration": 53018,
    "start_time": "2023-07-04T12:46:08.743Z"
   },
   {
    "duration": 117890,
    "start_time": "2023-07-04T12:47:01.763Z"
   },
   {
    "duration": 10,
    "start_time": "2023-07-04T12:48:59.655Z"
   },
   {
    "duration": 54,
    "start_time": "2023-07-04T12:48:59.667Z"
   },
   {
    "duration": 5,
    "start_time": "2023-07-04T12:48:59.723Z"
   },
   {
    "duration": 10,
    "start_time": "2023-07-04T12:48:59.729Z"
   },
   {
    "duration": 93,
    "start_time": "2023-07-04T12:48:59.740Z"
   },
   {
    "duration": 4,
    "start_time": "2023-07-04T12:48:59.835Z"
   },
   {
    "duration": 7,
    "start_time": "2023-07-04T12:48:59.841Z"
   },
   {
    "duration": 49,
    "start_time": "2023-07-04T12:48:59.849Z"
   },
   {
    "duration": 4654,
    "start_time": "2023-07-04T12:48:59.905Z"
   },
   {
    "duration": 4885,
    "start_time": "2023-07-04T12:49:04.561Z"
   },
   {
    "duration": 18078,
    "start_time": "2023-07-04T12:49:09.448Z"
   },
   {
    "duration": 18883,
    "start_time": "2023-07-04T12:49:27.527Z"
   },
   {
    "duration": 5131,
    "start_time": "2023-07-04T12:49:46.412Z"
   },
   {
    "duration": 5847,
    "start_time": "2023-07-04T12:49:51.544Z"
   },
   {
    "duration": 20823,
    "start_time": "2023-07-04T12:49:57.395Z"
   },
   {
    "duration": 22211,
    "start_time": "2023-07-04T12:50:18.220Z"
   },
   {
    "duration": 252,
    "start_time": "2023-07-04T12:50:40.433Z"
   },
   {
    "duration": 19,
    "start_time": "2023-07-04T12:50:40.687Z"
   },
   {
    "duration": 0,
    "start_time": "2023-07-04T12:50:40.712Z"
   },
   {
    "duration": 0,
    "start_time": "2023-07-04T12:50:40.714Z"
   },
   {
    "duration": 0,
    "start_time": "2023-07-04T12:50:40.715Z"
   },
   {
    "duration": 0,
    "start_time": "2023-07-04T12:50:40.717Z"
   },
   {
    "duration": 0,
    "start_time": "2023-07-04T12:50:40.719Z"
   },
   {
    "duration": 0,
    "start_time": "2023-07-04T12:50:40.721Z"
   },
   {
    "duration": 0,
    "start_time": "2023-07-04T12:50:40.722Z"
   },
   {
    "duration": 0,
    "start_time": "2023-07-04T12:50:40.724Z"
   },
   {
    "duration": 0,
    "start_time": "2023-07-04T12:50:40.725Z"
   },
   {
    "duration": 0,
    "start_time": "2023-07-04T12:50:40.726Z"
   },
   {
    "duration": 0,
    "start_time": "2023-07-04T12:50:40.727Z"
   },
   {
    "duration": 52375,
    "start_time": "2023-07-04T12:52:06.241Z"
   },
   {
    "duration": 4,
    "start_time": "2023-07-04T12:52:58.618Z"
   },
   {
    "duration": 7,
    "start_time": "2023-07-04T12:52:58.623Z"
   },
   {
    "duration": 93434,
    "start_time": "2023-07-04T12:52:58.631Z"
   },
   {
    "duration": 62616,
    "start_time": "2023-07-04T12:54:32.074Z"
   },
   {
    "duration": 9,
    "start_time": "2023-07-04T12:55:34.693Z"
   },
   {
    "duration": 20,
    "start_time": "2023-07-04T12:55:34.703Z"
   },
   {
    "duration": 135771,
    "start_time": "2023-07-04T12:55:34.725Z"
   },
   {
    "duration": 3196,
    "start_time": "2023-07-04T12:57:50.498Z"
   },
   {
    "duration": 240036,
    "start_time": "2023-07-04T12:57:53.697Z"
   },
   {
    "duration": 8,
    "start_time": "2023-07-04T13:01:53.735Z"
   },
   {
    "duration": 20,
    "start_time": "2023-07-04T13:01:53.745Z"
   },
   {
    "duration": 462,
    "start_time": "2023-07-04T13:01:53.767Z"
   },
   {
    "duration": 250501,
    "start_time": "2023-07-04T13:04:09.535Z"
   },
   {
    "duration": 234465,
    "start_time": "2023-07-04T13:08:20.038Z"
   },
   {
    "duration": 469249,
    "start_time": "2023-07-04T13:12:14.505Z"
   },
   {
    "duration": 485793,
    "start_time": "2023-07-04T13:20:03.756Z"
   },
   {
    "duration": 54441,
    "start_time": "2023-07-04T13:28:09.552Z"
   },
   {
    "duration": 50526,
    "start_time": "2023-07-04T13:29:03.996Z"
   },
   {
    "duration": 89535,
    "start_time": "2023-07-04T13:29:54.524Z"
   },
   {
    "duration": 99623,
    "start_time": "2023-07-04T13:31:24.061Z"
   },
   {
    "duration": 5252,
    "start_time": "2023-07-04T14:02:29.110Z"
   },
   {
    "duration": 52310,
    "start_time": "2023-07-04T14:03:51.508Z"
   },
   {
    "duration": 8573,
    "start_time": "2023-07-04T14:05:39.289Z"
   },
   {
    "duration": 50406,
    "start_time": "2023-07-04T14:05:52.397Z"
   },
   {
    "duration": 85771,
    "start_time": "2023-07-04T14:06:42.805Z"
   },
   {
    "duration": 93833,
    "start_time": "2023-07-04T14:08:08.578Z"
   },
   {
    "duration": 4990,
    "start_time": "2023-07-04T14:10:45.834Z"
   },
   {
    "duration": 3441,
    "start_time": "2023-07-04T17:13:05.139Z"
   },
   {
    "duration": 320,
    "start_time": "2023-07-04T17:15:15.519Z"
   },
   {
    "duration": 234,
    "start_time": "2023-07-04T17:17:35.965Z"
   },
   {
    "duration": 3781,
    "start_time": "2023-07-04T17:22:16.338Z"
   },
   {
    "duration": 2567,
    "start_time": "2023-07-04T17:22:20.121Z"
   },
   {
    "duration": 9,
    "start_time": "2023-07-04T17:22:22.691Z"
   },
   {
    "duration": 61,
    "start_time": "2023-07-04T17:22:22.702Z"
   },
   {
    "duration": 20,
    "start_time": "2023-07-04T17:22:22.766Z"
   },
   {
    "duration": 23,
    "start_time": "2023-07-04T17:22:22.788Z"
   },
   {
    "duration": 36,
    "start_time": "2023-07-04T17:22:22.813Z"
   },
   {
    "duration": 39,
    "start_time": "2023-07-04T17:22:22.851Z"
   },
   {
    "duration": 259,
    "start_time": "2023-07-04T17:22:22.892Z"
   },
   {
    "duration": 313,
    "start_time": "2023-07-04T17:22:23.153Z"
   },
   {
    "duration": 1463,
    "start_time": "2023-07-04T17:22:23.468Z"
   },
   {
    "duration": 49632,
    "start_time": "2023-07-04T17:22:24.932Z"
   },
   {
    "duration": 116062,
    "start_time": "2023-07-04T17:23:14.566Z"
   },
   {
    "duration": 15,
    "start_time": "2023-07-04T17:25:10.632Z"
   },
   {
    "duration": 14,
    "start_time": "2023-07-04T17:25:10.649Z"
   },
   {
    "duration": 13,
    "start_time": "2023-07-04T17:25:10.665Z"
   },
   {
    "duration": 41,
    "start_time": "2023-07-04T17:25:10.681Z"
   },
   {
    "duration": 96,
    "start_time": "2023-07-04T17:25:10.726Z"
   },
   {
    "duration": 5,
    "start_time": "2023-07-04T17:25:10.824Z"
   },
   {
    "duration": 8,
    "start_time": "2023-07-04T17:25:10.830Z"
   },
   {
    "duration": 22569,
    "start_time": "2023-07-04T17:25:10.840Z"
   },
   {
    "duration": 6836,
    "start_time": "2023-07-04T17:25:33.414Z"
   },
   {
    "duration": 493892,
    "start_time": "2023-07-04T17:25:40.252Z"
   },
   {
    "duration": 30,
    "start_time": "2023-07-04T17:33:54.146Z"
   },
   {
    "duration": 54805,
    "start_time": "2023-07-04T17:33:54.178Z"
   },
   {
    "duration": 38,
    "start_time": "2023-07-04T17:34:48.985Z"
   },
   {
    "duration": 8,
    "start_time": "2023-07-04T18:04:12.562Z"
   },
   {
    "duration": 203,
    "start_time": "2023-07-04T18:39:42.023Z"
   },
   {
    "duration": 55,
    "start_time": "2023-07-04T18:41:18.501Z"
   },
   {
    "duration": 171,
    "start_time": "2023-07-04T18:41:29.968Z"
   },
   {
    "duration": 40,
    "start_time": "2023-07-04T18:41:52.211Z"
   },
   {
    "duration": 9,
    "start_time": "2023-07-04T18:43:57.839Z"
   },
   {
    "duration": 40,
    "start_time": "2023-07-04T18:44:04.706Z"
   },
   {
    "duration": 164,
    "start_time": "2023-07-04T18:44:52.673Z"
   },
   {
    "duration": 202,
    "start_time": "2023-07-04T18:46:59.416Z"
   },
   {
    "duration": 124,
    "start_time": "2023-07-04T18:47:34.556Z"
   },
   {
    "duration": 122,
    "start_time": "2023-07-04T18:48:31.869Z"
   },
   {
    "duration": 171,
    "start_time": "2023-07-04T18:49:25.895Z"
   },
   {
    "duration": 138,
    "start_time": "2023-07-04T18:51:16.940Z"
   },
   {
    "duration": 153,
    "start_time": "2023-07-04T18:52:13.019Z"
   },
   {
    "duration": 129,
    "start_time": "2023-07-04T18:53:41.517Z"
   },
   {
    "duration": 137,
    "start_time": "2023-07-04T18:54:13.346Z"
   },
   {
    "duration": 2397,
    "start_time": "2023-07-04T18:56:54.429Z"
   },
   {
    "duration": 103,
    "start_time": "2023-07-04T18:59:09.616Z"
   },
   {
    "duration": 148,
    "start_time": "2023-07-04T18:59:25.377Z"
   },
   {
    "duration": 101,
    "start_time": "2023-07-04T18:59:47.215Z"
   },
   {
    "duration": 100,
    "start_time": "2023-07-04T18:59:52.415Z"
   },
   {
    "duration": 134,
    "start_time": "2023-07-04T18:59:59.448Z"
   },
   {
    "duration": 47,
    "start_time": "2023-07-04T19:01:32.707Z"
   },
   {
    "duration": 46,
    "start_time": "2023-07-04T19:02:35.478Z"
   },
   {
    "duration": 80166,
    "start_time": "2023-07-04T19:04:25.950Z"
   },
   {
    "duration": 166,
    "start_time": "2023-07-04T19:05:52.165Z"
   },
   {
    "duration": 513833,
    "start_time": "2023-07-04T19:07:13.364Z"
   },
   {
    "duration": 18617,
    "start_time": "2023-07-04T19:16:04.847Z"
   },
   {
    "duration": 1097170,
    "start_time": "2023-07-04T19:17:03.236Z"
   },
   {
    "duration": 1017,
    "start_time": "2023-07-04T19:48:11.116Z"
   },
   {
    "duration": 4016,
    "start_time": "2023-07-04T19:59:58.749Z"
   },
   {
    "duration": 15692,
    "start_time": "2023-07-04T20:00:07.071Z"
   },
   {
    "duration": 15231,
    "start_time": "2023-07-04T20:06:03.966Z"
   },
   {
    "duration": 69,
    "start_time": "2023-07-04T20:06:19.199Z"
   },
   {
    "duration": 0,
    "start_time": "2023-07-04T20:06:19.270Z"
   },
   {
    "duration": 0,
    "start_time": "2023-07-04T20:06:19.272Z"
   },
   {
    "duration": 0,
    "start_time": "2023-07-04T20:06:19.274Z"
   },
   {
    "duration": 0,
    "start_time": "2023-07-04T20:06:19.275Z"
   },
   {
    "duration": 0,
    "start_time": "2023-07-04T20:06:19.276Z"
   },
   {
    "duration": 201779,
    "start_time": "2023-07-04T20:06:33.654Z"
   },
   {
    "duration": 300,
    "start_time": "2023-07-04T20:09:55.435Z"
   },
   {
    "duration": 0,
    "start_time": "2023-07-04T20:09:55.737Z"
   },
   {
    "duration": 0,
    "start_time": "2023-07-04T20:09:55.739Z"
   },
   {
    "duration": 0,
    "start_time": "2023-07-04T20:09:55.740Z"
   },
   {
    "duration": 0,
    "start_time": "2023-07-04T20:09:55.741Z"
   },
   {
    "duration": 0,
    "start_time": "2023-07-04T20:09:55.742Z"
   },
   {
    "duration": 218,
    "start_time": "2023-07-04T20:10:03.038Z"
   },
   {
    "duration": 552532,
    "start_time": "2023-07-04T20:17:30.340Z"
   },
   {
    "duration": 26,
    "start_time": "2023-07-04T20:26:43.003Z"
   },
   {
    "duration": 42042,
    "start_time": "2023-07-04T20:26:43.032Z"
   },
   {
    "duration": 1472283,
    "start_time": "2023-07-04T20:27:27.621Z"
   },
   {
    "duration": 1220,
    "start_time": "2023-07-04T20:51:59.907Z"
   },
   {
    "duration": 570,
    "start_time": "2023-07-05T04:02:44.767Z"
   },
   {
    "duration": 3848,
    "start_time": "2023-07-05T04:03:46.116Z"
   },
   {
    "duration": 2591,
    "start_time": "2023-07-05T04:03:49.967Z"
   },
   {
    "duration": 13,
    "start_time": "2023-07-05T04:03:52.560Z"
   },
   {
    "duration": 36,
    "start_time": "2023-07-05T04:03:52.575Z"
   },
   {
    "duration": 13,
    "start_time": "2023-07-05T04:03:52.614Z"
   },
   {
    "duration": 14,
    "start_time": "2023-07-05T04:03:52.644Z"
   },
   {
    "duration": 24,
    "start_time": "2023-07-05T04:03:52.660Z"
   },
   {
    "duration": 26,
    "start_time": "2023-07-05T04:03:52.686Z"
   },
   {
    "duration": 329,
    "start_time": "2023-07-05T04:03:52.715Z"
   },
   {
    "duration": 293,
    "start_time": "2023-07-05T04:03:53.046Z"
   },
   {
    "duration": 1720,
    "start_time": "2023-07-05T04:03:53.346Z"
   },
   {
    "duration": 53041,
    "start_time": "2023-07-05T04:03:55.068Z"
   },
   {
    "duration": 103696,
    "start_time": "2023-07-05T04:04:48.112Z"
   },
   {
    "duration": 8,
    "start_time": "2023-07-05T04:06:31.811Z"
   },
   {
    "duration": 32,
    "start_time": "2023-07-05T04:06:31.821Z"
   },
   {
    "duration": 20,
    "start_time": "2023-07-05T04:06:31.855Z"
   },
   {
    "duration": 40,
    "start_time": "2023-07-05T04:06:31.876Z"
   },
   {
    "duration": 81,
    "start_time": "2023-07-05T04:06:31.917Z"
   },
   {
    "duration": 4,
    "start_time": "2023-07-05T04:06:31.999Z"
   },
   {
    "duration": 28,
    "start_time": "2023-07-05T04:06:32.005Z"
   },
   {
    "duration": 3100803,
    "start_time": "2023-07-05T04:06:32.035Z"
   },
   {
    "duration": 963,
    "start_time": "2023-07-05T04:58:12.841Z"
   },
   {
    "duration": 201590,
    "start_time": "2023-07-05T04:58:13.806Z"
   },
   {
    "duration": 39,
    "start_time": "2023-07-05T05:01:35.398Z"
   },
   {
    "duration": 0,
    "start_time": "2023-07-05T05:01:35.439Z"
   },
   {
    "duration": 0,
    "start_time": "2023-07-05T05:01:35.441Z"
   },
   {
    "duration": 0,
    "start_time": "2023-07-05T05:01:35.442Z"
   },
   {
    "duration": 0,
    "start_time": "2023-07-05T05:01:35.443Z"
   },
   {
    "duration": 0,
    "start_time": "2023-07-05T05:01:35.445Z"
   },
   {
    "duration": 0,
    "start_time": "2023-07-05T05:01:35.446Z"
   },
   {
    "duration": 1,
    "start_time": "2023-07-05T05:01:35.447Z"
   },
   {
    "duration": 0,
    "start_time": "2023-07-05T05:01:35.449Z"
   },
   {
    "duration": 0,
    "start_time": "2023-07-05T05:01:35.449Z"
   },
   {
    "duration": 0,
    "start_time": "2023-07-05T05:01:35.450Z"
   },
   {
    "duration": 1788437,
    "start_time": "2023-07-05T05:02:06.102Z"
   },
   {
    "duration": 1130,
    "start_time": "2023-07-05T05:31:54.549Z"
   },
   {
    "duration": 3289,
    "start_time": "2023-07-05T12:25:07.862Z"
   },
   {
    "duration": 2459,
    "start_time": "2023-07-05T12:25:11.153Z"
   },
   {
    "duration": 9,
    "start_time": "2023-07-05T12:25:13.614Z"
   },
   {
    "duration": 45,
    "start_time": "2023-07-05T12:25:13.625Z"
   },
   {
    "duration": 11,
    "start_time": "2023-07-05T12:25:13.673Z"
   },
   {
    "duration": 14,
    "start_time": "2023-07-05T12:25:13.686Z"
   },
   {
    "duration": 30,
    "start_time": "2023-07-05T12:25:13.701Z"
   },
   {
    "duration": 40,
    "start_time": "2023-07-05T12:25:13.733Z"
   },
   {
    "duration": 258,
    "start_time": "2023-07-05T12:25:13.775Z"
   },
   {
    "duration": 285,
    "start_time": "2023-07-05T12:25:14.035Z"
   },
   {
    "duration": 1413,
    "start_time": "2023-07-05T12:25:14.322Z"
   },
   {
    "duration": 46755,
    "start_time": "2023-07-05T12:25:15.737Z"
   },
   {
    "duration": 104608,
    "start_time": "2023-07-05T12:26:02.495Z"
   },
   {
    "duration": 10,
    "start_time": "2023-07-05T12:27:47.106Z"
   },
   {
    "duration": 16,
    "start_time": "2023-07-05T12:27:47.118Z"
   },
   {
    "duration": 11,
    "start_time": "2023-07-05T12:27:47.136Z"
   },
   {
    "duration": 18,
    "start_time": "2023-07-05T12:27:47.149Z"
   },
   {
    "duration": 62,
    "start_time": "2023-07-05T12:27:47.168Z"
   },
   {
    "duration": 4,
    "start_time": "2023-07-05T12:27:47.232Z"
   },
   {
    "duration": 3096363,
    "start_time": "2023-07-05T12:49:49.023Z"
   },
   {
    "duration": 4522980,
    "start_time": "2023-07-05T13:41:25.391Z"
   },
   {
    "duration": 3,
    "start_time": "2023-07-05T14:56:48.376Z"
   },
   {
    "duration": 20,
    "start_time": "2023-07-05T14:56:48.381Z"
   },
   {
    "duration": 216200,
    "start_time": "2023-07-05T14:59:15.733Z"
   },
   {
    "duration": 200873,
    "start_time": "2023-07-05T15:02:51.936Z"
   },
   {
    "duration": 18,
    "start_time": "2023-07-05T15:06:12.812Z"
   },
   {
    "duration": 0,
    "start_time": "2023-07-05T15:06:12.832Z"
   },
   {
    "duration": 4,
    "start_time": "2023-07-05T15:10:03.231Z"
   },
   {
    "duration": 10,
    "start_time": "2023-07-05T15:10:09.481Z"
   },
   {
    "duration": 5262,
    "start_time": "2023-07-05T15:10:09.492Z"
   },
   {
    "duration": 49549,
    "start_time": "2023-07-05T15:11:40.575Z"
   },
   {
    "duration": 161918,
    "start_time": "2023-07-05T15:12:31.647Z"
   },
   {
    "duration": 193918,
    "start_time": "2023-07-05T15:17:05.243Z"
   },
   {
    "duration": 222239,
    "start_time": "2023-07-05T15:20:19.164Z"
   },
   {
    "duration": 3561,
    "start_time": "2023-07-05T15:26:41.444Z"
   },
   {
    "duration": 2206,
    "start_time": "2023-07-05T15:26:45.007Z"
   },
   {
    "duration": 8,
    "start_time": "2023-07-05T15:26:47.215Z"
   },
   {
    "duration": 45,
    "start_time": "2023-07-05T15:26:47.225Z"
   },
   {
    "duration": 10,
    "start_time": "2023-07-05T15:26:47.272Z"
   },
   {
    "duration": 18,
    "start_time": "2023-07-05T15:26:47.284Z"
   },
   {
    "duration": 40,
    "start_time": "2023-07-05T15:26:47.304Z"
   },
   {
    "duration": 31,
    "start_time": "2023-07-05T15:26:47.346Z"
   },
   {
    "duration": 251,
    "start_time": "2023-07-05T15:26:47.378Z"
   },
   {
    "duration": 276,
    "start_time": "2023-07-05T15:26:47.630Z"
   },
   {
    "duration": 1411,
    "start_time": "2023-07-05T15:26:47.908Z"
   },
   {
    "duration": 44433,
    "start_time": "2023-07-05T15:26:49.320Z"
   },
   {
    "duration": 103280,
    "start_time": "2023-07-05T15:27:33.755Z"
   },
   {
    "duration": 15,
    "start_time": "2023-07-05T15:29:17.037Z"
   },
   {
    "duration": 3,
    "start_time": "2023-07-05T15:29:17.053Z"
   },
   {
    "duration": 9,
    "start_time": "2023-07-05T15:29:17.058Z"
   },
   {
    "duration": 14,
    "start_time": "2023-07-05T15:29:17.068Z"
   },
   {
    "duration": 70,
    "start_time": "2023-07-05T15:29:17.084Z"
   },
   {
    "duration": 5,
    "start_time": "2023-07-05T15:29:17.155Z"
   },
   {
    "duration": 7,
    "start_time": "2023-07-05T15:29:17.161Z"
   },
   {
    "duration": 1409282,
    "start_time": "2023-07-05T15:29:17.169Z"
   },
   {
    "duration": 3,
    "start_time": "2023-07-05T15:52:46.453Z"
   },
   {
    "duration": 4335511,
    "start_time": "2023-07-05T15:52:46.457Z"
   },
   {
    "duration": 9,
    "start_time": "2023-07-05T17:05:02.051Z"
   },
   {
    "duration": 238983,
    "start_time": "2023-07-05T17:05:02.065Z"
   },
   {
    "duration": 210781,
    "start_time": "2023-07-05T17:09:01.057Z"
   },
   {
    "duration": 207,
    "start_time": "2023-07-05T17:12:31.840Z"
   },
   {
    "duration": 0,
    "start_time": "2023-07-05T17:12:32.049Z"
   },
   {
    "duration": 52,
    "start_time": "2023-07-05T19:06:17.925Z"
   },
   {
    "duration": 3707,
    "start_time": "2023-07-05T19:06:26.401Z"
   },
   {
    "duration": 3909,
    "start_time": "2023-07-05T19:06:30.110Z"
   },
   {
    "duration": 12,
    "start_time": "2023-07-05T19:06:34.022Z"
   },
   {
    "duration": 56,
    "start_time": "2023-07-05T19:06:34.036Z"
   },
   {
    "duration": 14,
    "start_time": "2023-07-05T19:06:34.095Z"
   },
   {
    "duration": 25,
    "start_time": "2023-07-05T19:06:34.111Z"
   },
   {
    "duration": 42,
    "start_time": "2023-07-05T19:06:34.139Z"
   },
   {
    "duration": 39,
    "start_time": "2023-07-05T19:06:34.183Z"
   },
   {
    "duration": 282,
    "start_time": "2023-07-05T19:06:34.226Z"
   },
   {
    "duration": 300,
    "start_time": "2023-07-05T19:06:34.510Z"
   },
   {
    "duration": 1440,
    "start_time": "2023-07-05T19:06:34.812Z"
   },
   {
    "duration": 50860,
    "start_time": "2023-07-05T19:06:36.256Z"
   },
   {
    "duration": 116302,
    "start_time": "2023-07-05T19:07:27.117Z"
   },
   {
    "duration": 12,
    "start_time": "2023-07-05T19:09:23.422Z"
   },
   {
    "duration": 8,
    "start_time": "2023-07-05T19:09:23.436Z"
   },
   {
    "duration": 21,
    "start_time": "2023-07-05T19:09:23.446Z"
   },
   {
    "duration": 18,
    "start_time": "2023-07-05T19:09:23.469Z"
   },
   {
    "duration": 118,
    "start_time": "2023-07-05T19:09:23.489Z"
   },
   {
    "duration": 6,
    "start_time": "2023-07-05T19:09:23.608Z"
   },
   {
    "duration": 7,
    "start_time": "2023-07-05T19:09:23.616Z"
   },
   {
    "duration": 4,
    "start_time": "2023-07-05T19:09:23.625Z"
   },
   {
    "duration": 1549958,
    "start_time": "2023-07-05T19:09:23.631Z"
   },
   {
    "duration": 4186279,
    "start_time": "2023-07-05T19:35:13.591Z"
   },
   {
    "duration": 3,
    "start_time": "2023-07-05T20:44:59.872Z"
   },
   {
    "duration": 215733,
    "start_time": "2023-07-05T20:44:59.877Z"
   },
   {
    "duration": 187701,
    "start_time": "2023-07-05T20:48:35.612Z"
   },
   {
    "duration": 172,
    "start_time": "2023-07-05T20:51:43.315Z"
   },
   {
    "duration": 0,
    "start_time": "2023-07-05T20:51:43.489Z"
   },
   {
    "duration": 4,
    "start_time": "2023-07-05T20:55:08.085Z"
   },
   {
    "duration": 5,
    "start_time": "2023-07-05T20:55:30.373Z"
   },
   {
    "duration": 12,
    "start_time": "2023-07-05T20:56:39.148Z"
   },
   {
    "duration": 12,
    "start_time": "2023-07-05T20:56:48.332Z"
   },
   {
    "duration": 2,
    "start_time": "2023-07-05T20:57:05.572Z"
   },
   {
    "duration": 4,
    "start_time": "2023-07-05T20:57:15.436Z"
   },
   {
    "duration": 16,
    "start_time": "2023-07-05T20:57:31.697Z"
   },
   {
    "duration": 2,
    "start_time": "2023-07-05T20:58:01.020Z"
   },
   {
    "duration": 4,
    "start_time": "2023-07-05T20:58:05.500Z"
   },
   {
    "duration": 9,
    "start_time": "2023-07-05T20:58:07.908Z"
   },
   {
    "duration": 9,
    "start_time": "2023-07-05T20:58:40.705Z"
   },
   {
    "duration": 148358,
    "start_time": "2023-07-05T20:58:40.716Z"
   },
   {
    "duration": 55,
    "start_time": "2023-07-06T12:48:49.894Z"
   },
   {
    "duration": 1893,
    "start_time": "2023-07-06T12:49:01.682Z"
   },
   {
    "duration": 2606,
    "start_time": "2023-07-06T12:49:03.578Z"
   },
   {
    "duration": 4,
    "start_time": "2023-07-06T12:49:06.185Z"
   },
   {
    "duration": 39,
    "start_time": "2023-07-06T12:49:06.191Z"
   },
   {
    "duration": 25,
    "start_time": "2023-07-06T12:49:06.232Z"
   },
   {
    "duration": 9,
    "start_time": "2023-07-06T12:49:06.259Z"
   },
   {
    "duration": 27,
    "start_time": "2023-07-06T12:49:06.270Z"
   },
   {
    "duration": 25,
    "start_time": "2023-07-06T12:49:06.298Z"
   },
   {
    "duration": 243,
    "start_time": "2023-07-06T12:49:06.324Z"
   },
   {
    "duration": 7,
    "start_time": "2023-07-06T12:49:06.569Z"
   },
   {
    "duration": 7,
    "start_time": "2023-07-06T12:51:12.061Z"
   },
   {
    "duration": 7,
    "start_time": "2023-07-06T12:51:24.886Z"
   },
   {
    "duration": 930,
    "start_time": "2023-07-06T12:51:24.895Z"
   },
   {
    "duration": 7,
    "start_time": "2023-07-06T12:51:25.827Z"
   },
   {
    "duration": 61,
    "start_time": "2023-07-06T12:51:25.836Z"
   },
   {
    "duration": 6,
    "start_time": "2023-07-06T12:51:25.899Z"
   },
   {
    "duration": 8,
    "start_time": "2023-07-06T12:51:25.907Z"
   },
   {
    "duration": 45,
    "start_time": "2023-07-06T12:51:25.917Z"
   },
   {
    "duration": 28,
    "start_time": "2023-07-06T12:51:25.964Z"
   },
   {
    "duration": 225,
    "start_time": "2023-07-06T12:51:25.993Z"
   },
   {
    "duration": 18,
    "start_time": "2023-07-06T12:51:26.219Z"
   },
   {
    "duration": 295,
    "start_time": "2023-07-06T12:51:26.243Z"
   },
   {
    "duration": 1637,
    "start_time": "2023-07-06T12:51:26.542Z"
   },
   {
    "duration": 54947,
    "start_time": "2023-07-06T12:51:28.181Z"
   },
   {
    "duration": 116642,
    "start_time": "2023-07-06T12:52:23.133Z"
   },
   {
    "duration": 10,
    "start_time": "2023-07-06T12:54:19.777Z"
   },
   {
    "duration": 9,
    "start_time": "2023-07-06T12:54:19.789Z"
   },
   {
    "duration": 65,
    "start_time": "2023-07-06T12:54:19.800Z"
   },
   {
    "duration": 3,
    "start_time": "2023-07-06T12:55:24.993Z"
   },
   {
    "duration": 3,
    "start_time": "2023-07-06T13:01:08.197Z"
   },
   {
    "duration": 3,
    "start_time": "2023-07-06T13:01:19.516Z"
   },
   {
    "duration": 4,
    "start_time": "2023-07-06T13:04:36.377Z"
   },
   {
    "duration": 4,
    "start_time": "2023-07-06T13:04:38.482Z"
   },
   {
    "duration": 3,
    "start_time": "2023-07-06T13:04:53.818Z"
   },
   {
    "duration": 4,
    "start_time": "2023-07-06T13:05:00.274Z"
   },
   {
    "duration": 3,
    "start_time": "2023-07-06T13:05:03.489Z"
   },
   {
    "duration": 4,
    "start_time": "2023-07-06T13:05:05.073Z"
   },
   {
    "duration": 1650,
    "start_time": "2023-07-06T17:39:43.101Z"
   },
   {
    "duration": 2440,
    "start_time": "2023-07-06T17:39:44.753Z"
   },
   {
    "duration": 5,
    "start_time": "2023-07-06T17:39:47.194Z"
   },
   {
    "duration": 36,
    "start_time": "2023-07-06T17:39:47.200Z"
   },
   {
    "duration": 13,
    "start_time": "2023-07-06T17:39:47.238Z"
   },
   {
    "duration": 8,
    "start_time": "2023-07-06T17:39:47.253Z"
   },
   {
    "duration": 31,
    "start_time": "2023-07-06T17:39:47.263Z"
   },
   {
    "duration": 29,
    "start_time": "2023-07-06T17:39:47.296Z"
   },
   {
    "duration": 257,
    "start_time": "2023-07-06T17:39:47.327Z"
   },
   {
    "duration": 8,
    "start_time": "2023-07-06T17:39:47.586Z"
   },
   {
    "duration": 273,
    "start_time": "2023-07-06T17:39:47.596Z"
   },
   {
    "duration": 1395,
    "start_time": "2023-07-06T17:39:47.871Z"
   },
   {
    "duration": 21261,
    "start_time": "2023-07-06T17:39:49.268Z"
   },
   {
    "duration": 2589,
    "start_time": "2023-07-06T17:40:10.531Z"
   },
   {
    "duration": 3,
    "start_time": "2023-07-06T17:40:13.122Z"
   },
   {
    "duration": 45512,
    "start_time": "2023-07-06T17:40:26.745Z"
   },
   {
    "duration": 5,
    "start_time": "2023-07-06T17:41:12.259Z"
   },
   {
    "duration": 5,
    "start_time": "2023-07-06T17:46:41.138Z"
   },
   {
    "duration": 3,
    "start_time": "2023-07-06T17:46:45.843Z"
   },
   {
    "duration": 8,
    "start_time": "2023-07-06T17:46:47.652Z"
   },
   {
    "duration": 46,
    "start_time": "2023-07-06T17:46:50.930Z"
   },
   {
    "duration": 7,
    "start_time": "2023-07-06T17:47:04.367Z"
   },
   {
    "duration": 28,
    "start_time": "2023-07-06T17:47:13.346Z"
   },
   {
    "duration": 698,
    "start_time": "2023-07-06T17:48:02.532Z"
   },
   {
    "duration": 4,
    "start_time": "2023-07-06T17:48:11.364Z"
   },
   {
    "duration": 139,
    "start_time": "2023-07-06T17:48:13.401Z"
   },
   {
    "duration": 18,
    "start_time": "2023-07-06T17:49:29.361Z"
   },
   {
    "duration": 7,
    "start_time": "2023-07-06T17:49:50.796Z"
   },
   {
    "duration": 5,
    "start_time": "2023-07-06T17:49:58.205Z"
   },
   {
    "duration": 1323,
    "start_time": "2023-07-06T17:50:00.219Z"
   },
   {
    "duration": 695908,
    "start_time": "2023-07-06T17:56:01.162Z"
   },
   {
    "duration": 5,
    "start_time": "2023-07-06T18:08:03.548Z"
   },
   {
    "duration": 15,
    "start_time": "2023-07-06T18:08:23.405Z"
   },
   {
    "duration": 2,
    "start_time": "2023-07-06T18:10:34.003Z"
   },
   {
    "duration": 13,
    "start_time": "2023-07-06T18:10:39.155Z"
   },
   {
    "duration": 4,
    "start_time": "2023-07-06T18:10:43.400Z"
   },
   {
    "duration": 14,
    "start_time": "2023-07-06T18:10:45.705Z"
   },
   {
    "duration": 8,
    "start_time": "2023-07-06T18:11:14.308Z"
   },
   {
    "duration": 6,
    "start_time": "2023-07-06T18:11:24.085Z"
   },
   {
    "duration": 5,
    "start_time": "2023-07-06T18:11:26.005Z"
   },
   {
    "duration": 6,
    "start_time": "2023-07-06T18:11:55.150Z"
   },
   {
    "duration": 5,
    "start_time": "2023-07-06T18:12:05.307Z"
   },
   {
    "duration": 4,
    "start_time": "2023-07-06T18:13:15.418Z"
   },
   {
    "duration": 5,
    "start_time": "2023-07-06T18:13:18.839Z"
   },
   {
    "duration": 6,
    "start_time": "2023-07-06T18:13:21.492Z"
   },
   {
    "duration": 5,
    "start_time": "2023-07-06T18:13:45.337Z"
   },
   {
    "duration": 7,
    "start_time": "2023-07-06T18:13:47.650Z"
   },
   {
    "duration": 3,
    "start_time": "2023-07-06T18:14:26.960Z"
   },
   {
    "duration": 6,
    "start_time": "2023-07-06T18:14:45.705Z"
   },
   {
    "duration": 5,
    "start_time": "2023-07-06T18:14:47.599Z"
   },
   {
    "duration": 9,
    "start_time": "2023-07-06T18:15:20.220Z"
   },
   {
    "duration": 406348,
    "start_time": "2023-07-06T18:15:58.394Z"
   },
   {
    "duration": 11,
    "start_time": "2023-07-06T18:22:44.751Z"
   },
   {
    "duration": 0,
    "start_time": "2023-07-06T18:22:44.764Z"
   },
   {
    "duration": 10,
    "start_time": "2023-07-06T18:23:04.557Z"
   },
   {
    "duration": 11,
    "start_time": "2023-07-06T18:23:16.604Z"
   },
   {
    "duration": 48,
    "start_time": "2023-07-06T18:23:32.893Z"
   },
   {
    "duration": 2482,
    "start_time": "2023-07-06T18:24:06.096Z"
   },
   {
    "duration": 309,
    "start_time": "2023-07-06T18:24:16.005Z"
   },
   {
    "duration": 4,
    "start_time": "2023-07-06T18:25:35.165Z"
   },
   {
    "duration": 835,
    "start_time": "2023-07-06T18:25:37.167Z"
   },
   {
    "duration": 523,
    "start_time": "2023-07-06T18:25:55.549Z"
   },
   {
    "duration": 3,
    "start_time": "2023-07-06T18:26:07.812Z"
   },
   {
    "duration": 483,
    "start_time": "2023-07-06T18:26:15.093Z"
   },
   {
    "duration": 2,
    "start_time": "2023-07-06T18:26:27.895Z"
   },
   {
    "duration": 8,
    "start_time": "2023-07-06T18:26:31.965Z"
   },
   {
    "duration": 494,
    "start_time": "2023-07-06T18:26:35.308Z"
   },
   {
    "duration": 486247,
    "start_time": "2023-07-06T18:27:10.692Z"
   },
   {
    "duration": 0,
    "start_time": "2023-07-06T18:35:16.940Z"
   },
   {
    "duration": 13,
    "start_time": "2023-07-06T18:35:25.735Z"
   },
   {
    "duration": 11,
    "start_time": "2023-07-06T18:35:50.344Z"
   },
   {
    "duration": 2368,
    "start_time": "2023-07-06T18:35:57.505Z"
   },
   {
    "duration": 6,
    "start_time": "2023-07-06T18:36:46.200Z"
   },
   {
    "duration": 3,
    "start_time": "2023-07-06T18:37:03.816Z"
   },
   {
    "duration": 3,
    "start_time": "2023-07-06T18:38:27.997Z"
   },
   {
    "duration": 8,
    "start_time": "2023-07-06T18:38:29.652Z"
   },
   {
    "duration": 62,
    "start_time": "2023-07-06T18:38:32.001Z"
   },
   {
    "duration": 4,
    "start_time": "2023-07-06T18:38:36.351Z"
   },
   {
    "duration": 4,
    "start_time": "2023-07-06T18:38:39.631Z"
   },
   {
    "duration": 281878,
    "start_time": "2023-07-06T18:43:36.541Z"
   },
   {
    "duration": 4359,
    "start_time": "2023-07-06T18:49:00.472Z"
   },
   {
    "duration": 809,
    "start_time": "2023-07-06T18:49:04.833Z"
   },
   {
    "duration": 10,
    "start_time": "2023-07-06T18:49:05.656Z"
   },
   {
    "duration": 54,
    "start_time": "2023-07-06T18:49:05.668Z"
   },
   {
    "duration": 20,
    "start_time": "2023-07-06T18:49:05.724Z"
   },
   {
    "duration": 24,
    "start_time": "2023-07-06T18:49:05.746Z"
   },
   {
    "duration": 32,
    "start_time": "2023-07-06T18:49:05.772Z"
   },
   {
    "duration": 30,
    "start_time": "2023-07-06T18:49:05.806Z"
   },
   {
    "duration": 247,
    "start_time": "2023-07-06T18:49:05.837Z"
   },
   {
    "duration": 7,
    "start_time": "2023-07-06T18:49:06.086Z"
   },
   {
    "duration": 286,
    "start_time": "2023-07-06T18:49:06.095Z"
   },
   {
    "duration": 1402,
    "start_time": "2023-07-06T18:49:06.383Z"
   },
   {
    "duration": 47023,
    "start_time": "2023-07-06T18:49:07.787Z"
   },
   {
    "duration": 4,
    "start_time": "2023-07-06T18:49:54.812Z"
   },
   {
    "duration": 78201,
    "start_time": "2023-07-06T18:49:54.818Z"
   },
   {
    "duration": 0,
    "start_time": "2023-07-06T18:51:13.021Z"
   },
   {
    "duration": 0,
    "start_time": "2023-07-06T18:51:13.023Z"
   },
   {
    "duration": 0,
    "start_time": "2023-07-06T18:51:13.023Z"
   },
   {
    "duration": 0,
    "start_time": "2023-07-06T18:51:13.024Z"
   },
   {
    "duration": 0,
    "start_time": "2023-07-06T18:51:13.026Z"
   },
   {
    "duration": 0,
    "start_time": "2023-07-06T18:51:13.027Z"
   },
   {
    "duration": 0,
    "start_time": "2023-07-06T18:51:13.027Z"
   },
   {
    "duration": 0,
    "start_time": "2023-07-06T18:51:13.028Z"
   },
   {
    "duration": 0,
    "start_time": "2023-07-06T18:51:13.029Z"
   },
   {
    "duration": 0,
    "start_time": "2023-07-06T18:51:13.030Z"
   },
   {
    "duration": 0,
    "start_time": "2023-07-06T18:51:13.031Z"
   },
   {
    "duration": 0,
    "start_time": "2023-07-06T18:51:13.032Z"
   },
   {
    "duration": 0,
    "start_time": "2023-07-06T18:51:13.033Z"
   },
   {
    "duration": 0,
    "start_time": "2023-07-06T18:51:13.034Z"
   },
   {
    "duration": 0,
    "start_time": "2023-07-06T18:51:13.035Z"
   },
   {
    "duration": 0,
    "start_time": "2023-07-06T18:51:13.036Z"
   },
   {
    "duration": 0,
    "start_time": "2023-07-06T18:51:13.037Z"
   },
   {
    "duration": 4483,
    "start_time": "2023-07-06T18:51:21.187Z"
   },
   {
    "duration": 796,
    "start_time": "2023-07-06T18:51:25.672Z"
   },
   {
    "duration": 4,
    "start_time": "2023-07-06T18:51:26.472Z"
   },
   {
    "duration": 43,
    "start_time": "2023-07-06T18:51:26.478Z"
   },
   {
    "duration": 11,
    "start_time": "2023-07-06T18:51:26.522Z"
   },
   {
    "duration": 16,
    "start_time": "2023-07-06T18:51:26.552Z"
   },
   {
    "duration": 26,
    "start_time": "2023-07-06T18:51:26.569Z"
   },
   {
    "duration": 31,
    "start_time": "2023-07-06T18:51:26.597Z"
   },
   {
    "duration": 265,
    "start_time": "2023-07-06T18:51:26.630Z"
   },
   {
    "duration": 11,
    "start_time": "2023-07-06T18:51:26.898Z"
   },
   {
    "duration": 296,
    "start_time": "2023-07-06T18:51:26.910Z"
   },
   {
    "duration": 1462,
    "start_time": "2023-07-06T18:51:27.208Z"
   },
   {
    "duration": 46547,
    "start_time": "2023-07-06T18:51:28.674Z"
   },
   {
    "duration": 5,
    "start_time": "2023-07-06T18:52:15.223Z"
   },
   {
    "duration": 38342,
    "start_time": "2023-07-06T18:52:15.230Z"
   },
   {
    "duration": 1,
    "start_time": "2023-07-06T18:52:53.574Z"
   },
   {
    "duration": 0,
    "start_time": "2023-07-06T18:52:53.576Z"
   },
   {
    "duration": 0,
    "start_time": "2023-07-06T18:52:53.577Z"
   },
   {
    "duration": 0,
    "start_time": "2023-07-06T18:52:53.586Z"
   },
   {
    "duration": 0,
    "start_time": "2023-07-06T18:52:53.590Z"
   },
   {
    "duration": 0,
    "start_time": "2023-07-06T18:52:53.591Z"
   },
   {
    "duration": 0,
    "start_time": "2023-07-06T18:52:53.593Z"
   },
   {
    "duration": 0,
    "start_time": "2023-07-06T18:52:53.594Z"
   },
   {
    "duration": 0,
    "start_time": "2023-07-06T18:52:53.595Z"
   },
   {
    "duration": 0,
    "start_time": "2023-07-06T18:52:53.597Z"
   },
   {
    "duration": 0,
    "start_time": "2023-07-06T18:52:53.598Z"
   },
   {
    "duration": 0,
    "start_time": "2023-07-06T18:52:53.599Z"
   },
   {
    "duration": 0,
    "start_time": "2023-07-06T18:52:53.600Z"
   },
   {
    "duration": 0,
    "start_time": "2023-07-06T18:52:53.602Z"
   },
   {
    "duration": 0,
    "start_time": "2023-07-06T18:52:53.604Z"
   },
   {
    "duration": 0,
    "start_time": "2023-07-06T18:52:53.606Z"
   },
   {
    "duration": 0,
    "start_time": "2023-07-06T18:52:53.607Z"
   },
   {
    "duration": 1623,
    "start_time": "2023-07-06T18:53:07.290Z"
   },
   {
    "duration": 834,
    "start_time": "2023-07-06T18:53:08.915Z"
   },
   {
    "duration": 4,
    "start_time": "2023-07-06T18:53:09.750Z"
   },
   {
    "duration": 34,
    "start_time": "2023-07-06T18:53:09.756Z"
   },
   {
    "duration": 8,
    "start_time": "2023-07-06T18:53:09.792Z"
   },
   {
    "duration": 7,
    "start_time": "2023-07-06T18:53:09.801Z"
   },
   {
    "duration": 24,
    "start_time": "2023-07-06T18:53:09.809Z"
   },
   {
    "duration": 30,
    "start_time": "2023-07-06T18:53:09.852Z"
   },
   {
    "duration": 245,
    "start_time": "2023-07-06T18:53:09.884Z"
   },
   {
    "duration": 7,
    "start_time": "2023-07-06T18:53:10.133Z"
   },
   {
    "duration": 268,
    "start_time": "2023-07-06T18:53:10.151Z"
   },
   {
    "duration": 1264,
    "start_time": "2023-07-06T18:53:10.421Z"
   },
   {
    "duration": 43449,
    "start_time": "2023-07-06T18:53:11.687Z"
   },
   {
    "duration": 4,
    "start_time": "2023-07-06T18:53:55.137Z"
   },
   {
    "duration": 703312,
    "start_time": "2023-07-06T18:53:55.143Z"
   },
   {
    "duration": 4,
    "start_time": "2023-07-06T19:05:38.457Z"
   },
   {
    "duration": 358635,
    "start_time": "2023-07-06T19:05:38.463Z"
   },
   {
    "duration": 10,
    "start_time": "2023-07-06T19:11:37.100Z"
   },
   {
    "duration": 12,
    "start_time": "2023-07-06T19:11:37.112Z"
   },
   {
    "duration": 4,
    "start_time": "2023-07-06T19:11:37.126Z"
   },
   {
    "duration": 23,
    "start_time": "2023-07-06T19:11:37.131Z"
   },
   {
    "duration": 10,
    "start_time": "2023-07-06T19:11:37.156Z"
   },
   {
    "duration": 63,
    "start_time": "2023-07-06T19:11:37.167Z"
   },
   {
    "duration": 4,
    "start_time": "2023-07-06T19:11:37.232Z"
   },
   {
    "duration": 4,
    "start_time": "2023-07-06T19:11:37.251Z"
   },
   {
    "duration": 4,
    "start_time": "2023-07-06T19:11:37.257Z"
   },
   {
    "duration": 611100,
    "start_time": "2023-07-06T19:11:37.262Z"
   },
   {
    "duration": 2484081,
    "start_time": "2023-07-06T19:21:48.372Z"
   },
   {
    "duration": 55457,
    "start_time": "2023-07-06T20:03:12.455Z"
   },
   {
    "duration": 42197,
    "start_time": "2023-07-06T20:04:07.914Z"
   },
   {
    "duration": 10,
    "start_time": "2023-07-06T20:04:50.113Z"
   },
   {
    "duration": 283,
    "start_time": "2023-07-06T20:04:50.124Z"
   },
   {
    "duration": 626,
    "start_time": "2023-07-06T20:38:09.703Z"
   },
   {
    "duration": 7,
    "start_time": "2023-07-06T20:45:16.219Z"
   },
   {
    "duration": 431,
    "start_time": "2023-07-06T20:50:06.465Z"
   },
   {
    "duration": 4,
    "start_time": "2023-07-06T20:50:29.225Z"
   },
   {
    "duration": 9,
    "start_time": "2023-07-06T20:54:32.743Z"
   },
   {
    "duration": 600,
    "start_time": "2023-07-06T20:58:27.851Z"
   },
   {
    "duration": 518,
    "start_time": "2023-07-06T21:04:33.835Z"
   },
   {
    "duration": 588,
    "start_time": "2023-07-06T21:05:18.459Z"
   },
   {
    "duration": 20,
    "start_time": "2023-07-06T21:07:18.338Z"
   },
   {
    "duration": 4,
    "start_time": "2023-07-06T21:07:48.041Z"
   },
   {
    "duration": 478,
    "start_time": "2023-07-06T21:08:27.449Z"
   },
   {
    "duration": 2092,
    "start_time": "2023-07-10T20:17:42.725Z"
   },
   {
    "duration": 3353,
    "start_time": "2023-07-10T20:17:44.819Z"
   },
   {
    "duration": 4,
    "start_time": "2023-07-10T20:17:48.174Z"
   },
   {
    "duration": 34,
    "start_time": "2023-07-10T20:17:48.179Z"
   },
   {
    "duration": 9,
    "start_time": "2023-07-10T20:17:48.216Z"
   },
   {
    "duration": 15,
    "start_time": "2023-07-10T20:17:48.227Z"
   },
   {
    "duration": 29,
    "start_time": "2023-07-10T20:17:48.256Z"
   },
   {
    "duration": 29,
    "start_time": "2023-07-10T20:17:48.287Z"
   },
   {
    "duration": 253,
    "start_time": "2023-07-10T20:17:48.318Z"
   },
   {
    "duration": 7,
    "start_time": "2023-07-10T20:17:48.573Z"
   },
   {
    "duration": 267,
    "start_time": "2023-07-10T20:17:48.582Z"
   },
   {
    "duration": 1314,
    "start_time": "2023-07-10T20:17:48.851Z"
   },
   {
    "duration": 43239,
    "start_time": "2023-07-10T20:17:50.167Z"
   },
   {
    "duration": 4,
    "start_time": "2023-07-10T20:18:33.408Z"
   },
   {
    "duration": 690942,
    "start_time": "2023-07-10T20:18:33.414Z"
   },
   {
    "duration": 4,
    "start_time": "2023-07-10T20:30:04.358Z"
   },
   {
    "duration": 348293,
    "start_time": "2023-07-10T20:30:04.364Z"
   },
   {
    "duration": 10,
    "start_time": "2023-07-10T20:35:52.658Z"
   },
   {
    "duration": 14,
    "start_time": "2023-07-10T20:35:52.670Z"
   },
   {
    "duration": 6,
    "start_time": "2023-07-10T20:35:52.685Z"
   },
   {
    "duration": 14,
    "start_time": "2023-07-10T20:35:52.692Z"
   },
   {
    "duration": 8,
    "start_time": "2023-07-10T20:35:52.708Z"
   },
   {
    "duration": 72,
    "start_time": "2023-07-10T20:35:52.718Z"
   },
   {
    "duration": 4,
    "start_time": "2023-07-10T20:35:52.792Z"
   },
   {
    "duration": 15,
    "start_time": "2023-07-10T20:35:52.797Z"
   },
   {
    "duration": 5,
    "start_time": "2023-07-10T20:35:52.814Z"
   },
   {
    "duration": 584440,
    "start_time": "2023-07-10T20:35:52.821Z"
   },
   {
    "duration": 162,
    "start_time": "2023-07-11T08:55:45.622Z"
   },
   {
    "duration": 2679,
    "start_time": "2023-07-11T09:16:45.199Z"
   },
   {
    "duration": 3620,
    "start_time": "2023-07-11T09:16:47.880Z"
   },
   {
    "duration": 5,
    "start_time": "2023-07-11T09:16:51.502Z"
   },
   {
    "duration": 52,
    "start_time": "2023-07-11T09:16:51.512Z"
   },
   {
    "duration": 10,
    "start_time": "2023-07-11T09:16:51.566Z"
   },
   {
    "duration": 17,
    "start_time": "2023-07-11T09:16:51.577Z"
   },
   {
    "duration": 58,
    "start_time": "2023-07-11T09:16:51.595Z"
   },
   {
    "duration": 29,
    "start_time": "2023-07-11T09:16:51.655Z"
   },
   {
    "duration": 272,
    "start_time": "2023-07-11T09:16:51.686Z"
   },
   {
    "duration": 7,
    "start_time": "2023-07-11T09:16:51.961Z"
   },
   {
    "duration": 320,
    "start_time": "2023-07-11T09:16:51.970Z"
   },
   {
    "duration": 1542,
    "start_time": "2023-07-11T09:16:52.292Z"
   },
   {
    "duration": 52032,
    "start_time": "2023-07-11T09:16:53.838Z"
   },
   {
    "duration": 4,
    "start_time": "2023-07-11T09:17:45.872Z"
   },
   {
    "duration": 978869,
    "start_time": "2023-07-11T09:17:45.878Z"
   },
   {
    "duration": 6,
    "start_time": "2023-07-11T09:34:04.750Z"
   },
   {
    "duration": 514023,
    "start_time": "2023-07-11T09:34:04.758Z"
   },
   {
    "duration": 12,
    "start_time": "2023-07-11T09:42:38.783Z"
   },
   {
    "duration": 30,
    "start_time": "2023-07-11T09:42:38.796Z"
   },
   {
    "duration": 15,
    "start_time": "2023-07-11T09:42:38.843Z"
   },
   {
    "duration": 35,
    "start_time": "2023-07-11T09:42:38.861Z"
   },
   {
    "duration": 23,
    "start_time": "2023-07-11T09:42:38.898Z"
   },
   {
    "duration": 84,
    "start_time": "2023-07-11T09:42:38.923Z"
   },
   {
    "duration": 11,
    "start_time": "2023-07-11T09:42:39.009Z"
   },
   {
    "duration": 8,
    "start_time": "2023-07-11T09:42:39.027Z"
   },
   {
    "duration": 14,
    "start_time": "2023-07-11T09:42:39.040Z"
   },
   {
    "duration": 686686,
    "start_time": "2023-07-11T09:42:39.063Z"
   },
   {
    "duration": 2771771,
    "start_time": "2023-07-11T09:54:05.759Z"
   },
   {
    "duration": 69827,
    "start_time": "2023-07-11T10:40:17.538Z"
   },
   {
    "duration": 55077,
    "start_time": "2023-07-11T10:41:27.367Z"
   },
   {
    "duration": 11,
    "start_time": "2023-07-11T10:42:22.446Z"
   },
   {
    "duration": 600,
    "start_time": "2023-07-11T10:42:22.459Z"
   },
   {
    "duration": 549,
    "start_time": "2023-07-11T10:42:23.061Z"
   },
   {
    "duration": 635,
    "start_time": "2023-07-11T10:42:23.614Z"
   },
   {
    "duration": 617,
    "start_time": "2023-07-11T10:42:24.251Z"
   }
  ],
  "kernelspec": {
   "display_name": "Python 3 (ipykernel)",
   "language": "python",
   "name": "python3"
  },
  "language_info": {
   "codemirror_mode": {
    "name": "ipython",
    "version": 3
   },
   "file_extension": ".py",
   "mimetype": "text/x-python",
   "name": "python",
   "nbconvert_exporter": "python",
   "pygments_lexer": "ipython3",
   "version": "3.9.5"
  },
  "toc": {
   "base_numbering": 1,
   "nav_menu": {},
   "number_sections": true,
   "sideBar": true,
   "skip_h1_title": true,
   "title_cell": "Содержание",
   "title_sidebar": "Contents",
   "toc_cell": true,
   "toc_position": {
    "height": "calc(100% - 180px)",
    "left": "10px",
    "top": "150px",
    "width": "302.391px"
   },
   "toc_section_display": true,
   "toc_window_display": false
  }
 },
 "nbformat": 4,
 "nbformat_minor": 2
}

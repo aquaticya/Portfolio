{
 "cells": [
  {
   "cell_type": "markdown",
   "metadata": {
    "toc": true
   },
   "source": [
    "<h1>Оглавление<span class=\"tocSkip\"></span></h1>\n",
    "<div class=\"toc\"><ul class=\"toc-item\"><li><span><a href=\"#Подготовка-данных\" data-toc-modified-id=\"Подготовка-данных-1\"><span class=\"toc-item-num\">1&nbsp;&nbsp;</span>Подготовка данных</a></span><ul class=\"toc-item\"><li><span><a href=\"#Анализ-данных\" data-toc-modified-id=\"Анализ-данных-1.1\"><span class=\"toc-item-num\">1.1&nbsp;&nbsp;</span>Анализ данных</a></span></li><li><span><a href=\"#Предобработка-данных\" data-toc-modified-id=\"Предобработка-данных-1.2\"><span class=\"toc-item-num\">1.2&nbsp;&nbsp;</span>Предобработка данных</a></span><ul class=\"toc-item\"><li><span><a href=\"#Работа-с-пропусками\" data-toc-modified-id=\"Работа-с-пропусками-1.2.1\"><span class=\"toc-item-num\">1.2.1&nbsp;&nbsp;</span>Работа с пропусками</a></span></li><li><span><a href=\"#Работа-с-дубликатами\" data-toc-modified-id=\"Работа-с-дубликатами-1.2.2\"><span class=\"toc-item-num\">1.2.2&nbsp;&nbsp;</span>Работа с дубликатами</a></span></li><li><span><a href=\"#Работа-с-аномальными-значениями-и-выбросами\" data-toc-modified-id=\"Работа-с-аномальными-значениями-и-выбросами-1.2.3\"><span class=\"toc-item-num\">1.2.3&nbsp;&nbsp;</span>Работа с аномальными значениями и выбросами</a></span></li></ul></li></ul></li><li><span><a href=\"#Обучение-моделей\" data-toc-modified-id=\"Обучение-моделей-2\"><span class=\"toc-item-num\">2&nbsp;&nbsp;</span>Обучение моделей</a></span><ul class=\"toc-item\"><li><span><a href=\"#Подготовка-данных\" data-toc-modified-id=\"Подготовка-данных-2.1\"><span class=\"toc-item-num\">2.1&nbsp;&nbsp;</span>Подготовка данных</a></span></li><li><span><a href=\"#Масштабирование\" data-toc-modified-id=\"Масштабирование-2.2\"><span class=\"toc-item-num\">2.2&nbsp;&nbsp;</span>Масштабирование</a></span></li><li><span><a href=\"#Прямое-кодирование\" data-toc-modified-id=\"Прямое-кодирование-2.3\"><span class=\"toc-item-num\">2.3&nbsp;&nbsp;</span>Прямое кодирование</a></span></li><li><span><a href=\"#Модель-линейной-регрессии\" data-toc-modified-id=\"Модель-линейной-регрессии-2.4\"><span class=\"toc-item-num\">2.4&nbsp;&nbsp;</span>Модель линейной регрессии</a></span></li><li><span><a href=\"#Модель-CatBoost\" data-toc-modified-id=\"Модель-CatBoost-2.5\"><span class=\"toc-item-num\">2.5&nbsp;&nbsp;</span>Модель CatBoost</a></span></li><li><span><a href=\"#Модель-LightGBM\" data-toc-modified-id=\"Модель-LightGBM-2.6\"><span class=\"toc-item-num\">2.6&nbsp;&nbsp;</span>Модель LightGBM</a></span></li></ul></li><li><span><a href=\"#Анализ-моделей\" data-toc-modified-id=\"Анализ-моделей-3\"><span class=\"toc-item-num\">3&nbsp;&nbsp;</span>Анализ моделей</a></span><ul class=\"toc-item\"><li><span><a href=\"#Проверка-модели-на-тестовой-выборке\" data-toc-modified-id=\"Проверка-модели-на-тестовой-выборке-3.1\"><span class=\"toc-item-num\">3.1&nbsp;&nbsp;</span>Проверка модели на тестовой выборке</a></span></li><li><span><a href=\"#Проверка-модели-на-адекватность\" data-toc-modified-id=\"Проверка-модели-на-адекватность-3.2\"><span class=\"toc-item-num\">3.2&nbsp;&nbsp;</span>Проверка модели на адекватность</a></span></li></ul></li><li><span><a href=\"#Общий-вывод-по-проекту\" data-toc-modified-id=\"Общий-вывод-по-проекту-4\"><span class=\"toc-item-num\">4&nbsp;&nbsp;</span>Общий вывод по проекту</a></span></li><li><span><a href=\"#Чек-лист-проверки\" data-toc-modified-id=\"Чек-лист-проверки-5\"><span class=\"toc-item-num\">5&nbsp;&nbsp;</span>Чек-лист проверки</a></span></li></ul></div>"
   ]
  },
  {
   "cell_type": "markdown",
   "metadata": {},
   "source": [
    "# Определение стоимости автомобилей"
   ]
  },
  {
   "cell_type": "markdown",
   "metadata": {},
   "source": [
    "Сервис по продаже автомобилей с пробегом «Не бит, не крашен» разрабатывает приложение для привлечения новых клиентов. В нём можно быстро узнать рыночную стоимость своего автомобиля. В вашем распоряжении исторические данные: технические характеристики, комплектации и цены автомобилей. Вам нужно построить модель для определения стоимости. \n",
    "\n",
    "Заказчику важны:\n",
    "\n",
    "- качество предсказания;\n",
    "- скорость предсказания;\n",
    "- время обучения."
   ]
  },
  {
   "cell_type": "markdown",
   "metadata": {},
   "source": [
    "## Подготовка данных"
   ]
  },
  {
   "cell_type": "code",
   "execution_count": 1,
   "metadata": {},
   "outputs": [],
   "source": [
    "import pandas as pd\n",
    "import matplotlib.pyplot as plt\n",
    "from sklearn.model_selection import train_test_split\n",
    "from sklearn.preprocessing import StandardScaler\n",
    "from sklearn.linear_model import LinearRegression\n",
    "from sklearn.metrics import mean_squared_error\n",
    "from catboost import CatBoostRegressor\n",
    "from lightgbm import LGBMRegressor\n",
    "import lightgbm as lgb\n",
    "from sklearn.preprocessing import OneHotEncoder\n",
    "from sklearn.model_selection import GridSearchCV \n",
    "from sklearn.dummy import DummyRegressor\n",
    "from sklearn.model_selection import cross_validate\n",
    "import numpy as np\n",
    "import seaborn as sns\n",
    "from numpy import mean\n",
    "from sklearn.metrics import mean_squared_error"
   ]
  },
  {
   "cell_type": "code",
   "execution_count": 2,
   "metadata": {},
   "outputs": [],
   "source": [
    "# загрузим данные и посмотрим их\n",
    "df = pd.read_csv('/datasets/autos.csv')\n"
   ]
  },
  {
   "cell_type": "markdown",
   "metadata": {},
   "source": [
    "### Анализ данных"
   ]
  },
  {
   "cell_type": "code",
   "execution_count": 3,
   "metadata": {},
   "outputs": [
    {
     "data": {
      "text/plain": [
       "(354369, 16)"
      ]
     },
     "execution_count": 3,
     "metadata": {},
     "output_type": "execute_result"
    }
   ],
   "source": [
    "df.shape"
   ]
  },
  {
   "cell_type": "code",
   "execution_count": 4,
   "metadata": {
    "scrolled": false
   },
   "outputs": [
    {
     "name": "stdout",
     "output_type": "stream",
     "text": [
      "<class 'pandas.core.frame.DataFrame'>\n",
      "RangeIndex: 354369 entries, 0 to 354368\n",
      "Data columns (total 16 columns):\n",
      " #   Column             Non-Null Count   Dtype \n",
      "---  ------             --------------   ----- \n",
      " 0   DateCrawled        354369 non-null  object\n",
      " 1   Price              354369 non-null  int64 \n",
      " 2   VehicleType        316879 non-null  object\n",
      " 3   RegistrationYear   354369 non-null  int64 \n",
      " 4   Gearbox            334536 non-null  object\n",
      " 5   Power              354369 non-null  int64 \n",
      " 6   Model              334664 non-null  object\n",
      " 7   Kilometer          354369 non-null  int64 \n",
      " 8   RegistrationMonth  354369 non-null  int64 \n",
      " 9   FuelType           321474 non-null  object\n",
      " 10  Brand              354369 non-null  object\n",
      " 11  Repaired           283215 non-null  object\n",
      " 12  DateCreated        354369 non-null  object\n",
      " 13  NumberOfPictures   354369 non-null  int64 \n",
      " 14  PostalCode         354369 non-null  int64 \n",
      " 15  LastSeen           354369 non-null  object\n",
      "dtypes: int64(7), object(9)\n",
      "memory usage: 43.3+ MB\n"
     ]
    }
   ],
   "source": [
    "df.info()"
   ]
  },
  {
   "cell_type": "code",
   "execution_count": 5,
   "metadata": {
    "scrolled": false
   },
   "outputs": [
    {
     "data": {
      "text/html": [
       "<div>\n",
       "<style scoped>\n",
       "    .dataframe tbody tr th:only-of-type {\n",
       "        vertical-align: middle;\n",
       "    }\n",
       "\n",
       "    .dataframe tbody tr th {\n",
       "        vertical-align: top;\n",
       "    }\n",
       "\n",
       "    .dataframe thead th {\n",
       "        text-align: right;\n",
       "    }\n",
       "</style>\n",
       "<table border=\"1\" class=\"dataframe\">\n",
       "  <thead>\n",
       "    <tr style=\"text-align: right;\">\n",
       "      <th></th>\n",
       "      <th>DateCrawled</th>\n",
       "      <th>Price</th>\n",
       "      <th>VehicleType</th>\n",
       "      <th>RegistrationYear</th>\n",
       "      <th>Gearbox</th>\n",
       "      <th>Power</th>\n",
       "      <th>Model</th>\n",
       "      <th>Kilometer</th>\n",
       "      <th>RegistrationMonth</th>\n",
       "      <th>FuelType</th>\n",
       "      <th>Brand</th>\n",
       "      <th>Repaired</th>\n",
       "      <th>DateCreated</th>\n",
       "      <th>NumberOfPictures</th>\n",
       "      <th>PostalCode</th>\n",
       "      <th>LastSeen</th>\n",
       "    </tr>\n",
       "  </thead>\n",
       "  <tbody>\n",
       "    <tr>\n",
       "      <th>0</th>\n",
       "      <td>2016-03-24 11:52:17</td>\n",
       "      <td>480</td>\n",
       "      <td>NaN</td>\n",
       "      <td>1993</td>\n",
       "      <td>manual</td>\n",
       "      <td>0</td>\n",
       "      <td>golf</td>\n",
       "      <td>150000</td>\n",
       "      <td>0</td>\n",
       "      <td>petrol</td>\n",
       "      <td>volkswagen</td>\n",
       "      <td>NaN</td>\n",
       "      <td>2016-03-24 00:00:00</td>\n",
       "      <td>0</td>\n",
       "      <td>70435</td>\n",
       "      <td>2016-04-07 03:16:57</td>\n",
       "    </tr>\n",
       "    <tr>\n",
       "      <th>1</th>\n",
       "      <td>2016-03-24 10:58:45</td>\n",
       "      <td>18300</td>\n",
       "      <td>coupe</td>\n",
       "      <td>2011</td>\n",
       "      <td>manual</td>\n",
       "      <td>190</td>\n",
       "      <td>NaN</td>\n",
       "      <td>125000</td>\n",
       "      <td>5</td>\n",
       "      <td>gasoline</td>\n",
       "      <td>audi</td>\n",
       "      <td>yes</td>\n",
       "      <td>2016-03-24 00:00:00</td>\n",
       "      <td>0</td>\n",
       "      <td>66954</td>\n",
       "      <td>2016-04-07 01:46:50</td>\n",
       "    </tr>\n",
       "    <tr>\n",
       "      <th>2</th>\n",
       "      <td>2016-03-14 12:52:21</td>\n",
       "      <td>9800</td>\n",
       "      <td>suv</td>\n",
       "      <td>2004</td>\n",
       "      <td>auto</td>\n",
       "      <td>163</td>\n",
       "      <td>grand</td>\n",
       "      <td>125000</td>\n",
       "      <td>8</td>\n",
       "      <td>gasoline</td>\n",
       "      <td>jeep</td>\n",
       "      <td>NaN</td>\n",
       "      <td>2016-03-14 00:00:00</td>\n",
       "      <td>0</td>\n",
       "      <td>90480</td>\n",
       "      <td>2016-04-05 12:47:46</td>\n",
       "    </tr>\n",
       "    <tr>\n",
       "      <th>3</th>\n",
       "      <td>2016-03-17 16:54:04</td>\n",
       "      <td>1500</td>\n",
       "      <td>small</td>\n",
       "      <td>2001</td>\n",
       "      <td>manual</td>\n",
       "      <td>75</td>\n",
       "      <td>golf</td>\n",
       "      <td>150000</td>\n",
       "      <td>6</td>\n",
       "      <td>petrol</td>\n",
       "      <td>volkswagen</td>\n",
       "      <td>no</td>\n",
       "      <td>2016-03-17 00:00:00</td>\n",
       "      <td>0</td>\n",
       "      <td>91074</td>\n",
       "      <td>2016-03-17 17:40:17</td>\n",
       "    </tr>\n",
       "    <tr>\n",
       "      <th>4</th>\n",
       "      <td>2016-03-31 17:25:20</td>\n",
       "      <td>3600</td>\n",
       "      <td>small</td>\n",
       "      <td>2008</td>\n",
       "      <td>manual</td>\n",
       "      <td>69</td>\n",
       "      <td>fabia</td>\n",
       "      <td>90000</td>\n",
       "      <td>7</td>\n",
       "      <td>gasoline</td>\n",
       "      <td>skoda</td>\n",
       "      <td>no</td>\n",
       "      <td>2016-03-31 00:00:00</td>\n",
       "      <td>0</td>\n",
       "      <td>60437</td>\n",
       "      <td>2016-04-06 10:17:21</td>\n",
       "    </tr>\n",
       "  </tbody>\n",
       "</table>\n",
       "</div>"
      ],
      "text/plain": [
       "           DateCrawled  Price VehicleType  RegistrationYear Gearbox  Power  \\\n",
       "0  2016-03-24 11:52:17    480         NaN              1993  manual      0   \n",
       "1  2016-03-24 10:58:45  18300       coupe              2011  manual    190   \n",
       "2  2016-03-14 12:52:21   9800         suv              2004    auto    163   \n",
       "3  2016-03-17 16:54:04   1500       small              2001  manual     75   \n",
       "4  2016-03-31 17:25:20   3600       small              2008  manual     69   \n",
       "\n",
       "   Model  Kilometer  RegistrationMonth  FuelType       Brand Repaired  \\\n",
       "0   golf     150000                  0    petrol  volkswagen      NaN   \n",
       "1    NaN     125000                  5  gasoline        audi      yes   \n",
       "2  grand     125000                  8  gasoline        jeep      NaN   \n",
       "3   golf     150000                  6    petrol  volkswagen       no   \n",
       "4  fabia      90000                  7  gasoline       skoda       no   \n",
       "\n",
       "           DateCreated  NumberOfPictures  PostalCode             LastSeen  \n",
       "0  2016-03-24 00:00:00                 0       70435  2016-04-07 03:16:57  \n",
       "1  2016-03-24 00:00:00                 0       66954  2016-04-07 01:46:50  \n",
       "2  2016-03-14 00:00:00                 0       90480  2016-04-05 12:47:46  \n",
       "3  2016-03-17 00:00:00                 0       91074  2016-03-17 17:40:17  \n",
       "4  2016-03-31 00:00:00                 0       60437  2016-04-06 10:17:21  "
      ]
     },
     "execution_count": 5,
     "metadata": {},
     "output_type": "execute_result"
    }
   ],
   "source": [
    "df.head()"
   ]
  },
  {
   "cell_type": "code",
   "execution_count": 6,
   "metadata": {
    "scrolled": false
   },
   "outputs": [
    {
     "data": {
      "text/html": [
       "<div>\n",
       "<style scoped>\n",
       "    .dataframe tbody tr th:only-of-type {\n",
       "        vertical-align: middle;\n",
       "    }\n",
       "\n",
       "    .dataframe tbody tr th {\n",
       "        vertical-align: top;\n",
       "    }\n",
       "\n",
       "    .dataframe thead th {\n",
       "        text-align: right;\n",
       "    }\n",
       "</style>\n",
       "<table border=\"1\" class=\"dataframe\">\n",
       "  <thead>\n",
       "    <tr style=\"text-align: right;\">\n",
       "      <th></th>\n",
       "      <th>Price</th>\n",
       "      <th>RegistrationYear</th>\n",
       "      <th>Power</th>\n",
       "      <th>Kilometer</th>\n",
       "      <th>RegistrationMonth</th>\n",
       "      <th>NumberOfPictures</th>\n",
       "      <th>PostalCode</th>\n",
       "    </tr>\n",
       "  </thead>\n",
       "  <tbody>\n",
       "    <tr>\n",
       "      <th>count</th>\n",
       "      <td>354369.000000</td>\n",
       "      <td>354369.000000</td>\n",
       "      <td>354369.000000</td>\n",
       "      <td>354369.000000</td>\n",
       "      <td>354369.000000</td>\n",
       "      <td>354369.0</td>\n",
       "      <td>354369.000000</td>\n",
       "    </tr>\n",
       "    <tr>\n",
       "      <th>mean</th>\n",
       "      <td>4416.656776</td>\n",
       "      <td>2004.234448</td>\n",
       "      <td>110.094337</td>\n",
       "      <td>128211.172535</td>\n",
       "      <td>5.714645</td>\n",
       "      <td>0.0</td>\n",
       "      <td>50508.689087</td>\n",
       "    </tr>\n",
       "    <tr>\n",
       "      <th>std</th>\n",
       "      <td>4514.158514</td>\n",
       "      <td>90.227958</td>\n",
       "      <td>189.850405</td>\n",
       "      <td>37905.341530</td>\n",
       "      <td>3.726421</td>\n",
       "      <td>0.0</td>\n",
       "      <td>25783.096248</td>\n",
       "    </tr>\n",
       "    <tr>\n",
       "      <th>min</th>\n",
       "      <td>0.000000</td>\n",
       "      <td>1000.000000</td>\n",
       "      <td>0.000000</td>\n",
       "      <td>5000.000000</td>\n",
       "      <td>0.000000</td>\n",
       "      <td>0.0</td>\n",
       "      <td>1067.000000</td>\n",
       "    </tr>\n",
       "    <tr>\n",
       "      <th>25%</th>\n",
       "      <td>1050.000000</td>\n",
       "      <td>1999.000000</td>\n",
       "      <td>69.000000</td>\n",
       "      <td>125000.000000</td>\n",
       "      <td>3.000000</td>\n",
       "      <td>0.0</td>\n",
       "      <td>30165.000000</td>\n",
       "    </tr>\n",
       "    <tr>\n",
       "      <th>50%</th>\n",
       "      <td>2700.000000</td>\n",
       "      <td>2003.000000</td>\n",
       "      <td>105.000000</td>\n",
       "      <td>150000.000000</td>\n",
       "      <td>6.000000</td>\n",
       "      <td>0.0</td>\n",
       "      <td>49413.000000</td>\n",
       "    </tr>\n",
       "    <tr>\n",
       "      <th>75%</th>\n",
       "      <td>6400.000000</td>\n",
       "      <td>2008.000000</td>\n",
       "      <td>143.000000</td>\n",
       "      <td>150000.000000</td>\n",
       "      <td>9.000000</td>\n",
       "      <td>0.0</td>\n",
       "      <td>71083.000000</td>\n",
       "    </tr>\n",
       "    <tr>\n",
       "      <th>max</th>\n",
       "      <td>20000.000000</td>\n",
       "      <td>9999.000000</td>\n",
       "      <td>20000.000000</td>\n",
       "      <td>150000.000000</td>\n",
       "      <td>12.000000</td>\n",
       "      <td>0.0</td>\n",
       "      <td>99998.000000</td>\n",
       "    </tr>\n",
       "  </tbody>\n",
       "</table>\n",
       "</div>"
      ],
      "text/plain": [
       "               Price  RegistrationYear          Power      Kilometer  \\\n",
       "count  354369.000000     354369.000000  354369.000000  354369.000000   \n",
       "mean     4416.656776       2004.234448     110.094337  128211.172535   \n",
       "std      4514.158514         90.227958     189.850405   37905.341530   \n",
       "min         0.000000       1000.000000       0.000000    5000.000000   \n",
       "25%      1050.000000       1999.000000      69.000000  125000.000000   \n",
       "50%      2700.000000       2003.000000     105.000000  150000.000000   \n",
       "75%      6400.000000       2008.000000     143.000000  150000.000000   \n",
       "max     20000.000000       9999.000000   20000.000000  150000.000000   \n",
       "\n",
       "       RegistrationMonth  NumberOfPictures     PostalCode  \n",
       "count      354369.000000          354369.0  354369.000000  \n",
       "mean            5.714645               0.0   50508.689087  \n",
       "std             3.726421               0.0   25783.096248  \n",
       "min             0.000000               0.0    1067.000000  \n",
       "25%             3.000000               0.0   30165.000000  \n",
       "50%             6.000000               0.0   49413.000000  \n",
       "75%             9.000000               0.0   71083.000000  \n",
       "max            12.000000               0.0   99998.000000  "
      ]
     },
     "execution_count": 6,
     "metadata": {},
     "output_type": "execute_result"
    }
   ],
   "source": [
    "df.describe()"
   ]
  },
  {
   "cell_type": "code",
   "execution_count": 7,
   "metadata": {
    "scrolled": false
   },
   "outputs": [
    {
     "data": {
      "image/png": "[encoded data removed]",
      "text/plain": [
       "<Figure size 1080x720 with 9 Axes>"
      ]
     },
     "metadata": {
      "needs_background": "light"
     },
     "output_type": "display_data"
    }
   ],
   "source": [
    "# посмотрим на данные\n",
    "df.hist(figsize=(15, 10));"
   ]
  },
  {
   "cell_type": "code",
   "execution_count": 8,
   "metadata": {
    "scrolled": true
   },
   "outputs": [
    {
     "data": {
      "text/html": [
       "<div>\n",
       "<style scoped>\n",
       "    .dataframe tbody tr th:only-of-type {\n",
       "        vertical-align: middle;\n",
       "    }\n",
       "\n",
       "    .dataframe tbody tr th {\n",
       "        vertical-align: top;\n",
       "    }\n",
       "\n",
       "    .dataframe thead th {\n",
       "        text-align: right;\n",
       "    }\n",
       "</style>\n",
       "<table border=\"1\" class=\"dataframe\">\n",
       "  <thead>\n",
       "    <tr style=\"text-align: right;\">\n",
       "      <th></th>\n",
       "      <th>Price</th>\n",
       "      <th>RegistrationYear</th>\n",
       "      <th>Power</th>\n",
       "      <th>Kilometer</th>\n",
       "      <th>RegistrationMonth</th>\n",
       "      <th>NumberOfPictures</th>\n",
       "      <th>PostalCode</th>\n",
       "    </tr>\n",
       "  </thead>\n",
       "  <tbody>\n",
       "    <tr>\n",
       "      <th>Price</th>\n",
       "      <td>1.000000</td>\n",
       "      <td>0.026916</td>\n",
       "      <td>0.158872</td>\n",
       "      <td>-0.333199</td>\n",
       "      <td>0.110581</td>\n",
       "      <td>NaN</td>\n",
       "      <td>0.076055</td>\n",
       "    </tr>\n",
       "    <tr>\n",
       "      <th>RegistrationYear</th>\n",
       "      <td>0.026916</td>\n",
       "      <td>1.000000</td>\n",
       "      <td>-0.000828</td>\n",
       "      <td>-0.053447</td>\n",
       "      <td>-0.011619</td>\n",
       "      <td>NaN</td>\n",
       "      <td>-0.003459</td>\n",
       "    </tr>\n",
       "    <tr>\n",
       "      <th>Power</th>\n",
       "      <td>0.158872</td>\n",
       "      <td>-0.000828</td>\n",
       "      <td>1.000000</td>\n",
       "      <td>0.024002</td>\n",
       "      <td>0.043380</td>\n",
       "      <td>NaN</td>\n",
       "      <td>0.021665</td>\n",
       "    </tr>\n",
       "    <tr>\n",
       "      <th>Kilometer</th>\n",
       "      <td>-0.333199</td>\n",
       "      <td>-0.053447</td>\n",
       "      <td>0.024002</td>\n",
       "      <td>1.000000</td>\n",
       "      <td>0.009571</td>\n",
       "      <td>NaN</td>\n",
       "      <td>-0.007698</td>\n",
       "    </tr>\n",
       "    <tr>\n",
       "      <th>RegistrationMonth</th>\n",
       "      <td>0.110581</td>\n",
       "      <td>-0.011619</td>\n",
       "      <td>0.043380</td>\n",
       "      <td>0.009571</td>\n",
       "      <td>1.000000</td>\n",
       "      <td>NaN</td>\n",
       "      <td>0.013995</td>\n",
       "    </tr>\n",
       "    <tr>\n",
       "      <th>NumberOfPictures</th>\n",
       "      <td>NaN</td>\n",
       "      <td>NaN</td>\n",
       "      <td>NaN</td>\n",
       "      <td>NaN</td>\n",
       "      <td>NaN</td>\n",
       "      <td>NaN</td>\n",
       "      <td>NaN</td>\n",
       "    </tr>\n",
       "    <tr>\n",
       "      <th>PostalCode</th>\n",
       "      <td>0.076055</td>\n",
       "      <td>-0.003459</td>\n",
       "      <td>0.021665</td>\n",
       "      <td>-0.007698</td>\n",
       "      <td>0.013995</td>\n",
       "      <td>NaN</td>\n",
       "      <td>1.000000</td>\n",
       "    </tr>\n",
       "  </tbody>\n",
       "</table>\n",
       "</div>"
      ],
      "text/plain": [
       "                      Price  RegistrationYear     Power  Kilometer  \\\n",
       "Price              1.000000          0.026916  0.158872  -0.333199   \n",
       "RegistrationYear   0.026916          1.000000 -0.000828  -0.053447   \n",
       "Power              0.158872         -0.000828  1.000000   0.024002   \n",
       "Kilometer         -0.333199         -0.053447  0.024002   1.000000   \n",
       "RegistrationMonth  0.110581         -0.011619  0.043380   0.009571   \n",
       "NumberOfPictures        NaN               NaN       NaN        NaN   \n",
       "PostalCode         0.076055         -0.003459  0.021665  -0.007698   \n",
       "\n",
       "                   RegistrationMonth  NumberOfPictures  PostalCode  \n",
       "Price                       0.110581               NaN    0.076055  \n",
       "RegistrationYear           -0.011619               NaN   -0.003459  \n",
       "Power                       0.043380               NaN    0.021665  \n",
       "Kilometer                   0.009571               NaN   -0.007698  \n",
       "RegistrationMonth           1.000000               NaN    0.013995  \n",
       "NumberOfPictures                 NaN               NaN         NaN  \n",
       "PostalCode                  0.013995               NaN    1.000000  "
      ]
     },
     "execution_count": 8,
     "metadata": {},
     "output_type": "execute_result"
    }
   ],
   "source": [
    "# посмотрим корреляцию\n",
    "df.corr()"
   ]
  },
  {
   "cell_type": "code",
   "execution_count": 9,
   "metadata": {},
   "outputs": [
    {
     "data": {
      "text/plain": [
       "<AxesSubplot:>"
      ]
     },
     "execution_count": 9,
     "metadata": {},
     "output_type": "execute_result"
    },
    {
     "data": {
      "image/png": "[encoded data removed]",
      "text/plain": [
       "<Figure size 432x288 with 2 Axes>"
      ]
     },
     "metadata": {
      "needs_background": "light"
     },
     "output_type": "display_data"
    }
   ],
   "source": [
    "sns.heatmap(df.corr(), annot = True)"
   ]
  },
  {
   "cell_type": "markdown",
   "metadata": {},
   "source": [
    "Данные содержат 354369 строк и 16 столбцов\n",
    "- 7 столбцов целочисленные, остальные строки\n",
    "- неправильное написание названий столбцов\n",
    "- имеются пропуски\n",
    "- не увидели значимых зависимостей, только обратная зависимоссть между Ценой и Пробегом\n",
    "\n",
    "Увидели странные значения:\n",
    "- Цена: 0 и 20 тыс евро\n",
    "- Год регистрации автомобиля: 1000 и 9999, некорректные значения\n",
    "- Мощность: 0 и 20 тыс, некорректные значения\n",
    "- Количество фотографий: нет значений"
   ]
  },
  {
   "cell_type": "markdown",
   "metadata": {},
   "source": [
    "### Предобработка данных"
   ]
  },
  {
   "cell_type": "code",
   "execution_count": 10,
   "metadata": {},
   "outputs": [],
   "source": [
    "# заменим названия столбцов\n",
    "df.columns = df.columns.str.lower()"
   ]
  },
  {
   "cell_type": "code",
   "execution_count": 11,
   "metadata": {},
   "outputs": [],
   "source": [
    "# тип данных строки у трех столбцов переведем в тип datetime64\n",
    "df[['datecrawled', 'datecreated', 'lastseen']] = df[['datecrawled', 'datecreated', 'lastseen']].apply(pd.to_datetime)"
   ]
  },
  {
   "cell_type": "markdown",
   "metadata": {},
   "source": [
    "#### Работа с пропусками"
   ]
  },
  {
   "cell_type": "code",
   "execution_count": 12,
   "metadata": {
    "scrolled": true
   },
   "outputs": [
    {
     "data": {
      "text/plain": [
       "datecrawled              0\n",
       "price                    0\n",
       "vehicletype          37490\n",
       "registrationyear         0\n",
       "gearbox              19833\n",
       "power                    0\n",
       "model                19705\n",
       "kilometer                0\n",
       "registrationmonth        0\n",
       "fueltype             32895\n",
       "brand                    0\n",
       "repaired             71154\n",
       "datecreated              0\n",
       "numberofpictures         0\n",
       "postalcode               0\n",
       "lastseen                 0\n",
       "dtype: int64"
      ]
     },
     "execution_count": 12,
     "metadata": {},
     "output_type": "execute_result"
    }
   ],
   "source": [
    "# проверим пропуски, в 5 столбцах имеются пропуски\n",
    "df.isna().sum()"
   ]
  },
  {
   "cell_type": "code",
   "execution_count": 13,
   "metadata": {
    "scrolled": false
   },
   "outputs": [
    {
     "name": "stdout",
     "output_type": "stream",
     "text": [
      "Доля пропусков в  vehicletype = 10.58\n",
      "Доля пропусков в  gearbox = 5.6\n",
      "Доля пропусков в  model = 5.56\n",
      "Доля пропусков в  fueltype = 9.28\n",
      "Доля пропусков в  repaired = 20.08\n"
     ]
    }
   ],
   "source": [
    "# доля пропущенных значений\n",
    "passes = ['vehicletype', 'gearbox', 'model', 'fueltype', 'repaired']\n",
    "for i in passes:\n",
    "    print('Доля пропусков в ', i, '=', round(df[i].isna().sum()/df.shape[0]*100, 2))"
   ]
  },
  {
   "cell_type": "code",
   "execution_count": 14,
   "metadata": {
    "scrolled": true
   },
   "outputs": [
    {
     "data": {
      "text/plain": [
       "array([nan, 'yes', 'no'], dtype=object)"
      ]
     },
     "execution_count": 14,
     "metadata": {},
     "output_type": "execute_result"
    }
   ],
   "source": [
    "# посмотрим уникальные значения\n",
    "df['repaired'].unique()"
   ]
  },
  {
   "cell_type": "markdown",
   "metadata": {},
   "source": [
    "- для столбца repaired (была машина в ремонте или нет) отсутствующее значение подразумевает, что не была, заменим пропуски на 'no'\n"
   ]
  },
  {
   "cell_type": "code",
   "execution_count": 15,
   "metadata": {},
   "outputs": [
    {
     "data": {
      "text/plain": [
       "0"
      ]
     },
     "execution_count": 15,
     "metadata": {},
     "output_type": "execute_result"
    }
   ],
   "source": [
    "df['repaired'] = df['repaired'].fillna('no')\n",
    "df['repaired'].isna().sum()"
   ]
  },
  {
   "cell_type": "code",
   "execution_count": 16,
   "metadata": {
    "scrolled": true
   },
   "outputs": [
    {
     "data": {
      "text/plain": [
       "petrol      216352\n",
       "gasoline     98720\n",
       "lpg           5310\n",
       "cng            565\n",
       "hybrid         233\n",
       "other          204\n",
       "electric        90\n",
       "Name: fueltype, dtype: int64"
      ]
     },
     "execution_count": 16,
     "metadata": {},
     "output_type": "execute_result"
    }
   ],
   "source": [
    "# посмотрим количество уникальных значений 'тип топлива'\n",
    "df['fueltype'].value_counts()"
   ]
  },
  {
   "cell_type": "code",
   "execution_count": 17,
   "metadata": {},
   "outputs": [
    {
     "data": {
      "text/plain": [
       "petrol      0.673000\n",
       "gasoline    0.307085\n",
       "lpg         0.016518\n",
       "cng         0.001758\n",
       "hybrid      0.000725\n",
       "other       0.000635\n",
       "electric    0.000280\n",
       "Name: fueltype, dtype: float64"
      ]
     },
     "execution_count": 17,
     "metadata": {},
     "output_type": "execute_result"
    }
   ],
   "source": [
    "df['fueltype'].value_counts(normalize=True) "
   ]
  },
  {
   "cell_type": "code",
   "execution_count": 18,
   "metadata": {},
   "outputs": [
    {
     "data": {
      "text/plain": [
       "array([nan, 'coupe', 'suv', 'small', 'sedan', 'convertible', 'bus',\n",
       "       'wagon', 'other'], dtype=object)"
      ]
     },
     "execution_count": 18,
     "metadata": {},
     "output_type": "execute_result"
    }
   ],
   "source": [
    "# посмотрим уникальныt значения 'тип кузова'\n",
    "df['vehicletype'].unique()"
   ]
  },
  {
   "cell_type": "code",
   "execution_count": 19,
   "metadata": {
    "scrolled": false
   },
   "outputs": [
    {
     "data": {
      "text/html": [
       "<div>\n",
       "<style scoped>\n",
       "    .dataframe tbody tr th:only-of-type {\n",
       "        vertical-align: middle;\n",
       "    }\n",
       "\n",
       "    .dataframe tbody tr th {\n",
       "        vertical-align: top;\n",
       "    }\n",
       "\n",
       "    .dataframe thead th {\n",
       "        text-align: right;\n",
       "    }\n",
       "</style>\n",
       "<table border=\"1\" class=\"dataframe\">\n",
       "  <thead>\n",
       "    <tr style=\"text-align: right;\">\n",
       "      <th></th>\n",
       "      <th>datecrawled</th>\n",
       "      <th>price</th>\n",
       "      <th>vehicletype</th>\n",
       "      <th>registrationyear</th>\n",
       "      <th>gearbox</th>\n",
       "      <th>power</th>\n",
       "      <th>model</th>\n",
       "      <th>kilometer</th>\n",
       "      <th>registrationmonth</th>\n",
       "      <th>fueltype</th>\n",
       "      <th>brand</th>\n",
       "      <th>repaired</th>\n",
       "      <th>datecreated</th>\n",
       "      <th>numberofpictures</th>\n",
       "      <th>postalcode</th>\n",
       "      <th>lastseen</th>\n",
       "    </tr>\n",
       "  </thead>\n",
       "  <tbody>\n",
       "    <tr>\n",
       "      <th>0</th>\n",
       "      <td>2016-03-24 11:52:17</td>\n",
       "      <td>480</td>\n",
       "      <td>NaN</td>\n",
       "      <td>1993</td>\n",
       "      <td>manual</td>\n",
       "      <td>0</td>\n",
       "      <td>golf</td>\n",
       "      <td>150000</td>\n",
       "      <td>0</td>\n",
       "      <td>petrol</td>\n",
       "      <td>volkswagen</td>\n",
       "      <td>no</td>\n",
       "      <td>2016-03-24</td>\n",
       "      <td>0</td>\n",
       "      <td>70435</td>\n",
       "      <td>2016-04-07 03:16:57</td>\n",
       "    </tr>\n",
       "    <tr>\n",
       "      <th>16</th>\n",
       "      <td>2016-04-01 12:46:46</td>\n",
       "      <td>300</td>\n",
       "      <td>NaN</td>\n",
       "      <td>2016</td>\n",
       "      <td>NaN</td>\n",
       "      <td>60</td>\n",
       "      <td>polo</td>\n",
       "      <td>150000</td>\n",
       "      <td>0</td>\n",
       "      <td>petrol</td>\n",
       "      <td>volkswagen</td>\n",
       "      <td>no</td>\n",
       "      <td>2016-04-01</td>\n",
       "      <td>0</td>\n",
       "      <td>38871</td>\n",
       "      <td>2016-04-01 12:46:46</td>\n",
       "    </tr>\n",
       "    <tr>\n",
       "      <th>22</th>\n",
       "      <td>2016-03-23 14:52:51</td>\n",
       "      <td>2900</td>\n",
       "      <td>NaN</td>\n",
       "      <td>2018</td>\n",
       "      <td>manual</td>\n",
       "      <td>90</td>\n",
       "      <td>meriva</td>\n",
       "      <td>150000</td>\n",
       "      <td>5</td>\n",
       "      <td>petrol</td>\n",
       "      <td>opel</td>\n",
       "      <td>no</td>\n",
       "      <td>2016-03-23</td>\n",
       "      <td>0</td>\n",
       "      <td>49716</td>\n",
       "      <td>2016-03-31 01:16:33</td>\n",
       "    </tr>\n",
       "    <tr>\n",
       "      <th>26</th>\n",
       "      <td>2016-03-10 19:38:18</td>\n",
       "      <td>5555</td>\n",
       "      <td>NaN</td>\n",
       "      <td>2017</td>\n",
       "      <td>manual</td>\n",
       "      <td>125</td>\n",
       "      <td>c4</td>\n",
       "      <td>125000</td>\n",
       "      <td>4</td>\n",
       "      <td>NaN</td>\n",
       "      <td>citroen</td>\n",
       "      <td>no</td>\n",
       "      <td>2016-03-10</td>\n",
       "      <td>0</td>\n",
       "      <td>31139</td>\n",
       "      <td>2016-03-16 09:16:46</td>\n",
       "    </tr>\n",
       "    <tr>\n",
       "      <th>31</th>\n",
       "      <td>2016-03-29 16:57:02</td>\n",
       "      <td>899</td>\n",
       "      <td>NaN</td>\n",
       "      <td>2016</td>\n",
       "      <td>manual</td>\n",
       "      <td>60</td>\n",
       "      <td>clio</td>\n",
       "      <td>150000</td>\n",
       "      <td>6</td>\n",
       "      <td>petrol</td>\n",
       "      <td>renault</td>\n",
       "      <td>no</td>\n",
       "      <td>2016-03-29</td>\n",
       "      <td>0</td>\n",
       "      <td>37075</td>\n",
       "      <td>2016-03-29 17:43:07</td>\n",
       "    </tr>\n",
       "  </tbody>\n",
       "</table>\n",
       "</div>"
      ],
      "text/plain": [
       "           datecrawled  price vehicletype  registrationyear gearbox  power  \\\n",
       "0  2016-03-24 11:52:17    480         NaN              1993  manual      0   \n",
       "16 2016-04-01 12:46:46    300         NaN              2016     NaN     60   \n",
       "22 2016-03-23 14:52:51   2900         NaN              2018  manual     90   \n",
       "26 2016-03-10 19:38:18   5555         NaN              2017  manual    125   \n",
       "31 2016-03-29 16:57:02    899         NaN              2016  manual     60   \n",
       "\n",
       "     model  kilometer  registrationmonth fueltype       brand repaired  \\\n",
       "0     golf     150000                  0   petrol  volkswagen       no   \n",
       "16    polo     150000                  0   petrol  volkswagen       no   \n",
       "22  meriva     150000                  5   petrol        opel       no   \n",
       "26      c4     125000                  4      NaN     citroen       no   \n",
       "31    clio     150000                  6   petrol     renault       no   \n",
       "\n",
       "   datecreated  numberofpictures  postalcode            lastseen  \n",
       "0   2016-03-24                 0       70435 2016-04-07 03:16:57  \n",
       "16  2016-04-01                 0       38871 2016-04-01 12:46:46  \n",
       "22  2016-03-23                 0       49716 2016-03-31 01:16:33  \n",
       "26  2016-03-10                 0       31139 2016-03-16 09:16:46  \n",
       "31  2016-03-29                 0       37075 2016-03-29 17:43:07  "
      ]
     },
     "execution_count": 19,
     "metadata": {},
     "output_type": "execute_result"
    }
   ],
   "source": [
    "# посмотрим данные с пропусками по столбцу 'тип автомобильного кузова'\n",
    "df[df['vehicletype'].isna()].head()"
   ]
  },
  {
   "cell_type": "code",
   "execution_count": 20,
   "metadata": {},
   "outputs": [
    {
     "data": {
      "text/plain": [
       "array(['golf', nan, 'grand', 'fabia', '3er', '2_reihe', 'other', 'c_max',\n",
       "       '3_reihe', 'passat', 'navara', 'ka', 'polo', 'twingo', 'a_klasse',\n",
       "       'scirocco', '5er', 'meriva', 'arosa', 'c4', 'civic', 'transporter',\n",
       "       'punto', 'e_klasse', 'clio', 'kadett', 'kangoo', 'corsa', 'one',\n",
       "       'fortwo', '1er', 'b_klasse', 'signum', 'astra', 'a8', 'jetta',\n",
       "       'fiesta', 'c_klasse', 'micra', 'vito', 'sprinter', '156', 'escort',\n",
       "       'forester', 'xc_reihe', 'scenic', 'a4', 'a1', 'insignia', 'combo',\n",
       "       'focus', 'tt', 'a6', 'jazz', 'omega', 'slk', '7er', '80', '147',\n",
       "       '100', 'z_reihe', 'sportage', 'sorento', 'v40', 'ibiza', 'mustang',\n",
       "       'eos', 'touran', 'getz', 'a3', 'almera', 'megane', 'lupo', 'r19',\n",
       "       'zafira', 'caddy', 'mondeo', 'cordoba', 'colt', 'impreza',\n",
       "       'vectra', 'berlingo', 'tiguan', 'i_reihe', 'espace', 'sharan',\n",
       "       '6_reihe', 'panda', 'up', 'seicento', 'ceed', '5_reihe', 'yeti',\n",
       "       'octavia', 'mii', 'rx_reihe', '6er', 'modus', 'fox', 'matiz',\n",
       "       'beetle', 'c1', 'rio', 'touareg', 'logan', 'spider', 'cuore',\n",
       "       's_max', 'a2', 'galaxy', 'c3', 'viano', 's_klasse', '1_reihe',\n",
       "       'avensis', 'roomster', 'sl', 'kaefer', 'santa', 'cooper', 'leon',\n",
       "       '4_reihe', 'a5', '500', 'laguna', 'ptcruiser', 'clk', 'primera',\n",
       "       'x_reihe', 'exeo', '159', 'transit', 'juke', 'qashqai', 'carisma',\n",
       "       'accord', 'corolla', 'lanos', 'phaeton', 'verso', 'swift', 'rav',\n",
       "       'picanto', 'boxster', 'kalos', 'superb', 'stilo', 'alhambra',\n",
       "       'mx_reihe', 'roadster', 'ypsilon', 'cayenne', 'galant', 'justy',\n",
       "       '90', 'sirion', 'crossfire', 'agila', 'duster', 'cr_reihe', 'v50',\n",
       "       'c_reihe', 'v_klasse', 'm_klasse', 'yaris', 'c5', 'aygo', 'cc',\n",
       "       'carnival', 'fusion', '911', 'bora', 'forfour', 'm_reihe', 'cl',\n",
       "       'tigra', '300c', 'spark', 'v70', 'kuga', 'x_type', 'ducato',\n",
       "       's_type', 'x_trail', 'toledo', 'altea', 'voyager', 'calibra',\n",
       "       'bravo', 'antara', 'tucson', 'citigo', 'jimny', 'wrangler',\n",
       "       'lybra', 'q7', 'lancer', 'captiva', 'c2', 'discovery',\n",
       "       'freelander', 'sandero', 'note', '900', 'cherokee', 'clubman',\n",
       "       'samara', 'defender', '601', 'cx_reihe', 'legacy', 'pajero',\n",
       "       'auris', 'niva', 's60', 'nubira', 'vivaro', 'g_klasse', 'lodgy',\n",
       "       '850', 'range_rover', 'q3', 'serie_2', 'glk', 'charade', 'croma',\n",
       "       'outlander', 'doblo', 'musa', 'move', '9000', 'v60', '145', 'aveo',\n",
       "       '200', 'b_max', 'range_rover_sport', 'terios', 'rangerover', 'q5',\n",
       "       'range_rover_evoque', 'materia', 'delta', 'gl', 'kalina', 'amarok',\n",
       "       'elefantino', 'i3', 'kappa', 'serie_3', 'serie_1'], dtype=object)"
      ]
     },
     "execution_count": 20,
     "metadata": {},
     "output_type": "execute_result"
    }
   ],
   "source": [
    "# посмотрим уникальные значения 'модель автомобиля'\n",
    "df['model'].unique()"
   ]
  },
  {
   "cell_type": "code",
   "execution_count": 21,
   "metadata": {},
   "outputs": [
    {
     "data": {
      "text/plain": [
       "array(['manual', 'auto', nan], dtype=object)"
      ]
     },
     "execution_count": 21,
     "metadata": {},
     "output_type": "execute_result"
    }
   ],
   "source": [
    "df['gearbox'].unique()"
   ]
  },
  {
   "cell_type": "code",
   "execution_count": 22,
   "metadata": {},
   "outputs": [
    {
     "data": {
      "text/html": [
       "<div>\n",
       "<style scoped>\n",
       "    .dataframe tbody tr th:only-of-type {\n",
       "        vertical-align: middle;\n",
       "    }\n",
       "\n",
       "    .dataframe tbody tr th {\n",
       "        vertical-align: top;\n",
       "    }\n",
       "\n",
       "    .dataframe thead th {\n",
       "        text-align: right;\n",
       "    }\n",
       "</style>\n",
       "<table border=\"1\" class=\"dataframe\">\n",
       "  <thead>\n",
       "    <tr style=\"text-align: right;\">\n",
       "      <th></th>\n",
       "      <th>datecrawled</th>\n",
       "      <th>price</th>\n",
       "      <th>vehicletype</th>\n",
       "      <th>registrationyear</th>\n",
       "      <th>gearbox</th>\n",
       "      <th>power</th>\n",
       "      <th>model</th>\n",
       "      <th>kilometer</th>\n",
       "      <th>registrationmonth</th>\n",
       "      <th>fueltype</th>\n",
       "      <th>brand</th>\n",
       "      <th>repaired</th>\n",
       "      <th>datecreated</th>\n",
       "      <th>numberofpictures</th>\n",
       "      <th>postalcode</th>\n",
       "      <th>lastseen</th>\n",
       "    </tr>\n",
       "  </thead>\n",
       "  <tbody>\n",
       "    <tr>\n",
       "      <th>15</th>\n",
       "      <td>2016-03-11 21:39:15</td>\n",
       "      <td>450</td>\n",
       "      <td>small</td>\n",
       "      <td>1910</td>\n",
       "      <td>NaN</td>\n",
       "      <td>0</td>\n",
       "      <td>ka</td>\n",
       "      <td>5000</td>\n",
       "      <td>0</td>\n",
       "      <td>petrol</td>\n",
       "      <td>ford</td>\n",
       "      <td>no</td>\n",
       "      <td>2016-03-11</td>\n",
       "      <td>0</td>\n",
       "      <td>24148</td>\n",
       "      <td>2016-03-19 08:46:47</td>\n",
       "    </tr>\n",
       "    <tr>\n",
       "      <th>16</th>\n",
       "      <td>2016-04-01 12:46:46</td>\n",
       "      <td>300</td>\n",
       "      <td>NaN</td>\n",
       "      <td>2016</td>\n",
       "      <td>NaN</td>\n",
       "      <td>60</td>\n",
       "      <td>polo</td>\n",
       "      <td>150000</td>\n",
       "      <td>0</td>\n",
       "      <td>petrol</td>\n",
       "      <td>volkswagen</td>\n",
       "      <td>no</td>\n",
       "      <td>2016-04-01</td>\n",
       "      <td>0</td>\n",
       "      <td>38871</td>\n",
       "      <td>2016-04-01 12:46:46</td>\n",
       "    </tr>\n",
       "    <tr>\n",
       "      <th>32</th>\n",
       "      <td>2016-03-15 20:59:01</td>\n",
       "      <td>245</td>\n",
       "      <td>sedan</td>\n",
       "      <td>1994</td>\n",
       "      <td>NaN</td>\n",
       "      <td>0</td>\n",
       "      <td>golf</td>\n",
       "      <td>150000</td>\n",
       "      <td>2</td>\n",
       "      <td>petrol</td>\n",
       "      <td>volkswagen</td>\n",
       "      <td>no</td>\n",
       "      <td>2016-03-15</td>\n",
       "      <td>0</td>\n",
       "      <td>44145</td>\n",
       "      <td>2016-03-17 18:17:43</td>\n",
       "    </tr>\n",
       "    <tr>\n",
       "      <th>37</th>\n",
       "      <td>2016-03-28 17:50:15</td>\n",
       "      <td>1500</td>\n",
       "      <td>NaN</td>\n",
       "      <td>2016</td>\n",
       "      <td>NaN</td>\n",
       "      <td>0</td>\n",
       "      <td>kangoo</td>\n",
       "      <td>150000</td>\n",
       "      <td>1</td>\n",
       "      <td>gasoline</td>\n",
       "      <td>renault</td>\n",
       "      <td>no</td>\n",
       "      <td>2016-03-28</td>\n",
       "      <td>0</td>\n",
       "      <td>46483</td>\n",
       "      <td>2016-03-30 09:18:02</td>\n",
       "    </tr>\n",
       "    <tr>\n",
       "      <th>40</th>\n",
       "      <td>2016-03-26 22:06:17</td>\n",
       "      <td>0</td>\n",
       "      <td>NaN</td>\n",
       "      <td>1990</td>\n",
       "      <td>NaN</td>\n",
       "      <td>0</td>\n",
       "      <td>corsa</td>\n",
       "      <td>150000</td>\n",
       "      <td>1</td>\n",
       "      <td>petrol</td>\n",
       "      <td>opel</td>\n",
       "      <td>no</td>\n",
       "      <td>2016-03-26</td>\n",
       "      <td>0</td>\n",
       "      <td>56412</td>\n",
       "      <td>2016-03-27 17:43:34</td>\n",
       "    </tr>\n",
       "  </tbody>\n",
       "</table>\n",
       "</div>"
      ],
      "text/plain": [
       "           datecrawled  price vehicletype  registrationyear gearbox  power  \\\n",
       "15 2016-03-11 21:39:15    450       small              1910     NaN      0   \n",
       "16 2016-04-01 12:46:46    300         NaN              2016     NaN     60   \n",
       "32 2016-03-15 20:59:01    245       sedan              1994     NaN      0   \n",
       "37 2016-03-28 17:50:15   1500         NaN              2016     NaN      0   \n",
       "40 2016-03-26 22:06:17      0         NaN              1990     NaN      0   \n",
       "\n",
       "     model  kilometer  registrationmonth  fueltype       brand repaired  \\\n",
       "15      ka       5000                  0    petrol        ford       no   \n",
       "16    polo     150000                  0    petrol  volkswagen       no   \n",
       "32    golf     150000                  2    petrol  volkswagen       no   \n",
       "37  kangoo     150000                  1  gasoline     renault       no   \n",
       "40   corsa     150000                  1    petrol        opel       no   \n",
       "\n",
       "   datecreated  numberofpictures  postalcode            lastseen  \n",
       "15  2016-03-11                 0       24148 2016-03-19 08:46:47  \n",
       "16  2016-04-01                 0       38871 2016-04-01 12:46:46  \n",
       "32  2016-03-15                 0       44145 2016-03-17 18:17:43  \n",
       "37  2016-03-28                 0       46483 2016-03-30 09:18:02  \n",
       "40  2016-03-26                 0       56412 2016-03-27 17:43:34  "
      ]
     },
     "execution_count": 22,
     "metadata": {},
     "output_type": "execute_result"
    }
   ],
   "source": [
    "df[df['gearbox'].isna()].head()"
   ]
  },
  {
   "cell_type": "code",
   "execution_count": 23,
   "metadata": {
    "scrolled": true
   },
   "outputs": [
    {
     "data": {
      "text/plain": [
       "manual    268251\n",
       "auto       66285\n",
       "Name: gearbox, dtype: int64"
      ]
     },
     "execution_count": 23,
     "metadata": {},
     "output_type": "execute_result"
    }
   ],
   "source": [
    "df['gearbox'].value_counts()"
   ]
  },
  {
   "cell_type": "code",
   "execution_count": 24,
   "metadata": {},
   "outputs": [
    {
     "data": {
      "text/plain": [
       "manual    0.80186\n",
       "auto      0.19814\n",
       "Name: gearbox, dtype: float64"
      ]
     },
     "execution_count": 24,
     "metadata": {},
     "output_type": "execute_result"
    }
   ],
   "source": [
    "df['gearbox'].value_counts(normalize=True) "
   ]
  },
  {
   "cell_type": "markdown",
   "metadata": {},
   "source": [
    "- строки с пропусками в категориальных столбцах 'vehicletype', 'gearbox', 'model', 'fueltype' удалим"
   ]
  },
  {
   "cell_type": "code",
   "execution_count": 25,
   "metadata": {},
   "outputs": [],
   "source": [
    "# удаление строк, в которых в столбцах 'vehicletype', 'gearbox', 'model', 'fueltype'  встречается NaN\n",
    "df = df.dropna(subset=['vehicletype', 'gearbox', 'model', 'fueltype']) "
   ]
  },
  {
   "cell_type": "code",
   "execution_count": 26,
   "metadata": {
    "scrolled": false
   },
   "outputs": [
    {
     "data": {
      "text/plain": [
       "datecrawled          0\n",
       "price                0\n",
       "vehicletype          0\n",
       "registrationyear     0\n",
       "gearbox              0\n",
       "power                0\n",
       "model                0\n",
       "kilometer            0\n",
       "registrationmonth    0\n",
       "fueltype             0\n",
       "brand                0\n",
       "repaired             0\n",
       "datecreated          0\n",
       "numberofpictures     0\n",
       "postalcode           0\n",
       "lastseen             0\n",
       "dtype: int64"
      ]
     },
     "execution_count": 26,
     "metadata": {},
     "output_type": "execute_result"
    }
   ],
   "source": [
    "df.isna().sum()"
   ]
  },
  {
   "cell_type": "markdown",
   "metadata": {},
   "source": [
    "#### Работа с дубликатами"
   ]
  },
  {
   "cell_type": "code",
   "execution_count": 27,
   "metadata": {},
   "outputs": [
    {
     "data": {
      "text/plain": [
       "5"
      ]
     },
     "execution_count": 27,
     "metadata": {},
     "output_type": "execute_result"
    }
   ],
   "source": [
    "# неявные дубликаты не выявлены\n",
    "# проверим явные дубликаты\n",
    "df.duplicated().sum()"
   ]
  },
  {
   "cell_type": "code",
   "execution_count": 28,
   "metadata": {},
   "outputs": [
    {
     "data": {
      "text/html": [
       "<div>\n",
       "<style scoped>\n",
       "    .dataframe tbody tr th:only-of-type {\n",
       "        vertical-align: middle;\n",
       "    }\n",
       "\n",
       "    .dataframe tbody tr th {\n",
       "        vertical-align: top;\n",
       "    }\n",
       "\n",
       "    .dataframe thead th {\n",
       "        text-align: right;\n",
       "    }\n",
       "</style>\n",
       "<table border=\"1\" class=\"dataframe\">\n",
       "  <thead>\n",
       "    <tr style=\"text-align: right;\">\n",
       "      <th></th>\n",
       "      <th>datecrawled</th>\n",
       "      <th>price</th>\n",
       "      <th>vehicletype</th>\n",
       "      <th>registrationyear</th>\n",
       "      <th>gearbox</th>\n",
       "      <th>power</th>\n",
       "      <th>model</th>\n",
       "      <th>kilometer</th>\n",
       "      <th>registrationmonth</th>\n",
       "      <th>fueltype</th>\n",
       "      <th>brand</th>\n",
       "      <th>repaired</th>\n",
       "      <th>datecreated</th>\n",
       "      <th>numberofpictures</th>\n",
       "      <th>postalcode</th>\n",
       "      <th>lastseen</th>\n",
       "    </tr>\n",
       "  </thead>\n",
       "  <tbody>\n",
       "    <tr>\n",
       "      <th>171088</th>\n",
       "      <td>2016-03-08 18:42:48</td>\n",
       "      <td>1799</td>\n",
       "      <td>coupe</td>\n",
       "      <td>1999</td>\n",
       "      <td>auto</td>\n",
       "      <td>193</td>\n",
       "      <td>clk</td>\n",
       "      <td>20000</td>\n",
       "      <td>7</td>\n",
       "      <td>petrol</td>\n",
       "      <td>mercedes_benz</td>\n",
       "      <td>no</td>\n",
       "      <td>2016-03-08</td>\n",
       "      <td>0</td>\n",
       "      <td>89518</td>\n",
       "      <td>2016-03-09 09:46:57</td>\n",
       "    </tr>\n",
       "    <tr>\n",
       "      <th>194008</th>\n",
       "      <td>2016-04-04 22:50:44</td>\n",
       "      <td>13000</td>\n",
       "      <td>sedan</td>\n",
       "      <td>2008</td>\n",
       "      <td>manual</td>\n",
       "      <td>143</td>\n",
       "      <td>a4</td>\n",
       "      <td>125000</td>\n",
       "      <td>9</td>\n",
       "      <td>gasoline</td>\n",
       "      <td>audi</td>\n",
       "      <td>no</td>\n",
       "      <td>2016-04-04</td>\n",
       "      <td>0</td>\n",
       "      <td>65428</td>\n",
       "      <td>2016-04-05 12:30:14</td>\n",
       "    </tr>\n",
       "    <tr>\n",
       "      <th>231258</th>\n",
       "      <td>2016-03-28 00:56:10</td>\n",
       "      <td>1000</td>\n",
       "      <td>small</td>\n",
       "      <td>2002</td>\n",
       "      <td>manual</td>\n",
       "      <td>83</td>\n",
       "      <td>other</td>\n",
       "      <td>150000</td>\n",
       "      <td>1</td>\n",
       "      <td>petrol</td>\n",
       "      <td>suzuki</td>\n",
       "      <td>no</td>\n",
       "      <td>2016-03-28</td>\n",
       "      <td>0</td>\n",
       "      <td>66589</td>\n",
       "      <td>2016-03-28 08:46:21</td>\n",
       "    </tr>\n",
       "    <tr>\n",
       "      <th>258109</th>\n",
       "      <td>2016-04-03 09:01:15</td>\n",
       "      <td>4699</td>\n",
       "      <td>coupe</td>\n",
       "      <td>2003</td>\n",
       "      <td>auto</td>\n",
       "      <td>218</td>\n",
       "      <td>clk</td>\n",
       "      <td>125000</td>\n",
       "      <td>6</td>\n",
       "      <td>petrol</td>\n",
       "      <td>mercedes_benz</td>\n",
       "      <td>yes</td>\n",
       "      <td>2016-04-03</td>\n",
       "      <td>0</td>\n",
       "      <td>75196</td>\n",
       "      <td>2016-04-07 09:44:54</td>\n",
       "    </tr>\n",
       "    <tr>\n",
       "      <th>325651</th>\n",
       "      <td>2016-03-18 18:46:15</td>\n",
       "      <td>1999</td>\n",
       "      <td>wagon</td>\n",
       "      <td>2001</td>\n",
       "      <td>manual</td>\n",
       "      <td>131</td>\n",
       "      <td>passat</td>\n",
       "      <td>150000</td>\n",
       "      <td>7</td>\n",
       "      <td>gasoline</td>\n",
       "      <td>volkswagen</td>\n",
       "      <td>no</td>\n",
       "      <td>2016-03-18</td>\n",
       "      <td>0</td>\n",
       "      <td>36391</td>\n",
       "      <td>2016-03-18 18:46:15</td>\n",
       "    </tr>\n",
       "  </tbody>\n",
       "</table>\n",
       "</div>"
      ],
      "text/plain": [
       "               datecrawled  price vehicletype  registrationyear gearbox  \\\n",
       "171088 2016-03-08 18:42:48   1799       coupe              1999    auto   \n",
       "194008 2016-04-04 22:50:44  13000       sedan              2008  manual   \n",
       "231258 2016-03-28 00:56:10   1000       small              2002  manual   \n",
       "258109 2016-04-03 09:01:15   4699       coupe              2003    auto   \n",
       "325651 2016-03-18 18:46:15   1999       wagon              2001  manual   \n",
       "\n",
       "        power   model  kilometer  registrationmonth  fueltype          brand  \\\n",
       "171088    193     clk      20000                  7    petrol  mercedes_benz   \n",
       "194008    143      a4     125000                  9  gasoline           audi   \n",
       "231258     83   other     150000                  1    petrol         suzuki   \n",
       "258109    218     clk     125000                  6    petrol  mercedes_benz   \n",
       "325651    131  passat     150000                  7  gasoline     volkswagen   \n",
       "\n",
       "       repaired datecreated  numberofpictures  postalcode            lastseen  \n",
       "171088       no  2016-03-08                 0       89518 2016-03-09 09:46:57  \n",
       "194008       no  2016-04-04                 0       65428 2016-04-05 12:30:14  \n",
       "231258       no  2016-03-28                 0       66589 2016-03-28 08:46:21  \n",
       "258109      yes  2016-04-03                 0       75196 2016-04-07 09:44:54  \n",
       "325651       no  2016-03-18                 0       36391 2016-03-18 18:46:15  "
      ]
     },
     "execution_count": 28,
     "metadata": {},
     "output_type": "execute_result"
    }
   ],
   "source": [
    "df[df.duplicated()]"
   ]
  },
  {
   "cell_type": "code",
   "execution_count": 29,
   "metadata": {},
   "outputs": [],
   "source": [
    "# удалим явные дубликаты\n",
    "df = df.drop_duplicates().reset_index(drop=True) "
   ]
  },
  {
   "cell_type": "markdown",
   "metadata": {},
   "source": [
    "#### Работа с аномальными значениями и выбросами"
   ]
  },
  {
   "cell_type": "markdown",
   "metadata": {},
   "source": [
    "- удалим неинформативные столбцы Количество фотографий автомобиля, Почтовый индекс владельца анкеты и Месяц регистрации автомобиля"
   ]
  },
  {
   "cell_type": "code",
   "execution_count": 30,
   "metadata": {},
   "outputs": [],
   "source": [
    "df.drop(['numberofpictures', 'postalcode', 'registrationmonth'], axis= 1, inplace= True)"
   ]
  },
  {
   "cell_type": "code",
   "execution_count": 31,
   "metadata": {
    "scrolled": true
   },
   "outputs": [
    {
     "data": {
      "text/html": [
       "<div>\n",
       "<style scoped>\n",
       "    .dataframe tbody tr th:only-of-type {\n",
       "        vertical-align: middle;\n",
       "    }\n",
       "\n",
       "    .dataframe tbody tr th {\n",
       "        vertical-align: top;\n",
       "    }\n",
       "\n",
       "    .dataframe thead th {\n",
       "        text-align: right;\n",
       "    }\n",
       "</style>\n",
       "<table border=\"1\" class=\"dataframe\">\n",
       "  <thead>\n",
       "    <tr style=\"text-align: right;\">\n",
       "      <th></th>\n",
       "      <th>price</th>\n",
       "      <th>registrationyear</th>\n",
       "      <th>power</th>\n",
       "      <th>kilometer</th>\n",
       "    </tr>\n",
       "  </thead>\n",
       "  <tbody>\n",
       "    <tr>\n",
       "      <th>count</th>\n",
       "      <td>284121.000000</td>\n",
       "      <td>284121.00000</td>\n",
       "      <td>284121.000000</td>\n",
       "      <td>284121.000000</td>\n",
       "    </tr>\n",
       "    <tr>\n",
       "      <th>mean</th>\n",
       "      <td>4847.271638</td>\n",
       "      <td>2002.56786</td>\n",
       "      <td>117.726581</td>\n",
       "      <td>128261.902499</td>\n",
       "    </tr>\n",
       "    <tr>\n",
       "      <th>std</th>\n",
       "      <td>4637.060177</td>\n",
       "      <td>6.24385</td>\n",
       "      <td>169.108595</td>\n",
       "      <td>36739.686622</td>\n",
       "    </tr>\n",
       "    <tr>\n",
       "      <th>min</th>\n",
       "      <td>0.000000</td>\n",
       "      <td>1910.00000</td>\n",
       "      <td>0.000000</td>\n",
       "      <td>5000.000000</td>\n",
       "    </tr>\n",
       "    <tr>\n",
       "      <th>25%</th>\n",
       "      <td>1300.000000</td>\n",
       "      <td>1999.00000</td>\n",
       "      <td>75.000000</td>\n",
       "      <td>125000.000000</td>\n",
       "    </tr>\n",
       "    <tr>\n",
       "      <th>50%</th>\n",
       "      <td>3199.000000</td>\n",
       "      <td>2003.00000</td>\n",
       "      <td>109.000000</td>\n",
       "      <td>150000.000000</td>\n",
       "    </tr>\n",
       "    <tr>\n",
       "      <th>75%</th>\n",
       "      <td>6999.000000</td>\n",
       "      <td>2007.00000</td>\n",
       "      <td>147.000000</td>\n",
       "      <td>150000.000000</td>\n",
       "    </tr>\n",
       "    <tr>\n",
       "      <th>max</th>\n",
       "      <td>20000.000000</td>\n",
       "      <td>2018.00000</td>\n",
       "      <td>20000.000000</td>\n",
       "      <td>150000.000000</td>\n",
       "    </tr>\n",
       "  </tbody>\n",
       "</table>\n",
       "</div>"
      ],
      "text/plain": [
       "               price  registrationyear          power      kilometer\n",
       "count  284121.000000      284121.00000  284121.000000  284121.000000\n",
       "mean     4847.271638        2002.56786     117.726581  128261.902499\n",
       "std      4637.060177           6.24385     169.108595   36739.686622\n",
       "min         0.000000        1910.00000       0.000000    5000.000000\n",
       "25%      1300.000000        1999.00000      75.000000  125000.000000\n",
       "50%      3199.000000        2003.00000     109.000000  150000.000000\n",
       "75%      6999.000000        2007.00000     147.000000  150000.000000\n",
       "max     20000.000000        2018.00000   20000.000000  150000.000000"
      ]
     },
     "execution_count": 31,
     "metadata": {},
     "output_type": "execute_result"
    }
   ],
   "source": [
    "df.describe()"
   ]
  },
  {
   "cell_type": "markdown",
   "metadata": {},
   "source": [
    "Увидели странные значения:\n",
    "- Цена: 0 \n",
    "- Год регистрации автомобиля: 1910 и 2018, некорректные значения\n",
    "- Мощность: 0 и 20 тыс, некорректные значения"
   ]
  },
  {
   "cell_type": "code",
   "execution_count": 32,
   "metadata": {},
   "outputs": [],
   "source": [
    "# по Цене удалим аномальные значения, данные с ценой < 100 евро, удалим их\n",
    "df = df[df['price'] > 100]"
   ]
  },
  {
   "cell_type": "code",
   "execution_count": 33,
   "metadata": {},
   "outputs": [],
   "source": [
    "# по Году регистрации автомобиля удалим аномальные значения, данные с годом < 1980 и > 2016\n",
    "# (так как данные создания анкет включают только 2016 год)\n",
    "df = df[(df['registrationyear'] > 1980) & (df['registrationyear'] < 2017)]"
   ]
  },
  {
   "cell_type": "code",
   "execution_count": 34,
   "metadata": {},
   "outputs": [],
   "source": [
    "# по Мощности удалим аномальные значения, данные < 20 и > 2000 л.с.\n",
    "df = df[(df['power'] > 20) & (df['power'] < 2001)]"
   ]
  },
  {
   "cell_type": "code",
   "execution_count": 35,
   "metadata": {
    "scrolled": true
   },
   "outputs": [
    {
     "data": {
      "text/plain": [
       "(260832, 13)"
      ]
     },
     "execution_count": 35,
     "metadata": {},
     "output_type": "execute_result"
    }
   ],
   "source": [
    "df.shape"
   ]
  },
  {
   "cell_type": "code",
   "execution_count": 36,
   "metadata": {},
   "outputs": [
    {
     "data": {
      "text/html": [
       "<div>\n",
       "<style scoped>\n",
       "    .dataframe tbody tr th:only-of-type {\n",
       "        vertical-align: middle;\n",
       "    }\n",
       "\n",
       "    .dataframe tbody tr th {\n",
       "        vertical-align: top;\n",
       "    }\n",
       "\n",
       "    .dataframe thead th {\n",
       "        text-align: right;\n",
       "    }\n",
       "</style>\n",
       "<table border=\"1\" class=\"dataframe\">\n",
       "  <thead>\n",
       "    <tr style=\"text-align: right;\">\n",
       "      <th></th>\n",
       "      <th>datecrawled</th>\n",
       "      <th>price</th>\n",
       "      <th>vehicletype</th>\n",
       "      <th>registrationyear</th>\n",
       "      <th>gearbox</th>\n",
       "      <th>power</th>\n",
       "      <th>model</th>\n",
       "      <th>kilometer</th>\n",
       "      <th>fueltype</th>\n",
       "      <th>brand</th>\n",
       "      <th>repaired</th>\n",
       "      <th>datecreated</th>\n",
       "      <th>lastseen</th>\n",
       "    </tr>\n",
       "  </thead>\n",
       "  <tbody>\n",
       "    <tr>\n",
       "      <th>0</th>\n",
       "      <td>2016-03-14 12:52:21</td>\n",
       "      <td>9800</td>\n",
       "      <td>suv</td>\n",
       "      <td>2004</td>\n",
       "      <td>auto</td>\n",
       "      <td>163</td>\n",
       "      <td>grand</td>\n",
       "      <td>125000</td>\n",
       "      <td>gasoline</td>\n",
       "      <td>jeep</td>\n",
       "      <td>no</td>\n",
       "      <td>2016-03-14</td>\n",
       "      <td>2016-04-05 12:47:46</td>\n",
       "    </tr>\n",
       "    <tr>\n",
       "      <th>1</th>\n",
       "      <td>2016-03-17 16:54:04</td>\n",
       "      <td>1500</td>\n",
       "      <td>small</td>\n",
       "      <td>2001</td>\n",
       "      <td>manual</td>\n",
       "      <td>75</td>\n",
       "      <td>golf</td>\n",
       "      <td>150000</td>\n",
       "      <td>petrol</td>\n",
       "      <td>volkswagen</td>\n",
       "      <td>no</td>\n",
       "      <td>2016-03-17</td>\n",
       "      <td>2016-03-17 17:40:17</td>\n",
       "    </tr>\n",
       "    <tr>\n",
       "      <th>2</th>\n",
       "      <td>2016-03-31 17:25:20</td>\n",
       "      <td>3600</td>\n",
       "      <td>small</td>\n",
       "      <td>2008</td>\n",
       "      <td>manual</td>\n",
       "      <td>69</td>\n",
       "      <td>fabia</td>\n",
       "      <td>90000</td>\n",
       "      <td>gasoline</td>\n",
       "      <td>skoda</td>\n",
       "      <td>no</td>\n",
       "      <td>2016-03-31</td>\n",
       "      <td>2016-04-06 10:17:21</td>\n",
       "    </tr>\n",
       "    <tr>\n",
       "      <th>3</th>\n",
       "      <td>2016-04-04 17:36:23</td>\n",
       "      <td>650</td>\n",
       "      <td>sedan</td>\n",
       "      <td>1995</td>\n",
       "      <td>manual</td>\n",
       "      <td>102</td>\n",
       "      <td>3er</td>\n",
       "      <td>150000</td>\n",
       "      <td>petrol</td>\n",
       "      <td>bmw</td>\n",
       "      <td>yes</td>\n",
       "      <td>2016-04-04</td>\n",
       "      <td>2016-04-06 19:17:07</td>\n",
       "    </tr>\n",
       "    <tr>\n",
       "      <th>4</th>\n",
       "      <td>2016-04-01 20:48:51</td>\n",
       "      <td>2200</td>\n",
       "      <td>convertible</td>\n",
       "      <td>2004</td>\n",
       "      <td>manual</td>\n",
       "      <td>109</td>\n",
       "      <td>2_reihe</td>\n",
       "      <td>150000</td>\n",
       "      <td>petrol</td>\n",
       "      <td>peugeot</td>\n",
       "      <td>no</td>\n",
       "      <td>2016-04-01</td>\n",
       "      <td>2016-04-05 18:18:39</td>\n",
       "    </tr>\n",
       "  </tbody>\n",
       "</table>\n",
       "</div>"
      ],
      "text/plain": [
       "          datecrawled  price  vehicletype  registrationyear gearbox  power  \\\n",
       "0 2016-03-14 12:52:21   9800          suv              2004    auto    163   \n",
       "1 2016-03-17 16:54:04   1500        small              2001  manual     75   \n",
       "2 2016-03-31 17:25:20   3600        small              2008  manual     69   \n",
       "3 2016-04-04 17:36:23    650        sedan              1995  manual    102   \n",
       "4 2016-04-01 20:48:51   2200  convertible              2004  manual    109   \n",
       "\n",
       "     model  kilometer  fueltype       brand repaired datecreated  \\\n",
       "0    grand     125000  gasoline        jeep       no  2016-03-14   \n",
       "1     golf     150000    petrol  volkswagen       no  2016-03-17   \n",
       "2    fabia      90000  gasoline       skoda       no  2016-03-31   \n",
       "3      3er     150000    petrol         bmw      yes  2016-04-04   \n",
       "4  2_reihe     150000    petrol     peugeot       no  2016-04-01   \n",
       "\n",
       "             lastseen  \n",
       "0 2016-04-05 12:47:46  \n",
       "1 2016-03-17 17:40:17  \n",
       "2 2016-04-06 10:17:21  \n",
       "3 2016-04-06 19:17:07  \n",
       "4 2016-04-05 18:18:39  "
      ]
     },
     "execution_count": 36,
     "metadata": {},
     "output_type": "execute_result"
    }
   ],
   "source": [
    "df.head()"
   ]
  },
  {
   "cell_type": "code",
   "execution_count": 37,
   "metadata": {},
   "outputs": [
    {
     "data": {
      "image/png": "[encoded data removed]",
      "text/plain": [
       "<Figure size 720x360 with 1 Axes>"
      ]
     },
     "metadata": {
      "needs_background": "light"
     },
     "output_type": "display_data"
    }
   ],
   "source": [
    "df['registrationyear'].hist(bins=60, figsize = (10,5), alpha = 0.3);\n",
    "plt.xlabel('Годы')\n",
    "plt.ylabel('Количество')\n",
    "plt.title('Количество зарегистрированных автомобилей')\n",
    "plt.show()"
   ]
  },
  {
   "cell_type": "code",
   "execution_count": 38,
   "metadata": {
    "scrolled": true
   },
   "outputs": [
    {
     "data": {
      "image/png": "[encoded data removed]",
      "text/plain": [
       "<Figure size 720x360 with 1 Axes>"
      ]
     },
     "metadata": {
      "needs_background": "light"
     },
     "output_type": "display_data"
    }
   ],
   "source": [
    "df['price'].hist(bins=70, figsize = (10,5), alpha = 0.4);\n",
    "plt.xlabel('Цена, евро')\n",
    "plt.ylabel('Количество')\n",
    "plt.title('Стоимость автомобилей')\n",
    "plt.show()"
   ]
  },
  {
   "cell_type": "markdown",
   "metadata": {},
   "source": [
    "**Вывод по разделу 1**\n",
    "\n",
    "Загрузили данные и посмотрели на них, выявили:\n",
    "\n",
    "Данные содержат 354369 строк и 16 столбцов, \n",
    "- названия столбцов написаны не по правилам, заменили названия столбцов\n",
    "- из столбцов 3 столбца с датами (тип данных строки, перевели в тип datetime64)\n",
    "- посмотрели пропуски в столбеце Repaired заменили на 'no', так как отсутствие означает, что машина не была в ремонте\n",
    "- остальные категориальные пропуски заменили на заглушку -0.1\n",
    "- найдены явные дубликаты 5 шт, удалены\n",
    "- неявные дубликаты не выявлены\n",
    "- удалили неинформативные столбцы Количество фото, Почтовый индекс владельца анкеты и Месяц регистрации автомобиля\n",
    "- обработали аномалии и выбросы в столбцах: \n",
    " - Цена (удали Цену < 100 евро)\n",
    " - Год регистрации автомобиля (удали данные с годом < 1980 и > 2016, т.к. объявления размещены до 2016 г.)\n",
    " - Мощность (удалили данные < 20 и > 2000 л.с.)\n",
    " \n",
    "По итогу обработки осталось:\n",
    "- 260832 строк и 13 столбцов, что составляет 73,6% данных."
   ]
  },
  {
   "cell_type": "markdown",
   "metadata": {},
   "source": [
    "## Обучение моделей"
   ]
  },
  {
   "cell_type": "markdown",
   "metadata": {},
   "source": [
    "### Подготовка данных"
   ]
  },
  {
   "cell_type": "code",
   "execution_count": 39,
   "metadata": {},
   "outputs": [],
   "source": [
    "# выделим признаки\n",
    "features = df.drop(['price', 'datecrawled', 'lastseen', 'datecreated'], axis=1) "
   ]
  },
  {
   "cell_type": "code",
   "execution_count": 40,
   "metadata": {},
   "outputs": [],
   "source": [
    "# выделим целевой признак\n",
    "target = df['price']"
   ]
  },
  {
   "cell_type": "code",
   "execution_count": 41,
   "metadata": {},
   "outputs": [],
   "source": [
    "# разделим данные на 70/30\n",
    "features_train, features_test, target_train, target_test = train_test_split(features, target, \\\n",
    "                                                           test_size = 0.3, random_state=12345)"
   ]
  },
  {
   "cell_type": "code",
   "execution_count": 42,
   "metadata": {},
   "outputs": [
    {
     "data": {
      "text/plain": [
       "((182582, 9), (78250, 9))"
      ]
     },
     "execution_count": 42,
     "metadata": {},
     "output_type": "execute_result"
    }
   ],
   "source": [
    "# проверим разбиение\n",
    "features_train.shape, features_test.shape"
   ]
  },
  {
   "cell_type": "code",
   "execution_count": 43,
   "metadata": {
    "scrolled": true
   },
   "outputs": [
    {
     "data": {
      "text/plain": [
       "((182582,), (78250,))"
      ]
     },
     "execution_count": 43,
     "metadata": {},
     "output_type": "execute_result"
    }
   ],
   "source": [
    "target_train.shape, target_test.shape"
   ]
  },
  {
   "cell_type": "markdown",
   "metadata": {},
   "source": [
    "### Масштабирование"
   ]
  },
  {
   "cell_type": "code",
   "execution_count": 44,
   "metadata": {},
   "outputs": [],
   "source": [
    "# масштабируем количественные признаки — стандартизацией данных StandardScaler \n",
    "scaler = StandardScaler()\n",
    "numeric = ['registrationyear', 'power', 'kilometer']\n",
    "# настроим на обучающих данных\n",
    "scaler.fit(features_train[numeric]) \n",
    "pd.options.mode.chained_assignment = None\n",
    "# Преобразуем обучающую и тестовую выборки \n",
    "features_train[numeric] = scaler.transform(features_train[numeric])\n",
    "features_test[numeric] = scaler.transform(features_test[numeric])"
   ]
  },
  {
   "cell_type": "code",
   "execution_count": 45,
   "metadata": {},
   "outputs": [
    {
     "data": {
      "text/html": [
       "<div>\n",
       "<style scoped>\n",
       "    .dataframe tbody tr th:only-of-type {\n",
       "        vertical-align: middle;\n",
       "    }\n",
       "\n",
       "    .dataframe tbody tr th {\n",
       "        vertical-align: top;\n",
       "    }\n",
       "\n",
       "    .dataframe thead th {\n",
       "        text-align: right;\n",
       "    }\n",
       "</style>\n",
       "<table border=\"1\" class=\"dataframe\">\n",
       "  <thead>\n",
       "    <tr style=\"text-align: right;\">\n",
       "      <th></th>\n",
       "      <th>vehicletype</th>\n",
       "      <th>registrationyear</th>\n",
       "      <th>gearbox</th>\n",
       "      <th>power</th>\n",
       "      <th>model</th>\n",
       "      <th>kilometer</th>\n",
       "      <th>fueltype</th>\n",
       "      <th>brand</th>\n",
       "      <th>repaired</th>\n",
       "    </tr>\n",
       "  </thead>\n",
       "  <tbody>\n",
       "    <tr>\n",
       "      <th>159430</th>\n",
       "      <td>bus</td>\n",
       "      <td>0.712699</td>\n",
       "      <td>manual</td>\n",
       "      <td>0.133689</td>\n",
       "      <td>transporter</td>\n",
       "      <td>0.598283</td>\n",
       "      <td>gasoline</td>\n",
       "      <td>volkswagen</td>\n",
       "      <td>no</td>\n",
       "    </tr>\n",
       "    <tr>\n",
       "      <th>67586</th>\n",
       "      <td>small</td>\n",
       "      <td>-0.004350</td>\n",
       "      <td>manual</td>\n",
       "      <td>-1.019247</td>\n",
       "      <td>2_reihe</td>\n",
       "      <td>-0.087308</td>\n",
       "      <td>petrol</td>\n",
       "      <td>peugeot</td>\n",
       "      <td>no</td>\n",
       "    </tr>\n",
       "    <tr>\n",
       "      <th>8816</th>\n",
       "      <td>small</td>\n",
       "      <td>-0.183613</td>\n",
       "      <td>manual</td>\n",
       "      <td>-0.532091</td>\n",
       "      <td>one</td>\n",
       "      <td>-0.087308</td>\n",
       "      <td>petrol</td>\n",
       "      <td>mini</td>\n",
       "      <td>no</td>\n",
       "    </tr>\n",
       "    <tr>\n",
       "      <th>12988</th>\n",
       "      <td>bus</td>\n",
       "      <td>0.712699</td>\n",
       "      <td>manual</td>\n",
       "      <td>-0.207321</td>\n",
       "      <td>scenic</td>\n",
       "      <td>-0.087308</td>\n",
       "      <td>petrol</td>\n",
       "      <td>renault</td>\n",
       "      <td>no</td>\n",
       "    </tr>\n",
       "    <tr>\n",
       "      <th>219096</th>\n",
       "      <td>wagon</td>\n",
       "      <td>0.354175</td>\n",
       "      <td>auto</td>\n",
       "      <td>1.757542</td>\n",
       "      <td>5er</td>\n",
       "      <td>0.598283</td>\n",
       "      <td>gasoline</td>\n",
       "      <td>bmw</td>\n",
       "      <td>no</td>\n",
       "    </tr>\n",
       "  </tbody>\n",
       "</table>\n",
       "</div>"
      ],
      "text/plain": [
       "       vehicletype  registrationyear gearbox     power        model  \\\n",
       "159430         bus          0.712699  manual  0.133689  transporter   \n",
       "67586        small         -0.004350  manual -1.019247      2_reihe   \n",
       "8816         small         -0.183613  manual -0.532091          one   \n",
       "12988          bus          0.712699  manual -0.207321       scenic   \n",
       "219096       wagon          0.354175    auto  1.757542          5er   \n",
       "\n",
       "        kilometer  fueltype       brand repaired  \n",
       "159430   0.598283  gasoline  volkswagen       no  \n",
       "67586   -0.087308    petrol     peugeot       no  \n",
       "8816    -0.087308    petrol        mini       no  \n",
       "12988   -0.087308    petrol     renault       no  \n",
       "219096   0.598283  gasoline         bmw       no  "
      ]
     },
     "execution_count": 45,
     "metadata": {},
     "output_type": "execute_result"
    }
   ],
   "source": [
    "features_train.head()"
   ]
  },
  {
   "cell_type": "markdown",
   "metadata": {},
   "source": [
    "### Прямое кодирование"
   ]
  },
  {
   "cell_type": "code",
   "execution_count": 46,
   "metadata": {
    "scrolled": true
   },
   "outputs": [
    {
     "name": "stdout",
     "output_type": "stream",
     "text": [
      "CPU times: user 1min 14s, sys: 2.94 s, total: 1min 17s\n",
      "Wall time: 1min 17s\n"
     ]
    }
   ],
   "source": [
    "%%time\n",
    "# преобразуем категориальные признаки — прямым кодирование OHE \n",
    "category = ['vehicletype', 'gearbox', 'model', 'fueltype', 'brand', 'repaired']\n",
    "ohe = OneHotEncoder(sparse=False, drop='first')\n",
    "# настроим на обучающих данных\n",
    "ohe.fit(features_train[category]) \n",
    "# Преобразуем обучающую и тестовую выборки \n",
    "features_train_ohe = features_train.drop(columns=category).copy()\n",
    "features_train_ohe[ohe.get_feature_names()] = ohe.transform(features_train[category])\n",
    "features_test_ohe = features_test.drop(columns=category).copy()\n",
    "features_test_ohe[ohe.get_feature_names()] = ohe.transform(features_test[category])"
   ]
  },
  {
   "cell_type": "code",
   "execution_count": 47,
   "metadata": {},
   "outputs": [
    {
     "data": {
      "text/html": [
       "<div>\n",
       "<style scoped>\n",
       "    .dataframe tbody tr th:only-of-type {\n",
       "        vertical-align: middle;\n",
       "    }\n",
       "\n",
       "    .dataframe tbody tr th {\n",
       "        vertical-align: top;\n",
       "    }\n",
       "\n",
       "    .dataframe thead th {\n",
       "        text-align: right;\n",
       "    }\n",
       "</style>\n",
       "<table border=\"1\" class=\"dataframe\">\n",
       "  <thead>\n",
       "    <tr style=\"text-align: right;\">\n",
       "      <th></th>\n",
       "      <th>registrationyear</th>\n",
       "      <th>power</th>\n",
       "      <th>kilometer</th>\n",
       "      <th>x0_convertible</th>\n",
       "      <th>x0_coupe</th>\n",
       "      <th>x0_other</th>\n",
       "      <th>x0_sedan</th>\n",
       "      <th>x0_small</th>\n",
       "      <th>x0_suv</th>\n",
       "      <th>x0_wagon</th>\n",
       "      <th>...</th>\n",
       "      <th>x4_seat</th>\n",
       "      <th>x4_skoda</th>\n",
       "      <th>x4_smart</th>\n",
       "      <th>x4_subaru</th>\n",
       "      <th>x4_suzuki</th>\n",
       "      <th>x4_toyota</th>\n",
       "      <th>x4_trabant</th>\n",
       "      <th>x4_volkswagen</th>\n",
       "      <th>x4_volvo</th>\n",
       "      <th>x5_yes</th>\n",
       "    </tr>\n",
       "  </thead>\n",
       "  <tbody>\n",
       "    <tr>\n",
       "      <th>159430</th>\n",
       "      <td>0.712699</td>\n",
       "      <td>0.133689</td>\n",
       "      <td>0.598283</td>\n",
       "      <td>0.0</td>\n",
       "      <td>0.0</td>\n",
       "      <td>0.0</td>\n",
       "      <td>0.0</td>\n",
       "      <td>0.0</td>\n",
       "      <td>0.0</td>\n",
       "      <td>0.0</td>\n",
       "      <td>...</td>\n",
       "      <td>0.0</td>\n",
       "      <td>0.0</td>\n",
       "      <td>0.0</td>\n",
       "      <td>0.0</td>\n",
       "      <td>0.0</td>\n",
       "      <td>0.0</td>\n",
       "      <td>0.0</td>\n",
       "      <td>1.0</td>\n",
       "      <td>0.0</td>\n",
       "      <td>0.0</td>\n",
       "    </tr>\n",
       "    <tr>\n",
       "      <th>67586</th>\n",
       "      <td>-0.004350</td>\n",
       "      <td>-1.019247</td>\n",
       "      <td>-0.087308</td>\n",
       "      <td>0.0</td>\n",
       "      <td>0.0</td>\n",
       "      <td>0.0</td>\n",
       "      <td>0.0</td>\n",
       "      <td>1.0</td>\n",
       "      <td>0.0</td>\n",
       "      <td>0.0</td>\n",
       "      <td>...</td>\n",
       "      <td>0.0</td>\n",
       "      <td>0.0</td>\n",
       "      <td>0.0</td>\n",
       "      <td>0.0</td>\n",
       "      <td>0.0</td>\n",
       "      <td>0.0</td>\n",
       "      <td>0.0</td>\n",
       "      <td>0.0</td>\n",
       "      <td>0.0</td>\n",
       "      <td>0.0</td>\n",
       "    </tr>\n",
       "    <tr>\n",
       "      <th>8816</th>\n",
       "      <td>-0.183613</td>\n",
       "      <td>-0.532091</td>\n",
       "      <td>-0.087308</td>\n",
       "      <td>0.0</td>\n",
       "      <td>0.0</td>\n",
       "      <td>0.0</td>\n",
       "      <td>0.0</td>\n",
       "      <td>1.0</td>\n",
       "      <td>0.0</td>\n",
       "      <td>0.0</td>\n",
       "      <td>...</td>\n",
       "      <td>0.0</td>\n",
       "      <td>0.0</td>\n",
       "      <td>0.0</td>\n",
       "      <td>0.0</td>\n",
       "      <td>0.0</td>\n",
       "      <td>0.0</td>\n",
       "      <td>0.0</td>\n",
       "      <td>0.0</td>\n",
       "      <td>0.0</td>\n",
       "      <td>0.0</td>\n",
       "    </tr>\n",
       "    <tr>\n",
       "      <th>12988</th>\n",
       "      <td>0.712699</td>\n",
       "      <td>-0.207321</td>\n",
       "      <td>-0.087308</td>\n",
       "      <td>0.0</td>\n",
       "      <td>0.0</td>\n",
       "      <td>0.0</td>\n",
       "      <td>0.0</td>\n",
       "      <td>0.0</td>\n",
       "      <td>0.0</td>\n",
       "      <td>0.0</td>\n",
       "      <td>...</td>\n",
       "      <td>0.0</td>\n",
       "      <td>0.0</td>\n",
       "      <td>0.0</td>\n",
       "      <td>0.0</td>\n",
       "      <td>0.0</td>\n",
       "      <td>0.0</td>\n",
       "      <td>0.0</td>\n",
       "      <td>0.0</td>\n",
       "      <td>0.0</td>\n",
       "      <td>0.0</td>\n",
       "    </tr>\n",
       "    <tr>\n",
       "      <th>219096</th>\n",
       "      <td>0.354175</td>\n",
       "      <td>1.757542</td>\n",
       "      <td>0.598283</td>\n",
       "      <td>0.0</td>\n",
       "      <td>0.0</td>\n",
       "      <td>0.0</td>\n",
       "      <td>0.0</td>\n",
       "      <td>0.0</td>\n",
       "      <td>0.0</td>\n",
       "      <td>1.0</td>\n",
       "      <td>...</td>\n",
       "      <td>0.0</td>\n",
       "      <td>0.0</td>\n",
       "      <td>0.0</td>\n",
       "      <td>0.0</td>\n",
       "      <td>0.0</td>\n",
       "      <td>0.0</td>\n",
       "      <td>0.0</td>\n",
       "      <td>0.0</td>\n",
       "      <td>0.0</td>\n",
       "      <td>0.0</td>\n",
       "    </tr>\n",
       "  </tbody>\n",
       "</table>\n",
       "<p>5 rows × 303 columns</p>\n",
       "</div>"
      ],
      "text/plain": [
       "        registrationyear     power  kilometer  x0_convertible  x0_coupe  \\\n",
       "159430          0.712699  0.133689   0.598283             0.0       0.0   \n",
       "67586          -0.004350 -1.019247  -0.087308             0.0       0.0   \n",
       "8816           -0.183613 -0.532091  -0.087308             0.0       0.0   \n",
       "12988           0.712699 -0.207321  -0.087308             0.0       0.0   \n",
       "219096          0.354175  1.757542   0.598283             0.0       0.0   \n",
       "\n",
       "        x0_other  x0_sedan  x0_small  x0_suv  x0_wagon  ...  x4_seat  \\\n",
       "159430       0.0       0.0       0.0     0.0       0.0  ...      0.0   \n",
       "67586        0.0       0.0       1.0     0.0       0.0  ...      0.0   \n",
       "8816         0.0       0.0       1.0     0.0       0.0  ...      0.0   \n",
       "12988        0.0       0.0       0.0     0.0       0.0  ...      0.0   \n",
       "219096       0.0       0.0       0.0     0.0       1.0  ...      0.0   \n",
       "\n",
       "        x4_skoda  x4_smart  x4_subaru  x4_suzuki  x4_toyota  x4_trabant  \\\n",
       "159430       0.0       0.0        0.0        0.0        0.0         0.0   \n",
       "67586        0.0       0.0        0.0        0.0        0.0         0.0   \n",
       "8816         0.0       0.0        0.0        0.0        0.0         0.0   \n",
       "12988        0.0       0.0        0.0        0.0        0.0         0.0   \n",
       "219096       0.0       0.0        0.0        0.0        0.0         0.0   \n",
       "\n",
       "        x4_volkswagen  x4_volvo  x5_yes  \n",
       "159430            1.0       0.0     0.0  \n",
       "67586             0.0       0.0     0.0  \n",
       "8816              0.0       0.0     0.0  \n",
       "12988             0.0       0.0     0.0  \n",
       "219096            0.0       0.0     0.0  \n",
       "\n",
       "[5 rows x 303 columns]"
      ]
     },
     "execution_count": 47,
     "metadata": {},
     "output_type": "execute_result"
    }
   ],
   "source": [
    "features_train_ohe.head()"
   ]
  },
  {
   "cell_type": "markdown",
   "metadata": {},
   "source": [
    "### Модель линейной регрессии"
   ]
  },
  {
   "cell_type": "code",
   "execution_count": 48,
   "metadata": {
    "scrolled": false
   },
   "outputs": [
    {
     "name": "stdout",
     "output_type": "stream",
     "text": [
      "RMSE:  2401.127\n",
      "\n",
      "Время обучения  10.701\n",
      "Время предсказания  0.112\n",
      "\n",
      "CPU times: user 22.4 s, sys: 10.2 s, total: 32.6 s\n",
      "Wall time: 32.7 s\n"
     ]
    }
   ],
   "source": [
    "%%time\n",
    "# Обучим модель линейной регрессии\n",
    "model = LinearRegression()\n",
    "scores = cross_validate(model, features_train_ohe, target_train, \\\n",
    "                        scoring='neg_mean_squared_error', cv=3, n_jobs=-1)\n",
    "print('RMSE: ', round((abs(scores['test_score'].mean()))**0.5, 3))\n",
    "print('\\nВремя обучения ', round(scores['fit_time'].mean(), 3))\n",
    "print('Время предсказания ', round(scores['score_time'].mean(), 3))\n",
    "print('')"
   ]
  },
  {
   "cell_type": "code",
   "execution_count": 49,
   "metadata": {},
   "outputs": [],
   "source": [
    "fit_time = []\n",
    "score_time = []\n",
    "rmse = []\n",
    "fit_time.append(round(scores['fit_time'].mean(), 3))\n",
    "score_time.append(round(scores['score_time'].mean(), 3))\n",
    "rmse.append(round((abs(scores['test_score'].mean()))**0.5, 3))"
   ]
  },
  {
   "cell_type": "markdown",
   "metadata": {},
   "source": [
    "### Модель CatBoost"
   ]
  },
  {
   "cell_type": "code",
   "execution_count": 50,
   "metadata": {
    "scrolled": true
   },
   "outputs": [
    {
     "name": "stdout",
     "output_type": "stream",
     "text": [
      "RMSE:  1564.965\n",
      "Лучшие параметры:  {'depth': 10, 'learning_rate': 0.5}\n",
      "\n",
      "Время обучения  3.952\n",
      "Время предсказания  0.08\n",
      "\n",
      "CPU times: user 42.4 s, sys: 466 ms, total: 42.8 s\n",
      "Wall time: 54.1 s\n"
     ]
    }
   ],
   "source": [
    "%%time\n",
    "# Обучим модель градиентного бустинга CatBoost. В данной моделе будем менять гиперпараметры:\n",
    "# максимальную глубину дерева - depth, скорость обучения - learning_rate\n",
    "model = CatBoostRegressor(iterations=50)\n",
    "parameters = [{'depth':[8, 10], 'learning_rate':[0.5, 0.8]}]\n",
    "grid = GridSearchCV(estimator=model, param_grid=parameters, \\\n",
    "                    scoring='neg_mean_squared_error', cv = 3, n_jobs=-1)\n",
    "grid.fit(features_train, target_train, cat_features=category, verbose=False)\n",
    "print('RMSE: ', round(abs(grid.best_score_)**0.5, 3))\n",
    "print('Лучшие параметры: ', grid.best_params_)\n",
    "print('\\nВремя обучения ', round(grid.cv_results_['mean_fit_time'].mean(), 3))\n",
    "print('Время предсказания ', round(grid.cv_results_['mean_score_time'].mean(), 3))\n",
    "print('')"
   ]
  },
  {
   "cell_type": "code",
   "execution_count": 51,
   "metadata": {},
   "outputs": [],
   "source": [
    "fit_time.append(round(grid.cv_results_['mean_fit_time'].mean(), 3))\n",
    "score_time.append(round(grid.cv_results_['mean_score_time'].mean(), 3))\n",
    "rmse.append(round(abs(grid.best_score_)**0.5, 3))"
   ]
  },
  {
   "cell_type": "markdown",
   "metadata": {},
   "source": [
    "### Модель LightGBM"
   ]
  },
  {
   "cell_type": "markdown",
   "metadata": {},
   "source": [
    "LightGBM модель умеет работать с категориальными признаками, кодировка не нужна. Объявим категориальные признаки."
   ]
  },
  {
   "cell_type": "code",
   "execution_count": 52,
   "metadata": {
    "scrolled": false
   },
   "outputs": [
    {
     "name": "stdout",
     "output_type": "stream",
     "text": [
      "<class 'pandas.core.frame.DataFrame'>\n",
      "Int64Index: 182582 entries, 159430 to 237027\n",
      "Data columns (total 9 columns):\n",
      " #   Column            Non-Null Count   Dtype   \n",
      "---  ------            --------------   -----   \n",
      " 0   vehicletype       182582 non-null  category\n",
      " 1   registrationyear  182582 non-null  float64 \n",
      " 2   gearbox           182582 non-null  category\n",
      " 3   power             182582 non-null  float64 \n",
      " 4   model             182582 non-null  category\n",
      " 5   kilometer         182582 non-null  float64 \n",
      " 6   fueltype          182582 non-null  category\n",
      " 7   brand             182582 non-null  category\n",
      " 8   repaired          182582 non-null  category\n",
      "dtypes: category(6), float64(3)\n",
      "memory usage: 6.8 MB\n"
     ]
    }
   ],
   "source": [
    "features_train.loc[:, category] = features_train.loc[:, category].astype('category')\n",
    "features_train.info()"
   ]
  },
  {
   "cell_type": "code",
   "execution_count": 53,
   "metadata": {},
   "outputs": [
    {
     "name": "stdout",
     "output_type": "stream",
     "text": [
      "RMSE:  1822.042\n",
      "Лучшие гиперпараметры:  {'learning_rate': 0.5, 'max_depth': 4, 'n_estimators': 10, 'num_leaves': 10}\n",
      "\n",
      "Время обучения  0.551\n",
      "Время предсказания  0.087\n",
      "\n",
      "CPU times: user 31.1 s, sys: 0 ns, total: 31.1 s\n",
      "Wall time: 31.4 s\n"
     ]
    }
   ],
   "source": [
    "%%time\n",
    "# Обучим модель градиентного бустинга LightGBM. В данной моделе будем менять гиперпараметры:\n",
    "# n_estimators - число деревьев , num_leaves - максимальное количество листьев, \n",
    "# максимальную глубину дерева - max_depth, скорость обучения - learning_rate\n",
    "model = lgb.LGBMRegressor()\n",
    "parameters = {'n_estimators': [8,10],\n",
    "              'num_leaves': [8,10],\n",
    "              'max_depth':[2,4],\n",
    "             'learning_rate':[0.5, 0.8] }\n",
    "grid = GridSearchCV(estimator=model, param_grid=parameters, \\\n",
    "                    scoring='neg_mean_squared_error', cv = 3, n_jobs=-1)\n",
    "grid.fit(features_train, target_train)\n",
    "print(f'RMSE:  {(-grid.best_score_)**0.5:.3f}')\n",
    "print(f'Лучшие гиперпараметры:  {grid.best_params_}')\n",
    "print('\\nВремя обучения ', round(grid.cv_results_['mean_fit_time'].mean(), 3))\n",
    "print('Время предсказания ', round(grid.cv_results_['mean_score_time'].mean(), 3))\n",
    "print('')"
   ]
  },
  {
   "cell_type": "code",
   "execution_count": 54,
   "metadata": {},
   "outputs": [],
   "source": [
    "fit_time.append(round(grid.cv_results_['mean_fit_time'].mean(), 3))\n",
    "score_time.append(round(grid.cv_results_['mean_score_time'].mean(), 3))\n",
    "rmse.append(round(abs(grid.best_score_)**0.5, 3))"
   ]
  },
  {
   "cell_type": "code",
   "execution_count": 55,
   "metadata": {},
   "outputs": [
    {
     "data": {
      "text/html": [
       "<div>\n",
       "<style scoped>\n",
       "    .dataframe tbody tr th:only-of-type {\n",
       "        vertical-align: middle;\n",
       "    }\n",
       "\n",
       "    .dataframe tbody tr th {\n",
       "        vertical-align: top;\n",
       "    }\n",
       "\n",
       "    .dataframe thead th {\n",
       "        text-align: right;\n",
       "    }\n",
       "</style>\n",
       "<table border=\"1\" class=\"dataframe\">\n",
       "  <thead>\n",
       "    <tr style=\"text-align: right;\">\n",
       "      <th></th>\n",
       "      <th>Модель</th>\n",
       "      <th>Время обучения</th>\n",
       "      <th>Время предсказания</th>\n",
       "      <th>RMSE</th>\n",
       "    </tr>\n",
       "  </thead>\n",
       "  <tbody>\n",
       "    <tr>\n",
       "      <th>0</th>\n",
       "      <td>Линейная регрессия</td>\n",
       "      <td>10.701</td>\n",
       "      <td>0.112</td>\n",
       "      <td>2401.127</td>\n",
       "    </tr>\n",
       "    <tr>\n",
       "      <th>1</th>\n",
       "      <td>Модель CatBoost</td>\n",
       "      <td>3.952</td>\n",
       "      <td>0.080</td>\n",
       "      <td>1564.965</td>\n",
       "    </tr>\n",
       "    <tr>\n",
       "      <th>2</th>\n",
       "      <td>Модель LightGBM</td>\n",
       "      <td>0.551</td>\n",
       "      <td>0.087</td>\n",
       "      <td>1822.042</td>\n",
       "    </tr>\n",
       "  </tbody>\n",
       "</table>\n",
       "</div>"
      ],
      "text/plain": [
       "               Модель  Время обучения  Время предсказания      RMSE\n",
       "0  Линейная регрессия          10.701               0.112  2401.127\n",
       "1     Модель CatBoost           3.952               0.080  1564.965\n",
       "2     Модель LightGBM           0.551               0.087  1822.042"
      ]
     },
     "execution_count": 55,
     "metadata": {},
     "output_type": "execute_result"
    }
   ],
   "source": [
    "df_total = pd.DataFrame({'Модель':['Линейная регрессия', 'Модель CatBoost', 'Модель LightGBM'], \\\n",
    "                         'Время обучения':fit_time, 'Время предсказания':score_time,\n",
    "                         'RMSE':rmse})\n",
    "df_total"
   ]
  },
  {
   "cell_type": "markdown",
   "metadata": {},
   "source": [
    "**Вывод по 2 разделу**\n",
    "- оставили в качестве признаков (9 шт) : тип автомобильного кузова; год регистрации автомобиля; тип коробки передач; мощность (л. с.); модель автомобиля; пробег (км); тип топлива; марка автомобиля; была машина в ремонте \n",
    "- разделили данные на 70/30\n",
    "- масштабировали количественные признаки — стандартизацией данных StandardScaler \n",
    "- преобразовали категориальные признаки — прямым кодирование OHE и использовали эти данные в модели линейной регрессии, остальные модели самостоятельно работают с категориальными признаками.\n",
    "\n",
    "Обучили три модели, две из них с использованием кросс валидации и подбора параметров GridSearchCV, выбрали лучшие параметры и оценили качество моделей.\n",
    "\n",
    "Наилучший результат показала модель Модель CatBoost с параметрами: {'depth': 10, 'learning_rate': 0.5}\n",
    "\n",
    "наилучшая RMSE = 1564.965\n",
    "\n",
    "наилучшее Время предсказания = 0.078\n",
    "\n",
    "Время обучения второе = 3.913\n"
   ]
  },
  {
   "cell_type": "markdown",
   "metadata": {},
   "source": [
    "## Анализ моделей"
   ]
  },
  {
   "cell_type": "markdown",
   "metadata": {},
   "source": [
    "### Проверка модели на тестовой выборке"
   ]
  },
  {
   "cell_type": "code",
   "execution_count": 56,
   "metadata": {},
   "outputs": [
    {
     "name": "stdout",
     "output_type": "stream",
     "text": [
      "CPU times: user 4.88 s, sys: 0 ns, total: 4.88 s\n",
      "Wall time: 5.64 s\n"
     ]
    },
    {
     "data": {
      "text/plain": [
       "<catboost.core.CatBoostRegressor at 0x7f4d4b2e64c0>"
      ]
     },
     "execution_count": 56,
     "metadata": {},
     "output_type": "execute_result"
    }
   ],
   "source": [
    "%%time\n",
    "model = CatBoostRegressor(iterations=50, depth=10, learning_rate=0.5)\n",
    "model.fit(features_train, target_train, cat_features=category, verbose=False)"
   ]
  },
  {
   "cell_type": "code",
   "execution_count": 57,
   "metadata": {},
   "outputs": [
    {
     "name": "stdout",
     "output_type": "stream",
     "text": [
      "Тестовая выборка\n",
      "RMSE:  1550.036\n",
      "CPU times: user 110 ms, sys: 0 ns, total: 110 ms\n",
      "Wall time: 107 ms\n"
     ]
    }
   ],
   "source": [
    "%%time\n",
    "predicted_test = model.predict(features_test)\n",
    "rmse_test = mean_squared_error(target_test, predicted_test)**0.5\n",
    "print('Тестовая выборка')\n",
    "print('RMSE: ', round(rmse_test, 3))"
   ]
  },
  {
   "cell_type": "markdown",
   "metadata": {},
   "source": [
    "### Проверка модели на адекватность"
   ]
  },
  {
   "cell_type": "code",
   "execution_count": 58,
   "metadata": {},
   "outputs": [
    {
     "name": "stdout",
     "output_type": "stream",
     "text": [
      "CPU times: user 2.25 ms, sys: 0 ns, total: 2.25 ms\n",
      "Wall time: 1.18 ms\n"
     ]
    },
    {
     "data": {
      "text/plain": [
       "DummyRegressor()"
      ]
     },
     "execution_count": 58,
     "metadata": {},
     "output_type": "execute_result"
    }
   ],
   "source": [
    "%%time\n",
    "# модель Dummy\n",
    "dummy = DummyRegressor(strategy=\"mean\")\n",
    "dummy.fit(features_train, target_train)"
   ]
  },
  {
   "cell_type": "code",
   "execution_count": 59,
   "metadata": {},
   "outputs": [
    {
     "name": "stdout",
     "output_type": "stream",
     "text": [
      "Dummy модель\n",
      "RMSE:  4664.613\n",
      "CPU times: user 1.98 ms, sys: 0 ns, total: 1.98 ms\n",
      "Wall time: 1.53 ms\n"
     ]
    }
   ],
   "source": [
    "%%time\n",
    "prediced_dummy = dummy.predict(features_test)\n",
    "rmse_dummy = mean_squared_error(target_test, prediced_dummy)**0.5\n",
    "print('Dummy модель')\n",
    "print('RMSE: ', round(rmse_dummy, 3))"
   ]
  },
  {
   "cell_type": "code",
   "execution_count": 60,
   "metadata": {},
   "outputs": [
    {
     "data": {
      "text/html": [
       "<div>\n",
       "<style scoped>\n",
       "    .dataframe tbody tr th:only-of-type {\n",
       "        vertical-align: middle;\n",
       "    }\n",
       "\n",
       "    .dataframe tbody tr th {\n",
       "        vertical-align: top;\n",
       "    }\n",
       "\n",
       "    .dataframe thead th {\n",
       "        text-align: right;\n",
       "    }\n",
       "</style>\n",
       "<table border=\"1\" class=\"dataframe\">\n",
       "  <thead>\n",
       "    <tr style=\"text-align: right;\">\n",
       "      <th></th>\n",
       "      <th>Модель</th>\n",
       "      <th>RMSE</th>\n",
       "    </tr>\n",
       "  </thead>\n",
       "  <tbody>\n",
       "    <tr>\n",
       "      <th>0</th>\n",
       "      <td>Модель CatBoost Обучающая</td>\n",
       "      <td>1564.965</td>\n",
       "    </tr>\n",
       "    <tr>\n",
       "      <th>1</th>\n",
       "      <td>Модель CatBoost Тестовая</td>\n",
       "      <td>1550.036</td>\n",
       "    </tr>\n",
       "    <tr>\n",
       "      <th>2</th>\n",
       "      <td>Константная модель</td>\n",
       "      <td>4664.613</td>\n",
       "    </tr>\n",
       "  </tbody>\n",
       "</table>\n",
       "</div>"
      ],
      "text/plain": [
       "                      Модель      RMSE\n",
       "0  Модель CatBoost Обучающая  1564.965\n",
       "1   Модель CatBoost Тестовая  1550.036\n",
       "2         Константная модель  4664.613"
      ]
     },
     "execution_count": 60,
     "metadata": {},
     "output_type": "execute_result"
    }
   ],
   "source": [
    "df_total_t = pd.DataFrame({'Модель':['Модель CatBoost Обучающая', 'Модель CatBoost Тестовая', \\\n",
    "                                     'Константная модель'], \\\n",
    "                           'RMSE': [rmse[1], round(rmse_test, 3), round(rmse_dummy, 3)]})\n",
    "df_total_t"
   ]
  },
  {
   "cell_type": "markdown",
   "metadata": {},
   "source": [
    "**Вывод по 3 разделу:**\n",
    "\n",
    "В результате проверки наилучшей модели на тестовой выборке данные улучшились.\n",
    "- RMSE: 1550.036\n",
    "\n",
    "\n",
    "Также в результате сравнения с константной моделью видны лучшие характеристики нашей модели.\n",
    "Соответственно работа выполнена, модель обучена и проверена.\n",
    "\n"
   ]
  },
  {
   "cell_type": "markdown",
   "metadata": {},
   "source": [
    "## Общий вывод по проекту"
   ]
  },
  {
   "cell_type": "markdown",
   "metadata": {},
   "source": [
    "Проанализировав исторические данные: технические характеристики, комплектации и цены автомобилей. Опираясь на критерии заказчика: - качество предсказания; - скорость предсказания; - время обучения. Была выбрана лучшая модель, и проверено её качество на тестовой выборке.\n",
    "\n",
    "Ей стала Модель CatBoost с параметрами: {'depth': 10, 'learning_rate': 0.5}.\n",
    "\n",
    "В 1 разделе: \n",
    "\n",
    "Загрузили данные и посмотрели на них, выявили:\n",
    "Данные содержат 354369 строк и 16 столбцов,\n",
    "-\tназвания столбцов написаны не по правилам, заменили названия столбцов\n",
    "-\tиз столбцов 3 столбца с датами (тип данных строки, перевели в тип datetime64)\n",
    "-\tпосмотрели пропуски в столбеце Repaired заменили на 'no', так как отсутствие означает, что машина не была в ремонте\n",
    "-\tостальные категориальные пропуски заменили на заглушку -0.1\n",
    "-\tнайдены явные дубликаты 5 шт, удалены\n",
    "-\tнеявные дубликаты не выявлены\n",
    "-\tудалили неинформативные столбцы Количество фото, Почтовый индекс владельца анкеты и Месяц регистрации автомобиля\n",
    "-\tобработали аномалии и выбросы в столбцах:\n",
    "    - Цена (удали Цену < 100 евро)\n",
    "    - Год регистрации автомобиля (удали данные с годом < 1980 и > 2016, т.к. объявления размещены до 2016 г.)\n",
    "    - Мощность (удалили данные < 20 и > 2000 л.с.)\n",
    "По итогу обработки осталось:\n",
    "-\t260832 строк и 13 столбцов, что составляет 73,6% данных.\n",
    "\n",
    "Во 2 разделе:\n",
    "\n",
    "-\tоставили в качестве признаков (9 шт) : тип автомобильного кузова; год регистрации автомобиля; тип коробки передач; мощность (л. с.); модель автомобиля; пробег (км); тип топлива; марка автомобиля; была машина в ремонте\n",
    "-\tразделили данные на 70/30\n",
    "-\tмасштабировали количественные признаки — стандартизацией данных StandardScaler\n",
    "-\tпреобразовали категориальные признаки — прямым кодирование OHE и использовали эти данные в модели линейной регрессии, остальные модели самостоятельно работают с категориальными признаками.\n",
    "Обучили три модели, две из них с использованием кросс валидации и подбора параметров GridSearchCV, выбрали лучшие параметры и оценили качество моделей.\n",
    "\n",
    "Наилучший результат показала модель Модель CatBoost с параметрами: {'depth': 10, 'learning_rate': 0.5}\n",
    "\n",
    "наилучшая RMSE = 1564.965\n",
    "наилучшее Время предсказания = 0.078\n",
    "Время обучения второе = 3.913\n",
    "\n",
    "В 3 разделе:\n",
    "\n",
    "В результате проверки наилучшей модели на тестовой выборке данные улучшились.\n",
    "-\tRMSE: 1550.036\n",
    "Также в результате сравнения с константной моделью видны лучшие характеристики нашей модели. Соответственно работа выполнена, модель обучена и проверена.\n"
   ]
  }
 ],
 "metadata": {
  "ExecuteTimeLog": [
   {
    "duration": 1572,
    "start_time": "2023-06-08T10:54:02.300Z"
   },
   {
    "duration": 1110,
    "start_time": "2023-06-08T10:54:03.874Z"
   },
   {
    "duration": 7,
    "start_time": "2023-06-08T10:54:04.985Z"
   },
   {
    "duration": 192,
    "start_time": "2023-06-08T10:54:04.993Z"
   },
   {
    "duration": 15,
    "start_time": "2023-06-08T10:54:05.188Z"
   },
   {
    "duration": 115,
    "start_time": "2023-06-08T10:54:05.205Z"
   },
   {
    "duration": 139,
    "start_time": "2023-06-08T10:55:27.550Z"
   },
   {
    "duration": 465,
    "start_time": "2023-06-08T10:55:38.674Z"
   },
   {
    "duration": 468,
    "start_time": "2023-06-08T10:55:53.867Z"
   },
   {
    "duration": 926,
    "start_time": "2023-06-08T10:56:21.466Z"
   },
   {
    "duration": 4,
    "start_time": "2023-06-08T11:17:58.598Z"
   },
   {
    "duration": 95,
    "start_time": "2023-06-08T11:18:04.125Z"
   },
   {
    "duration": 121,
    "start_time": "2023-06-08T11:20:12.806Z"
   },
   {
    "duration": 295,
    "start_time": "2023-06-08T11:20:48.058Z"
   },
   {
    "duration": 16,
    "start_time": "2023-06-08T11:20:54.157Z"
   },
   {
    "duration": 98,
    "start_time": "2023-06-08T11:21:07.518Z"
   },
   {
    "duration": 1569,
    "start_time": "2023-06-08T11:21:23.882Z"
   },
   {
    "duration": 905,
    "start_time": "2023-06-08T11:21:25.453Z"
   },
   {
    "duration": 6,
    "start_time": "2023-06-08T11:21:26.360Z"
   },
   {
    "duration": 176,
    "start_time": "2023-06-08T11:21:26.367Z"
   },
   {
    "duration": 17,
    "start_time": "2023-06-08T11:21:26.545Z"
   },
   {
    "duration": 8,
    "start_time": "2023-06-08T11:21:26.564Z"
   },
   {
    "duration": 365,
    "start_time": "2023-06-08T11:21:26.574Z"
   },
   {
    "duration": 125,
    "start_time": "2023-06-08T11:21:26.941Z"
   },
   {
    "duration": 0,
    "start_time": "2023-06-08T11:21:27.068Z"
   },
   {
    "duration": 0,
    "start_time": "2023-06-08T11:21:27.069Z"
   },
   {
    "duration": 0,
    "start_time": "2023-06-08T11:21:27.070Z"
   },
   {
    "duration": 0,
    "start_time": "2023-06-08T11:21:27.072Z"
   },
   {
    "duration": 0,
    "start_time": "2023-06-08T11:21:27.073Z"
   },
   {
    "duration": 14,
    "start_time": "2023-06-08T11:21:48.813Z"
   },
   {
    "duration": 102,
    "start_time": "2023-06-08T11:26:44.817Z"
   },
   {
    "duration": 91,
    "start_time": "2023-06-08T11:37:20.606Z"
   },
   {
    "duration": 2,
    "start_time": "2023-06-08T11:39:44.637Z"
   },
   {
    "duration": 1644,
    "start_time": "2023-06-08T12:39:34.787Z"
   },
   {
    "duration": 887,
    "start_time": "2023-06-08T12:39:36.432Z"
   },
   {
    "duration": 6,
    "start_time": "2023-06-08T12:39:37.321Z"
   },
   {
    "duration": 158,
    "start_time": "2023-06-08T12:39:37.329Z"
   },
   {
    "duration": 15,
    "start_time": "2023-06-08T12:39:37.490Z"
   },
   {
    "duration": 12,
    "start_time": "2023-06-08T12:39:37.507Z"
   },
   {
    "duration": 316,
    "start_time": "2023-06-08T12:39:37.521Z"
   },
   {
    "duration": 389,
    "start_time": "2023-06-08T12:39:37.839Z"
   },
   {
    "duration": 0,
    "start_time": "2023-06-08T12:39:38.230Z"
   },
   {
    "duration": 0,
    "start_time": "2023-06-08T12:39:38.232Z"
   },
   {
    "duration": 0,
    "start_time": "2023-06-08T12:39:38.233Z"
   },
   {
    "duration": 0,
    "start_time": "2023-06-08T12:39:38.235Z"
   },
   {
    "duration": 0,
    "start_time": "2023-06-08T12:39:38.237Z"
   },
   {
    "duration": 102,
    "start_time": "2023-06-08T12:40:13.950Z"
   },
   {
    "duration": 16,
    "start_time": "2023-06-08T16:47:18.512Z"
   },
   {
    "duration": 101,
    "start_time": "2023-06-08T16:47:27.522Z"
   },
   {
    "duration": 95,
    "start_time": "2023-06-08T16:47:30.754Z"
   },
   {
    "duration": 1523,
    "start_time": "2023-06-09T06:44:53.070Z"
   },
   {
    "duration": 1051,
    "start_time": "2023-06-09T06:44:54.595Z"
   },
   {
    "duration": 6,
    "start_time": "2023-06-09T06:44:55.647Z"
   },
   {
    "duration": 155,
    "start_time": "2023-06-09T06:44:55.654Z"
   },
   {
    "duration": 23,
    "start_time": "2023-06-09T06:44:55.810Z"
   },
   {
    "duration": 98,
    "start_time": "2023-06-09T06:44:55.835Z"
   },
   {
    "duration": 3,
    "start_time": "2023-06-09T06:44:55.934Z"
   },
   {
    "duration": 300,
    "start_time": "2023-06-09T06:44:55.938Z"
   },
   {
    "duration": 79,
    "start_time": "2023-06-09T06:44:56.239Z"
   },
   {
    "duration": 0,
    "start_time": "2023-06-09T06:44:56.320Z"
   },
   {
    "duration": 0,
    "start_time": "2023-06-09T06:44:56.321Z"
   },
   {
    "duration": 0,
    "start_time": "2023-06-09T06:44:56.322Z"
   },
   {
    "duration": 0,
    "start_time": "2023-06-09T06:44:56.323Z"
   },
   {
    "duration": 91,
    "start_time": "2023-06-09T06:47:05.212Z"
   },
   {
    "duration": 88,
    "start_time": "2023-06-09T06:47:08.308Z"
   },
   {
    "duration": 86,
    "start_time": "2023-06-09T06:47:17.836Z"
   },
   {
    "duration": 96,
    "start_time": "2023-06-09T06:49:24.955Z"
   },
   {
    "duration": 20,
    "start_time": "2023-06-09T06:49:36.955Z"
   },
   {
    "duration": 25,
    "start_time": "2023-06-09T06:49:48.092Z"
   },
   {
    "duration": 1787,
    "start_time": "2023-06-09T06:49:53.243Z"
   },
   {
    "duration": 37,
    "start_time": "2023-06-09T06:50:03.747Z"
   },
   {
    "duration": 21,
    "start_time": "2023-06-09T06:52:59.057Z"
   },
   {
    "duration": 30,
    "start_time": "2023-06-09T06:53:09.521Z"
   },
   {
    "duration": 1320,
    "start_time": "2023-06-09T06:53:35.403Z"
   },
   {
    "duration": 751,
    "start_time": "2023-06-09T06:53:36.725Z"
   },
   {
    "duration": 6,
    "start_time": "2023-06-09T06:53:37.477Z"
   },
   {
    "duration": 154,
    "start_time": "2023-06-09T06:53:37.485Z"
   },
   {
    "duration": 14,
    "start_time": "2023-06-09T06:53:37.641Z"
   },
   {
    "duration": 103,
    "start_time": "2023-06-09T06:53:37.657Z"
   },
   {
    "duration": 3,
    "start_time": "2023-06-09T06:53:37.762Z"
   },
   {
    "duration": 312,
    "start_time": "2023-06-09T06:53:37.766Z"
   },
   {
    "duration": 87,
    "start_time": "2023-06-09T06:53:38.080Z"
   },
   {
    "duration": 32,
    "start_time": "2023-06-09T06:53:38.169Z"
   },
   {
    "duration": 67,
    "start_time": "2023-06-09T06:53:38.203Z"
   },
   {
    "duration": 64,
    "start_time": "2023-06-09T06:53:38.271Z"
   },
   {
    "duration": 105,
    "start_time": "2023-06-09T06:53:38.337Z"
   },
   {
    "duration": 0,
    "start_time": "2023-06-09T06:53:38.443Z"
   },
   {
    "duration": 0,
    "start_time": "2023-06-09T06:53:38.445Z"
   },
   {
    "duration": 0,
    "start_time": "2023-06-09T06:53:38.446Z"
   },
   {
    "duration": 36,
    "start_time": "2023-06-09T06:55:12.415Z"
   },
   {
    "duration": 32,
    "start_time": "2023-06-09T06:55:20.887Z"
   },
   {
    "duration": 87,
    "start_time": "2023-06-09T07:03:13.720Z"
   },
   {
    "duration": 6,
    "start_time": "2023-06-09T07:03:34.179Z"
   },
   {
    "duration": 39,
    "start_time": "2023-06-09T07:06:57.946Z"
   },
   {
    "duration": 1475,
    "start_time": "2023-06-09T07:10:15.042Z"
   },
   {
    "duration": 817,
    "start_time": "2023-06-09T07:10:16.519Z"
   },
   {
    "duration": 5,
    "start_time": "2023-06-09T07:10:17.338Z"
   },
   {
    "duration": 138,
    "start_time": "2023-06-09T07:10:17.344Z"
   },
   {
    "duration": 13,
    "start_time": "2023-06-09T07:10:17.484Z"
   },
   {
    "duration": 130,
    "start_time": "2023-06-09T07:10:17.498Z"
   },
   {
    "duration": 2,
    "start_time": "2023-06-09T07:10:17.630Z"
   },
   {
    "duration": 310,
    "start_time": "2023-06-09T07:10:17.634Z"
   },
   {
    "duration": 90,
    "start_time": "2023-06-09T07:10:17.946Z"
   },
   {
    "duration": 20,
    "start_time": "2023-06-09T07:10:18.039Z"
   },
   {
    "duration": 36,
    "start_time": "2023-06-09T07:10:18.061Z"
   },
   {
    "duration": 50,
    "start_time": "2023-06-09T07:10:18.098Z"
   },
   {
    "duration": 45,
    "start_time": "2023-06-09T07:10:18.150Z"
   },
   {
    "duration": 228,
    "start_time": "2023-06-09T07:10:18.198Z"
   },
   {
    "duration": 0,
    "start_time": "2023-06-09T07:10:18.427Z"
   },
   {
    "duration": 0,
    "start_time": "2023-06-09T07:10:18.429Z"
   },
   {
    "duration": 0,
    "start_time": "2023-06-09T07:10:18.430Z"
   },
   {
    "duration": 35,
    "start_time": "2023-06-09T07:10:42.945Z"
   },
   {
    "duration": 32,
    "start_time": "2023-06-09T07:11:21.208Z"
   },
   {
    "duration": 35,
    "start_time": "2023-06-09T07:12:59.295Z"
   },
   {
    "duration": 21,
    "start_time": "2023-06-09T07:13:12.023Z"
   },
   {
    "duration": 20,
    "start_time": "2023-06-09T07:13:19.638Z"
   },
   {
    "duration": 16,
    "start_time": "2023-06-09T07:14:41.774Z"
   },
   {
    "duration": 23,
    "start_time": "2023-06-09T07:15:13.062Z"
   },
   {
    "duration": 16,
    "start_time": "2023-06-09T07:15:21.006Z"
   },
   {
    "duration": 18,
    "start_time": "2023-06-09T07:15:43.213Z"
   },
   {
    "duration": 29,
    "start_time": "2023-06-09T07:16:00.829Z"
   },
   {
    "duration": 96,
    "start_time": "2023-06-09T07:33:58.717Z"
   },
   {
    "duration": 105,
    "start_time": "2023-06-09T07:34:30.581Z"
   },
   {
    "duration": 77,
    "start_time": "2023-06-09T07:34:51.224Z"
   },
   {
    "duration": 20,
    "start_time": "2023-06-09T07:35:59.572Z"
   },
   {
    "duration": 288,
    "start_time": "2023-06-09T07:37:03.820Z"
   },
   {
    "duration": 296,
    "start_time": "2023-06-09T07:37:06.731Z"
   },
   {
    "duration": 98,
    "start_time": "2023-06-09T07:38:04.298Z"
   },
   {
    "duration": 25,
    "start_time": "2023-06-09T07:38:13.509Z"
   },
   {
    "duration": 187,
    "start_time": "2023-06-09T07:38:20.772Z"
   },
   {
    "duration": 42,
    "start_time": "2023-06-09T07:41:08.792Z"
   },
   {
    "duration": 46,
    "start_time": "2023-06-09T07:42:44.945Z"
   },
   {
    "duration": 1383,
    "start_time": "2023-06-09T07:42:55.876Z"
   },
   {
    "duration": 781,
    "start_time": "2023-06-09T07:42:57.261Z"
   },
   {
    "duration": 6,
    "start_time": "2023-06-09T07:42:58.043Z"
   },
   {
    "duration": 139,
    "start_time": "2023-06-09T07:42:58.050Z"
   },
   {
    "duration": 14,
    "start_time": "2023-06-09T07:42:58.191Z"
   },
   {
    "duration": 146,
    "start_time": "2023-06-09T07:42:58.206Z"
   },
   {
    "duration": 3,
    "start_time": "2023-06-09T07:42:58.354Z"
   },
   {
    "duration": 299,
    "start_time": "2023-06-09T07:42:58.359Z"
   },
   {
    "duration": 101,
    "start_time": "2023-06-09T07:42:58.659Z"
   },
   {
    "duration": 80,
    "start_time": "2023-06-09T07:42:58.762Z"
   },
   {
    "duration": 20,
    "start_time": "2023-06-09T07:42:58.844Z"
   },
   {
    "duration": 45,
    "start_time": "2023-06-09T07:42:58.865Z"
   },
   {
    "duration": 20,
    "start_time": "2023-06-09T07:42:58.925Z"
   },
   {
    "duration": 40,
    "start_time": "2023-06-09T07:42:58.947Z"
   },
   {
    "duration": 50,
    "start_time": "2023-06-09T07:42:58.989Z"
   },
   {
    "duration": 21,
    "start_time": "2023-06-09T07:42:59.041Z"
   },
   {
    "duration": 94,
    "start_time": "2023-06-09T07:42:59.064Z"
   },
   {
    "duration": 0,
    "start_time": "2023-06-09T07:42:59.160Z"
   },
   {
    "duration": 0,
    "start_time": "2023-06-09T07:42:59.161Z"
   },
   {
    "duration": 0,
    "start_time": "2023-06-09T07:42:59.162Z"
   },
   {
    "duration": 105,
    "start_time": "2023-06-09T07:52:21.788Z"
   },
   {
    "duration": 305,
    "start_time": "2023-06-09T07:52:40.427Z"
   },
   {
    "duration": 147,
    "start_time": "2023-06-09T07:53:43.610Z"
   },
   {
    "duration": 143,
    "start_time": "2023-06-09T07:53:50.234Z"
   },
   {
    "duration": 47,
    "start_time": "2023-06-09T07:55:50.689Z"
   },
   {
    "duration": 131,
    "start_time": "2023-06-09T07:56:07.777Z"
   },
   {
    "duration": 22,
    "start_time": "2023-06-09T07:57:05.033Z"
   },
   {
    "duration": 11,
    "start_time": "2023-06-09T07:57:17.656Z"
   },
   {
    "duration": 12,
    "start_time": "2023-06-09T07:57:29.389Z"
   },
   {
    "duration": 45,
    "start_time": "2023-06-09T07:57:42.418Z"
   },
   {
    "duration": 47,
    "start_time": "2023-06-09T07:57:45.772Z"
   },
   {
    "duration": 47,
    "start_time": "2023-06-09T07:58:09.295Z"
   },
   {
    "duration": 29,
    "start_time": "2023-06-09T07:58:15.785Z"
   },
   {
    "duration": 35,
    "start_time": "2023-06-09T08:02:51.822Z"
   },
   {
    "duration": 37,
    "start_time": "2023-06-09T08:04:46.908Z"
   },
   {
    "duration": 21,
    "start_time": "2023-06-09T08:17:10.279Z"
   },
   {
    "duration": 34,
    "start_time": "2023-06-09T08:17:50.806Z"
   },
   {
    "duration": 21,
    "start_time": "2023-06-09T08:18:49.413Z"
   },
   {
    "duration": 35,
    "start_time": "2023-06-09T08:19:15.902Z"
   },
   {
    "duration": 40,
    "start_time": "2023-06-09T08:19:26.731Z"
   },
   {
    "duration": 33,
    "start_time": "2023-06-09T08:20:19.133Z"
   },
   {
    "duration": 33,
    "start_time": "2023-06-09T08:20:40.093Z"
   },
   {
    "duration": 25,
    "start_time": "2023-06-09T08:22:55.803Z"
   },
   {
    "duration": 35,
    "start_time": "2023-06-09T08:23:05.355Z"
   },
   {
    "duration": 1494,
    "start_time": "2023-06-09T08:25:30.919Z"
   },
   {
    "duration": 789,
    "start_time": "2023-06-09T08:25:32.415Z"
   },
   {
    "duration": 6,
    "start_time": "2023-06-09T08:25:33.206Z"
   },
   {
    "duration": 153,
    "start_time": "2023-06-09T08:25:33.213Z"
   },
   {
    "duration": 15,
    "start_time": "2023-06-09T08:25:33.368Z"
   },
   {
    "duration": 105,
    "start_time": "2023-06-09T08:25:33.384Z"
   },
   {
    "duration": 4,
    "start_time": "2023-06-09T08:25:33.491Z"
   },
   {
    "duration": 332,
    "start_time": "2023-06-09T08:25:33.496Z"
   },
   {
    "duration": 82,
    "start_time": "2023-06-09T08:25:33.829Z"
   },
   {
    "duration": 65,
    "start_time": "2023-06-09T08:25:33.924Z"
   },
   {
    "duration": 34,
    "start_time": "2023-06-09T08:25:33.991Z"
   },
   {
    "duration": 37,
    "start_time": "2023-06-09T08:25:34.026Z"
   },
   {
    "duration": 33,
    "start_time": "2023-06-09T08:25:34.064Z"
   },
   {
    "duration": 44,
    "start_time": "2023-06-09T08:25:34.099Z"
   },
   {
    "duration": 27,
    "start_time": "2023-06-09T08:25:34.145Z"
   },
   {
    "duration": 37,
    "start_time": "2023-06-09T08:25:34.174Z"
   },
   {
    "duration": 20,
    "start_time": "2023-06-09T08:25:34.225Z"
   },
   {
    "duration": 31,
    "start_time": "2023-06-09T08:25:34.247Z"
   },
   {
    "duration": 34,
    "start_time": "2023-06-09T08:25:34.280Z"
   },
   {
    "duration": 33,
    "start_time": "2023-06-09T08:25:34.316Z"
   },
   {
    "duration": 47,
    "start_time": "2023-06-09T08:25:34.351Z"
   },
   {
    "duration": 24,
    "start_time": "2023-06-09T08:25:34.400Z"
   },
   {
    "duration": 34,
    "start_time": "2023-06-09T08:25:34.426Z"
   },
   {
    "duration": 42,
    "start_time": "2023-06-09T08:25:34.462Z"
   },
   {
    "duration": 119,
    "start_time": "2023-06-09T08:25:34.506Z"
   },
   {
    "duration": 0,
    "start_time": "2023-06-09T08:25:34.627Z"
   },
   {
    "duration": 0,
    "start_time": "2023-06-09T08:25:34.628Z"
   },
   {
    "duration": 0,
    "start_time": "2023-06-09T08:25:34.630Z"
   },
   {
    "duration": 0,
    "start_time": "2023-06-09T08:25:34.632Z"
   },
   {
    "duration": 3,
    "start_time": "2023-06-09T08:30:10.532Z"
   },
   {
    "duration": 1589,
    "start_time": "2023-06-09T08:30:35.502Z"
   },
   {
    "duration": 834,
    "start_time": "2023-06-09T08:30:37.093Z"
   },
   {
    "duration": 6,
    "start_time": "2023-06-09T08:30:37.929Z"
   },
   {
    "duration": 172,
    "start_time": "2023-06-09T08:30:37.936Z"
   },
   {
    "duration": 21,
    "start_time": "2023-06-09T08:30:38.110Z"
   },
   {
    "duration": 158,
    "start_time": "2023-06-09T08:30:38.133Z"
   },
   {
    "duration": 3,
    "start_time": "2023-06-09T08:30:38.293Z"
   },
   {
    "duration": 363,
    "start_time": "2023-06-09T08:30:38.297Z"
   },
   {
    "duration": 89,
    "start_time": "2023-06-09T08:30:38.662Z"
   },
   {
    "duration": 134,
    "start_time": "2023-06-09T08:30:38.753Z"
   },
   {
    "duration": 107,
    "start_time": "2023-06-09T08:30:38.888Z"
   },
   {
    "duration": 82,
    "start_time": "2023-06-09T08:30:38.996Z"
   },
   {
    "duration": 69,
    "start_time": "2023-06-09T08:30:39.079Z"
   },
   {
    "duration": 105,
    "start_time": "2023-06-09T08:30:39.151Z"
   },
   {
    "duration": 60,
    "start_time": "2023-06-09T08:30:39.258Z"
   },
   {
    "duration": 76,
    "start_time": "2023-06-09T08:30:39.319Z"
   },
   {
    "duration": 37,
    "start_time": "2023-06-09T08:30:39.397Z"
   },
   {
    "duration": 71,
    "start_time": "2023-06-09T08:30:39.435Z"
   },
   {
    "duration": 69,
    "start_time": "2023-06-09T08:30:39.507Z"
   },
   {
    "duration": 62,
    "start_time": "2023-06-09T08:30:39.577Z"
   },
   {
    "duration": 94,
    "start_time": "2023-06-09T08:30:39.640Z"
   },
   {
    "duration": 67,
    "start_time": "2023-06-09T08:30:39.736Z"
   },
   {
    "duration": 93,
    "start_time": "2023-06-09T08:30:39.805Z"
   },
   {
    "duration": 74,
    "start_time": "2023-06-09T08:30:39.900Z"
   },
   {
    "duration": 70,
    "start_time": "2023-06-09T08:30:39.976Z"
   },
   {
    "duration": 106,
    "start_time": "2023-06-09T08:30:40.048Z"
   },
   {
    "duration": 156,
    "start_time": "2023-06-09T08:30:40.155Z"
   },
   {
    "duration": 0,
    "start_time": "2023-06-09T08:30:40.313Z"
   },
   {
    "duration": 0,
    "start_time": "2023-06-09T08:30:40.314Z"
   },
   {
    "duration": 0,
    "start_time": "2023-06-09T08:30:40.316Z"
   },
   {
    "duration": 93,
    "start_time": "2023-06-09T08:31:18.432Z"
   },
   {
    "duration": 35,
    "start_time": "2023-06-09T08:33:06.221Z"
   },
   {
    "duration": 33,
    "start_time": "2023-06-09T08:33:14.309Z"
   },
   {
    "duration": 20,
    "start_time": "2023-06-09T08:33:25.821Z"
   },
   {
    "duration": 21,
    "start_time": "2023-06-09T08:33:28.813Z"
   },
   {
    "duration": 20,
    "start_time": "2023-06-09T08:33:34.284Z"
   },
   {
    "duration": 34,
    "start_time": "2023-06-09T08:34:12.881Z"
   },
   {
    "duration": 34,
    "start_time": "2023-06-09T08:34:16.997Z"
   },
   {
    "duration": 256,
    "start_time": "2023-06-09T08:37:10.275Z"
   },
   {
    "duration": 285,
    "start_time": "2023-06-09T08:37:12.452Z"
   },
   {
    "duration": 312,
    "start_time": "2023-06-09T08:39:34.083Z"
   },
   {
    "duration": 259,
    "start_time": "2023-06-09T08:39:39.658Z"
   },
   {
    "duration": 295,
    "start_time": "2023-06-09T08:43:35.911Z"
   },
   {
    "duration": 15,
    "start_time": "2023-06-09T08:49:56.213Z"
   },
   {
    "duration": 129,
    "start_time": "2023-06-09T08:50:19.565Z"
   },
   {
    "duration": 36,
    "start_time": "2023-06-09T08:50:32.909Z"
   },
   {
    "duration": 18,
    "start_time": "2023-06-09T08:51:10.748Z"
   },
   {
    "duration": 1409,
    "start_time": "2023-06-09T08:53:14.286Z"
   },
   {
    "duration": 777,
    "start_time": "2023-06-09T08:53:15.697Z"
   },
   {
    "duration": 5,
    "start_time": "2023-06-09T08:53:16.475Z"
   },
   {
    "duration": 139,
    "start_time": "2023-06-09T08:53:16.481Z"
   },
   {
    "duration": 13,
    "start_time": "2023-06-09T08:53:16.624Z"
   },
   {
    "duration": 105,
    "start_time": "2023-06-09T08:53:16.638Z"
   },
   {
    "duration": 3,
    "start_time": "2023-06-09T08:53:16.745Z"
   },
   {
    "duration": 318,
    "start_time": "2023-06-09T08:53:16.749Z"
   },
   {
    "duration": 83,
    "start_time": "2023-06-09T08:53:17.069Z"
   },
   {
    "duration": 79,
    "start_time": "2023-06-09T08:53:17.154Z"
   },
   {
    "duration": 18,
    "start_time": "2023-06-09T08:53:17.234Z"
   },
   {
    "duration": 43,
    "start_time": "2023-06-09T08:53:17.254Z"
   },
   {
    "duration": 36,
    "start_time": "2023-06-09T08:53:17.298Z"
   },
   {
    "duration": 49,
    "start_time": "2023-06-09T08:53:17.336Z"
   },
   {
    "duration": 19,
    "start_time": "2023-06-09T08:53:17.386Z"
   },
   {
    "duration": 51,
    "start_time": "2023-06-09T08:53:17.406Z"
   },
   {
    "duration": 28,
    "start_time": "2023-06-09T08:53:17.459Z"
   },
   {
    "duration": 26,
    "start_time": "2023-06-09T08:53:17.489Z"
   },
   {
    "duration": 60,
    "start_time": "2023-06-09T08:53:17.517Z"
   },
   {
    "duration": 29,
    "start_time": "2023-06-09T08:53:17.578Z"
   },
   {
    "duration": 44,
    "start_time": "2023-06-09T08:53:17.609Z"
   },
   {
    "duration": 26,
    "start_time": "2023-06-09T08:53:17.654Z"
   },
   {
    "duration": 54,
    "start_time": "2023-06-09T08:53:17.682Z"
   },
   {
    "duration": 24,
    "start_time": "2023-06-09T08:53:17.737Z"
   },
   {
    "duration": 21,
    "start_time": "2023-06-09T08:53:17.763Z"
   },
   {
    "duration": 91,
    "start_time": "2023-06-09T08:53:17.786Z"
   },
   {
    "duration": 290,
    "start_time": "2023-06-09T08:53:17.879Z"
   },
   {
    "duration": 279,
    "start_time": "2023-06-09T08:53:18.171Z"
   },
   {
    "duration": 333,
    "start_time": "2023-06-09T08:53:18.452Z"
   },
   {
    "duration": 12,
    "start_time": "2023-06-09T08:53:18.787Z"
   },
   {
    "duration": 45,
    "start_time": "2023-06-09T08:53:18.801Z"
   },
   {
    "duration": 126,
    "start_time": "2023-06-09T08:53:18.848Z"
   },
   {
    "duration": 0,
    "start_time": "2023-06-09T08:53:18.976Z"
   },
   {
    "duration": 18,
    "start_time": "2023-06-09T08:53:33.365Z"
   },
   {
    "duration": 12,
    "start_time": "2023-06-09T08:53:41.996Z"
   },
   {
    "duration": 12,
    "start_time": "2023-06-09T08:53:52.801Z"
   },
   {
    "duration": 13,
    "start_time": "2023-06-09T08:54:03.041Z"
   },
   {
    "duration": 0,
    "start_time": "2023-06-09T08:54:03.055Z"
   },
   {
    "duration": 14,
    "start_time": "2023-06-09T08:54:39.908Z"
   },
   {
    "duration": 3,
    "start_time": "2023-06-09T08:54:52.958Z"
   },
   {
    "duration": 817,
    "start_time": "2023-06-09T08:54:52.977Z"
   },
   {
    "duration": 4,
    "start_time": "2023-06-09T08:54:53.796Z"
   },
   {
    "duration": 170,
    "start_time": "2023-06-09T08:54:53.801Z"
   },
   {
    "duration": 12,
    "start_time": "2023-06-09T08:54:53.973Z"
   },
   {
    "duration": 130,
    "start_time": "2023-06-09T08:54:53.987Z"
   },
   {
    "duration": 3,
    "start_time": "2023-06-09T08:54:54.119Z"
   },
   {
    "duration": 248,
    "start_time": "2023-06-09T08:54:54.123Z"
   },
   {
    "duration": 88,
    "start_time": "2023-06-09T08:54:54.373Z"
   },
   {
    "duration": 110,
    "start_time": "2023-06-09T08:54:54.462Z"
   },
   {
    "duration": 21,
    "start_time": "2023-06-09T08:54:54.574Z"
   },
   {
    "duration": 78,
    "start_time": "2023-06-09T08:54:54.597Z"
   },
   {
    "duration": 47,
    "start_time": "2023-06-09T08:54:54.677Z"
   },
   {
    "duration": 102,
    "start_time": "2023-06-09T08:54:54.725Z"
   },
   {
    "duration": 44,
    "start_time": "2023-06-09T08:54:54.830Z"
   },
   {
    "duration": 82,
    "start_time": "2023-06-09T08:54:54.876Z"
   },
   {
    "duration": 32,
    "start_time": "2023-06-09T08:54:54.960Z"
   },
   {
    "duration": 53,
    "start_time": "2023-06-09T08:54:54.994Z"
   },
   {
    "duration": 54,
    "start_time": "2023-06-09T08:54:55.049Z"
   },
   {
    "duration": 39,
    "start_time": "2023-06-09T08:54:55.105Z"
   },
   {
    "duration": 39,
    "start_time": "2023-06-09T08:54:55.146Z"
   },
   {
    "duration": 32,
    "start_time": "2023-06-09T08:54:55.187Z"
   },
   {
    "duration": 23,
    "start_time": "2023-06-09T08:54:55.221Z"
   },
   {
    "duration": 25,
    "start_time": "2023-06-09T08:54:55.246Z"
   },
   {
    "duration": 25,
    "start_time": "2023-06-09T08:54:55.273Z"
   },
   {
    "duration": 104,
    "start_time": "2023-06-09T08:54:55.300Z"
   },
   {
    "duration": 266,
    "start_time": "2023-06-09T08:54:55.406Z"
   },
   {
    "duration": 257,
    "start_time": "2023-06-09T08:54:55.674Z"
   },
   {
    "duration": 291,
    "start_time": "2023-06-09T08:54:55.933Z"
   },
   {
    "duration": 13,
    "start_time": "2023-06-09T08:54:56.226Z"
   },
   {
    "duration": 38,
    "start_time": "2023-06-09T08:55:10.375Z"
   },
   {
    "duration": 26,
    "start_time": "2023-06-09T08:55:18.375Z"
   },
   {
    "duration": 14,
    "start_time": "2023-06-09T08:55:23.253Z"
   },
   {
    "duration": 25,
    "start_time": "2023-06-09T08:55:53.716Z"
   },
   {
    "duration": 13,
    "start_time": "2023-06-09T08:55:56.427Z"
   },
   {
    "duration": 1204,
    "start_time": "2023-06-09T08:58:03.609Z"
   },
   {
    "duration": 58,
    "start_time": "2023-06-09T08:58:53.460Z"
   },
   {
    "duration": 611,
    "start_time": "2023-06-09T08:59:04.179Z"
   },
   {
    "duration": 1373,
    "start_time": "2023-06-09T08:59:28.850Z"
   },
   {
    "duration": 843,
    "start_time": "2023-06-09T08:59:30.225Z"
   },
   {
    "duration": 6,
    "start_time": "2023-06-09T08:59:31.070Z"
   },
   {
    "duration": 313,
    "start_time": "2023-06-09T08:59:31.077Z"
   },
   {
    "duration": 46,
    "start_time": "2023-06-09T08:59:31.392Z"
   },
   {
    "duration": 205,
    "start_time": "2023-06-09T08:59:31.440Z"
   },
   {
    "duration": 872,
    "start_time": "2023-06-09T08:59:31.647Z"
   },
   {
    "duration": 73,
    "start_time": "2023-06-09T08:59:32.521Z"
   },
   {
    "duration": 691,
    "start_time": "2023-06-09T08:59:32.595Z"
   },
   {
    "duration": 4,
    "start_time": "2023-06-09T08:59:33.288Z"
   },
   {
    "duration": 315,
    "start_time": "2023-06-09T08:59:33.294Z"
   },
   {
    "duration": 86,
    "start_time": "2023-06-09T08:59:33.610Z"
   },
   {
    "duration": 158,
    "start_time": "2023-06-09T08:59:33.698Z"
   },
   {
    "duration": 20,
    "start_time": "2023-06-09T08:59:33.859Z"
   },
   {
    "duration": 50,
    "start_time": "2023-06-09T08:59:33.880Z"
   },
   {
    "duration": 31,
    "start_time": "2023-06-09T08:59:33.932Z"
   },
   {
    "duration": 66,
    "start_time": "2023-06-09T08:59:33.965Z"
   },
   {
    "duration": 27,
    "start_time": "2023-06-09T08:59:34.033Z"
   },
   {
    "duration": 52,
    "start_time": "2023-06-09T08:59:34.062Z"
   },
   {
    "duration": 21,
    "start_time": "2023-06-09T08:59:34.115Z"
   },
   {
    "duration": 29,
    "start_time": "2023-06-09T08:59:34.137Z"
   },
   {
    "duration": 43,
    "start_time": "2023-06-09T08:59:34.168Z"
   },
   {
    "duration": 30,
    "start_time": "2023-06-09T08:59:34.213Z"
   },
   {
    "duration": 47,
    "start_time": "2023-06-09T08:59:34.244Z"
   },
   {
    "duration": 41,
    "start_time": "2023-06-09T08:59:34.292Z"
   },
   {
    "duration": 23,
    "start_time": "2023-06-09T08:59:34.335Z"
   },
   {
    "duration": 25,
    "start_time": "2023-06-09T08:59:34.360Z"
   },
   {
    "duration": 22,
    "start_time": "2023-06-09T08:59:34.386Z"
   },
   {
    "duration": 87,
    "start_time": "2023-06-09T08:59:34.410Z"
   },
   {
    "duration": 269,
    "start_time": "2023-06-09T08:59:34.499Z"
   },
   {
    "duration": 302,
    "start_time": "2023-06-09T08:59:34.770Z"
   },
   {
    "duration": 303,
    "start_time": "2023-06-09T08:59:35.073Z"
   },
   {
    "duration": 27,
    "start_time": "2023-06-09T08:59:35.377Z"
   },
   {
    "duration": 84,
    "start_time": "2023-06-09T09:08:02.418Z"
   },
   {
    "duration": 13,
    "start_time": "2023-06-09T09:09:03.348Z"
   },
   {
    "duration": 10,
    "start_time": "2023-06-09T09:09:45.428Z"
   },
   {
    "duration": 10,
    "start_time": "2023-06-09T09:09:50.283Z"
   },
   {
    "duration": 12,
    "start_time": "2023-06-09T09:10:56.779Z"
   },
   {
    "duration": 11,
    "start_time": "2023-06-09T09:12:38.716Z"
   },
   {
    "duration": 11,
    "start_time": "2023-06-09T09:13:58.928Z"
   },
   {
    "duration": 11,
    "start_time": "2023-06-09T09:14:04.396Z"
   },
   {
    "duration": 11,
    "start_time": "2023-06-09T09:14:12.777Z"
   },
   {
    "duration": 12,
    "start_time": "2023-06-09T09:14:19.760Z"
   },
   {
    "duration": 10,
    "start_time": "2023-06-09T09:14:28.049Z"
   },
   {
    "duration": 10,
    "start_time": "2023-06-09T09:14:31.681Z"
   },
   {
    "duration": 11,
    "start_time": "2023-06-09T09:14:35.507Z"
   },
   {
    "duration": 11,
    "start_time": "2023-06-09T09:14:40.913Z"
   },
   {
    "duration": 11,
    "start_time": "2023-06-09T09:14:44.601Z"
   },
   {
    "duration": 11,
    "start_time": "2023-06-09T09:14:47.609Z"
   },
   {
    "duration": 11,
    "start_time": "2023-06-09T09:14:50.744Z"
   },
   {
    "duration": 12,
    "start_time": "2023-06-09T09:14:53.241Z"
   },
   {
    "duration": 80,
    "start_time": "2023-06-09T09:16:33.328Z"
   },
   {
    "duration": 110,
    "start_time": "2023-06-09T09:26:37.626Z"
   },
   {
    "duration": 3,
    "start_time": "2023-06-09T09:26:45.854Z"
   },
   {
    "duration": 738,
    "start_time": "2023-06-09T09:26:45.859Z"
   },
   {
    "duration": 4,
    "start_time": "2023-06-09T09:26:46.599Z"
   },
   {
    "duration": 144,
    "start_time": "2023-06-09T09:26:46.604Z"
   },
   {
    "duration": 14,
    "start_time": "2023-06-09T09:26:46.751Z"
   },
   {
    "duration": 95,
    "start_time": "2023-06-09T09:26:46.766Z"
   },
   {
    "duration": 812,
    "start_time": "2023-06-09T09:26:46.863Z"
   },
   {
    "duration": 82,
    "start_time": "2023-06-09T09:26:47.677Z"
   },
   {
    "duration": 551,
    "start_time": "2023-06-09T09:26:47.761Z"
   },
   {
    "duration": 3,
    "start_time": "2023-06-09T09:26:48.313Z"
   },
   {
    "duration": 236,
    "start_time": "2023-06-09T09:26:48.324Z"
   },
   {
    "duration": 90,
    "start_time": "2023-06-09T09:26:48.562Z"
   },
   {
    "duration": 74,
    "start_time": "2023-06-09T09:26:48.654Z"
   },
   {
    "duration": 22,
    "start_time": "2023-06-09T09:26:48.731Z"
   },
   {
    "duration": 36,
    "start_time": "2023-06-09T09:26:48.755Z"
   },
   {
    "duration": 52,
    "start_time": "2023-06-09T09:26:48.793Z"
   },
   {
    "duration": 46,
    "start_time": "2023-06-09T09:26:48.847Z"
   },
   {
    "duration": 37,
    "start_time": "2023-06-09T09:26:48.895Z"
   },
   {
    "duration": 63,
    "start_time": "2023-06-09T09:26:48.934Z"
   },
   {
    "duration": 22,
    "start_time": "2023-06-09T09:26:48.999Z"
   },
   {
    "duration": 26,
    "start_time": "2023-06-09T09:26:49.023Z"
   },
   {
    "duration": 47,
    "start_time": "2023-06-09T09:26:49.050Z"
   },
   {
    "duration": 30,
    "start_time": "2023-06-09T09:26:49.098Z"
   },
   {
    "duration": 41,
    "start_time": "2023-06-09T09:26:49.130Z"
   },
   {
    "duration": 28,
    "start_time": "2023-06-09T09:26:49.172Z"
   },
   {
    "duration": 27,
    "start_time": "2023-06-09T09:26:49.202Z"
   },
   {
    "duration": 33,
    "start_time": "2023-06-09T09:26:49.231Z"
   },
   {
    "duration": 33,
    "start_time": "2023-06-09T09:26:49.266Z"
   },
   {
    "duration": 92,
    "start_time": "2023-06-09T09:26:49.301Z"
   },
   {
    "duration": 275,
    "start_time": "2023-06-09T09:26:49.395Z"
   },
   {
    "duration": 303,
    "start_time": "2023-06-09T09:26:49.672Z"
   },
   {
    "duration": 336,
    "start_time": "2023-06-09T09:26:49.977Z"
   },
   {
    "duration": 23,
    "start_time": "2023-06-09T09:26:54.355Z"
   },
   {
    "duration": 74,
    "start_time": "2023-06-09T09:26:57.266Z"
   },
   {
    "duration": 103,
    "start_time": "2023-06-09T09:28:18.691Z"
   },
   {
    "duration": 8,
    "start_time": "2023-06-09T09:30:23.889Z"
   },
   {
    "duration": 8,
    "start_time": "2023-06-09T09:37:38.053Z"
   },
   {
    "duration": 11,
    "start_time": "2023-06-09T09:40:06.641Z"
   },
   {
    "duration": 3,
    "start_time": "2023-06-09T09:40:29.411Z"
   },
   {
    "duration": 227,
    "start_time": "2023-06-09T09:40:35.156Z"
   },
   {
    "duration": 292,
    "start_time": "2023-06-09T09:40:59.677Z"
   },
   {
    "duration": 454,
    "start_time": "2023-06-09T09:41:06.725Z"
   },
   {
    "duration": 131,
    "start_time": "2023-06-09T09:41:10.827Z"
   },
   {
    "duration": 148,
    "start_time": "2023-06-09T10:06:44.150Z"
   },
   {
    "duration": 10,
    "start_time": "2023-06-09T10:07:42.463Z"
   },
   {
    "duration": 8,
    "start_time": "2023-06-09T10:09:38.637Z"
   },
   {
    "duration": 13,
    "start_time": "2023-06-09T10:09:58.244Z"
   },
   {
    "duration": 8,
    "start_time": "2023-06-09T10:18:28.416Z"
   },
   {
    "duration": 11,
    "start_time": "2023-06-09T10:19:00.776Z"
   },
   {
    "duration": 9,
    "start_time": "2023-06-09T10:19:06.719Z"
   },
   {
    "duration": 33,
    "start_time": "2023-06-09T10:19:22.440Z"
   },
   {
    "duration": 5019,
    "start_time": "2023-06-09T10:19:42.065Z"
   },
   {
    "duration": 6652,
    "start_time": "2023-06-09T10:19:56.856Z"
   },
   {
    "duration": 14,
    "start_time": "2023-06-09T10:20:15.207Z"
   },
   {
    "duration": 21,
    "start_time": "2023-06-09T10:20:35.383Z"
   },
   {
    "duration": 12,
    "start_time": "2023-06-09T10:20:53.022Z"
   },
   {
    "duration": 9,
    "start_time": "2023-06-09T10:20:59.902Z"
   },
   {
    "duration": 14,
    "start_time": "2023-06-09T10:21:42.679Z"
   },
   {
    "duration": 8,
    "start_time": "2023-06-09T10:22:05.078Z"
   },
   {
    "duration": 14,
    "start_time": "2023-06-09T10:23:42.061Z"
   },
   {
    "duration": 62,
    "start_time": "2023-06-09T10:23:48.421Z"
   },
   {
    "duration": 62,
    "start_time": "2023-06-09T10:24:05.413Z"
   },
   {
    "duration": 183,
    "start_time": "2023-06-09T10:24:13.527Z"
   },
   {
    "duration": 21,
    "start_time": "2023-06-09T10:24:22.781Z"
   },
   {
    "duration": 14,
    "start_time": "2023-06-09T10:24:28.005Z"
   },
   {
    "duration": 63,
    "start_time": "2023-06-09T10:24:35.508Z"
   },
   {
    "duration": 32,
    "start_time": "2023-06-09T10:31:21.613Z"
   },
   {
    "duration": 32,
    "start_time": "2023-06-09T10:31:27.546Z"
   },
   {
    "duration": 125,
    "start_time": "2023-06-09T10:31:47.892Z"
   },
   {
    "duration": 9,
    "start_time": "2023-06-09T10:31:58.553Z"
   },
   {
    "duration": 12,
    "start_time": "2023-06-09T10:33:13.754Z"
   },
   {
    "duration": 10,
    "start_time": "2023-06-09T10:33:46.697Z"
   },
   {
    "duration": 15,
    "start_time": "2023-06-09T10:34:10.048Z"
   },
   {
    "duration": 10,
    "start_time": "2023-06-09T10:34:19.353Z"
   },
   {
    "duration": 34,
    "start_time": "2023-06-09T10:35:18.088Z"
   },
   {
    "duration": 1366,
    "start_time": "2023-06-09T10:36:38.837Z"
   },
   {
    "duration": 768,
    "start_time": "2023-06-09T10:36:40.205Z"
   },
   {
    "duration": 6,
    "start_time": "2023-06-09T10:36:40.976Z"
   },
   {
    "duration": 187,
    "start_time": "2023-06-09T10:36:40.985Z"
   },
   {
    "duration": 15,
    "start_time": "2023-06-09T10:36:41.173Z"
   },
   {
    "duration": 180,
    "start_time": "2023-06-09T10:36:41.189Z"
   },
   {
    "duration": 821,
    "start_time": "2023-06-09T10:36:41.371Z"
   },
   {
    "duration": 78,
    "start_time": "2023-06-09T10:36:42.193Z"
   },
   {
    "duration": 679,
    "start_time": "2023-06-09T10:36:42.273Z"
   },
   {
    "duration": 4,
    "start_time": "2023-06-09T10:36:42.954Z"
   },
   {
    "duration": 347,
    "start_time": "2023-06-09T10:36:42.959Z"
   },
   {
    "duration": 105,
    "start_time": "2023-06-09T10:36:43.308Z"
   },
   {
    "duration": 86,
    "start_time": "2023-06-09T10:36:43.414Z"
   },
   {
    "duration": 32,
    "start_time": "2023-06-09T10:36:43.502Z"
   },
   {
    "duration": 53,
    "start_time": "2023-06-09T10:36:43.536Z"
   },
   {
    "duration": 33,
    "start_time": "2023-06-09T10:36:43.591Z"
   },
   {
    "duration": 95,
    "start_time": "2023-06-09T10:36:43.625Z"
   },
   {
    "duration": 48,
    "start_time": "2023-06-09T10:36:43.722Z"
   },
   {
    "duration": 62,
    "start_time": "2023-06-09T10:36:43.772Z"
   },
   {
    "duration": 20,
    "start_time": "2023-06-09T10:36:43.836Z"
   },
   {
    "duration": 50,
    "start_time": "2023-06-09T10:36:43.857Z"
   },
   {
    "duration": 43,
    "start_time": "2023-06-09T10:36:43.908Z"
   },
   {
    "duration": 33,
    "start_time": "2023-06-09T10:36:43.953Z"
   },
   {
    "duration": 41,
    "start_time": "2023-06-09T10:36:43.987Z"
   },
   {
    "duration": 21,
    "start_time": "2023-06-09T10:36:44.029Z"
   },
   {
    "duration": 20,
    "start_time": "2023-06-09T10:36:44.051Z"
   },
   {
    "duration": 55,
    "start_time": "2023-06-09T10:36:44.072Z"
   },
   {
    "duration": 31,
    "start_time": "2023-06-09T10:36:44.130Z"
   },
   {
    "duration": 85,
    "start_time": "2023-06-09T10:36:44.162Z"
   },
   {
    "duration": 260,
    "start_time": "2023-06-09T10:36:44.248Z"
   },
   {
    "duration": 256,
    "start_time": "2023-06-09T10:36:44.509Z"
   },
   {
    "duration": 347,
    "start_time": "2023-06-09T10:36:44.767Z"
   },
   {
    "duration": 31,
    "start_time": "2023-06-09T10:36:45.115Z"
   },
   {
    "duration": 78,
    "start_time": "2023-06-09T10:36:45.147Z"
   },
   {
    "duration": 61,
    "start_time": "2023-06-09T10:36:45.227Z"
   },
   {
    "duration": 17,
    "start_time": "2023-06-09T10:36:45.290Z"
   },
   {
    "duration": 101,
    "start_time": "2023-06-09T10:36:45.324Z"
   },
   {
    "duration": 0,
    "start_time": "2023-06-09T10:36:45.426Z"
   },
   {
    "duration": 0,
    "start_time": "2023-06-09T10:36:45.427Z"
   },
   {
    "duration": 0,
    "start_time": "2023-06-09T10:36:45.428Z"
   },
   {
    "duration": 0,
    "start_time": "2023-06-09T10:36:45.429Z"
   },
   {
    "duration": 0,
    "start_time": "2023-06-09T10:36:45.430Z"
   },
   {
    "duration": 0,
    "start_time": "2023-06-09T10:36:45.431Z"
   },
   {
    "duration": 0,
    "start_time": "2023-06-09T10:36:45.432Z"
   },
   {
    "duration": 0,
    "start_time": "2023-06-09T10:36:45.433Z"
   },
   {
    "duration": 0,
    "start_time": "2023-06-09T10:36:45.434Z"
   },
   {
    "duration": 0,
    "start_time": "2023-06-09T10:36:45.435Z"
   },
   {
    "duration": 0,
    "start_time": "2023-06-09T10:36:45.436Z"
   },
   {
    "duration": 0,
    "start_time": "2023-06-09T10:36:45.437Z"
   },
   {
    "duration": 36,
    "start_time": "2023-06-09T10:38:49.966Z"
   },
   {
    "duration": 12,
    "start_time": "2023-06-09T10:38:59.262Z"
   },
   {
    "duration": 20,
    "start_time": "2023-06-09T10:39:42.749Z"
   },
   {
    "duration": 9,
    "start_time": "2023-06-09T10:40:08.686Z"
   },
   {
    "duration": 9,
    "start_time": "2023-06-09T10:40:27.388Z"
   },
   {
    "duration": 8,
    "start_time": "2023-06-09T10:40:33.317Z"
   },
   {
    "duration": 8,
    "start_time": "2023-06-09T10:40:59.805Z"
   },
   {
    "duration": 152,
    "start_time": "2023-06-09T10:41:31.093Z"
   },
   {
    "duration": 43,
    "start_time": "2023-06-09T10:43:12.803Z"
   },
   {
    "duration": 63,
    "start_time": "2023-06-09T10:43:19.457Z"
   },
   {
    "duration": 59,
    "start_time": "2023-06-09T10:44:33.892Z"
   },
   {
    "duration": 7,
    "start_time": "2023-06-09T10:46:16.190Z"
   },
   {
    "duration": 6,
    "start_time": "2023-06-09T10:47:02.213Z"
   },
   {
    "duration": 8,
    "start_time": "2023-06-09T10:47:08.953Z"
   },
   {
    "duration": 8,
    "start_time": "2023-06-09T10:47:14.778Z"
   },
   {
    "duration": 113,
    "start_time": "2023-06-09T10:48:01.278Z"
   },
   {
    "duration": 95,
    "start_time": "2023-06-09T10:48:07.457Z"
   },
   {
    "duration": 14,
    "start_time": "2023-06-09T10:48:16.650Z"
   },
   {
    "duration": 17,
    "start_time": "2023-06-09T10:48:38.497Z"
   },
   {
    "duration": 13,
    "start_time": "2023-06-09T10:48:44.877Z"
   },
   {
    "duration": 14,
    "start_time": "2023-06-09T10:48:49.617Z"
   },
   {
    "duration": 20,
    "start_time": "2023-06-09T10:50:24.799Z"
   },
   {
    "duration": 17,
    "start_time": "2023-06-09T10:50:35.656Z"
   },
   {
    "duration": 13,
    "start_time": "2023-06-09T10:51:59.991Z"
   },
   {
    "duration": 25,
    "start_time": "2023-06-09T10:52:58.063Z"
   },
   {
    "duration": 6,
    "start_time": "2023-06-09T10:53:07.007Z"
   },
   {
    "duration": 14,
    "start_time": "2023-06-09T10:53:15.510Z"
   },
   {
    "duration": 9,
    "start_time": "2023-06-09T10:53:24.019Z"
   },
   {
    "duration": 11,
    "start_time": "2023-06-09T10:55:26.534Z"
   },
   {
    "duration": 21,
    "start_time": "2023-06-09T10:58:08.221Z"
   },
   {
    "duration": 22,
    "start_time": "2023-06-09T10:58:11.992Z"
   },
   {
    "duration": 21,
    "start_time": "2023-06-09T10:58:15.935Z"
   },
   {
    "duration": 8,
    "start_time": "2023-06-09T10:59:23.880Z"
   },
   {
    "duration": 9,
    "start_time": "2023-06-09T10:59:29.867Z"
   },
   {
    "duration": 8,
    "start_time": "2023-06-09T11:00:04.261Z"
   },
   {
    "duration": 9,
    "start_time": "2023-06-09T11:00:11.875Z"
   },
   {
    "duration": 28,
    "start_time": "2023-06-09T11:01:01.266Z"
   },
   {
    "duration": 9,
    "start_time": "2023-06-09T11:01:04.395Z"
   },
   {
    "duration": 7,
    "start_time": "2023-06-09T11:01:06.715Z"
   },
   {
    "duration": 58,
    "start_time": "2023-06-09T11:01:18.113Z"
   },
   {
    "duration": 24,
    "start_time": "2023-06-09T11:01:41.210Z"
   },
   {
    "duration": 61,
    "start_time": "2023-06-09T11:01:44.090Z"
   },
   {
    "duration": 7,
    "start_time": "2023-06-09T11:03:08.313Z"
   },
   {
    "duration": 8,
    "start_time": "2023-06-09T11:03:49.561Z"
   },
   {
    "duration": 16,
    "start_time": "2023-06-09T11:05:16.088Z"
   },
   {
    "duration": 1409,
    "start_time": "2023-06-09T11:05:31.134Z"
   },
   {
    "duration": 849,
    "start_time": "2023-06-09T11:05:32.545Z"
   },
   {
    "duration": 5,
    "start_time": "2023-06-09T11:05:33.396Z"
   },
   {
    "duration": 142,
    "start_time": "2023-06-09T11:05:33.403Z"
   },
   {
    "duration": 15,
    "start_time": "2023-06-09T11:05:33.547Z"
   },
   {
    "duration": 162,
    "start_time": "2023-06-09T11:05:33.564Z"
   },
   {
    "duration": 828,
    "start_time": "2023-06-09T11:05:33.728Z"
   },
   {
    "duration": 89,
    "start_time": "2023-06-09T11:05:34.558Z"
   },
   {
    "duration": 740,
    "start_time": "2023-06-09T11:05:34.649Z"
   },
   {
    "duration": 4,
    "start_time": "2023-06-09T11:05:35.391Z"
   },
   {
    "duration": 303,
    "start_time": "2023-06-09T11:05:35.396Z"
   },
   {
    "duration": 88,
    "start_time": "2023-06-09T11:05:35.700Z"
   },
   {
    "duration": 81,
    "start_time": "2023-06-09T11:05:35.789Z"
   },
   {
    "duration": 19,
    "start_time": "2023-06-09T11:05:35.872Z"
   },
   {
    "duration": 49,
    "start_time": "2023-06-09T11:05:35.892Z"
   },
   {
    "duration": 32,
    "start_time": "2023-06-09T11:05:35.943Z"
   },
   {
    "duration": 50,
    "start_time": "2023-06-09T11:05:35.976Z"
   },
   {
    "duration": 61,
    "start_time": "2023-06-09T11:05:36.028Z"
   },
   {
    "duration": 91,
    "start_time": "2023-06-09T11:05:36.090Z"
   },
   {
    "duration": 42,
    "start_time": "2023-06-09T11:05:36.183Z"
   },
   {
    "duration": 52,
    "start_time": "2023-06-09T11:05:36.226Z"
   },
   {
    "duration": 55,
    "start_time": "2023-06-09T11:05:36.280Z"
   },
   {
    "duration": 56,
    "start_time": "2023-06-09T11:05:36.337Z"
   },
   {
    "duration": 84,
    "start_time": "2023-06-09T11:05:36.394Z"
   },
   {
    "duration": 48,
    "start_time": "2023-06-09T11:05:36.479Z"
   },
   {
    "duration": 50,
    "start_time": "2023-06-09T11:05:36.529Z"
   },
   {
    "duration": 41,
    "start_time": "2023-06-09T11:05:36.581Z"
   },
   {
    "duration": 42,
    "start_time": "2023-06-09T11:05:36.623Z"
   },
   {
    "duration": 97,
    "start_time": "2023-06-09T11:05:36.667Z"
   },
   {
    "duration": 300,
    "start_time": "2023-06-09T11:05:36.765Z"
   },
   {
    "duration": 304,
    "start_time": "2023-06-09T11:05:37.067Z"
   },
   {
    "duration": 357,
    "start_time": "2023-06-09T11:05:37.373Z"
   },
   {
    "duration": 23,
    "start_time": "2023-06-09T11:05:37.731Z"
   },
   {
    "duration": 57,
    "start_time": "2023-06-09T11:05:37.755Z"
   },
   {
    "duration": 54,
    "start_time": "2023-06-09T11:05:37.825Z"
   },
   {
    "duration": 48,
    "start_time": "2023-06-09T11:05:37.881Z"
   },
   {
    "duration": 30,
    "start_time": "2023-06-09T11:05:37.931Z"
   },
   {
    "duration": 25,
    "start_time": "2023-06-09T11:05:37.962Z"
   },
   {
    "duration": 6,
    "start_time": "2023-06-09T11:05:37.989Z"
   },
   {
    "duration": 43,
    "start_time": "2023-06-09T11:05:37.996Z"
   },
   {
    "duration": 39,
    "start_time": "2023-06-09T11:05:38.043Z"
   },
   {
    "duration": 1658,
    "start_time": "2023-06-09T11:05:38.084Z"
   },
   {
    "duration": 0,
    "start_time": "2023-06-09T11:05:39.744Z"
   },
   {
    "duration": 0,
    "start_time": "2023-06-09T11:05:39.745Z"
   },
   {
    "duration": 0,
    "start_time": "2023-06-09T11:05:39.746Z"
   },
   {
    "duration": 0,
    "start_time": "2023-06-09T11:05:39.747Z"
   },
   {
    "duration": 0,
    "start_time": "2023-06-09T11:05:39.748Z"
   },
   {
    "duration": 0,
    "start_time": "2023-06-09T11:05:39.749Z"
   },
   {
    "duration": 0,
    "start_time": "2023-06-09T11:05:39.750Z"
   },
   {
    "duration": 0,
    "start_time": "2023-06-09T11:05:39.750Z"
   },
   {
    "duration": 0,
    "start_time": "2023-06-09T11:05:39.751Z"
   },
   {
    "duration": 0,
    "start_time": "2023-06-09T11:05:39.752Z"
   },
   {
    "duration": 0,
    "start_time": "2023-06-09T11:05:39.753Z"
   },
   {
    "duration": 47,
    "start_time": "2023-06-09T11:05:58.078Z"
   },
   {
    "duration": 27,
    "start_time": "2023-06-09T11:07:36.600Z"
   },
   {
    "duration": 17,
    "start_time": "2023-06-09T11:08:01.075Z"
   },
   {
    "duration": 749,
    "start_time": "2023-06-09T11:08:05.831Z"
   },
   {
    "duration": 760,
    "start_time": "2023-06-09T11:08:11.455Z"
   },
   {
    "duration": 12,
    "start_time": "2023-06-09T11:08:37.079Z"
   },
   {
    "duration": 15,
    "start_time": "2023-06-09T11:09:33.598Z"
   },
   {
    "duration": 9,
    "start_time": "2023-06-09T11:10:03.880Z"
   },
   {
    "duration": 8,
    "start_time": "2023-06-09T11:10:13.901Z"
   },
   {
    "duration": 209,
    "start_time": "2023-06-09T11:10:15.693Z"
   },
   {
    "duration": 8,
    "start_time": "2023-06-09T11:10:31.158Z"
   },
   {
    "duration": 131,
    "start_time": "2023-06-09T11:10:42.253Z"
   },
   {
    "duration": 162,
    "start_time": "2023-06-09T11:10:51.317Z"
   },
   {
    "duration": 194,
    "start_time": "2023-06-09T11:10:55.853Z"
   },
   {
    "duration": 257,
    "start_time": "2023-06-09T11:11:34.989Z"
   },
   {
    "duration": 3,
    "start_time": "2023-06-09T11:11:39.709Z"
   },
   {
    "duration": 37,
    "start_time": "2023-06-09T11:11:45.357Z"
   },
   {
    "duration": 22,
    "start_time": "2023-06-09T11:12:00.118Z"
   },
   {
    "duration": 10,
    "start_time": "2023-06-09T11:12:09.526Z"
   },
   {
    "duration": 90,
    "start_time": "2023-06-09T11:12:35.742Z"
   },
   {
    "duration": 19,
    "start_time": "2023-06-09T11:12:58.966Z"
   },
   {
    "duration": 133,
    "start_time": "2023-06-09T11:13:03.653Z"
   },
   {
    "duration": 185,
    "start_time": "2023-06-09T11:13:08.170Z"
   },
   {
    "duration": 247,
    "start_time": "2023-06-09T11:13:17.365Z"
   },
   {
    "duration": 196,
    "start_time": "2023-06-09T11:13:25.692Z"
   },
   {
    "duration": 279,
    "start_time": "2023-06-09T11:13:55.720Z"
   },
   {
    "duration": 189,
    "start_time": "2023-06-09T11:14:16.157Z"
   },
   {
    "duration": 12,
    "start_time": "2023-06-09T11:14:27.708Z"
   },
   {
    "duration": 47,
    "start_time": "2023-06-09T11:14:33.131Z"
   },
   {
    "duration": 72,
    "start_time": "2023-06-09T11:14:46.628Z"
   },
   {
    "duration": 4,
    "start_time": "2023-06-09T11:15:27.737Z"
   },
   {
    "duration": 15,
    "start_time": "2023-06-09T11:15:48.634Z"
   },
   {
    "duration": 262,
    "start_time": "2023-06-09T11:16:45.315Z"
   },
   {
    "duration": 358,
    "start_time": "2023-06-09T11:16:57.025Z"
   },
   {
    "duration": 514,
    "start_time": "2023-06-09T11:17:06.626Z"
   },
   {
    "duration": 229,
    "start_time": "2023-06-09T11:17:14.650Z"
   },
   {
    "duration": 215,
    "start_time": "2023-06-09T11:17:30.876Z"
   },
   {
    "duration": 187,
    "start_time": "2023-06-09T11:17:36.682Z"
   },
   {
    "duration": 172,
    "start_time": "2023-06-09T11:17:41.354Z"
   },
   {
    "duration": 141,
    "start_time": "2023-06-09T11:19:47.849Z"
   },
   {
    "duration": 343,
    "start_time": "2023-06-09T11:20:05.209Z"
   },
   {
    "duration": 232,
    "start_time": "2023-06-09T11:20:13.989Z"
   },
   {
    "duration": 194,
    "start_time": "2023-06-09T11:20:18.685Z"
   },
   {
    "duration": 192,
    "start_time": "2023-06-09T11:23:10.785Z"
   },
   {
    "duration": 206,
    "start_time": "2023-06-09T11:23:23.279Z"
   },
   {
    "duration": 98,
    "start_time": "2023-06-09T11:23:47.585Z"
   },
   {
    "duration": 230,
    "start_time": "2023-06-09T11:24:16.772Z"
   },
   {
    "duration": 331,
    "start_time": "2023-06-09T11:24:24.014Z"
   },
   {
    "duration": 99,
    "start_time": "2023-06-09T11:24:53.301Z"
   },
   {
    "duration": 210,
    "start_time": "2023-06-09T11:25:13.577Z"
   },
   {
    "duration": 195,
    "start_time": "2023-06-09T11:25:25.653Z"
   },
   {
    "duration": 114,
    "start_time": "2023-06-09T11:28:43.928Z"
   },
   {
    "duration": 93,
    "start_time": "2023-06-09T11:28:55.067Z"
   },
   {
    "duration": 234,
    "start_time": "2023-06-09T11:29:01.244Z"
   },
   {
    "duration": 418,
    "start_time": "2023-06-09T11:30:45.883Z"
   },
   {
    "duration": 246,
    "start_time": "2023-06-09T11:32:00.330Z"
   },
   {
    "duration": 225,
    "start_time": "2023-06-09T11:32:12.529Z"
   },
   {
    "duration": 248,
    "start_time": "2023-06-09T11:32:41.874Z"
   },
   {
    "duration": 224,
    "start_time": "2023-06-09T11:33:17.402Z"
   },
   {
    "duration": 229,
    "start_time": "2023-06-09T11:33:43.697Z"
   },
   {
    "duration": 191,
    "start_time": "2023-06-09T11:34:21.811Z"
   },
   {
    "duration": 205,
    "start_time": "2023-06-09T11:34:32.359Z"
   },
   {
    "duration": 367,
    "start_time": "2023-06-09T11:34:38.848Z"
   },
   {
    "duration": 256,
    "start_time": "2023-06-09T11:34:43.684Z"
   },
   {
    "duration": 2,
    "start_time": "2023-06-09T11:45:51.211Z"
   },
   {
    "duration": 13,
    "start_time": "2023-06-09T12:17:29.338Z"
   },
   {
    "duration": 13,
    "start_time": "2023-06-09T12:17:46.859Z"
   },
   {
    "duration": 2,
    "start_time": "2023-06-09T12:17:57.082Z"
   },
   {
    "duration": 20,
    "start_time": "2023-06-09T12:18:24.506Z"
   },
   {
    "duration": 16,
    "start_time": "2023-06-09T12:18:40.798Z"
   },
   {
    "duration": 5,
    "start_time": "2023-06-09T12:29:49.857Z"
   },
   {
    "duration": 9,
    "start_time": "2023-06-09T12:32:19.299Z"
   },
   {
    "duration": 1471,
    "start_time": "2023-06-09T12:32:31.020Z"
   },
   {
    "duration": 829,
    "start_time": "2023-06-09T12:32:32.493Z"
   },
   {
    "duration": 7,
    "start_time": "2023-06-09T12:32:33.327Z"
   },
   {
    "duration": 144,
    "start_time": "2023-06-09T12:32:33.336Z"
   },
   {
    "duration": 15,
    "start_time": "2023-06-09T12:32:33.481Z"
   },
   {
    "duration": 103,
    "start_time": "2023-06-09T12:32:33.497Z"
   },
   {
    "duration": 792,
    "start_time": "2023-06-09T12:32:33.601Z"
   },
   {
    "duration": 75,
    "start_time": "2023-06-09T12:32:34.395Z"
   },
   {
    "duration": 669,
    "start_time": "2023-06-09T12:32:34.472Z"
   },
   {
    "duration": 4,
    "start_time": "2023-06-09T12:32:35.142Z"
   },
   {
    "duration": 305,
    "start_time": "2023-06-09T12:32:35.147Z"
   },
   {
    "duration": 85,
    "start_time": "2023-06-09T12:32:35.453Z"
   },
   {
    "duration": 84,
    "start_time": "2023-06-09T12:32:35.541Z"
   },
   {
    "duration": 19,
    "start_time": "2023-06-09T12:32:35.626Z"
   },
   {
    "duration": 43,
    "start_time": "2023-06-09T12:32:35.646Z"
   },
   {
    "duration": 41,
    "start_time": "2023-06-09T12:32:35.690Z"
   },
   {
    "duration": 49,
    "start_time": "2023-06-09T12:32:35.733Z"
   },
   {
    "duration": 33,
    "start_time": "2023-06-09T12:32:35.783Z"
   },
   {
    "duration": 57,
    "start_time": "2023-06-09T12:32:35.818Z"
   },
   {
    "duration": 23,
    "start_time": "2023-06-09T12:32:35.876Z"
   },
   {
    "duration": 25,
    "start_time": "2023-06-09T12:32:35.900Z"
   },
   {
    "duration": 44,
    "start_time": "2023-06-09T12:32:35.926Z"
   },
   {
    "duration": 30,
    "start_time": "2023-06-09T12:32:35.971Z"
   },
   {
    "duration": 37,
    "start_time": "2023-06-09T12:32:36.002Z"
   },
   {
    "duration": 19,
    "start_time": "2023-06-09T12:32:36.040Z"
   },
   {
    "duration": 21,
    "start_time": "2023-06-09T12:32:36.061Z"
   },
   {
    "duration": 19,
    "start_time": "2023-06-09T12:32:36.084Z"
   },
   {
    "duration": 34,
    "start_time": "2023-06-09T12:32:36.105Z"
   },
   {
    "duration": 87,
    "start_time": "2023-06-09T12:32:36.141Z"
   },
   {
    "duration": 265,
    "start_time": "2023-06-09T12:32:36.229Z"
   },
   {
    "duration": 279,
    "start_time": "2023-06-09T12:32:36.496Z"
   },
   {
    "duration": 337,
    "start_time": "2023-06-09T12:32:36.777Z"
   },
   {
    "duration": 23,
    "start_time": "2023-06-09T12:32:37.116Z"
   },
   {
    "duration": 54,
    "start_time": "2023-06-09T12:32:37.140Z"
   },
   {
    "duration": 50,
    "start_time": "2023-06-09T12:32:37.195Z"
   },
   {
    "duration": 28,
    "start_time": "2023-06-09T12:32:37.247Z"
   },
   {
    "duration": 24,
    "start_time": "2023-06-09T12:32:37.277Z"
   },
   {
    "duration": 36,
    "start_time": "2023-06-09T12:32:37.303Z"
   },
   {
    "duration": 23,
    "start_time": "2023-06-09T12:32:37.341Z"
   },
   {
    "duration": 214,
    "start_time": "2023-06-09T12:32:37.367Z"
   },
   {
    "duration": 230,
    "start_time": "2023-06-09T12:32:37.583Z"
   },
   {
    "duration": 16,
    "start_time": "2023-06-09T12:32:37.814Z"
   },
   {
    "duration": 40,
    "start_time": "2023-06-09T12:32:37.832Z"
   },
   {
    "duration": 204,
    "start_time": "2023-06-09T12:32:37.874Z"
   },
   {
    "duration": 0,
    "start_time": "2023-06-09T12:32:38.080Z"
   },
   {
    "duration": 0,
    "start_time": "2023-06-09T12:32:38.081Z"
   },
   {
    "duration": 0,
    "start_time": "2023-06-09T12:32:38.081Z"
   },
   {
    "duration": 74,
    "start_time": "2023-06-09T12:32:56.642Z"
   },
   {
    "duration": 4,
    "start_time": "2023-06-09T12:32:58.642Z"
   },
   {
    "duration": 5,
    "start_time": "2023-06-09T12:33:04.589Z"
   },
   {
    "duration": 4,
    "start_time": "2023-06-09T12:34:31.883Z"
   },
   {
    "duration": 2,
    "start_time": "2023-06-09T12:50:56.489Z"
   },
   {
    "duration": 19,
    "start_time": "2023-06-09T13:00:32.796Z"
   },
   {
    "duration": 55,
    "start_time": "2023-06-09T13:01:20.078Z"
   },
   {
    "duration": 34,
    "start_time": "2023-06-09T13:06:32.842Z"
   },
   {
    "duration": 3,
    "start_time": "2023-06-09T13:06:35.448Z"
   },
   {
    "duration": 140,
    "start_time": "2023-06-09T13:06:52.317Z"
   },
   {
    "duration": 19,
    "start_time": "2023-06-09T13:06:54.806Z"
   },
   {
    "duration": 11,
    "start_time": "2023-06-09T13:07:52.240Z"
   },
   {
    "duration": 4,
    "start_time": "2023-06-09T13:14:43.204Z"
   },
   {
    "duration": 1475,
    "start_time": "2023-06-12T09:32:51.149Z"
   },
   {
    "duration": 2802,
    "start_time": "2023-06-12T09:32:52.626Z"
   },
   {
    "duration": 5,
    "start_time": "2023-06-12T09:32:55.430Z"
   },
   {
    "duration": 132,
    "start_time": "2023-06-12T09:32:55.436Z"
   },
   {
    "duration": 16,
    "start_time": "2023-06-12T09:32:55.570Z"
   },
   {
    "duration": 92,
    "start_time": "2023-06-12T09:32:55.587Z"
   },
   {
    "duration": 901,
    "start_time": "2023-06-12T09:32:55.681Z"
   },
   {
    "duration": 72,
    "start_time": "2023-06-12T09:32:56.584Z"
   },
   {
    "duration": 680,
    "start_time": "2023-06-12T09:32:56.657Z"
   },
   {
    "duration": 3,
    "start_time": "2023-06-12T09:32:57.339Z"
   },
   {
    "duration": 307,
    "start_time": "2023-06-12T09:32:57.344Z"
   },
   {
    "duration": 97,
    "start_time": "2023-06-12T09:32:57.653Z"
   },
   {
    "duration": 86,
    "start_time": "2023-06-12T09:32:57.752Z"
   },
   {
    "duration": 21,
    "start_time": "2023-06-12T09:32:57.842Z"
   },
   {
    "duration": 49,
    "start_time": "2023-06-12T09:32:57.876Z"
   },
   {
    "duration": 49,
    "start_time": "2023-06-12T09:32:57.927Z"
   },
   {
    "duration": 66,
    "start_time": "2023-06-12T09:32:57.978Z"
   },
   {
    "duration": 31,
    "start_time": "2023-06-12T09:32:58.046Z"
   },
   {
    "duration": 46,
    "start_time": "2023-06-12T09:32:58.080Z"
   },
   {
    "duration": 22,
    "start_time": "2023-06-12T09:32:58.128Z"
   },
   {
    "duration": 40,
    "start_time": "2023-06-12T09:32:58.152Z"
   },
   {
    "duration": 34,
    "start_time": "2023-06-12T09:32:58.193Z"
   },
   {
    "duration": 47,
    "start_time": "2023-06-12T09:32:58.229Z"
   },
   {
    "duration": 39,
    "start_time": "2023-06-12T09:32:58.279Z"
   },
   {
    "duration": 25,
    "start_time": "2023-06-12T09:32:58.320Z"
   },
   {
    "duration": 51,
    "start_time": "2023-06-12T09:32:58.348Z"
   },
   {
    "duration": 20,
    "start_time": "2023-06-12T09:32:58.401Z"
   },
   {
    "duration": 24,
    "start_time": "2023-06-12T09:32:58.423Z"
   },
   {
    "duration": 107,
    "start_time": "2023-06-12T09:32:58.450Z"
   },
   {
    "duration": 272,
    "start_time": "2023-06-12T09:32:58.559Z"
   },
   {
    "duration": 263,
    "start_time": "2023-06-12T09:32:58.833Z"
   },
   {
    "duration": 321,
    "start_time": "2023-06-12T09:32:59.097Z"
   },
   {
    "duration": 23,
    "start_time": "2023-06-12T09:32:59.419Z"
   },
   {
    "duration": 69,
    "start_time": "2023-06-12T09:32:59.443Z"
   },
   {
    "duration": 33,
    "start_time": "2023-06-12T09:32:59.513Z"
   },
   {
    "duration": 41,
    "start_time": "2023-06-12T09:32:59.548Z"
   },
   {
    "duration": 23,
    "start_time": "2023-06-12T09:32:59.590Z"
   },
   {
    "duration": 3,
    "start_time": "2023-06-12T09:32:59.615Z"
   },
   {
    "duration": 17,
    "start_time": "2023-06-12T09:32:59.620Z"
   },
   {
    "duration": 253,
    "start_time": "2023-06-12T09:32:59.639Z"
   },
   {
    "duration": 256,
    "start_time": "2023-06-12T09:32:59.895Z"
   },
   {
    "duration": 22,
    "start_time": "2023-06-12T09:33:00.153Z"
   },
   {
    "duration": 36,
    "start_time": "2023-06-12T09:33:00.177Z"
   },
   {
    "duration": 104,
    "start_time": "2023-06-12T09:33:00.215Z"
   },
   {
    "duration": 6,
    "start_time": "2023-06-12T09:33:00.321Z"
   },
   {
    "duration": 54,
    "start_time": "2023-06-12T09:33:00.328Z"
   },
   {
    "duration": 48,
    "start_time": "2023-06-12T09:33:00.384Z"
   },
   {
    "duration": 181,
    "start_time": "2023-06-12T09:33:00.435Z"
   },
   {
    "duration": 16,
    "start_time": "2023-06-12T09:33:00.618Z"
   },
   {
    "duration": 25,
    "start_time": "2023-06-12T09:33:00.636Z"
   },
   {
    "duration": 235,
    "start_time": "2023-06-12T09:33:00.663Z"
   },
   {
    "duration": 47,
    "start_time": "2023-06-12T09:33:00.899Z"
   },
   {
    "duration": 0,
    "start_time": "2023-06-12T09:33:00.948Z"
   },
   {
    "duration": 0,
    "start_time": "2023-06-12T09:33:00.949Z"
   },
   {
    "duration": 0,
    "start_time": "2023-06-12T09:33:00.951Z"
   },
   {
    "duration": 5,
    "start_time": "2023-06-12T09:34:25.703Z"
   },
   {
    "duration": 156,
    "start_time": "2023-06-12T09:34:57.465Z"
   },
   {
    "duration": 3,
    "start_time": "2023-06-12T09:41:42.597Z"
   },
   {
    "duration": 125,
    "start_time": "2023-06-12T09:41:44.469Z"
   },
   {
    "duration": 1335,
    "start_time": "2023-06-12T10:02:18.598Z"
   },
   {
    "duration": 780,
    "start_time": "2023-06-12T10:02:19.936Z"
   },
   {
    "duration": 6,
    "start_time": "2023-06-12T10:02:20.718Z"
   },
   {
    "duration": 152,
    "start_time": "2023-06-12T10:02:20.726Z"
   },
   {
    "duration": 18,
    "start_time": "2023-06-12T10:02:20.880Z"
   },
   {
    "duration": 105,
    "start_time": "2023-06-12T10:02:20.901Z"
   },
   {
    "duration": 963,
    "start_time": "2023-06-12T10:02:21.008Z"
   },
   {
    "duration": 78,
    "start_time": "2023-06-12T10:02:21.973Z"
   },
   {
    "duration": 635,
    "start_time": "2023-06-12T10:02:22.053Z"
   },
   {
    "duration": 3,
    "start_time": "2023-06-12T10:02:22.691Z"
   },
   {
    "duration": 418,
    "start_time": "2023-06-12T10:02:22.696Z"
   },
   {
    "duration": 162,
    "start_time": "2023-06-12T10:02:23.116Z"
   },
   {
    "duration": 123,
    "start_time": "2023-06-12T10:02:23.280Z"
   },
   {
    "duration": 33,
    "start_time": "2023-06-12T10:02:23.405Z"
   },
   {
    "duration": 81,
    "start_time": "2023-06-12T10:02:23.441Z"
   },
   {
    "duration": 66,
    "start_time": "2023-06-12T10:02:23.524Z"
   },
   {
    "duration": 45,
    "start_time": "2023-06-12T10:02:23.593Z"
   },
   {
    "duration": 40,
    "start_time": "2023-06-12T10:02:23.640Z"
   },
   {
    "duration": 46,
    "start_time": "2023-06-12T10:02:23.681Z"
   },
   {
    "duration": 24,
    "start_time": "2023-06-12T10:02:23.729Z"
   },
   {
    "duration": 43,
    "start_time": "2023-06-12T10:02:23.755Z"
   },
   {
    "duration": 56,
    "start_time": "2023-06-12T10:02:23.800Z"
   },
   {
    "duration": 47,
    "start_time": "2023-06-12T10:02:23.858Z"
   },
   {
    "duration": 53,
    "start_time": "2023-06-12T10:02:23.907Z"
   },
   {
    "duration": 255,
    "start_time": "2023-06-12T10:02:23.963Z"
   },
   {
    "duration": 42,
    "start_time": "2023-06-12T10:02:24.219Z"
   },
   {
    "duration": 46,
    "start_time": "2023-06-12T10:02:24.263Z"
   },
   {
    "duration": 76,
    "start_time": "2023-06-12T10:02:24.314Z"
   },
   {
    "duration": 161,
    "start_time": "2023-06-12T10:02:24.392Z"
   },
   {
    "duration": 317,
    "start_time": "2023-06-12T10:02:24.555Z"
   },
   {
    "duration": 261,
    "start_time": "2023-06-12T10:02:24.876Z"
   },
   {
    "duration": 318,
    "start_time": "2023-06-12T10:02:25.139Z"
   },
   {
    "duration": 24,
    "start_time": "2023-06-12T10:02:25.459Z"
   },
   {
    "duration": 54,
    "start_time": "2023-06-12T10:02:25.484Z"
   },
   {
    "duration": 60,
    "start_time": "2023-06-12T10:02:25.540Z"
   },
   {
    "duration": 30,
    "start_time": "2023-06-12T10:02:25.602Z"
   },
   {
    "duration": 23,
    "start_time": "2023-06-12T10:02:25.634Z"
   },
   {
    "duration": 18,
    "start_time": "2023-06-12T10:02:25.659Z"
   },
   {
    "duration": 18,
    "start_time": "2023-06-12T10:02:25.679Z"
   },
   {
    "duration": 240,
    "start_time": "2023-06-12T10:02:25.699Z"
   },
   {
    "duration": 302,
    "start_time": "2023-06-12T10:02:25.941Z"
   },
   {
    "duration": 14,
    "start_time": "2023-06-12T10:02:26.245Z"
   },
   {
    "duration": 14,
    "start_time": "2023-06-12T10:02:26.261Z"
   },
   {
    "duration": 79,
    "start_time": "2023-06-12T10:02:26.279Z"
   },
   {
    "duration": 16,
    "start_time": "2023-06-12T10:02:26.361Z"
   },
   {
    "duration": 7,
    "start_time": "2023-06-12T10:02:26.379Z"
   },
   {
    "duration": 28,
    "start_time": "2023-06-12T10:02:26.387Z"
   },
   {
    "duration": 149,
    "start_time": "2023-06-12T10:02:26.416Z"
   },
   {
    "duration": 14,
    "start_time": "2023-06-12T10:02:26.566Z"
   },
   {
    "duration": 9,
    "start_time": "2023-06-12T10:02:26.582Z"
   },
   {
    "duration": 174,
    "start_time": "2023-06-12T10:02:26.593Z"
   },
   {
    "duration": 42,
    "start_time": "2023-06-12T10:02:26.769Z"
   },
   {
    "duration": 0,
    "start_time": "2023-06-12T10:02:26.814Z"
   },
   {
    "duration": 0,
    "start_time": "2023-06-12T10:02:26.816Z"
   },
   {
    "duration": 0,
    "start_time": "2023-06-12T10:02:26.817Z"
   },
   {
    "duration": 12,
    "start_time": "2023-06-12T10:05:49.227Z"
   },
   {
    "duration": 51,
    "start_time": "2023-06-12T10:06:10.362Z"
   },
   {
    "duration": 118,
    "start_time": "2023-06-12T10:09:33.752Z"
   },
   {
    "duration": 378,
    "start_time": "2023-06-12T10:09:59.432Z"
   },
   {
    "duration": 28,
    "start_time": "2023-06-12T10:10:28.728Z"
   },
   {
    "duration": 10,
    "start_time": "2023-06-12T10:10:39.631Z"
   },
   {
    "duration": 47702,
    "start_time": "2023-06-12T10:10:44.976Z"
   },
   {
    "duration": 51244,
    "start_time": "2023-06-12T10:12:35.542Z"
   },
   {
    "duration": 2,
    "start_time": "2023-06-12T10:14:08.532Z"
   },
   {
    "duration": 16,
    "start_time": "2023-06-12T10:48:54.458Z"
   },
   {
    "duration": 6,
    "start_time": "2023-06-12T10:49:18.320Z"
   },
   {
    "duration": 833,
    "start_time": "2023-06-12T10:49:18.329Z"
   },
   {
    "duration": 4,
    "start_time": "2023-06-12T10:49:19.164Z"
   },
   {
    "duration": 142,
    "start_time": "2023-06-12T10:49:19.174Z"
   },
   {
    "duration": 14,
    "start_time": "2023-06-12T10:49:19.319Z"
   },
   {
    "duration": 111,
    "start_time": "2023-06-12T10:49:19.334Z"
   },
   {
    "duration": 994,
    "start_time": "2023-06-12T10:49:19.447Z"
   },
   {
    "duration": 80,
    "start_time": "2023-06-12T10:49:20.443Z"
   },
   {
    "duration": 582,
    "start_time": "2023-06-12T10:49:20.525Z"
   },
   {
    "duration": 4,
    "start_time": "2023-06-12T10:49:21.108Z"
   },
   {
    "duration": 264,
    "start_time": "2023-06-12T10:49:21.113Z"
   },
   {
    "duration": 88,
    "start_time": "2023-06-12T10:49:21.379Z"
   },
   {
    "duration": 76,
    "start_time": "2023-06-12T10:49:21.476Z"
   },
   {
    "duration": 39,
    "start_time": "2023-06-12T10:49:21.555Z"
   },
   {
    "duration": 36,
    "start_time": "2023-06-12T10:49:21.596Z"
   },
   {
    "duration": 50,
    "start_time": "2023-06-12T10:49:21.634Z"
   },
   {
    "duration": 44,
    "start_time": "2023-06-12T10:49:21.686Z"
   },
   {
    "duration": 89,
    "start_time": "2023-06-12T10:49:21.731Z"
   },
   {
    "duration": 38,
    "start_time": "2023-06-12T10:49:21.822Z"
   },
   {
    "duration": 33,
    "start_time": "2023-06-12T10:49:21.862Z"
   },
   {
    "duration": 20,
    "start_time": "2023-06-12T10:49:21.897Z"
   },
   {
    "duration": 47,
    "start_time": "2023-06-12T10:49:21.919Z"
   },
   {
    "duration": 39,
    "start_time": "2023-06-12T10:49:21.968Z"
   },
   {
    "duration": 35,
    "start_time": "2023-06-12T10:49:22.009Z"
   },
   {
    "duration": 41,
    "start_time": "2023-06-12T10:49:22.046Z"
   },
   {
    "duration": 23,
    "start_time": "2023-06-12T10:49:22.089Z"
   },
   {
    "duration": 20,
    "start_time": "2023-06-12T10:49:22.114Z"
   },
   {
    "duration": 52,
    "start_time": "2023-06-12T10:49:22.136Z"
   },
   {
    "duration": 114,
    "start_time": "2023-06-12T10:49:22.191Z"
   },
   {
    "duration": 302,
    "start_time": "2023-06-12T10:49:22.307Z"
   },
   {
    "duration": 271,
    "start_time": "2023-06-12T10:49:22.611Z"
   },
   {
    "duration": 318,
    "start_time": "2023-06-12T10:49:22.884Z"
   },
   {
    "duration": 22,
    "start_time": "2023-06-12T10:49:23.203Z"
   },
   {
    "duration": 73,
    "start_time": "2023-06-12T10:49:23.226Z"
   },
   {
    "duration": 35,
    "start_time": "2023-06-12T10:49:23.301Z"
   },
   {
    "duration": 38,
    "start_time": "2023-06-12T10:49:23.338Z"
   },
   {
    "duration": 22,
    "start_time": "2023-06-12T10:49:23.378Z"
   },
   {
    "duration": 6,
    "start_time": "2023-06-12T10:49:23.402Z"
   },
   {
    "duration": 32,
    "start_time": "2023-06-12T10:49:23.410Z"
   },
   {
    "duration": 271,
    "start_time": "2023-06-12T10:49:23.444Z"
   },
   {
    "duration": 264,
    "start_time": "2023-06-12T10:49:23.719Z"
   },
   {
    "duration": 17,
    "start_time": "2023-06-12T10:49:23.985Z"
   },
   {
    "duration": 5,
    "start_time": "2023-06-12T10:49:24.004Z"
   },
   {
    "duration": 91,
    "start_time": "2023-06-12T10:49:24.011Z"
   },
   {
    "duration": 5,
    "start_time": "2023-06-12T10:49:24.104Z"
   },
   {
    "duration": 8,
    "start_time": "2023-06-12T10:49:24.111Z"
   },
   {
    "duration": 20,
    "start_time": "2023-06-12T10:49:24.120Z"
   },
   {
    "duration": 168,
    "start_time": "2023-06-12T10:49:24.142Z"
   },
   {
    "duration": 12,
    "start_time": "2023-06-12T10:49:24.311Z"
   },
   {
    "duration": 15,
    "start_time": "2023-06-12T10:49:41.418Z"
   },
   {
    "duration": 6,
    "start_time": "2023-06-12T10:50:02.135Z"
   },
   {
    "duration": 11,
    "start_time": "2023-06-12T10:50:09.801Z"
   },
   {
    "duration": 4,
    "start_time": "2023-06-12T10:51:31.832Z"
   },
   {
    "duration": 11,
    "start_time": "2023-06-12T10:55:55.095Z"
   },
   {
    "duration": 20,
    "start_time": "2023-06-12T10:56:02.849Z"
   },
   {
    "duration": 18,
    "start_time": "2023-06-12T10:56:13.351Z"
   },
   {
    "duration": 11,
    "start_time": "2023-06-12T10:58:34.485Z"
   },
   {
    "duration": 11,
    "start_time": "2023-06-12T11:04:57.846Z"
   },
   {
    "duration": 22,
    "start_time": "2023-06-12T11:08:26.380Z"
   },
   {
    "duration": 1311,
    "start_time": "2023-06-12T11:08:47.936Z"
   },
   {
    "duration": 757,
    "start_time": "2023-06-12T11:08:49.249Z"
   },
   {
    "duration": 6,
    "start_time": "2023-06-12T11:08:50.008Z"
   },
   {
    "duration": 148,
    "start_time": "2023-06-12T11:08:50.016Z"
   },
   {
    "duration": 19,
    "start_time": "2023-06-12T11:08:50.166Z"
   },
   {
    "duration": 89,
    "start_time": "2023-06-12T11:08:50.187Z"
   },
   {
    "duration": 872,
    "start_time": "2023-06-12T11:08:50.278Z"
   },
   {
    "duration": 73,
    "start_time": "2023-06-12T11:08:51.152Z"
   },
   {
    "duration": 552,
    "start_time": "2023-06-12T11:08:51.227Z"
   },
   {
    "duration": 3,
    "start_time": "2023-06-12T11:08:51.781Z"
   },
   {
    "duration": 278,
    "start_time": "2023-06-12T11:08:51.785Z"
   },
   {
    "duration": 94,
    "start_time": "2023-06-12T11:08:52.065Z"
   },
   {
    "duration": 80,
    "start_time": "2023-06-12T11:08:52.161Z"
   },
   {
    "duration": 19,
    "start_time": "2023-06-12T11:08:52.245Z"
   },
   {
    "duration": 37,
    "start_time": "2023-06-12T11:08:52.276Z"
   },
   {
    "duration": 48,
    "start_time": "2023-06-12T11:08:52.315Z"
   },
   {
    "duration": 44,
    "start_time": "2023-06-12T11:08:52.365Z"
   },
   {
    "duration": 40,
    "start_time": "2023-06-12T11:08:52.410Z"
   },
   {
    "duration": 46,
    "start_time": "2023-06-12T11:08:52.451Z"
   },
   {
    "duration": 22,
    "start_time": "2023-06-12T11:08:52.498Z"
   },
   {
    "duration": 21,
    "start_time": "2023-06-12T11:08:52.521Z"
   },
   {
    "duration": 50,
    "start_time": "2023-06-12T11:08:52.543Z"
   },
   {
    "duration": 34,
    "start_time": "2023-06-12T11:08:52.594Z"
   },
   {
    "duration": 50,
    "start_time": "2023-06-12T11:08:52.630Z"
   },
   {
    "duration": 30,
    "start_time": "2023-06-12T11:08:52.682Z"
   },
   {
    "duration": 47,
    "start_time": "2023-06-12T11:08:52.714Z"
   },
   {
    "duration": 31,
    "start_time": "2023-06-12T11:08:52.763Z"
   },
   {
    "duration": 57,
    "start_time": "2023-06-12T11:08:52.796Z"
   },
   {
    "duration": 118,
    "start_time": "2023-06-12T11:08:52.855Z"
   },
   {
    "duration": 277,
    "start_time": "2023-06-12T11:08:52.975Z"
   },
   {
    "duration": 282,
    "start_time": "2023-06-12T11:08:53.253Z"
   },
   {
    "duration": 340,
    "start_time": "2023-06-12T11:08:53.536Z"
   },
   {
    "duration": 21,
    "start_time": "2023-06-12T11:08:53.878Z"
   },
   {
    "duration": 59,
    "start_time": "2023-06-12T11:08:53.900Z"
   },
   {
    "duration": 48,
    "start_time": "2023-06-12T11:08:53.960Z"
   },
   {
    "duration": 40,
    "start_time": "2023-06-12T11:08:54.010Z"
   },
   {
    "duration": 46,
    "start_time": "2023-06-12T11:08:54.052Z"
   },
   {
    "duration": 5,
    "start_time": "2023-06-12T11:08:54.100Z"
   },
   {
    "duration": 18,
    "start_time": "2023-06-12T11:08:54.108Z"
   },
   {
    "duration": 308,
    "start_time": "2023-06-12T11:08:54.127Z"
   },
   {
    "duration": 255,
    "start_time": "2023-06-12T11:08:54.440Z"
   },
   {
    "duration": 13,
    "start_time": "2023-06-12T11:08:54.696Z"
   },
   {
    "duration": 4,
    "start_time": "2023-06-12T11:08:54.710Z"
   },
   {
    "duration": 70,
    "start_time": "2023-06-12T11:08:54.715Z"
   },
   {
    "duration": 4,
    "start_time": "2023-06-12T11:08:54.788Z"
   },
   {
    "duration": 9,
    "start_time": "2023-06-12T11:08:54.794Z"
   },
   {
    "duration": 11,
    "start_time": "2023-06-12T11:08:54.804Z"
   },
   {
    "duration": 158,
    "start_time": "2023-06-12T11:08:54.817Z"
   },
   {
    "duration": 11,
    "start_time": "2023-06-12T11:08:54.977Z"
   },
   {
    "duration": 51,
    "start_time": "2023-06-12T11:08:54.990Z"
   },
   {
    "duration": 0,
    "start_time": "2023-06-12T11:08:55.043Z"
   },
   {
    "duration": 0,
    "start_time": "2023-06-12T11:08:55.044Z"
   },
   {
    "duration": 0,
    "start_time": "2023-06-12T11:08:55.047Z"
   },
   {
    "duration": 0,
    "start_time": "2023-06-12T11:08:55.048Z"
   },
   {
    "duration": 0,
    "start_time": "2023-06-12T11:08:55.049Z"
   },
   {
    "duration": 0,
    "start_time": "2023-06-12T11:08:55.051Z"
   },
   {
    "duration": 0,
    "start_time": "2023-06-12T11:08:55.052Z"
   },
   {
    "duration": 0,
    "start_time": "2023-06-12T11:08:55.053Z"
   },
   {
    "duration": 130,
    "start_time": "2023-06-12T11:09:10.546Z"
   },
   {
    "duration": 44,
    "start_time": "2023-06-12T11:09:21.105Z"
   },
   {
    "duration": 14,
    "start_time": "2023-06-12T11:11:10.494Z"
   },
   {
    "duration": 69,
    "start_time": "2023-06-12T11:11:19.059Z"
   },
   {
    "duration": 50,
    "start_time": "2023-06-12T11:11:51.184Z"
   },
   {
    "duration": 5,
    "start_time": "2023-06-12T11:27:38.703Z"
   },
   {
    "duration": 717,
    "start_time": "2023-06-12T11:27:38.709Z"
   },
   {
    "duration": 4,
    "start_time": "2023-06-12T11:27:39.428Z"
   },
   {
    "duration": 132,
    "start_time": "2023-06-12T11:27:39.434Z"
   },
   {
    "duration": 19,
    "start_time": "2023-06-12T11:27:39.568Z"
   },
   {
    "duration": 90,
    "start_time": "2023-06-12T11:27:39.589Z"
   },
   {
    "duration": 818,
    "start_time": "2023-06-12T11:27:39.680Z"
   },
   {
    "duration": 65,
    "start_time": "2023-06-12T11:27:40.499Z"
   },
   {
    "duration": 668,
    "start_time": "2023-06-12T11:27:40.575Z"
   },
   {
    "duration": 4,
    "start_time": "2023-06-12T11:27:41.244Z"
   },
   {
    "duration": 235,
    "start_time": "2023-06-12T11:27:41.249Z"
   },
   {
    "duration": 92,
    "start_time": "2023-06-12T11:27:41.485Z"
   },
   {
    "duration": 75,
    "start_time": "2023-06-12T11:27:41.578Z"
   },
   {
    "duration": 37,
    "start_time": "2023-06-12T11:27:41.656Z"
   },
   {
    "duration": 51,
    "start_time": "2023-06-12T11:27:41.695Z"
   },
   {
    "duration": 42,
    "start_time": "2023-06-12T11:27:41.748Z"
   },
   {
    "duration": 97,
    "start_time": "2023-06-12T11:27:41.792Z"
   },
   {
    "duration": 25,
    "start_time": "2023-06-12T11:27:41.891Z"
   },
   {
    "duration": 47,
    "start_time": "2023-06-12T11:27:41.918Z"
   },
   {
    "duration": 25,
    "start_time": "2023-06-12T11:27:41.976Z"
   },
   {
    "duration": 34,
    "start_time": "2023-06-12T11:27:42.004Z"
   },
   {
    "duration": 52,
    "start_time": "2023-06-12T11:27:42.040Z"
   },
   {
    "duration": 46,
    "start_time": "2023-06-12T11:27:42.094Z"
   },
   {
    "duration": 70,
    "start_time": "2023-06-12T11:27:42.142Z"
   },
   {
    "duration": 94,
    "start_time": "2023-06-12T11:27:42.213Z"
   },
   {
    "duration": 68,
    "start_time": "2023-06-12T11:27:52.483Z"
   },
   {
    "duration": 1417,
    "start_time": "2023-06-12T11:28:21.809Z"
   },
   {
    "duration": 878,
    "start_time": "2023-06-12T11:28:23.228Z"
   },
   {
    "duration": 11,
    "start_time": "2023-06-12T11:28:24.110Z"
   },
   {
    "duration": 153,
    "start_time": "2023-06-12T11:28:24.123Z"
   },
   {
    "duration": 14,
    "start_time": "2023-06-12T11:28:24.278Z"
   },
   {
    "duration": 99,
    "start_time": "2023-06-12T11:28:24.294Z"
   },
   {
    "duration": 918,
    "start_time": "2023-06-12T11:28:24.395Z"
   },
   {
    "duration": 85,
    "start_time": "2023-06-12T11:28:25.314Z"
   },
   {
    "duration": 584,
    "start_time": "2023-06-12T11:28:25.400Z"
   },
   {
    "duration": 4,
    "start_time": "2023-06-12T11:28:25.986Z"
   },
   {
    "duration": 287,
    "start_time": "2023-06-12T11:28:25.992Z"
   },
   {
    "duration": 97,
    "start_time": "2023-06-12T11:28:26.282Z"
   },
   {
    "duration": 73,
    "start_time": "2023-06-12T11:28:26.382Z"
   },
   {
    "duration": 34,
    "start_time": "2023-06-12T11:28:26.457Z"
   },
   {
    "duration": 37,
    "start_time": "2023-06-12T11:28:26.493Z"
   },
   {
    "duration": 48,
    "start_time": "2023-06-12T11:28:26.532Z"
   },
   {
    "duration": 171,
    "start_time": "2023-06-12T11:28:26.581Z"
   },
   {
    "duration": 20,
    "start_time": "2023-06-12T11:28:26.753Z"
   },
   {
    "duration": 42,
    "start_time": "2023-06-12T11:28:26.774Z"
   },
   {
    "duration": 21,
    "start_time": "2023-06-12T11:28:26.818Z"
   },
   {
    "duration": 20,
    "start_time": "2023-06-12T11:28:26.841Z"
   },
   {
    "duration": 37,
    "start_time": "2023-06-12T11:28:26.863Z"
   },
   {
    "duration": 31,
    "start_time": "2023-06-12T11:28:26.901Z"
   },
   {
    "duration": 47,
    "start_time": "2023-06-12T11:28:26.934Z"
   },
   {
    "duration": 94,
    "start_time": "2023-06-12T11:28:26.983Z"
   },
   {
    "duration": 65,
    "start_time": "2023-06-12T11:28:27.079Z"
   },
   {
    "duration": 3,
    "start_time": "2023-06-12T11:28:27.146Z"
   },
   {
    "duration": 213,
    "start_time": "2023-06-12T11:28:27.150Z"
   },
   {
    "duration": 215,
    "start_time": "2023-06-12T11:28:27.365Z"
   },
   {
    "duration": 258,
    "start_time": "2023-06-12T11:28:27.582Z"
   },
   {
    "duration": 20,
    "start_time": "2023-06-12T11:28:27.841Z"
   },
   {
    "duration": 59,
    "start_time": "2023-06-12T11:28:27.864Z"
   },
   {
    "duration": 23,
    "start_time": "2023-06-12T11:28:27.925Z"
   },
   {
    "duration": 43,
    "start_time": "2023-06-12T11:28:27.950Z"
   },
   {
    "duration": 20,
    "start_time": "2023-06-12T11:28:27.995Z"
   },
   {
    "duration": 4,
    "start_time": "2023-06-12T11:28:28.017Z"
   },
   {
    "duration": 14,
    "start_time": "2023-06-12T11:28:28.023Z"
   },
   {
    "duration": 264,
    "start_time": "2023-06-12T11:28:28.039Z"
   },
   {
    "duration": 256,
    "start_time": "2023-06-12T11:28:28.305Z"
   },
   {
    "duration": 21,
    "start_time": "2023-06-12T11:28:28.565Z"
   },
   {
    "duration": 71,
    "start_time": "2023-06-12T11:28:28.587Z"
   },
   {
    "duration": 124,
    "start_time": "2023-06-12T11:28:28.660Z"
   },
   {
    "duration": 0,
    "start_time": "2023-06-12T11:28:28.786Z"
   },
   {
    "duration": 0,
    "start_time": "2023-06-12T11:28:28.787Z"
   },
   {
    "duration": 0,
    "start_time": "2023-06-12T11:28:28.788Z"
   },
   {
    "duration": 0,
    "start_time": "2023-06-12T11:28:28.789Z"
   },
   {
    "duration": 0,
    "start_time": "2023-06-12T11:28:28.790Z"
   },
   {
    "duration": 0,
    "start_time": "2023-06-12T11:28:28.791Z"
   },
   {
    "duration": 0,
    "start_time": "2023-06-12T11:28:28.792Z"
   },
   {
    "duration": 0,
    "start_time": "2023-06-12T11:28:28.793Z"
   },
   {
    "duration": 0,
    "start_time": "2023-06-12T11:28:28.794Z"
   },
   {
    "duration": 0,
    "start_time": "2023-06-12T11:28:28.795Z"
   },
   {
    "duration": 0,
    "start_time": "2023-06-12T11:28:28.796Z"
   },
   {
    "duration": 0,
    "start_time": "2023-06-12T11:28:28.797Z"
   },
   {
    "duration": 0,
    "start_time": "2023-06-12T11:28:28.798Z"
   },
   {
    "duration": 0,
    "start_time": "2023-06-12T11:28:28.799Z"
   },
   {
    "duration": 0,
    "start_time": "2023-06-12T11:28:28.800Z"
   },
   {
    "duration": 0,
    "start_time": "2023-06-12T11:28:28.802Z"
   },
   {
    "duration": 1335,
    "start_time": "2023-06-12T11:33:45.191Z"
   },
   {
    "duration": 751,
    "start_time": "2023-06-12T11:33:46.528Z"
   },
   {
    "duration": 5,
    "start_time": "2023-06-12T11:33:47.280Z"
   },
   {
    "duration": 129,
    "start_time": "2023-06-12T11:33:47.287Z"
   },
   {
    "duration": 17,
    "start_time": "2023-06-12T11:33:47.418Z"
   },
   {
    "duration": 102,
    "start_time": "2023-06-12T11:33:47.436Z"
   },
   {
    "duration": 858,
    "start_time": "2023-06-12T11:33:47.540Z"
   },
   {
    "duration": 77,
    "start_time": "2023-06-12T11:33:48.399Z"
   },
   {
    "duration": 590,
    "start_time": "2023-06-12T11:33:48.477Z"
   },
   {
    "duration": 6,
    "start_time": "2023-06-12T11:33:49.069Z"
   },
   {
    "duration": 290,
    "start_time": "2023-06-12T11:33:49.076Z"
   },
   {
    "duration": 85,
    "start_time": "2023-06-12T11:33:49.367Z"
   },
   {
    "duration": 77,
    "start_time": "2023-06-12T11:33:49.454Z"
   },
   {
    "duration": 20,
    "start_time": "2023-06-12T11:33:49.535Z"
   },
   {
    "duration": 36,
    "start_time": "2023-06-12T11:33:49.576Z"
   },
   {
    "duration": 36,
    "start_time": "2023-06-12T11:33:49.614Z"
   },
   {
    "duration": 60,
    "start_time": "2023-06-12T11:33:49.651Z"
   },
   {
    "duration": 22,
    "start_time": "2023-06-12T11:33:49.713Z"
   },
   {
    "duration": 48,
    "start_time": "2023-06-12T11:33:49.736Z"
   },
   {
    "duration": 21,
    "start_time": "2023-06-12T11:33:49.785Z"
   },
   {
    "duration": 20,
    "start_time": "2023-06-12T11:33:49.808Z"
   },
   {
    "duration": 49,
    "start_time": "2023-06-12T11:33:49.830Z"
   },
   {
    "duration": 31,
    "start_time": "2023-06-12T11:33:49.881Z"
   },
   {
    "duration": 37,
    "start_time": "2023-06-12T11:33:49.914Z"
   },
   {
    "duration": 101,
    "start_time": "2023-06-12T11:33:49.952Z"
   },
   {
    "duration": 79,
    "start_time": "2023-06-12T11:33:50.054Z"
   },
   {
    "duration": 187,
    "start_time": "2023-06-12T11:33:50.135Z"
   },
   {
    "duration": 191,
    "start_time": "2023-06-12T11:33:50.324Z"
   },
   {
    "duration": 239,
    "start_time": "2023-06-12T11:33:50.516Z"
   },
   {
    "duration": 19,
    "start_time": "2023-06-12T11:33:50.757Z"
   },
   {
    "duration": 47,
    "start_time": "2023-06-12T11:33:50.778Z"
   },
   {
    "duration": 26,
    "start_time": "2023-06-12T11:33:50.827Z"
   },
   {
    "duration": 43,
    "start_time": "2023-06-12T11:33:50.855Z"
   },
   {
    "duration": 19,
    "start_time": "2023-06-12T11:33:50.899Z"
   },
   {
    "duration": 4,
    "start_time": "2023-06-12T11:33:50.920Z"
   },
   {
    "duration": 13,
    "start_time": "2023-06-12T11:33:50.925Z"
   },
   {
    "duration": 249,
    "start_time": "2023-06-12T11:33:50.940Z"
   },
   {
    "duration": 239,
    "start_time": "2023-06-12T11:33:51.191Z"
   },
   {
    "duration": 13,
    "start_time": "2023-06-12T11:33:51.432Z"
   },
   {
    "duration": 83,
    "start_time": "2023-06-12T11:33:51.446Z"
   },
   {
    "duration": 108,
    "start_time": "2023-06-12T11:33:51.533Z"
   },
   {
    "duration": 0,
    "start_time": "2023-06-12T11:33:51.643Z"
   },
   {
    "duration": 0,
    "start_time": "2023-06-12T11:33:51.644Z"
   },
   {
    "duration": 0,
    "start_time": "2023-06-12T11:33:51.645Z"
   },
   {
    "duration": 0,
    "start_time": "2023-06-12T11:33:51.646Z"
   },
   {
    "duration": 0,
    "start_time": "2023-06-12T11:33:51.647Z"
   },
   {
    "duration": 0,
    "start_time": "2023-06-12T11:33:51.648Z"
   },
   {
    "duration": 0,
    "start_time": "2023-06-12T11:33:51.649Z"
   },
   {
    "duration": 0,
    "start_time": "2023-06-12T11:33:51.650Z"
   },
   {
    "duration": 0,
    "start_time": "2023-06-12T11:33:51.651Z"
   },
   {
    "duration": 0,
    "start_time": "2023-06-12T11:33:51.653Z"
   },
   {
    "duration": 0,
    "start_time": "2023-06-12T11:33:51.675Z"
   },
   {
    "duration": 0,
    "start_time": "2023-06-12T11:33:51.676Z"
   },
   {
    "duration": 0,
    "start_time": "2023-06-12T11:33:51.677Z"
   },
   {
    "duration": 0,
    "start_time": "2023-06-12T11:33:51.679Z"
   },
   {
    "duration": 0,
    "start_time": "2023-06-12T11:33:51.680Z"
   },
   {
    "duration": 0,
    "start_time": "2023-06-12T11:33:51.680Z"
   },
   {
    "duration": 1319,
    "start_time": "2023-06-12T11:38:18.108Z"
   },
   {
    "duration": 747,
    "start_time": "2023-06-12T11:38:19.428Z"
   },
   {
    "duration": 5,
    "start_time": "2023-06-12T11:38:20.176Z"
   },
   {
    "duration": 125,
    "start_time": "2023-06-12T11:38:20.182Z"
   },
   {
    "duration": 14,
    "start_time": "2023-06-12T11:38:20.309Z"
   },
   {
    "duration": 102,
    "start_time": "2023-06-12T11:38:20.325Z"
   },
   {
    "duration": 838,
    "start_time": "2023-06-12T11:38:20.428Z"
   },
   {
    "duration": 67,
    "start_time": "2023-06-12T11:38:21.268Z"
   },
   {
    "duration": 543,
    "start_time": "2023-06-12T11:38:21.337Z"
   },
   {
    "duration": 4,
    "start_time": "2023-06-12T11:38:21.882Z"
   },
   {
    "duration": 291,
    "start_time": "2023-06-12T11:38:21.887Z"
   },
   {
    "duration": 79,
    "start_time": "2023-06-12T11:38:22.179Z"
   },
   {
    "duration": 76,
    "start_time": "2023-06-12T11:38:22.259Z"
   },
   {
    "duration": 21,
    "start_time": "2023-06-12T11:38:22.339Z"
   },
   {
    "duration": 48,
    "start_time": "2023-06-12T11:38:22.362Z"
   },
   {
    "duration": 32,
    "start_time": "2023-06-12T11:38:22.412Z"
   },
   {
    "duration": 54,
    "start_time": "2023-06-12T11:38:22.446Z"
   },
   {
    "duration": 19,
    "start_time": "2023-06-12T11:38:22.501Z"
   },
   {
    "duration": 36,
    "start_time": "2023-06-12T11:38:22.521Z"
   },
   {
    "duration": 34,
    "start_time": "2023-06-12T11:38:22.558Z"
   },
   {
    "duration": 20,
    "start_time": "2023-06-12T11:38:22.594Z"
   },
   {
    "duration": 33,
    "start_time": "2023-06-12T11:38:22.616Z"
   },
   {
    "duration": 48,
    "start_time": "2023-06-12T11:38:22.650Z"
   },
   {
    "duration": 33,
    "start_time": "2023-06-12T11:38:22.700Z"
   },
   {
    "duration": 107,
    "start_time": "2023-06-12T11:38:22.735Z"
   },
   {
    "duration": 73,
    "start_time": "2023-06-12T11:38:22.843Z"
   },
   {
    "duration": 215,
    "start_time": "2023-06-12T11:38:22.917Z"
   },
   {
    "duration": 184,
    "start_time": "2023-06-12T11:38:23.133Z"
   },
   {
    "duration": 221,
    "start_time": "2023-06-12T11:38:23.318Z"
   },
   {
    "duration": 19,
    "start_time": "2023-06-12T11:38:23.541Z"
   },
   {
    "duration": 52,
    "start_time": "2023-06-12T11:38:23.562Z"
   },
   {
    "duration": 25,
    "start_time": "2023-06-12T11:38:23.616Z"
   },
   {
    "duration": 38,
    "start_time": "2023-06-12T11:38:23.642Z"
   },
   {
    "duration": 20,
    "start_time": "2023-06-12T11:38:23.681Z"
   },
   {
    "duration": 4,
    "start_time": "2023-06-12T11:38:23.702Z"
   },
   {
    "duration": 19,
    "start_time": "2023-06-12T11:38:23.707Z"
   },
   {
    "duration": 234,
    "start_time": "2023-06-12T11:38:23.727Z"
   },
   {
    "duration": 310,
    "start_time": "2023-06-12T11:38:23.963Z"
   },
   {
    "duration": 13,
    "start_time": "2023-06-12T11:38:24.275Z"
   },
   {
    "duration": 3,
    "start_time": "2023-06-12T11:38:24.289Z"
   },
   {
    "duration": 64,
    "start_time": "2023-06-12T11:38:24.295Z"
   },
   {
    "duration": 4,
    "start_time": "2023-06-12T11:38:24.361Z"
   },
   {
    "duration": 10,
    "start_time": "2023-06-12T11:38:24.367Z"
   },
   {
    "duration": 5,
    "start_time": "2023-06-12T11:38:24.379Z"
   },
   {
    "duration": 127,
    "start_time": "2023-06-12T11:38:24.385Z"
   },
   {
    "duration": 12,
    "start_time": "2023-06-12T11:38:24.514Z"
   },
   {
    "duration": 56,
    "start_time": "2023-06-12T11:38:24.527Z"
   },
   {
    "duration": 113,
    "start_time": "2023-06-12T11:38:24.585Z"
   },
   {
    "duration": 0,
    "start_time": "2023-06-12T11:38:24.699Z"
   },
   {
    "duration": 0,
    "start_time": "2023-06-12T11:38:24.701Z"
   },
   {
    "duration": 0,
    "start_time": "2023-06-12T11:38:24.702Z"
   },
   {
    "duration": 0,
    "start_time": "2023-06-12T11:38:24.704Z"
   },
   {
    "duration": 0,
    "start_time": "2023-06-12T11:38:24.705Z"
   },
   {
    "duration": 0,
    "start_time": "2023-06-12T11:38:24.707Z"
   },
   {
    "duration": 11,
    "start_time": "2023-06-12T11:39:19.697Z"
   },
   {
    "duration": 17,
    "start_time": "2023-06-12T11:40:21.393Z"
   },
   {
    "duration": 58,
    "start_time": "2023-06-12T11:40:30.305Z"
   },
   {
    "duration": 61,
    "start_time": "2023-06-12T11:45:55.718Z"
   },
   {
    "duration": 16,
    "start_time": "2023-06-12T11:48:33.605Z"
   },
   {
    "duration": 8,
    "start_time": "2023-06-12T11:48:49.063Z"
   },
   {
    "duration": 1456,
    "start_time": "2023-06-12T11:49:03.601Z"
   },
   {
    "duration": 790,
    "start_time": "2023-06-12T11:49:05.059Z"
   },
   {
    "duration": 6,
    "start_time": "2023-06-12T11:49:05.850Z"
   },
   {
    "duration": 132,
    "start_time": "2023-06-12T11:49:05.857Z"
   },
   {
    "duration": 13,
    "start_time": "2023-06-12T11:49:05.991Z"
   },
   {
    "duration": 116,
    "start_time": "2023-06-12T11:49:06.006Z"
   },
   {
    "duration": 904,
    "start_time": "2023-06-12T11:49:06.124Z"
   },
   {
    "duration": 77,
    "start_time": "2023-06-12T11:49:07.030Z"
   },
   {
    "duration": 577,
    "start_time": "2023-06-12T11:49:07.109Z"
   },
   {
    "duration": 4,
    "start_time": "2023-06-12T11:49:07.688Z"
   },
   {
    "duration": 300,
    "start_time": "2023-06-12T11:49:07.694Z"
   },
   {
    "duration": 95,
    "start_time": "2023-06-12T11:49:07.996Z"
   },
   {
    "duration": 84,
    "start_time": "2023-06-12T11:49:08.093Z"
   },
   {
    "duration": 19,
    "start_time": "2023-06-12T11:49:08.180Z"
   },
   {
    "duration": 37,
    "start_time": "2023-06-12T11:49:08.201Z"
   },
   {
    "duration": 46,
    "start_time": "2023-06-12T11:49:08.240Z"
   },
   {
    "duration": 39,
    "start_time": "2023-06-12T11:49:08.287Z"
   },
   {
    "duration": 22,
    "start_time": "2023-06-12T11:49:08.328Z"
   },
   {
    "duration": 58,
    "start_time": "2023-06-12T11:49:08.352Z"
   },
   {
    "duration": 25,
    "start_time": "2023-06-12T11:49:08.411Z"
   },
   {
    "duration": 39,
    "start_time": "2023-06-12T11:49:08.438Z"
   },
   {
    "duration": 36,
    "start_time": "2023-06-12T11:49:08.479Z"
   },
   {
    "duration": 48,
    "start_time": "2023-06-12T11:49:08.516Z"
   },
   {
    "duration": 40,
    "start_time": "2023-06-12T11:49:08.566Z"
   },
   {
    "duration": 102,
    "start_time": "2023-06-12T11:49:08.608Z"
   },
   {
    "duration": 77,
    "start_time": "2023-06-12T11:49:08.711Z"
   },
   {
    "duration": 213,
    "start_time": "2023-06-12T11:49:08.789Z"
   },
   {
    "duration": 208,
    "start_time": "2023-06-12T11:49:09.004Z"
   },
   {
    "duration": 248,
    "start_time": "2023-06-12T11:49:09.214Z"
   },
   {
    "duration": 22,
    "start_time": "2023-06-12T11:49:09.463Z"
   },
   {
    "duration": 51,
    "start_time": "2023-06-12T11:49:09.487Z"
   },
   {
    "duration": 49,
    "start_time": "2023-06-12T11:49:09.540Z"
   },
   {
    "duration": 26,
    "start_time": "2023-06-12T11:49:09.591Z"
   },
   {
    "duration": 22,
    "start_time": "2023-06-12T11:49:09.619Z"
   },
   {
    "duration": 4,
    "start_time": "2023-06-12T11:49:09.643Z"
   },
   {
    "duration": 13,
    "start_time": "2023-06-12T11:49:09.678Z"
   },
   {
    "duration": 253,
    "start_time": "2023-06-12T11:49:09.693Z"
   },
   {
    "duration": 269,
    "start_time": "2023-06-12T11:49:09.947Z"
   },
   {
    "duration": 12,
    "start_time": "2023-06-12T11:49:10.219Z"
   },
   {
    "duration": 3,
    "start_time": "2023-06-12T11:49:10.232Z"
   },
   {
    "duration": 70,
    "start_time": "2023-06-12T11:49:10.240Z"
   },
   {
    "duration": 5,
    "start_time": "2023-06-12T11:49:10.312Z"
   },
   {
    "duration": 19,
    "start_time": "2023-06-12T11:49:10.319Z"
   },
   {
    "duration": 6,
    "start_time": "2023-06-12T11:49:10.339Z"
   },
   {
    "duration": 123,
    "start_time": "2023-06-12T11:49:10.346Z"
   },
   {
    "duration": 13,
    "start_time": "2023-06-12T11:49:10.471Z"
   },
   {
    "duration": 170,
    "start_time": "2023-06-12T11:49:10.486Z"
   },
   {
    "duration": 0,
    "start_time": "2023-06-12T11:49:10.657Z"
   },
   {
    "duration": 0,
    "start_time": "2023-06-12T11:49:10.659Z"
   },
   {
    "duration": 0,
    "start_time": "2023-06-12T11:49:10.660Z"
   },
   {
    "duration": 0,
    "start_time": "2023-06-12T11:49:10.661Z"
   },
   {
    "duration": 0,
    "start_time": "2023-06-12T11:49:10.662Z"
   },
   {
    "duration": 0,
    "start_time": "2023-06-12T11:49:10.675Z"
   },
   {
    "duration": 0,
    "start_time": "2023-06-12T11:49:10.676Z"
   },
   {
    "duration": 10,
    "start_time": "2023-06-12T11:49:24.309Z"
   },
   {
    "duration": 4,
    "start_time": "2023-06-12T11:49:35.600Z"
   },
   {
    "duration": 766,
    "start_time": "2023-06-12T11:49:35.606Z"
   },
   {
    "duration": 3,
    "start_time": "2023-06-12T11:49:36.374Z"
   },
   {
    "duration": 131,
    "start_time": "2023-06-12T11:49:36.378Z"
   },
   {
    "duration": 12,
    "start_time": "2023-06-12T11:49:36.511Z"
   },
   {
    "duration": 97,
    "start_time": "2023-06-12T11:49:36.524Z"
   },
   {
    "duration": 780,
    "start_time": "2023-06-12T11:49:36.622Z"
   },
   {
    "duration": 72,
    "start_time": "2023-06-12T11:49:37.404Z"
   },
   {
    "duration": 690,
    "start_time": "2023-06-12T11:49:37.477Z"
   },
   {
    "duration": 6,
    "start_time": "2023-06-12T11:49:38.169Z"
   },
   {
    "duration": 224,
    "start_time": "2023-06-12T11:49:38.177Z"
   },
   {
    "duration": 83,
    "start_time": "2023-06-12T11:49:38.402Z"
   },
   {
    "duration": 68,
    "start_time": "2023-06-12T11:49:38.487Z"
   },
   {
    "duration": 19,
    "start_time": "2023-06-12T11:49:38.575Z"
   },
   {
    "duration": 38,
    "start_time": "2023-06-12T11:49:38.595Z"
   },
   {
    "duration": 42,
    "start_time": "2023-06-12T11:49:38.634Z"
   },
   {
    "duration": 34,
    "start_time": "2023-06-12T11:49:38.678Z"
   },
   {
    "duration": 21,
    "start_time": "2023-06-12T11:49:38.714Z"
   },
   {
    "duration": 61,
    "start_time": "2023-06-12T11:49:38.736Z"
   },
   {
    "duration": 21,
    "start_time": "2023-06-12T11:49:38.798Z"
   },
   {
    "duration": 26,
    "start_time": "2023-06-12T11:49:38.821Z"
   },
   {
    "duration": 40,
    "start_time": "2023-06-12T11:49:38.849Z"
   },
   {
    "duration": 30,
    "start_time": "2023-06-12T11:49:38.891Z"
   },
   {
    "duration": 36,
    "start_time": "2023-06-12T11:49:38.922Z"
   },
   {
    "duration": 100,
    "start_time": "2023-06-12T11:49:38.960Z"
   },
   {
    "duration": 72,
    "start_time": "2023-06-12T11:49:39.062Z"
   },
   {
    "duration": 198,
    "start_time": "2023-06-12T11:49:39.136Z"
   },
   {
    "duration": 193,
    "start_time": "2023-06-12T11:49:39.335Z"
   },
   {
    "duration": 222,
    "start_time": "2023-06-12T11:49:39.529Z"
   },
   {
    "duration": 23,
    "start_time": "2023-06-12T11:49:39.752Z"
   },
   {
    "duration": 46,
    "start_time": "2023-06-12T11:49:39.777Z"
   },
   {
    "duration": 20,
    "start_time": "2023-06-12T11:49:39.825Z"
   },
   {
    "duration": 37,
    "start_time": "2023-06-12T11:49:39.846Z"
   },
   {
    "duration": 19,
    "start_time": "2023-06-12T11:49:39.885Z"
   },
   {
    "duration": 4,
    "start_time": "2023-06-12T11:49:39.906Z"
   },
   {
    "duration": 12,
    "start_time": "2023-06-12T11:49:39.911Z"
   },
   {
    "duration": 252,
    "start_time": "2023-06-12T11:49:39.925Z"
   },
   {
    "duration": 242,
    "start_time": "2023-06-12T11:49:40.179Z"
   },
   {
    "duration": 14,
    "start_time": "2023-06-12T11:49:40.422Z"
   },
   {
    "duration": 3,
    "start_time": "2023-06-12T11:49:40.437Z"
   },
   {
    "duration": 65,
    "start_time": "2023-06-12T11:49:40.444Z"
   },
   {
    "duration": 4,
    "start_time": "2023-06-12T11:49:40.511Z"
   },
   {
    "duration": 11,
    "start_time": "2023-06-12T11:49:40.516Z"
   },
   {
    "duration": 5,
    "start_time": "2023-06-12T11:49:40.528Z"
   },
   {
    "duration": 118,
    "start_time": "2023-06-12T11:49:40.535Z"
   },
   {
    "duration": 20,
    "start_time": "2023-06-12T11:49:40.655Z"
   },
   {
    "duration": 12,
    "start_time": "2023-06-12T11:49:44.754Z"
   },
   {
    "duration": 829,
    "start_time": "2023-06-12T11:50:02.765Z"
   },
   {
    "duration": 865,
    "start_time": "2023-06-12T11:51:53.277Z"
   },
   {
    "duration": 1315,
    "start_time": "2023-06-12T11:53:50.083Z"
   },
   {
    "duration": 755,
    "start_time": "2023-06-12T11:53:51.400Z"
   },
   {
    "duration": 6,
    "start_time": "2023-06-12T11:53:52.156Z"
   },
   {
    "duration": 133,
    "start_time": "2023-06-12T11:53:52.163Z"
   },
   {
    "duration": 14,
    "start_time": "2023-06-12T11:53:52.299Z"
   },
   {
    "duration": 105,
    "start_time": "2023-06-12T11:53:52.315Z"
   },
   {
    "duration": 903,
    "start_time": "2023-06-12T11:53:52.422Z"
   },
   {
    "duration": 80,
    "start_time": "2023-06-12T11:53:53.327Z"
   },
   {
    "duration": 568,
    "start_time": "2023-06-12T11:53:53.408Z"
   },
   {
    "duration": 4,
    "start_time": "2023-06-12T11:53:53.978Z"
   },
   {
    "duration": 348,
    "start_time": "2023-06-12T11:53:53.984Z"
   },
   {
    "duration": 88,
    "start_time": "2023-06-12T11:53:54.333Z"
   },
   {
    "duration": 76,
    "start_time": "2023-06-12T11:53:54.422Z"
   },
   {
    "duration": 19,
    "start_time": "2023-06-12T11:53:54.501Z"
   },
   {
    "duration": 35,
    "start_time": "2023-06-12T11:53:54.521Z"
   },
   {
    "duration": 46,
    "start_time": "2023-06-12T11:53:54.558Z"
   },
   {
    "duration": 55,
    "start_time": "2023-06-12T11:53:54.606Z"
   },
   {
    "duration": 28,
    "start_time": "2023-06-12T11:53:54.663Z"
   },
   {
    "duration": 44,
    "start_time": "2023-06-12T11:53:54.692Z"
   },
   {
    "duration": 20,
    "start_time": "2023-06-12T11:53:54.737Z"
   },
   {
    "duration": 30,
    "start_time": "2023-06-12T11:53:54.759Z"
   },
   {
    "duration": 38,
    "start_time": "2023-06-12T11:53:54.791Z"
   },
   {
    "duration": 45,
    "start_time": "2023-06-12T11:53:54.831Z"
   },
   {
    "duration": 32,
    "start_time": "2023-06-12T11:53:54.878Z"
   },
   {
    "duration": 109,
    "start_time": "2023-06-12T11:53:54.912Z"
   },
   {
    "duration": 73,
    "start_time": "2023-06-12T11:53:55.023Z"
   },
   {
    "duration": 198,
    "start_time": "2023-06-12T11:53:55.097Z"
   },
   {
    "duration": 198,
    "start_time": "2023-06-12T11:53:55.296Z"
   },
   {
    "duration": 231,
    "start_time": "2023-06-12T11:53:55.496Z"
   },
   {
    "duration": 20,
    "start_time": "2023-06-12T11:53:55.728Z"
   },
   {
    "duration": 62,
    "start_time": "2023-06-12T11:53:55.750Z"
   },
   {
    "duration": 27,
    "start_time": "2023-06-12T11:53:55.814Z"
   },
   {
    "duration": 38,
    "start_time": "2023-06-12T11:53:55.843Z"
   },
   {
    "duration": 19,
    "start_time": "2023-06-12T11:53:55.883Z"
   },
   {
    "duration": 4,
    "start_time": "2023-06-12T11:53:55.903Z"
   },
   {
    "duration": 21,
    "start_time": "2023-06-12T11:53:55.908Z"
   },
   {
    "duration": 248,
    "start_time": "2023-06-12T11:53:55.931Z"
   },
   {
    "duration": 259,
    "start_time": "2023-06-12T11:53:56.181Z"
   },
   {
    "duration": 12,
    "start_time": "2023-06-12T11:53:56.442Z"
   },
   {
    "duration": 3,
    "start_time": "2023-06-12T11:53:56.455Z"
   },
   {
    "duration": 49,
    "start_time": "2023-06-12T11:53:56.475Z"
   },
   {
    "duration": 3,
    "start_time": "2023-06-12T11:53:56.526Z"
   },
   {
    "duration": 9,
    "start_time": "2023-06-12T11:53:56.531Z"
   },
   {
    "duration": 4,
    "start_time": "2023-06-12T11:53:56.542Z"
   },
   {
    "duration": 143,
    "start_time": "2023-06-12T11:53:56.547Z"
   },
   {
    "duration": 12,
    "start_time": "2023-06-12T11:53:56.692Z"
   },
   {
    "duration": 954,
    "start_time": "2023-06-12T11:53:56.706Z"
   },
   {
    "duration": 0,
    "start_time": "2023-06-12T11:53:57.662Z"
   },
   {
    "duration": 0,
    "start_time": "2023-06-12T11:53:57.663Z"
   },
   {
    "duration": 0,
    "start_time": "2023-06-12T11:53:57.665Z"
   },
   {
    "duration": 0,
    "start_time": "2023-06-12T11:53:57.675Z"
   },
   {
    "duration": 0,
    "start_time": "2023-06-12T11:53:57.676Z"
   },
   {
    "duration": 0,
    "start_time": "2023-06-12T11:53:57.678Z"
   },
   {
    "duration": 0,
    "start_time": "2023-06-12T11:53:57.679Z"
   },
   {
    "duration": 833,
    "start_time": "2023-06-12T11:55:11.553Z"
   },
   {
    "duration": 41825,
    "start_time": "2023-06-12T11:55:18.873Z"
   },
   {
    "duration": 0,
    "start_time": "2023-06-12T11:56:00.702Z"
   },
   {
    "duration": 1472,
    "start_time": "2023-06-12T11:56:33.966Z"
   },
   {
    "duration": 2791,
    "start_time": "2023-06-12T11:56:35.440Z"
   },
   {
    "duration": 5,
    "start_time": "2023-06-12T11:56:38.233Z"
   },
   {
    "duration": 157,
    "start_time": "2023-06-12T11:56:38.239Z"
   },
   {
    "duration": 18,
    "start_time": "2023-06-12T11:56:38.398Z"
   },
   {
    "duration": 112,
    "start_time": "2023-06-12T11:56:38.418Z"
   },
   {
    "duration": 881,
    "start_time": "2023-06-12T11:56:38.532Z"
   },
   {
    "duration": 77,
    "start_time": "2023-06-12T11:56:39.414Z"
   },
   {
    "duration": 615,
    "start_time": "2023-06-12T11:56:39.493Z"
   },
   {
    "duration": 3,
    "start_time": "2023-06-12T11:56:40.109Z"
   },
   {
    "duration": 312,
    "start_time": "2023-06-12T11:56:40.113Z"
   },
   {
    "duration": 81,
    "start_time": "2023-06-12T11:56:40.427Z"
   },
   {
    "duration": 81,
    "start_time": "2023-06-12T11:56:40.510Z"
   },
   {
    "duration": 19,
    "start_time": "2023-06-12T11:56:40.594Z"
   },
   {
    "duration": 37,
    "start_time": "2023-06-12T11:56:40.614Z"
   },
   {
    "duration": 43,
    "start_time": "2023-06-12T11:56:40.652Z"
   },
   {
    "duration": 51,
    "start_time": "2023-06-12T11:56:40.697Z"
   },
   {
    "duration": 20,
    "start_time": "2023-06-12T11:56:40.750Z"
   },
   {
    "duration": 49,
    "start_time": "2023-06-12T11:56:40.772Z"
   },
   {
    "duration": 20,
    "start_time": "2023-06-12T11:56:40.823Z"
   },
   {
    "duration": 23,
    "start_time": "2023-06-12T11:56:40.845Z"
   },
   {
    "duration": 35,
    "start_time": "2023-06-12T11:56:40.874Z"
   },
   {
    "duration": 30,
    "start_time": "2023-06-12T11:56:40.911Z"
   },
   {
    "duration": 58,
    "start_time": "2023-06-12T11:56:40.943Z"
   },
   {
    "duration": 102,
    "start_time": "2023-06-12T11:56:41.002Z"
   },
   {
    "duration": 78,
    "start_time": "2023-06-12T11:56:41.106Z"
   },
   {
    "duration": 203,
    "start_time": "2023-06-12T11:56:41.185Z"
   },
   {
    "duration": 201,
    "start_time": "2023-06-12T11:56:41.390Z"
   },
   {
    "duration": 238,
    "start_time": "2023-06-12T11:56:41.592Z"
   },
   {
    "duration": 23,
    "start_time": "2023-06-12T11:56:41.831Z"
   },
   {
    "duration": 59,
    "start_time": "2023-06-12T11:56:41.856Z"
   },
   {
    "duration": 28,
    "start_time": "2023-06-12T11:56:41.916Z"
   },
   {
    "duration": 44,
    "start_time": "2023-06-12T11:56:41.946Z"
   },
   {
    "duration": 21,
    "start_time": "2023-06-12T11:56:41.991Z"
   },
   {
    "duration": 4,
    "start_time": "2023-06-12T11:56:42.013Z"
   },
   {
    "duration": 28,
    "start_time": "2023-06-12T11:56:42.018Z"
   },
   {
    "duration": 243,
    "start_time": "2023-06-12T11:56:42.047Z"
   },
   {
    "duration": 229,
    "start_time": "2023-06-12T11:56:42.292Z"
   },
   {
    "duration": 12,
    "start_time": "2023-06-12T11:56:42.522Z"
   },
   {
    "duration": 4,
    "start_time": "2023-06-12T11:56:42.535Z"
   },
   {
    "duration": 67,
    "start_time": "2023-06-12T11:56:42.542Z"
   },
   {
    "duration": 4,
    "start_time": "2023-06-12T11:56:42.611Z"
   },
   {
    "duration": 5,
    "start_time": "2023-06-12T11:56:42.616Z"
   },
   {
    "duration": 8,
    "start_time": "2023-06-12T11:56:42.623Z"
   },
   {
    "duration": 137,
    "start_time": "2023-06-12T11:56:42.632Z"
   },
   {
    "duration": 13,
    "start_time": "2023-06-12T11:56:42.771Z"
   },
   {
    "duration": 55621,
    "start_time": "2023-06-12T11:56:42.786Z"
   },
   {
    "duration": 5,
    "start_time": "2023-06-12T11:57:38.409Z"
   },
   {
    "duration": 30,
    "start_time": "2023-06-12T11:57:38.416Z"
   },
   {
    "duration": 5,
    "start_time": "2023-06-12T11:57:38.447Z"
   },
   {
    "duration": 332,
    "start_time": "2023-06-12T11:57:38.454Z"
   },
   {
    "duration": 100,
    "start_time": "2023-06-12T11:57:38.876Z"
   },
   {
    "duration": 0,
    "start_time": "2023-06-12T11:57:38.978Z"
   },
   {
    "duration": 0,
    "start_time": "2023-06-12T11:57:38.979Z"
   },
   {
    "duration": 0,
    "start_time": "2023-06-12T11:57:38.980Z"
   },
   {
    "duration": 109,
    "start_time": "2023-06-12T11:58:46.856Z"
   },
   {
    "duration": 1473,
    "start_time": "2023-06-12T12:01:42.858Z"
   },
   {
    "duration": 825,
    "start_time": "2023-06-12T12:01:44.333Z"
   },
   {
    "duration": 6,
    "start_time": "2023-06-12T12:01:45.159Z"
   },
   {
    "duration": 142,
    "start_time": "2023-06-12T12:01:45.174Z"
   },
   {
    "duration": 14,
    "start_time": "2023-06-12T12:01:45.318Z"
   },
   {
    "duration": 110,
    "start_time": "2023-06-12T12:01:45.333Z"
   },
   {
    "duration": 898,
    "start_time": "2023-06-12T12:01:45.445Z"
   },
   {
    "duration": 81,
    "start_time": "2023-06-12T12:01:46.345Z"
   },
   {
    "duration": 541,
    "start_time": "2023-06-12T12:01:46.428Z"
   },
   {
    "duration": 4,
    "start_time": "2023-06-12T12:01:46.971Z"
   },
   {
    "duration": 314,
    "start_time": "2023-06-12T12:01:46.977Z"
   },
   {
    "duration": 86,
    "start_time": "2023-06-12T12:01:47.293Z"
   },
   {
    "duration": 67,
    "start_time": "2023-06-12T12:01:47.380Z"
   },
   {
    "duration": 32,
    "start_time": "2023-06-12T12:01:47.450Z"
   },
   {
    "duration": 40,
    "start_time": "2023-06-12T12:01:47.483Z"
   },
   {
    "duration": 53,
    "start_time": "2023-06-12T12:01:47.525Z"
   },
   {
    "duration": 33,
    "start_time": "2023-06-12T12:01:47.579Z"
   },
   {
    "duration": 21,
    "start_time": "2023-06-12T12:01:47.613Z"
   },
   {
    "duration": 63,
    "start_time": "2023-06-12T12:01:47.635Z"
   },
   {
    "duration": 21,
    "start_time": "2023-06-12T12:01:47.699Z"
   },
   {
    "duration": 26,
    "start_time": "2023-06-12T12:01:47.722Z"
   },
   {
    "duration": 49,
    "start_time": "2023-06-12T12:01:47.749Z"
   },
   {
    "duration": 30,
    "start_time": "2023-06-12T12:01:47.800Z"
   },
   {
    "duration": 48,
    "start_time": "2023-06-12T12:01:47.831Z"
   },
   {
    "duration": 99,
    "start_time": "2023-06-12T12:01:47.880Z"
   },
   {
    "duration": 65,
    "start_time": "2023-06-12T12:01:47.981Z"
   },
   {
    "duration": 228,
    "start_time": "2023-06-12T12:01:48.048Z"
   },
   {
    "duration": 209,
    "start_time": "2023-06-12T12:01:48.277Z"
   },
   {
    "duration": 259,
    "start_time": "2023-06-12T12:01:48.488Z"
   },
   {
    "duration": 35,
    "start_time": "2023-06-12T12:01:48.749Z"
   },
   {
    "duration": 51,
    "start_time": "2023-06-12T12:01:48.786Z"
   },
   {
    "duration": 42,
    "start_time": "2023-06-12T12:01:48.839Z"
   },
   {
    "duration": 26,
    "start_time": "2023-06-12T12:01:48.883Z"
   },
   {
    "duration": 21,
    "start_time": "2023-06-12T12:01:48.911Z"
   },
   {
    "duration": 4,
    "start_time": "2023-06-12T12:01:48.934Z"
   },
   {
    "duration": 43,
    "start_time": "2023-06-12T12:01:48.939Z"
   },
   {
    "duration": 227,
    "start_time": "2023-06-12T12:01:48.984Z"
   },
   {
    "duration": 243,
    "start_time": "2023-06-12T12:01:49.213Z"
   },
   {
    "duration": 17,
    "start_time": "2023-06-12T12:01:49.458Z"
   },
   {
    "duration": 3,
    "start_time": "2023-06-12T12:01:49.476Z"
   },
   {
    "duration": 57,
    "start_time": "2023-06-12T12:01:49.485Z"
   },
   {
    "duration": 3,
    "start_time": "2023-06-12T12:01:49.544Z"
   },
   {
    "duration": 27,
    "start_time": "2023-06-12T12:01:49.549Z"
   },
   {
    "duration": 3,
    "start_time": "2023-06-12T12:01:49.578Z"
   },
   {
    "duration": 138,
    "start_time": "2023-06-12T12:01:49.583Z"
   },
   {
    "duration": 13,
    "start_time": "2023-06-12T12:01:49.723Z"
   },
   {
    "duration": 74358,
    "start_time": "2023-06-12T12:01:49.738Z"
   },
   {
    "duration": 31,
    "start_time": "2023-06-12T12:03:04.097Z"
   },
   {
    "duration": 52,
    "start_time": "2023-06-12T12:03:04.129Z"
   },
   {
    "duration": 4,
    "start_time": "2023-06-12T12:03:04.183Z"
   },
   {
    "duration": 139,
    "start_time": "2023-06-12T12:03:04.189Z"
   },
   {
    "duration": 50,
    "start_time": "2023-06-12T12:03:04.330Z"
   },
   {
    "duration": 0,
    "start_time": "2023-06-12T12:03:04.382Z"
   },
   {
    "duration": 0,
    "start_time": "2023-06-12T12:03:04.384Z"
   },
   {
    "duration": 0,
    "start_time": "2023-06-12T12:03:04.385Z"
   },
   {
    "duration": 29907,
    "start_time": "2023-06-12T12:07:45.068Z"
   },
   {
    "duration": 12,
    "start_time": "2023-06-12T12:30:45.264Z"
   },
   {
    "duration": 31,
    "start_time": "2023-06-12T12:30:56.330Z"
   },
   {
    "duration": 1324,
    "start_time": "2023-06-12T12:31:14.911Z"
   },
   {
    "duration": 797,
    "start_time": "2023-06-12T12:31:16.237Z"
   },
   {
    "duration": 5,
    "start_time": "2023-06-12T12:31:17.036Z"
   },
   {
    "duration": 136,
    "start_time": "2023-06-12T12:31:17.042Z"
   },
   {
    "duration": 14,
    "start_time": "2023-06-12T12:31:17.180Z"
   },
   {
    "duration": 90,
    "start_time": "2023-06-12T12:31:17.196Z"
   },
   {
    "duration": 865,
    "start_time": "2023-06-12T12:31:17.287Z"
   },
   {
    "duration": 74,
    "start_time": "2023-06-12T12:31:18.154Z"
   },
   {
    "duration": 550,
    "start_time": "2023-06-12T12:31:18.229Z"
   },
   {
    "duration": 3,
    "start_time": "2023-06-12T12:31:18.781Z"
   },
   {
    "duration": 283,
    "start_time": "2023-06-12T12:31:18.785Z"
   },
   {
    "duration": 80,
    "start_time": "2023-06-12T12:31:19.070Z"
   },
   {
    "duration": 74,
    "start_time": "2023-06-12T12:31:19.152Z"
   },
   {
    "duration": 19,
    "start_time": "2023-06-12T12:31:19.229Z"
   },
   {
    "duration": 47,
    "start_time": "2023-06-12T12:31:19.250Z"
   },
   {
    "duration": 31,
    "start_time": "2023-06-12T12:31:19.298Z"
   },
   {
    "duration": 48,
    "start_time": "2023-06-12T12:31:19.330Z"
   },
   {
    "duration": 28,
    "start_time": "2023-06-12T12:31:19.380Z"
   },
   {
    "duration": 40,
    "start_time": "2023-06-12T12:31:19.409Z"
   },
   {
    "duration": 34,
    "start_time": "2023-06-12T12:31:19.451Z"
   },
   {
    "duration": 26,
    "start_time": "2023-06-12T12:31:19.487Z"
   },
   {
    "duration": 36,
    "start_time": "2023-06-12T12:31:19.515Z"
   },
   {
    "duration": 47,
    "start_time": "2023-06-12T12:31:19.553Z"
   },
   {
    "duration": 32,
    "start_time": "2023-06-12T12:31:19.602Z"
   },
   {
    "duration": 98,
    "start_time": "2023-06-12T12:31:19.635Z"
   },
   {
    "duration": 70,
    "start_time": "2023-06-12T12:31:19.735Z"
   },
   {
    "duration": 205,
    "start_time": "2023-06-12T12:31:19.806Z"
   },
   {
    "duration": 201,
    "start_time": "2023-06-12T12:31:20.013Z"
   },
   {
    "duration": 237,
    "start_time": "2023-06-12T12:31:20.216Z"
   },
   {
    "duration": 25,
    "start_time": "2023-06-12T12:31:20.455Z"
   },
   {
    "duration": 49,
    "start_time": "2023-06-12T12:31:20.482Z"
   },
   {
    "duration": 24,
    "start_time": "2023-06-12T12:31:20.533Z"
   },
   {
    "duration": 24,
    "start_time": "2023-06-12T12:31:20.575Z"
   },
   {
    "duration": 20,
    "start_time": "2023-06-12T12:31:20.601Z"
   },
   {
    "duration": 3,
    "start_time": "2023-06-12T12:31:20.623Z"
   },
   {
    "duration": 20,
    "start_time": "2023-06-12T12:31:20.627Z"
   },
   {
    "duration": 241,
    "start_time": "2023-06-12T12:31:20.648Z"
   },
   {
    "duration": 250,
    "start_time": "2023-06-12T12:31:20.890Z"
   },
   {
    "duration": 12,
    "start_time": "2023-06-12T12:31:21.142Z"
   },
   {
    "duration": 2,
    "start_time": "2023-06-12T12:31:21.156Z"
   },
   {
    "duration": 59,
    "start_time": "2023-06-12T12:31:21.161Z"
   },
   {
    "duration": 4,
    "start_time": "2023-06-12T12:31:21.222Z"
   },
   {
    "duration": 9,
    "start_time": "2023-06-12T12:31:21.227Z"
   },
   {
    "duration": 60922,
    "start_time": "2023-06-12T12:31:21.238Z"
   },
   {
    "duration": 128,
    "start_time": "2023-06-12T12:32:22.162Z"
   },
   {
    "duration": 11,
    "start_time": "2023-06-12T12:32:22.291Z"
   },
   {
    "duration": 35,
    "start_time": "2023-06-12T12:32:22.304Z"
   },
   {
    "duration": 115,
    "start_time": "2023-06-12T12:32:22.340Z"
   },
   {
    "duration": 0,
    "start_time": "2023-06-12T12:32:22.456Z"
   },
   {
    "duration": 0,
    "start_time": "2023-06-12T12:32:22.457Z"
   },
   {
    "duration": 0,
    "start_time": "2023-06-12T12:32:22.458Z"
   },
   {
    "duration": 0,
    "start_time": "2023-06-12T12:32:22.459Z"
   },
   {
    "duration": 0,
    "start_time": "2023-06-12T12:32:22.460Z"
   },
   {
    "duration": 0,
    "start_time": "2023-06-12T12:32:22.475Z"
   },
   {
    "duration": 0,
    "start_time": "2023-06-12T12:32:22.475Z"
   },
   {
    "duration": 1406,
    "start_time": "2023-06-12T12:34:09.949Z"
   },
   {
    "duration": 858,
    "start_time": "2023-06-12T12:34:11.358Z"
   },
   {
    "duration": 6,
    "start_time": "2023-06-12T12:34:12.217Z"
   },
   {
    "duration": 139,
    "start_time": "2023-06-12T12:34:12.224Z"
   },
   {
    "duration": 21,
    "start_time": "2023-06-12T12:34:12.366Z"
   },
   {
    "duration": 94,
    "start_time": "2023-06-12T12:34:12.389Z"
   },
   {
    "duration": 918,
    "start_time": "2023-06-12T12:34:12.486Z"
   },
   {
    "duration": 79,
    "start_time": "2023-06-12T12:34:13.406Z"
   },
   {
    "duration": 667,
    "start_time": "2023-06-12T12:34:13.486Z"
   },
   {
    "duration": 5,
    "start_time": "2023-06-12T12:34:14.155Z"
   },
   {
    "duration": 299,
    "start_time": "2023-06-12T12:34:14.161Z"
   },
   {
    "duration": 84,
    "start_time": "2023-06-12T12:34:14.461Z"
   },
   {
    "duration": 77,
    "start_time": "2023-06-12T12:34:14.547Z"
   },
   {
    "duration": 27,
    "start_time": "2023-06-12T12:34:14.629Z"
   },
   {
    "duration": 34,
    "start_time": "2023-06-12T12:34:14.674Z"
   },
   {
    "duration": 33,
    "start_time": "2023-06-12T12:34:14.709Z"
   },
   {
    "duration": 51,
    "start_time": "2023-06-12T12:34:14.743Z"
   },
   {
    "duration": 29,
    "start_time": "2023-06-12T12:34:14.795Z"
   },
   {
    "duration": 60,
    "start_time": "2023-06-12T12:34:14.826Z"
   },
   {
    "duration": 26,
    "start_time": "2023-06-12T12:34:14.888Z"
   },
   {
    "duration": 42,
    "start_time": "2023-06-12T12:34:14.916Z"
   },
   {
    "duration": 40,
    "start_time": "2023-06-12T12:34:14.959Z"
   },
   {
    "duration": 35,
    "start_time": "2023-06-12T12:34:15.001Z"
   },
   {
    "duration": 53,
    "start_time": "2023-06-12T12:34:15.037Z"
   },
   {
    "duration": 114,
    "start_time": "2023-06-12T12:34:15.092Z"
   },
   {
    "duration": 68,
    "start_time": "2023-06-12T12:34:15.208Z"
   },
   {
    "duration": 201,
    "start_time": "2023-06-12T12:34:15.277Z"
   },
   {
    "duration": 199,
    "start_time": "2023-06-12T12:34:15.480Z"
   },
   {
    "duration": 233,
    "start_time": "2023-06-12T12:34:15.681Z"
   },
   {
    "duration": 20,
    "start_time": "2023-06-12T12:34:15.916Z"
   },
   {
    "duration": 60,
    "start_time": "2023-06-12T12:34:15.937Z"
   },
   {
    "duration": 23,
    "start_time": "2023-06-12T12:34:15.998Z"
   },
   {
    "duration": 26,
    "start_time": "2023-06-12T12:34:16.023Z"
   },
   {
    "duration": 39,
    "start_time": "2023-06-12T12:34:16.050Z"
   },
   {
    "duration": 4,
    "start_time": "2023-06-12T12:34:16.091Z"
   },
   {
    "duration": 16,
    "start_time": "2023-06-12T12:34:16.096Z"
   },
   {
    "duration": 250,
    "start_time": "2023-06-12T12:34:16.114Z"
   },
   {
    "duration": 247,
    "start_time": "2023-06-12T12:34:16.375Z"
   },
   {
    "duration": 11,
    "start_time": "2023-06-12T12:34:16.624Z"
   },
   {
    "duration": 3,
    "start_time": "2023-06-12T12:34:16.637Z"
   },
   {
    "duration": 63,
    "start_time": "2023-06-12T12:34:16.643Z"
   },
   {
    "duration": 3,
    "start_time": "2023-06-12T12:34:16.708Z"
   },
   {
    "duration": 5,
    "start_time": "2023-06-12T12:34:16.713Z"
   },
   {
    "duration": 130,
    "start_time": "2023-06-12T12:34:16.719Z"
   },
   {
    "duration": 62784,
    "start_time": "2023-06-12T12:34:16.851Z"
   },
   {
    "duration": 114,
    "start_time": "2023-06-12T12:35:19.637Z"
   },
   {
    "duration": 0,
    "start_time": "2023-06-12T12:35:19.752Z"
   },
   {
    "duration": 0,
    "start_time": "2023-06-12T12:35:19.753Z"
   },
   {
    "duration": 0,
    "start_time": "2023-06-12T12:35:19.755Z"
   },
   {
    "duration": 0,
    "start_time": "2023-06-12T12:35:19.756Z"
   },
   {
    "duration": 0,
    "start_time": "2023-06-12T12:35:19.757Z"
   },
   {
    "duration": 0,
    "start_time": "2023-06-12T12:35:19.758Z"
   },
   {
    "duration": 0,
    "start_time": "2023-06-12T12:35:19.759Z"
   },
   {
    "duration": 0,
    "start_time": "2023-06-12T12:35:19.761Z"
   },
   {
    "duration": 0,
    "start_time": "2023-06-12T12:35:19.775Z"
   },
   {
    "duration": 0,
    "start_time": "2023-06-12T12:35:19.776Z"
   },
   {
    "duration": 23,
    "start_time": "2023-06-12T12:35:47.120Z"
   },
   {
    "duration": 12,
    "start_time": "2023-06-12T12:35:51.597Z"
   },
   {
    "duration": 4,
    "start_time": "2023-06-12T12:37:21.600Z"
   },
   {
    "duration": 750,
    "start_time": "2023-06-12T12:37:21.606Z"
   },
   {
    "duration": 4,
    "start_time": "2023-06-12T12:37:22.357Z"
   },
   {
    "duration": 133,
    "start_time": "2023-06-12T12:37:22.362Z"
   },
   {
    "duration": 13,
    "start_time": "2023-06-12T12:37:22.498Z"
   },
   {
    "duration": 95,
    "start_time": "2023-06-12T12:37:22.512Z"
   },
   {
    "duration": 789,
    "start_time": "2023-06-12T12:37:22.608Z"
   },
   {
    "duration": 64,
    "start_time": "2023-06-12T12:37:23.399Z"
   },
   {
    "duration": 750,
    "start_time": "2023-06-12T12:37:23.474Z"
   },
   {
    "duration": 4,
    "start_time": "2023-06-12T12:37:24.226Z"
   },
   {
    "duration": 262,
    "start_time": "2023-06-12T12:37:24.232Z"
   },
   {
    "duration": 87,
    "start_time": "2023-06-12T12:37:24.496Z"
   },
   {
    "duration": 67,
    "start_time": "2023-06-12T12:37:24.585Z"
   },
   {
    "duration": 33,
    "start_time": "2023-06-12T12:37:24.656Z"
   },
   {
    "duration": 35,
    "start_time": "2023-06-12T12:37:24.691Z"
   },
   {
    "duration": 51,
    "start_time": "2023-06-12T12:37:24.728Z"
   },
   {
    "duration": 36,
    "start_time": "2023-06-12T12:37:24.780Z"
   },
   {
    "duration": 22,
    "start_time": "2023-06-12T12:37:24.818Z"
   },
   {
    "duration": 58,
    "start_time": "2023-06-12T12:37:24.842Z"
   },
   {
    "duration": 21,
    "start_time": "2023-06-12T12:37:24.902Z"
   },
   {
    "duration": 21,
    "start_time": "2023-06-12T12:37:24.925Z"
   },
   {
    "duration": 53,
    "start_time": "2023-06-12T12:37:24.947Z"
   },
   {
    "duration": 32,
    "start_time": "2023-06-12T12:37:25.002Z"
   },
   {
    "duration": 47,
    "start_time": "2023-06-12T12:37:25.035Z"
   },
   {
    "duration": 86,
    "start_time": "2023-06-12T12:37:25.084Z"
   },
   {
    "duration": 67,
    "start_time": "2023-06-12T12:37:25.176Z"
   },
   {
    "duration": 202,
    "start_time": "2023-06-12T12:37:25.244Z"
   },
   {
    "duration": 202,
    "start_time": "2023-06-12T12:37:25.447Z"
   },
   {
    "duration": 236,
    "start_time": "2023-06-12T12:37:25.651Z"
   },
   {
    "duration": 21,
    "start_time": "2023-06-12T12:37:25.888Z"
   },
   {
    "duration": 46,
    "start_time": "2023-06-12T12:37:25.911Z"
   },
   {
    "duration": 41,
    "start_time": "2023-06-12T12:37:25.958Z"
   },
   {
    "duration": 27,
    "start_time": "2023-06-12T12:37:26.001Z"
   },
   {
    "duration": 21,
    "start_time": "2023-06-12T12:37:26.030Z"
   },
   {
    "duration": 4,
    "start_time": "2023-06-12T12:37:26.074Z"
   },
   {
    "duration": 15,
    "start_time": "2023-06-12T12:37:26.079Z"
   },
   {
    "duration": 248,
    "start_time": "2023-06-12T12:37:26.096Z"
   },
   {
    "duration": 245,
    "start_time": "2023-06-12T12:37:26.346Z"
   },
   {
    "duration": 14,
    "start_time": "2023-06-12T12:37:26.593Z"
   },
   {
    "duration": 2,
    "start_time": "2023-06-12T12:37:26.609Z"
   },
   {
    "duration": 65,
    "start_time": "2023-06-12T12:37:26.614Z"
   },
   {
    "duration": 4,
    "start_time": "2023-06-12T12:37:26.681Z"
   },
   {
    "duration": 7,
    "start_time": "2023-06-12T12:37:26.686Z"
   },
   {
    "duration": 94,
    "start_time": "2023-06-12T12:37:39.589Z"
   },
   {
    "duration": 1434,
    "start_time": "2023-06-12T12:37:51.789Z"
   },
   {
    "duration": 2851,
    "start_time": "2023-06-12T12:37:53.226Z"
   },
   {
    "duration": 6,
    "start_time": "2023-06-12T12:37:56.078Z"
   },
   {
    "duration": 135,
    "start_time": "2023-06-12T12:37:56.085Z"
   },
   {
    "duration": 15,
    "start_time": "2023-06-12T12:37:56.223Z"
   },
   {
    "duration": 113,
    "start_time": "2023-06-12T12:37:56.240Z"
   },
   {
    "duration": 887,
    "start_time": "2023-06-12T12:37:56.354Z"
   },
   {
    "duration": 78,
    "start_time": "2023-06-12T12:37:57.242Z"
   },
   {
    "duration": 584,
    "start_time": "2023-06-12T12:37:57.322Z"
   },
   {
    "duration": 3,
    "start_time": "2023-06-12T12:37:57.908Z"
   },
   {
    "duration": 330,
    "start_time": "2023-06-12T12:37:57.913Z"
   },
   {
    "duration": 91,
    "start_time": "2023-06-12T12:37:58.245Z"
   },
   {
    "duration": 83,
    "start_time": "2023-06-12T12:37:58.338Z"
   },
   {
    "duration": 23,
    "start_time": "2023-06-12T12:37:58.424Z"
   },
   {
    "duration": 57,
    "start_time": "2023-06-12T12:37:58.449Z"
   },
   {
    "duration": 33,
    "start_time": "2023-06-12T12:37:58.509Z"
   },
   {
    "duration": 47,
    "start_time": "2023-06-12T12:37:58.544Z"
   },
   {
    "duration": 21,
    "start_time": "2023-06-12T12:37:58.593Z"
   },
   {
    "duration": 39,
    "start_time": "2023-06-12T12:37:58.616Z"
   },
   {
    "duration": 37,
    "start_time": "2023-06-12T12:37:58.657Z"
   },
   {
    "duration": 22,
    "start_time": "2023-06-12T12:37:58.696Z"
   },
   {
    "duration": 35,
    "start_time": "2023-06-12T12:37:58.720Z"
   },
   {
    "duration": 33,
    "start_time": "2023-06-12T12:37:58.776Z"
   },
   {
    "duration": 38,
    "start_time": "2023-06-12T12:37:58.811Z"
   },
   {
    "duration": 114,
    "start_time": "2023-06-12T12:37:58.851Z"
   },
   {
    "duration": 79,
    "start_time": "2023-06-12T12:37:58.966Z"
   },
   {
    "duration": 215,
    "start_time": "2023-06-12T12:37:59.047Z"
   },
   {
    "duration": 209,
    "start_time": "2023-06-12T12:37:59.263Z"
   },
   {
    "duration": 264,
    "start_time": "2023-06-12T12:37:59.475Z"
   },
   {
    "duration": 24,
    "start_time": "2023-06-12T12:37:59.741Z"
   },
   {
    "duration": 56,
    "start_time": "2023-06-12T12:37:59.766Z"
   },
   {
    "duration": 30,
    "start_time": "2023-06-12T12:37:59.824Z"
   },
   {
    "duration": 46,
    "start_time": "2023-06-12T12:37:59.856Z"
   },
   {
    "duration": 23,
    "start_time": "2023-06-12T12:37:59.903Z"
   },
   {
    "duration": 4,
    "start_time": "2023-06-12T12:37:59.928Z"
   },
   {
    "duration": 28,
    "start_time": "2023-06-12T12:37:59.934Z"
   },
   {
    "duration": 267,
    "start_time": "2023-06-12T12:37:59.963Z"
   },
   {
    "duration": 256,
    "start_time": "2023-06-12T12:38:00.233Z"
   },
   {
    "duration": 13,
    "start_time": "2023-06-12T12:38:00.491Z"
   },
   {
    "duration": 31,
    "start_time": "2023-06-12T12:38:00.505Z"
   },
   {
    "duration": 85,
    "start_time": "2023-06-12T12:38:00.540Z"
   },
   {
    "duration": 4,
    "start_time": "2023-06-12T12:38:00.626Z"
   },
   {
    "duration": 30,
    "start_time": "2023-06-12T12:38:00.632Z"
   },
   {
    "duration": 71942,
    "start_time": "2023-06-12T12:38:00.663Z"
   },
   {
    "duration": 125,
    "start_time": "2023-06-12T12:39:12.607Z"
   },
   {
    "duration": 108,
    "start_time": "2023-06-12T12:39:12.733Z"
   },
   {
    "duration": 0,
    "start_time": "2023-06-12T12:39:12.842Z"
   },
   {
    "duration": 0,
    "start_time": "2023-06-12T12:39:12.843Z"
   },
   {
    "duration": 0,
    "start_time": "2023-06-12T12:39:12.845Z"
   },
   {
    "duration": 0,
    "start_time": "2023-06-12T12:39:12.846Z"
   },
   {
    "duration": 0,
    "start_time": "2023-06-12T12:39:12.847Z"
   },
   {
    "duration": 0,
    "start_time": "2023-06-12T12:39:12.848Z"
   },
   {
    "duration": 0,
    "start_time": "2023-06-12T12:39:12.849Z"
   },
   {
    "duration": 0,
    "start_time": "2023-06-12T12:39:12.850Z"
   },
   {
    "duration": 0,
    "start_time": "2023-06-12T12:39:12.851Z"
   },
   {
    "duration": 0,
    "start_time": "2023-06-12T12:39:12.852Z"
   },
   {
    "duration": 10,
    "start_time": "2023-06-12T12:39:25.348Z"
   },
   {
    "duration": 25,
    "start_time": "2023-06-12T12:39:31.651Z"
   },
   {
    "duration": 1322,
    "start_time": "2023-06-12T12:40:04.698Z"
   },
   {
    "duration": 830,
    "start_time": "2023-06-12T12:40:06.022Z"
   },
   {
    "duration": 5,
    "start_time": "2023-06-12T12:40:06.854Z"
   },
   {
    "duration": 151,
    "start_time": "2023-06-12T12:40:06.861Z"
   },
   {
    "duration": 15,
    "start_time": "2023-06-12T12:40:07.014Z"
   },
   {
    "duration": 106,
    "start_time": "2023-06-12T12:40:07.030Z"
   },
   {
    "duration": 900,
    "start_time": "2023-06-12T12:40:07.138Z"
   },
   {
    "duration": 87,
    "start_time": "2023-06-12T12:40:08.040Z"
   },
   {
    "duration": 571,
    "start_time": "2023-06-12T12:40:08.128Z"
   },
   {
    "duration": 3,
    "start_time": "2023-06-12T12:40:08.701Z"
   },
   {
    "duration": 296,
    "start_time": "2023-06-12T12:40:08.706Z"
   },
   {
    "duration": 85,
    "start_time": "2023-06-12T12:40:09.004Z"
   },
   {
    "duration": 68,
    "start_time": "2023-06-12T12:40:09.091Z"
   },
   {
    "duration": 28,
    "start_time": "2023-06-12T12:40:09.162Z"
   },
   {
    "duration": 44,
    "start_time": "2023-06-12T12:40:09.191Z"
   },
   {
    "duration": 39,
    "start_time": "2023-06-12T12:40:09.237Z"
   },
   {
    "duration": 38,
    "start_time": "2023-06-12T12:40:09.278Z"
   },
   {
    "duration": 19,
    "start_time": "2023-06-12T12:40:09.318Z"
   },
   {
    "duration": 55,
    "start_time": "2023-06-12T12:40:09.339Z"
   },
   {
    "duration": 21,
    "start_time": "2023-06-12T12:40:09.395Z"
   },
   {
    "duration": 22,
    "start_time": "2023-06-12T12:40:09.417Z"
   },
   {
    "duration": 47,
    "start_time": "2023-06-12T12:40:09.440Z"
   },
   {
    "duration": 35,
    "start_time": "2023-06-12T12:40:09.488Z"
   },
   {
    "duration": 67,
    "start_time": "2023-06-12T12:40:09.524Z"
   },
   {
    "duration": 99,
    "start_time": "2023-06-12T12:40:09.592Z"
   },
   {
    "duration": 65,
    "start_time": "2023-06-12T12:40:09.692Z"
   },
   {
    "duration": 202,
    "start_time": "2023-06-12T12:40:09.759Z"
   },
   {
    "duration": 205,
    "start_time": "2023-06-12T12:40:09.963Z"
   },
   {
    "duration": 236,
    "start_time": "2023-06-12T12:40:10.169Z"
   },
   {
    "duration": 22,
    "start_time": "2023-06-12T12:40:10.406Z"
   },
   {
    "duration": 55,
    "start_time": "2023-06-12T12:40:10.430Z"
   },
   {
    "duration": 26,
    "start_time": "2023-06-12T12:40:10.487Z"
   },
   {
    "duration": 25,
    "start_time": "2023-06-12T12:40:10.515Z"
   },
   {
    "duration": 41,
    "start_time": "2023-06-12T12:40:10.542Z"
   },
   {
    "duration": 4,
    "start_time": "2023-06-12T12:40:10.585Z"
   },
   {
    "duration": 15,
    "start_time": "2023-06-12T12:40:10.590Z"
   },
   {
    "duration": 234,
    "start_time": "2023-06-12T12:40:10.607Z"
   },
   {
    "duration": 235,
    "start_time": "2023-06-12T12:40:10.843Z"
   },
   {
    "duration": 12,
    "start_time": "2023-06-12T12:40:11.080Z"
   },
   {
    "duration": 3,
    "start_time": "2023-06-12T12:40:11.093Z"
   },
   {
    "duration": 53,
    "start_time": "2023-06-12T12:40:11.100Z"
   },
   {
    "duration": 22,
    "start_time": "2023-06-12T12:40:11.154Z"
   },
   {
    "duration": 6,
    "start_time": "2023-06-12T12:40:11.177Z"
   },
   {
    "duration": 68530,
    "start_time": "2023-06-12T12:40:11.185Z"
   },
   {
    "duration": 22,
    "start_time": "2023-06-12T12:41:19.717Z"
   },
   {
    "duration": 139,
    "start_time": "2023-06-12T12:41:19.740Z"
   },
   {
    "duration": 27,
    "start_time": "2023-06-12T12:41:19.881Z"
   },
   {
    "duration": 111,
    "start_time": "2023-06-12T12:41:19.910Z"
   },
   {
    "duration": 0,
    "start_time": "2023-06-12T12:41:20.023Z"
   },
   {
    "duration": 0,
    "start_time": "2023-06-12T12:41:20.024Z"
   },
   {
    "duration": 0,
    "start_time": "2023-06-12T12:41:20.025Z"
   },
   {
    "duration": 0,
    "start_time": "2023-06-12T12:41:20.026Z"
   },
   {
    "duration": 0,
    "start_time": "2023-06-12T12:41:20.027Z"
   },
   {
    "duration": 0,
    "start_time": "2023-06-12T12:41:20.027Z"
   },
   {
    "duration": 0,
    "start_time": "2023-06-12T12:41:20.028Z"
   },
   {
    "duration": 0,
    "start_time": "2023-06-12T12:41:20.029Z"
   },
   {
    "duration": 0,
    "start_time": "2023-06-12T12:41:20.031Z"
   },
   {
    "duration": 0,
    "start_time": "2023-06-12T12:41:20.032Z"
   },
   {
    "duration": 1353,
    "start_time": "2023-06-12T12:44:50.979Z"
   },
   {
    "duration": 850,
    "start_time": "2023-06-12T12:44:52.334Z"
   },
   {
    "duration": 4,
    "start_time": "2023-06-12T12:44:53.186Z"
   },
   {
    "duration": 163,
    "start_time": "2023-06-12T12:44:53.192Z"
   },
   {
    "duration": 33,
    "start_time": "2023-06-12T12:44:53.358Z"
   },
   {
    "duration": 148,
    "start_time": "2023-06-12T12:44:53.393Z"
   },
   {
    "duration": 950,
    "start_time": "2023-06-12T12:44:53.543Z"
   },
   {
    "duration": 81,
    "start_time": "2023-06-12T12:44:54.494Z"
   },
   {
    "duration": 635,
    "start_time": "2023-06-12T12:44:54.577Z"
   },
   {
    "duration": 4,
    "start_time": "2023-06-12T12:44:55.213Z"
   },
   {
    "duration": 321,
    "start_time": "2023-06-12T12:44:55.218Z"
   },
   {
    "duration": 88,
    "start_time": "2023-06-12T12:44:55.541Z"
   },
   {
    "duration": 99,
    "start_time": "2023-06-12T12:44:55.630Z"
   },
   {
    "duration": 21,
    "start_time": "2023-06-12T12:44:55.733Z"
   },
   {
    "duration": 48,
    "start_time": "2023-06-12T12:44:55.756Z"
   },
   {
    "duration": 34,
    "start_time": "2023-06-12T12:44:55.806Z"
   },
   {
    "duration": 50,
    "start_time": "2023-06-12T12:44:55.842Z"
   },
   {
    "duration": 22,
    "start_time": "2023-06-12T12:44:55.894Z"
   },
   {
    "duration": 40,
    "start_time": "2023-06-12T12:44:55.918Z"
   },
   {
    "duration": 23,
    "start_time": "2023-06-12T12:44:55.975Z"
   },
   {
    "duration": 21,
    "start_time": "2023-06-12T12:44:55.999Z"
   },
   {
    "duration": 56,
    "start_time": "2023-06-12T12:44:56.022Z"
   },
   {
    "duration": 50,
    "start_time": "2023-06-12T12:44:56.080Z"
   },
   {
    "duration": 53,
    "start_time": "2023-06-12T12:44:56.132Z"
   },
   {
    "duration": 124,
    "start_time": "2023-06-12T12:44:56.188Z"
   },
   {
    "duration": 84,
    "start_time": "2023-06-12T12:44:56.314Z"
   },
   {
    "duration": 223,
    "start_time": "2023-06-12T12:44:56.400Z"
   },
   {
    "duration": 211,
    "start_time": "2023-06-12T12:44:56.625Z"
   },
   {
    "duration": 252,
    "start_time": "2023-06-12T12:44:56.838Z"
   },
   {
    "duration": 22,
    "start_time": "2023-06-12T12:44:57.091Z"
   },
   {
    "duration": 67,
    "start_time": "2023-06-12T12:44:57.114Z"
   },
   {
    "duration": 30,
    "start_time": "2023-06-12T12:44:57.183Z"
   },
   {
    "duration": 28,
    "start_time": "2023-06-12T12:44:57.215Z"
   },
   {
    "duration": 45,
    "start_time": "2023-06-12T12:44:57.244Z"
   },
   {
    "duration": 9,
    "start_time": "2023-06-12T12:44:57.290Z"
   },
   {
    "duration": 34,
    "start_time": "2023-06-12T12:44:57.301Z"
   },
   {
    "duration": 278,
    "start_time": "2023-06-12T12:44:57.337Z"
   },
   {
    "duration": 306,
    "start_time": "2023-06-12T12:44:57.617Z"
   },
   {
    "duration": 13,
    "start_time": "2023-06-12T12:44:57.925Z"
   },
   {
    "duration": 3,
    "start_time": "2023-06-12T12:44:57.939Z"
   },
   {
    "duration": 65,
    "start_time": "2023-06-12T12:44:57.945Z"
   },
   {
    "duration": 4,
    "start_time": "2023-06-12T12:44:58.012Z"
   },
   {
    "duration": 16,
    "start_time": "2023-06-12T12:44:58.017Z"
   },
   {
    "duration": 152,
    "start_time": "2023-06-12T12:44:58.034Z"
   },
   {
    "duration": 15,
    "start_time": "2023-06-12T12:44:58.188Z"
   },
   {
    "duration": 72634,
    "start_time": "2023-06-12T12:44:58.205Z"
   },
   {
    "duration": 24,
    "start_time": "2023-06-12T12:46:10.841Z"
   },
   {
    "duration": 2,
    "start_time": "2023-06-12T12:46:10.875Z"
   },
   {
    "duration": 47106,
    "start_time": "2023-06-12T12:46:10.878Z"
   },
   {
    "duration": 91,
    "start_time": "2023-06-12T12:46:57.987Z"
   },
   {
    "duration": 0,
    "start_time": "2023-06-12T12:46:58.080Z"
   },
   {
    "duration": 0,
    "start_time": "2023-06-12T12:46:58.081Z"
   },
   {
    "duration": 0,
    "start_time": "2023-06-12T12:46:58.083Z"
   },
   {
    "duration": 168,
    "start_time": "2023-06-12T12:50:16.294Z"
   },
   {
    "duration": 75,
    "start_time": "2023-06-12T12:59:15.644Z"
   },
   {
    "duration": 29524,
    "start_time": "2023-06-12T13:02:55.454Z"
   },
   {
    "duration": 4,
    "start_time": "2023-06-12T13:05:29.159Z"
   },
   {
    "duration": 4,
    "start_time": "2023-06-12T13:05:34.296Z"
   },
   {
    "duration": 32926,
    "start_time": "2023-06-12T13:06:09.554Z"
   },
   {
    "duration": 29767,
    "start_time": "2023-06-12T13:07:02.510Z"
   },
   {
    "duration": 72,
    "start_time": "2023-06-12T13:08:03.501Z"
   },
   {
    "duration": 30800,
    "start_time": "2023-06-12T13:09:18.477Z"
   },
   {
    "duration": 15249,
    "start_time": "2023-06-12T13:31:27.826Z"
   },
   {
    "duration": 29603,
    "start_time": "2023-06-12T13:41:24.876Z"
   },
   {
    "duration": 30,
    "start_time": "2023-06-12T13:42:17.788Z"
   },
   {
    "duration": 36288,
    "start_time": "2023-06-12T13:42:23.091Z"
   },
   {
    "duration": 94,
    "start_time": "2023-06-12T13:42:59.382Z"
   },
   {
    "duration": 4,
    "start_time": "2023-06-12T13:43:48.654Z"
   },
   {
    "duration": 3,
    "start_time": "2023-06-12T13:44:19.488Z"
   },
   {
    "duration": 34333,
    "start_time": "2023-06-12T13:46:26.881Z"
   },
   {
    "duration": 41479,
    "start_time": "2023-06-12T13:47:24.698Z"
   },
   {
    "duration": 52322,
    "start_time": "2023-06-12T13:59:11.354Z"
   },
   {
    "duration": 14,
    "start_time": "2023-06-12T14:03:59.669Z"
   },
   {
    "duration": 3347,
    "start_time": "2023-06-12T14:04:12.524Z"
   },
   {
    "duration": 3045,
    "start_time": "2023-06-12T14:06:03.741Z"
   },
   {
    "duration": 2927,
    "start_time": "2023-06-12T14:06:18.686Z"
   },
   {
    "duration": 3110,
    "start_time": "2023-06-12T14:07:25.848Z"
   },
   {
    "duration": 1537,
    "start_time": "2023-06-14T12:20:37.074Z"
   },
   {
    "duration": 989,
    "start_time": "2023-06-14T12:20:38.613Z"
   },
   {
    "duration": 5,
    "start_time": "2023-06-14T12:20:39.604Z"
   },
   {
    "duration": 112,
    "start_time": "2023-06-14T12:20:39.611Z"
   },
   {
    "duration": 14,
    "start_time": "2023-06-14T12:20:39.726Z"
   },
   {
    "duration": 105,
    "start_time": "2023-06-14T12:20:39.741Z"
   },
   {
    "duration": 1107,
    "start_time": "2023-06-14T12:20:39.848Z"
   },
   {
    "duration": 77,
    "start_time": "2023-06-14T12:20:40.956Z"
   },
   {
    "duration": 602,
    "start_time": "2023-06-14T12:20:41.034Z"
   },
   {
    "duration": 3,
    "start_time": "2023-06-14T12:20:41.638Z"
   },
   {
    "duration": 271,
    "start_time": "2023-06-14T12:20:41.643Z"
   },
   {
    "duration": 73,
    "start_time": "2023-06-14T12:20:41.916Z"
   },
   {
    "duration": 54,
    "start_time": "2023-06-14T12:20:41.991Z"
   },
   {
    "duration": 33,
    "start_time": "2023-06-14T12:20:42.049Z"
   },
   {
    "duration": 29,
    "start_time": "2023-06-14T12:20:42.084Z"
   },
   {
    "duration": 26,
    "start_time": "2023-06-14T12:20:42.115Z"
   },
   {
    "duration": 50,
    "start_time": "2023-06-14T12:20:42.143Z"
   },
   {
    "duration": 18,
    "start_time": "2023-06-14T12:20:42.194Z"
   },
   {
    "duration": 42,
    "start_time": "2023-06-14T12:20:42.213Z"
   },
   {
    "duration": 28,
    "start_time": "2023-06-14T12:20:42.257Z"
   },
   {
    "duration": 21,
    "start_time": "2023-06-14T12:20:42.286Z"
   },
   {
    "duration": 32,
    "start_time": "2023-06-14T12:20:42.309Z"
   },
   {
    "duration": 47,
    "start_time": "2023-06-14T12:20:42.342Z"
   },
   {
    "duration": 35,
    "start_time": "2023-06-14T12:20:42.390Z"
   },
   {
    "duration": 88,
    "start_time": "2023-06-14T12:20:42.427Z"
   },
   {
    "duration": 60,
    "start_time": "2023-06-14T12:20:42.517Z"
   },
   {
    "duration": 194,
    "start_time": "2023-06-14T12:20:42.578Z"
   },
   {
    "duration": 197,
    "start_time": "2023-06-14T12:20:42.774Z"
   },
   {
    "duration": 222,
    "start_time": "2023-06-14T12:20:42.973Z"
   },
   {
    "duration": 19,
    "start_time": "2023-06-14T12:20:43.196Z"
   },
   {
    "duration": 61,
    "start_time": "2023-06-14T12:20:43.216Z"
   },
   {
    "duration": 28,
    "start_time": "2023-06-14T12:20:43.278Z"
   },
   {
    "duration": 26,
    "start_time": "2023-06-14T12:20:43.307Z"
   },
   {
    "duration": 40,
    "start_time": "2023-06-14T12:20:43.336Z"
   },
   {
    "duration": 6,
    "start_time": "2023-06-14T12:20:43.378Z"
   },
   {
    "duration": 18,
    "start_time": "2023-06-14T12:20:43.386Z"
   },
   {
    "duration": 241,
    "start_time": "2023-06-14T12:20:43.405Z"
   },
   {
    "duration": 232,
    "start_time": "2023-06-14T12:20:43.648Z"
   },
   {
    "duration": 12,
    "start_time": "2023-06-14T12:20:43.881Z"
   },
   {
    "duration": 3,
    "start_time": "2023-06-14T12:20:43.895Z"
   },
   {
    "duration": 95,
    "start_time": "2023-06-14T12:20:43.902Z"
   },
   {
    "duration": 4,
    "start_time": "2023-06-14T12:20:43.999Z"
   },
   {
    "duration": 24,
    "start_time": "2023-06-14T12:20:44.005Z"
   },
   {
    "duration": 117,
    "start_time": "2023-06-14T12:20:44.030Z"
   },
   {
    "duration": 11,
    "start_time": "2023-06-14T12:20:44.149Z"
   },
   {
    "duration": 70463,
    "start_time": "2023-06-14T12:20:44.172Z"
   },
   {
    "duration": 22,
    "start_time": "2023-06-14T12:21:54.637Z"
   },
   {
    "duration": 38111,
    "start_time": "2023-06-14T12:21:54.661Z"
   },
   {
    "duration": 3242,
    "start_time": "2023-06-14T12:22:32.774Z"
   },
   {
    "duration": 246,
    "start_time": "2023-06-14T12:22:36.018Z"
   },
   {
    "duration": 77,
    "start_time": "2023-06-14T12:22:36.266Z"
   },
   {
    "duration": 10,
    "start_time": "2023-06-14T12:22:36.345Z"
   },
   {
    "duration": 0,
    "start_time": "2023-06-14T12:22:36.356Z"
   },
   {
    "duration": 58603,
    "start_time": "2023-06-14T12:23:05.780Z"
   },
   {
    "duration": 54473,
    "start_time": "2023-06-14T12:24:05.284Z"
   },
   {
    "duration": 47,
    "start_time": "2023-06-14T18:30:17.817Z"
   },
   {
    "duration": 1816,
    "start_time": "2023-06-14T18:30:25.938Z"
   },
   {
    "duration": 2810,
    "start_time": "2023-06-14T18:30:27.756Z"
   },
   {
    "duration": 6,
    "start_time": "2023-06-14T18:30:30.567Z"
   },
   {
    "duration": 154,
    "start_time": "2023-06-14T18:30:30.574Z"
   },
   {
    "duration": 14,
    "start_time": "2023-06-14T18:30:30.732Z"
   },
   {
    "duration": 117,
    "start_time": "2023-06-14T18:30:30.748Z"
   },
   {
    "duration": 869,
    "start_time": "2023-06-14T18:30:30.867Z"
   },
   {
    "duration": 78,
    "start_time": "2023-06-14T18:30:31.738Z"
   },
   {
    "duration": 613,
    "start_time": "2023-06-14T18:30:31.818Z"
   },
   {
    "duration": 4,
    "start_time": "2023-06-14T18:30:32.434Z"
   },
   {
    "duration": 309,
    "start_time": "2023-06-14T18:30:32.440Z"
   },
   {
    "duration": 81,
    "start_time": "2023-06-14T18:30:32.754Z"
   },
   {
    "duration": 78,
    "start_time": "2023-06-14T18:30:32.837Z"
   },
   {
    "duration": 20,
    "start_time": "2023-06-14T18:30:32.918Z"
   },
   {
    "duration": 41,
    "start_time": "2023-06-14T18:30:32.954Z"
   },
   {
    "duration": 33,
    "start_time": "2023-06-14T18:30:32.996Z"
   },
   {
    "duration": 48,
    "start_time": "2023-06-14T18:30:33.031Z"
   },
   {
    "duration": 23,
    "start_time": "2023-06-14T18:30:33.081Z"
   },
   {
    "duration": 64,
    "start_time": "2023-06-14T18:30:33.106Z"
   },
   {
    "duration": 23,
    "start_time": "2023-06-14T18:30:33.171Z"
   },
   {
    "duration": 20,
    "start_time": "2023-06-14T18:30:33.195Z"
   },
   {
    "duration": 48,
    "start_time": "2023-06-14T18:30:33.217Z"
   },
   {
    "duration": 43,
    "start_time": "2023-06-14T18:30:33.267Z"
   },
   {
    "duration": 49,
    "start_time": "2023-06-14T18:30:33.312Z"
   },
   {
    "duration": 96,
    "start_time": "2023-06-14T18:30:33.363Z"
   },
   {
    "duration": 65,
    "start_time": "2023-06-14T18:30:33.461Z"
   },
   {
    "duration": 214,
    "start_time": "2023-06-14T18:30:33.528Z"
   },
   {
    "duration": 204,
    "start_time": "2023-06-14T18:30:33.744Z"
   },
   {
    "duration": 269,
    "start_time": "2023-06-14T18:30:33.950Z"
   },
   {
    "duration": 20,
    "start_time": "2023-06-14T18:30:34.221Z"
   },
   {
    "duration": 49,
    "start_time": "2023-06-14T18:30:34.243Z"
   },
   {
    "duration": 25,
    "start_time": "2023-06-14T18:30:34.294Z"
   },
   {
    "duration": 44,
    "start_time": "2023-06-14T18:30:34.320Z"
   },
   {
    "duration": 23,
    "start_time": "2023-06-14T18:30:34.366Z"
   },
   {
    "duration": 4,
    "start_time": "2023-06-14T18:30:34.392Z"
   },
   {
    "duration": 17,
    "start_time": "2023-06-14T18:30:34.398Z"
   },
   {
    "duration": 242,
    "start_time": "2023-06-14T18:30:34.417Z"
   },
   {
    "duration": 250,
    "start_time": "2023-06-14T18:30:34.661Z"
   },
   {
    "duration": 12,
    "start_time": "2023-06-14T18:30:34.913Z"
   },
   {
    "duration": 7,
    "start_time": "2023-06-14T18:30:34.927Z"
   },
   {
    "duration": 63,
    "start_time": "2023-06-14T18:30:34.938Z"
   },
   {
    "duration": 4,
    "start_time": "2023-06-14T18:30:35.003Z"
   },
   {
    "duration": 5,
    "start_time": "2023-06-14T18:30:35.009Z"
   },
   {
    "duration": 139,
    "start_time": "2023-06-14T18:30:35.015Z"
   },
   {
    "duration": 13,
    "start_time": "2023-06-14T18:30:35.155Z"
   },
   {
    "duration": 67825,
    "start_time": "2023-06-14T18:30:35.169Z"
   },
   {
    "duration": 22,
    "start_time": "2023-06-14T18:31:42.996Z"
   },
   {
    "duration": 33142,
    "start_time": "2023-06-14T18:31:43.020Z"
   },
   {
    "duration": 3159,
    "start_time": "2023-06-14T18:32:16.164Z"
   },
   {
    "duration": 12,
    "start_time": "2023-06-14T18:32:19.324Z"
   },
   {
    "duration": 28787,
    "start_time": "2023-06-14T18:32:19.338Z"
   },
   {
    "duration": 68,
    "start_time": "2023-06-14T18:32:48.126Z"
   },
   {
    "duration": 10,
    "start_time": "2023-06-14T18:32:48.195Z"
   },
   {
    "duration": 0,
    "start_time": "2023-06-14T18:32:48.207Z"
   },
   {
    "duration": 11,
    "start_time": "2023-06-14T18:36:05.386Z"
   },
   {
    "duration": 49,
    "start_time": "2023-06-14T18:36:11.404Z"
   },
   {
    "duration": 42,
    "start_time": "2023-06-14T18:36:17.071Z"
   },
   {
    "duration": 47409,
    "start_time": "2023-06-14T18:37:36.735Z"
   },
   {
    "duration": 47053,
    "start_time": "2023-06-14T18:47:50.202Z"
   },
   {
    "duration": 3847,
    "start_time": "2023-06-14T18:48:49.419Z"
   },
   {
    "duration": 156,
    "start_time": "2023-06-14T18:49:29.887Z"
   },
   {
    "duration": 39,
    "start_time": "2023-06-14T18:49:57.442Z"
   },
   {
    "duration": 14420,
    "start_time": "2023-06-14T18:50:14.006Z"
   },
   {
    "duration": 13721,
    "start_time": "2023-06-14T18:53:45.332Z"
   },
   {
    "duration": 13867,
    "start_time": "2023-06-14T18:55:27.043Z"
   },
   {
    "duration": 35427,
    "start_time": "2023-06-14T18:59:11.835Z"
   },
   {
    "duration": 47,
    "start_time": "2023-06-14T19:01:35.282Z"
   },
   {
    "duration": 138830,
    "start_time": "2023-06-14T19:01:47.794Z"
   },
   {
    "duration": 44554,
    "start_time": "2023-06-14T19:05:14.587Z"
   },
   {
    "duration": 88186,
    "start_time": "2023-06-14T19:06:06.638Z"
   },
   {
    "duration": 81375,
    "start_time": "2023-06-14T19:14:51.915Z"
   },
   {
    "duration": 5224,
    "start_time": "2023-06-14T19:21:49.497Z"
   },
   {
    "duration": 12772,
    "start_time": "2023-06-14T19:21:59.103Z"
   },
   {
    "duration": 17614,
    "start_time": "2023-06-14T19:22:33.605Z"
   },
   {
    "duration": 145039,
    "start_time": "2023-06-14T19:26:22.610Z"
   },
   {
    "duration": 50543,
    "start_time": "2023-06-14T19:31:54.722Z"
   },
   {
    "duration": 49635,
    "start_time": "2023-06-14T19:33:25.961Z"
   },
   {
    "duration": 43773,
    "start_time": "2023-06-14T19:38:26.605Z"
   },
   {
    "duration": 4309,
    "start_time": "2023-06-14T19:40:18.505Z"
   },
   {
    "duration": 2924,
    "start_time": "2023-06-14T19:40:39.085Z"
   },
   {
    "duration": 2925,
    "start_time": "2023-06-14T19:41:47.139Z"
   },
   {
    "duration": 3197,
    "start_time": "2023-06-14T19:41:57.813Z"
   },
   {
    "duration": 2895,
    "start_time": "2023-06-14T19:42:29.324Z"
   },
   {
    "duration": 2908,
    "start_time": "2023-06-14T19:43:53.147Z"
   },
   {
    "duration": 2987,
    "start_time": "2023-06-14T19:44:24.820Z"
   },
   {
    "duration": 32606,
    "start_time": "2023-06-14T19:45:37.050Z"
   },
   {
    "duration": 5211,
    "start_time": "2023-06-14T19:51:34.996Z"
   },
   {
    "duration": 31871,
    "start_time": "2023-06-14T19:55:01.020Z"
   },
   {
    "duration": 33044,
    "start_time": "2023-06-14T19:55:58.748Z"
   },
   {
    "duration": 32404,
    "start_time": "2023-06-14T19:56:51.488Z"
   },
   {
    "duration": 31530,
    "start_time": "2023-06-14T19:58:08.028Z"
   },
   {
    "duration": 30909,
    "start_time": "2023-06-14T20:00:18.347Z"
   },
   {
    "duration": 35,
    "start_time": "2023-06-14T20:02:26.233Z"
   },
   {
    "duration": 35,
    "start_time": "2023-06-14T20:02:43.100Z"
   },
   {
    "duration": 32156,
    "start_time": "2023-06-14T20:03:00.300Z"
   },
   {
    "duration": 31172,
    "start_time": "2023-06-14T20:05:24.192Z"
   },
   {
    "duration": 30738,
    "start_time": "2023-06-14T20:06:22.918Z"
   },
   {
    "duration": 45296,
    "start_time": "2023-06-14T20:11:46.996Z"
   },
   {
    "duration": 29760,
    "start_time": "2023-06-14T20:15:12.096Z"
   },
   {
    "duration": 33,
    "start_time": "2023-06-14T20:16:30.258Z"
   },
   {
    "duration": 30025,
    "start_time": "2023-06-14T20:16:37.538Z"
   },
   {
    "duration": 43362,
    "start_time": "2023-06-14T20:21:12.125Z"
   },
   {
    "duration": 43801,
    "start_time": "2023-06-14T20:24:22.508Z"
   },
   {
    "duration": 43787,
    "start_time": "2023-06-14T20:29:27.027Z"
   },
   {
    "duration": 72,
    "start_time": "2023-06-14T20:36:14.619Z"
   },
   {
    "duration": 69,
    "start_time": "2023-06-14T20:37:20.561Z"
   },
   {
    "duration": 72,
    "start_time": "2023-06-14T20:37:31.885Z"
   },
   {
    "duration": 44669,
    "start_time": "2023-06-14T20:37:39.619Z"
   },
   {
    "duration": 29779,
    "start_time": "2023-06-14T20:43:10.377Z"
   },
   {
    "duration": 45938,
    "start_time": "2023-06-14T20:44:50.924Z"
   },
   {
    "duration": 69,
    "start_time": "2023-06-14T20:46:06.901Z"
   },
   {
    "duration": 5,
    "start_time": "2023-06-14T20:46:30.526Z"
   },
   {
    "duration": 46365,
    "start_time": "2023-06-14T20:46:41.027Z"
   },
   {
    "duration": 30149,
    "start_time": "2023-06-14T20:48:38.809Z"
   },
   {
    "duration": 21364,
    "start_time": "2023-06-14T20:49:23.713Z"
   },
   {
    "duration": 31842,
    "start_time": "2023-06-14T20:49:47.318Z"
   },
   {
    "duration": 31472,
    "start_time": "2023-06-14T21:00:52.086Z"
   },
   {
    "duration": 35722,
    "start_time": "2023-06-14T21:06:35.036Z"
   },
   {
    "duration": 32246,
    "start_time": "2023-06-14T21:08:58.512Z"
   },
   {
    "duration": 29589,
    "start_time": "2023-06-14T21:11:11.870Z"
   },
   {
    "duration": 43055,
    "start_time": "2023-06-14T21:12:11.448Z"
   },
   {
    "duration": 4827,
    "start_time": "2023-06-14T21:12:54.505Z"
   },
   {
    "duration": 30416,
    "start_time": "2023-06-14T21:14:43.743Z"
   },
   {
    "duration": 29955,
    "start_time": "2023-06-14T21:17:03.702Z"
   },
   {
    "duration": 31031,
    "start_time": "2023-06-14T21:17:51.525Z"
   },
   {
    "duration": 30464,
    "start_time": "2023-06-14T21:19:46.002Z"
   },
   {
    "duration": 29377,
    "start_time": "2023-06-14T21:21:13.184Z"
   },
   {
    "duration": 29666,
    "start_time": "2023-06-14T21:22:30.194Z"
   },
   {
    "duration": 43292,
    "start_time": "2023-06-14T21:23:43.589Z"
   },
   {
    "duration": 30374,
    "start_time": "2023-06-14T21:24:26.883Z"
   },
   {
    "duration": 43261,
    "start_time": "2023-06-14T21:25:03.935Z"
   },
   {
    "duration": 1429,
    "start_time": "2023-06-14T21:27:35.630Z"
   },
   {
    "duration": 867,
    "start_time": "2023-06-14T21:27:37.061Z"
   },
   {
    "duration": 5,
    "start_time": "2023-06-14T21:27:37.929Z"
   },
   {
    "duration": 141,
    "start_time": "2023-06-14T21:27:37.935Z"
   },
   {
    "duration": 13,
    "start_time": "2023-06-14T21:27:38.078Z"
   },
   {
    "duration": 105,
    "start_time": "2023-06-14T21:27:38.092Z"
   },
   {
    "duration": 867,
    "start_time": "2023-06-14T21:27:38.199Z"
   },
   {
    "duration": 72,
    "start_time": "2023-06-14T21:27:39.068Z"
   },
   {
    "duration": 562,
    "start_time": "2023-06-14T21:27:39.154Z"
   },
   {
    "duration": 3,
    "start_time": "2023-06-14T21:27:39.718Z"
   },
   {
    "duration": 301,
    "start_time": "2023-06-14T21:27:39.722Z"
   },
   {
    "duration": 89,
    "start_time": "2023-06-14T21:27:40.025Z"
   },
   {
    "duration": 76,
    "start_time": "2023-06-14T21:27:40.116Z"
   },
   {
    "duration": 20,
    "start_time": "2023-06-14T21:27:40.195Z"
   },
   {
    "duration": 47,
    "start_time": "2023-06-14T21:27:40.216Z"
   },
   {
    "duration": 32,
    "start_time": "2023-06-14T21:27:40.265Z"
   },
   {
    "duration": 55,
    "start_time": "2023-06-14T21:27:40.299Z"
   },
   {
    "duration": 21,
    "start_time": "2023-06-14T21:27:40.356Z"
   },
   {
    "duration": 54,
    "start_time": "2023-06-14T21:27:40.378Z"
   },
   {
    "duration": 25,
    "start_time": "2023-06-14T21:27:40.434Z"
   },
   {
    "duration": 20,
    "start_time": "2023-06-14T21:27:40.461Z"
   },
   {
    "duration": 40,
    "start_time": "2023-06-14T21:27:40.483Z"
   },
   {
    "duration": 49,
    "start_time": "2023-06-14T21:27:40.525Z"
   },
   {
    "duration": 32,
    "start_time": "2023-06-14T21:27:40.576Z"
   },
   {
    "duration": 104,
    "start_time": "2023-06-14T21:27:40.610Z"
   },
   {
    "duration": 72,
    "start_time": "2023-06-14T21:27:40.715Z"
   },
   {
    "duration": 203,
    "start_time": "2023-06-14T21:27:40.789Z"
   },
   {
    "duration": 216,
    "start_time": "2023-06-14T21:27:40.994Z"
   },
   {
    "duration": 230,
    "start_time": "2023-06-14T21:27:41.212Z"
   },
   {
    "duration": 24,
    "start_time": "2023-06-14T21:27:41.444Z"
   },
   {
    "duration": 43,
    "start_time": "2023-06-14T21:27:41.470Z"
   },
   {
    "duration": 40,
    "start_time": "2023-06-14T21:27:41.515Z"
   },
   {
    "duration": 25,
    "start_time": "2023-06-14T21:27:41.557Z"
   },
   {
    "duration": 20,
    "start_time": "2023-06-14T21:27:41.584Z"
   },
   {
    "duration": 3,
    "start_time": "2023-06-14T21:27:41.606Z"
   },
   {
    "duration": 12,
    "start_time": "2023-06-14T21:27:41.611Z"
   },
   {
    "duration": 222,
    "start_time": "2023-06-14T21:27:41.624Z"
   },
   {
    "duration": 230,
    "start_time": "2023-06-14T21:27:41.848Z"
   },
   {
    "duration": 12,
    "start_time": "2023-06-14T21:27:42.079Z"
   },
   {
    "duration": 2,
    "start_time": "2023-06-14T21:27:42.093Z"
   },
   {
    "duration": 63,
    "start_time": "2023-06-14T21:27:42.099Z"
   },
   {
    "duration": 3,
    "start_time": "2023-06-14T21:27:42.164Z"
   },
   {
    "duration": 5,
    "start_time": "2023-06-14T21:27:42.168Z"
   },
   {
    "duration": 139,
    "start_time": "2023-06-14T21:27:42.174Z"
   },
   {
    "duration": 12,
    "start_time": "2023-06-14T21:27:42.315Z"
   },
   {
    "duration": 80284,
    "start_time": "2023-06-14T21:27:42.328Z"
   },
   {
    "duration": 23,
    "start_time": "2023-06-14T21:29:02.614Z"
   },
   {
    "duration": 30008,
    "start_time": "2023-06-14T21:29:02.655Z"
   },
   {
    "duration": 30704,
    "start_time": "2023-06-14T21:29:32.753Z"
   },
   {
    "duration": 30897,
    "start_time": "2023-06-14T21:30:03.460Z"
   },
   {
    "duration": 30497,
    "start_time": "2023-06-14T21:30:34.359Z"
   },
   {
    "duration": 43188,
    "start_time": "2023-06-14T21:31:04.859Z"
   },
   {
    "duration": 168,
    "start_time": "2023-06-14T21:31:48.049Z"
   },
   {
    "duration": 11,
    "start_time": "2023-06-14T21:31:48.218Z"
   },
   {
    "duration": 0,
    "start_time": "2023-06-14T21:31:48.230Z"
   },
   {
    "duration": 30020,
    "start_time": "2023-06-14T21:36:05.837Z"
   },
   {
    "duration": 29956,
    "start_time": "2023-06-14T21:37:03.199Z"
   },
   {
    "duration": 3,
    "start_time": "2023-06-14T21:37:42.028Z"
   },
   {
    "duration": 42209,
    "start_time": "2023-06-14T21:40:23.349Z"
   },
   {
    "duration": 874,
    "start_time": "2023-06-14T21:45:19.637Z"
   },
   {
    "duration": 894,
    "start_time": "2023-06-14T21:45:52.907Z"
   },
   {
    "duration": 5964,
    "start_time": "2023-06-14T21:47:48.456Z"
   },
   {
    "duration": 9698,
    "start_time": "2023-06-14T21:50:27.647Z"
   },
   {
    "duration": 9011,
    "start_time": "2023-06-14T21:51:03.233Z"
   },
   {
    "duration": 8973,
    "start_time": "2023-06-14T21:51:46.332Z"
   },
   {
    "duration": 876,
    "start_time": "2023-06-14T21:54:37.227Z"
   },
   {
    "duration": 10437,
    "start_time": "2023-06-14T21:55:38.254Z"
   },
   {
    "duration": 840,
    "start_time": "2023-06-14T21:58:47.130Z"
   },
   {
    "duration": 542,
    "start_time": "2023-06-14T21:59:13.032Z"
   },
   {
    "duration": 70,
    "start_time": "2023-06-14T21:59:43.532Z"
   },
   {
    "duration": 34,
    "start_time": "2023-06-14T22:00:07.630Z"
   },
   {
    "duration": 47,
    "start_time": "2023-06-14T22:01:05.505Z"
   },
   {
    "duration": 30176,
    "start_time": "2023-06-14T22:02:16.782Z"
   },
   {
    "duration": 43101,
    "start_time": "2023-06-14T22:05:20.366Z"
   },
   {
    "duration": 42736,
    "start_time": "2023-06-14T22:06:46.823Z"
   },
   {
    "duration": 10730,
    "start_time": "2023-06-14T22:10:11.726Z"
   },
   {
    "duration": 42555,
    "start_time": "2023-06-14T22:11:57.747Z"
   },
   {
    "duration": 10519,
    "start_time": "2023-06-14T22:12:40.304Z"
   },
   {
    "duration": 3,
    "start_time": "2023-06-14T22:14:48.865Z"
   },
   {
    "duration": 4,
    "start_time": "2023-06-14T22:14:58.791Z"
   },
   {
    "duration": 1409,
    "start_time": "2023-06-14T22:15:26.316Z"
   },
   {
    "duration": 773,
    "start_time": "2023-06-14T22:15:27.727Z"
   },
   {
    "duration": 5,
    "start_time": "2023-06-14T22:15:28.501Z"
   },
   {
    "duration": 140,
    "start_time": "2023-06-14T22:15:28.507Z"
   },
   {
    "duration": 14,
    "start_time": "2023-06-14T22:15:28.653Z"
   },
   {
    "duration": 98,
    "start_time": "2023-06-14T22:15:28.669Z"
   },
   {
    "duration": 841,
    "start_time": "2023-06-14T22:15:28.769Z"
   },
   {
    "duration": 73,
    "start_time": "2023-06-14T22:15:29.612Z"
   },
   {
    "duration": 545,
    "start_time": "2023-06-14T22:15:29.687Z"
   },
   {
    "duration": 3,
    "start_time": "2023-06-14T22:15:30.233Z"
   },
   {
    "duration": 309,
    "start_time": "2023-06-14T22:15:30.237Z"
   },
   {
    "duration": 80,
    "start_time": "2023-06-14T22:15:30.547Z"
   },
   {
    "duration": 106,
    "start_time": "2023-06-14T22:15:30.628Z"
   },
   {
    "duration": 19,
    "start_time": "2023-06-14T22:15:30.737Z"
   },
   {
    "duration": 71,
    "start_time": "2023-06-14T22:15:30.758Z"
   },
   {
    "duration": 49,
    "start_time": "2023-06-14T22:15:30.831Z"
   },
   {
    "duration": 53,
    "start_time": "2023-06-14T22:15:30.882Z"
   },
   {
    "duration": 60,
    "start_time": "2023-06-14T22:15:30.937Z"
   },
   {
    "duration": 66,
    "start_time": "2023-06-14T22:15:30.999Z"
   },
   {
    "duration": 43,
    "start_time": "2023-06-14T22:15:31.067Z"
   },
   {
    "duration": 38,
    "start_time": "2023-06-14T22:15:31.111Z"
   },
   {
    "duration": 57,
    "start_time": "2023-06-14T22:15:31.151Z"
   },
   {
    "duration": 33,
    "start_time": "2023-06-14T22:15:31.209Z"
   },
   {
    "duration": 48,
    "start_time": "2023-06-14T22:15:31.243Z"
   },
   {
    "duration": 117,
    "start_time": "2023-06-14T22:15:31.292Z"
   },
   {
    "duration": 66,
    "start_time": "2023-06-14T22:15:31.411Z"
   },
   {
    "duration": 191,
    "start_time": "2023-06-14T22:15:31.479Z"
   },
   {
    "duration": 200,
    "start_time": "2023-06-14T22:15:31.672Z"
   },
   {
    "duration": 231,
    "start_time": "2023-06-14T22:15:31.873Z"
   },
   {
    "duration": 22,
    "start_time": "2023-06-14T22:15:32.105Z"
   },
   {
    "duration": 58,
    "start_time": "2023-06-14T22:15:32.129Z"
   },
   {
    "duration": 25,
    "start_time": "2023-06-14T22:15:32.189Z"
   },
   {
    "duration": 41,
    "start_time": "2023-06-14T22:15:32.216Z"
   },
   {
    "duration": 23,
    "start_time": "2023-06-14T22:15:32.260Z"
   },
   {
    "duration": 3,
    "start_time": "2023-06-14T22:15:32.285Z"
   },
   {
    "duration": 25,
    "start_time": "2023-06-14T22:15:32.290Z"
   },
   {
    "duration": 238,
    "start_time": "2023-06-14T22:15:32.316Z"
   },
   {
    "duration": 232,
    "start_time": "2023-06-14T22:15:32.556Z"
   },
   {
    "duration": 12,
    "start_time": "2023-06-14T22:15:32.790Z"
   },
   {
    "duration": 3,
    "start_time": "2023-06-14T22:15:32.804Z"
   },
   {
    "duration": 68,
    "start_time": "2023-06-14T22:15:32.810Z"
   },
   {
    "duration": 4,
    "start_time": "2023-06-14T22:15:32.880Z"
   },
   {
    "duration": 5,
    "start_time": "2023-06-14T22:15:32.886Z"
   },
   {
    "duration": 137,
    "start_time": "2023-06-14T22:15:32.893Z"
   },
   {
    "duration": 13,
    "start_time": "2023-06-14T22:15:33.031Z"
   },
   {
    "duration": 77615,
    "start_time": "2023-06-14T22:15:33.054Z"
   },
   {
    "duration": 22,
    "start_time": "2023-06-14T22:16:50.671Z"
   },
   {
    "duration": 29463,
    "start_time": "2023-06-14T22:16:50.694Z"
   },
   {
    "duration": 95,
    "start_time": "2023-06-14T22:17:20.159Z"
   },
   {
    "duration": 41795,
    "start_time": "2023-06-14T22:17:20.256Z"
   },
   {
    "duration": 4,
    "start_time": "2023-06-14T22:18:02.052Z"
   },
   {
    "duration": 18,
    "start_time": "2023-06-14T22:18:02.057Z"
   },
   {
    "duration": 119,
    "start_time": "2023-06-14T22:18:02.077Z"
   },
   {
    "duration": 25,
    "start_time": "2023-06-14T22:26:05.910Z"
   },
   {
    "duration": 5,
    "start_time": "2023-06-14T22:26:14.607Z"
   },
   {
    "duration": 13,
    "start_time": "2023-06-14T22:26:26.034Z"
   },
   {
    "duration": 4,
    "start_time": "2023-06-14T22:26:42.045Z"
   },
   {
    "duration": 4,
    "start_time": "2023-06-14T22:26:49.074Z"
   },
   {
    "duration": 98,
    "start_time": "2023-06-14T22:47:17.355Z"
   },
   {
    "duration": 94,
    "start_time": "2023-06-14T22:49:24.647Z"
   },
   {
    "duration": 87,
    "start_time": "2023-06-14T22:49:42.532Z"
   },
   {
    "duration": 88,
    "start_time": "2023-06-14T22:49:56.596Z"
   },
   {
    "duration": 22,
    "start_time": "2023-06-14T22:51:45.450Z"
   },
   {
    "duration": 5,
    "start_time": "2023-06-14T23:03:16.267Z"
   },
   {
    "duration": 461,
    "start_time": "2023-06-14T23:05:55.513Z"
   },
   {
    "duration": 479,
    "start_time": "2023-06-14T23:11:17.329Z"
   },
   {
    "duration": 479,
    "start_time": "2023-06-14T23:11:28.106Z"
   },
   {
    "duration": 467,
    "start_time": "2023-06-14T23:13:36.122Z"
   },
   {
    "duration": 477,
    "start_time": "2023-06-14T23:13:54.804Z"
   },
   {
    "duration": 4,
    "start_time": "2023-06-14T23:14:01.121Z"
   },
   {
    "duration": 16,
    "start_time": "2023-06-14T23:18:00.969Z"
   },
   {
    "duration": 18,
    "start_time": "2023-06-14T23:18:17.233Z"
   },
   {
    "duration": 75,
    "start_time": "2023-06-14T23:18:33.736Z"
   },
   {
    "duration": 96,
    "start_time": "2023-06-14T23:18:41.219Z"
   },
   {
    "duration": 4,
    "start_time": "2023-06-14T23:20:00.922Z"
   },
   {
    "duration": 1822,
    "start_time": "2023-06-15T04:21:47.187Z"
   },
   {
    "duration": 3374,
    "start_time": "2023-06-15T04:21:49.012Z"
   },
   {
    "duration": 6,
    "start_time": "2023-06-15T04:21:52.387Z"
   },
   {
    "duration": 179,
    "start_time": "2023-06-15T04:21:52.394Z"
   },
   {
    "duration": 20,
    "start_time": "2023-06-15T04:21:52.582Z"
   },
   {
    "duration": 123,
    "start_time": "2023-06-15T04:21:52.603Z"
   },
   {
    "duration": 1092,
    "start_time": "2023-06-15T04:21:52.728Z"
   },
   {
    "duration": 105,
    "start_time": "2023-06-15T04:21:53.822Z"
   },
   {
    "duration": 762,
    "start_time": "2023-06-15T04:21:53.928Z"
   },
   {
    "duration": 4,
    "start_time": "2023-06-15T04:21:54.694Z"
   },
   {
    "duration": 391,
    "start_time": "2023-06-15T04:21:54.700Z"
   },
   {
    "duration": 87,
    "start_time": "2023-06-15T04:21:55.095Z"
   },
   {
    "duration": 61,
    "start_time": "2023-06-15T04:21:55.187Z"
   },
   {
    "duration": 28,
    "start_time": "2023-06-15T04:21:55.251Z"
   },
   {
    "duration": 34,
    "start_time": "2023-06-15T04:21:55.281Z"
   },
   {
    "duration": 65,
    "start_time": "2023-06-15T04:21:55.317Z"
   },
   {
    "duration": 38,
    "start_time": "2023-06-15T04:21:55.387Z"
   },
   {
    "duration": 20,
    "start_time": "2023-06-15T04:21:55.427Z"
   },
   {
    "duration": 57,
    "start_time": "2023-06-15T04:21:55.449Z"
   },
   {
    "duration": 21,
    "start_time": "2023-06-15T04:21:55.507Z"
   },
   {
    "duration": 56,
    "start_time": "2023-06-15T04:21:55.530Z"
   },
   {
    "duration": 34,
    "start_time": "2023-06-15T04:21:55.588Z"
   },
   {
    "duration": 40,
    "start_time": "2023-06-15T04:21:55.624Z"
   },
   {
    "duration": 38,
    "start_time": "2023-06-15T04:21:55.675Z"
   },
   {
    "duration": 116,
    "start_time": "2023-06-15T04:21:55.715Z"
   },
   {
    "duration": 92,
    "start_time": "2023-06-15T04:21:55.833Z"
   },
   {
    "duration": 285,
    "start_time": "2023-06-15T04:21:55.927Z"
   },
   {
    "duration": 267,
    "start_time": "2023-06-15T04:21:56.213Z"
   },
   {
    "duration": 312,
    "start_time": "2023-06-15T04:21:56.482Z"
   },
   {
    "duration": 23,
    "start_time": "2023-06-15T04:21:56.796Z"
   },
   {
    "duration": 71,
    "start_time": "2023-06-15T04:21:56.820Z"
   },
   {
    "duration": 29,
    "start_time": "2023-06-15T04:21:56.893Z"
   },
   {
    "duration": 53,
    "start_time": "2023-06-15T04:21:56.923Z"
   },
   {
    "duration": 25,
    "start_time": "2023-06-15T04:21:56.978Z"
   },
   {
    "duration": 4,
    "start_time": "2023-06-15T04:21:57.005Z"
   },
   {
    "duration": 14,
    "start_time": "2023-06-15T04:21:57.010Z"
   },
   {
    "duration": 308,
    "start_time": "2023-06-15T04:21:57.026Z"
   },
   {
    "duration": 293,
    "start_time": "2023-06-15T04:21:57.336Z"
   },
   {
    "duration": 29,
    "start_time": "2023-06-15T04:21:57.630Z"
   },
   {
    "duration": 11,
    "start_time": "2023-06-15T04:21:57.665Z"
   },
   {
    "duration": 55,
    "start_time": "2023-06-15T04:21:57.688Z"
   },
   {
    "duration": 3,
    "start_time": "2023-06-15T04:21:57.745Z"
   },
   {
    "duration": 21,
    "start_time": "2023-06-15T04:21:57.752Z"
   },
   {
    "duration": 146,
    "start_time": "2023-06-15T04:21:57.781Z"
   },
   {
    "duration": 11,
    "start_time": "2023-06-15T04:21:57.929Z"
   },
   {
    "duration": 71457,
    "start_time": "2023-06-15T04:21:57.942Z"
   },
   {
    "duration": 26,
    "start_time": "2023-06-15T04:23:09.400Z"
   },
   {
    "duration": 118434,
    "start_time": "2023-06-15T04:23:09.428Z"
   },
   {
    "duration": 8,
    "start_time": "2023-06-15T04:25:07.864Z"
   },
   {
    "duration": 54484,
    "start_time": "2023-06-15T04:25:07.874Z"
   },
   {
    "duration": 4,
    "start_time": "2023-06-15T04:26:02.360Z"
   },
   {
    "duration": 54,
    "start_time": "2023-06-15T04:26:02.366Z"
   },
   {
    "duration": 0,
    "start_time": "2023-06-15T04:26:02.422Z"
   },
   {
    "duration": 0,
    "start_time": "2023-06-15T04:26:02.423Z"
   },
   {
    "duration": 0,
    "start_time": "2023-06-15T04:26:02.425Z"
   },
   {
    "duration": 0,
    "start_time": "2023-06-15T04:26:02.426Z"
   },
   {
    "duration": 0,
    "start_time": "2023-06-15T04:26:02.427Z"
   },
   {
    "duration": 0,
    "start_time": "2023-06-15T04:26:02.430Z"
   },
   {
    "duration": 0,
    "start_time": "2023-06-15T04:26:02.431Z"
   },
   {
    "duration": 0,
    "start_time": "2023-06-15T04:26:02.433Z"
   },
   {
    "duration": 0,
    "start_time": "2023-06-15T04:26:02.434Z"
   },
   {
    "duration": 1,
    "start_time": "2023-06-15T04:26:02.435Z"
   },
   {
    "duration": 0,
    "start_time": "2023-06-15T04:26:02.437Z"
   },
   {
    "duration": 12582,
    "start_time": "2023-06-15T04:26:26.627Z"
   },
   {
    "duration": 104,
    "start_time": "2023-06-15T04:28:51.884Z"
   },
   {
    "duration": 187,
    "start_time": "2023-06-15T04:28:51.990Z"
   },
   {
    "duration": 13,
    "start_time": "2023-06-15T04:28:52.179Z"
   },
   {
    "duration": 0,
    "start_time": "2023-06-15T04:28:52.194Z"
   },
   {
    "duration": 0,
    "start_time": "2023-06-15T04:28:52.195Z"
   },
   {
    "duration": 0,
    "start_time": "2023-06-15T04:28:52.197Z"
   },
   {
    "duration": 0,
    "start_time": "2023-06-15T04:28:52.197Z"
   },
   {
    "duration": 0,
    "start_time": "2023-06-15T04:28:52.199Z"
   },
   {
    "duration": 0,
    "start_time": "2023-06-15T04:28:52.200Z"
   },
   {
    "duration": 0,
    "start_time": "2023-06-15T04:28:52.201Z"
   },
   {
    "duration": 0,
    "start_time": "2023-06-15T04:28:52.202Z"
   },
   {
    "duration": 166,
    "start_time": "2023-06-15T06:03:14.275Z"
   },
   {
    "duration": 74897,
    "start_time": "2023-06-15T06:04:56.922Z"
   },
   {
    "duration": 389259,
    "start_time": "2023-06-15T06:06:18.842Z"
   },
   {
    "duration": 36833,
    "start_time": "2023-06-15T06:23:43.136Z"
   },
   {
    "duration": 25645,
    "start_time": "2023-06-15T06:24:19.976Z"
   },
   {
    "duration": 2245,
    "start_time": "2023-06-15T06:25:47.781Z"
   },
   {
    "duration": 4798,
    "start_time": "2023-06-15T06:25:50.028Z"
   },
   {
    "duration": 9,
    "start_time": "2023-06-15T06:25:54.829Z"
   },
   {
    "duration": 202,
    "start_time": "2023-06-15T06:25:54.840Z"
   },
   {
    "duration": 24,
    "start_time": "2023-06-15T06:25:55.043Z"
   },
   {
    "duration": 139,
    "start_time": "2023-06-15T06:25:55.069Z"
   },
   {
    "duration": 1161,
    "start_time": "2023-06-15T06:25:55.210Z"
   },
   {
    "duration": 96,
    "start_time": "2023-06-15T06:25:56.373Z"
   },
   {
    "duration": 717,
    "start_time": "2023-06-15T06:25:56.473Z"
   },
   {
    "duration": 4,
    "start_time": "2023-06-15T06:25:57.194Z"
   },
   {
    "duration": 418,
    "start_time": "2023-06-15T06:25:57.200Z"
   },
   {
    "duration": 96,
    "start_time": "2023-06-15T06:25:57.619Z"
   },
   {
    "duration": 90,
    "start_time": "2023-06-15T06:25:57.717Z"
   },
   {
    "duration": 30,
    "start_time": "2023-06-15T06:25:57.809Z"
   },
   {
    "duration": 72,
    "start_time": "2023-06-15T06:25:57.841Z"
   },
   {
    "duration": 33,
    "start_time": "2023-06-15T06:25:57.915Z"
   },
   {
    "duration": 66,
    "start_time": "2023-06-15T06:25:57.954Z"
   },
   {
    "duration": 21,
    "start_time": "2023-06-15T06:25:58.022Z"
   },
   {
    "duration": 66,
    "start_time": "2023-06-15T06:25:58.045Z"
   },
   {
    "duration": 23,
    "start_time": "2023-06-15T06:25:58.113Z"
   },
   {
    "duration": 48,
    "start_time": "2023-06-15T06:25:58.137Z"
   },
   {
    "duration": 42,
    "start_time": "2023-06-15T06:25:58.187Z"
   },
   {
    "duration": 82,
    "start_time": "2023-06-15T06:25:58.230Z"
   },
   {
    "duration": 64,
    "start_time": "2023-06-15T06:25:58.314Z"
   },
   {
    "duration": 186,
    "start_time": "2023-06-15T06:25:58.380Z"
   },
   {
    "duration": 84,
    "start_time": "2023-06-15T06:25:58.568Z"
   },
   {
    "duration": 275,
    "start_time": "2023-06-15T06:25:58.657Z"
   },
   {
    "duration": 257,
    "start_time": "2023-06-15T06:25:58.934Z"
   },
   {
    "duration": 295,
    "start_time": "2023-06-15T06:25:59.194Z"
   },
   {
    "duration": 22,
    "start_time": "2023-06-15T06:25:59.491Z"
   },
   {
    "duration": 73,
    "start_time": "2023-06-15T06:25:59.515Z"
   },
   {
    "duration": 29,
    "start_time": "2023-06-15T06:25:59.590Z"
   },
   {
    "duration": 45,
    "start_time": "2023-06-15T06:25:59.621Z"
   },
   {
    "duration": 34,
    "start_time": "2023-06-15T06:25:59.668Z"
   },
   {
    "duration": 4,
    "start_time": "2023-06-15T06:25:59.705Z"
   },
   {
    "duration": 27,
    "start_time": "2023-06-15T06:25:59.712Z"
   },
   {
    "duration": 357,
    "start_time": "2023-06-15T06:25:59.741Z"
   },
   {
    "duration": 334,
    "start_time": "2023-06-15T06:26:00.100Z"
   },
   {
    "duration": 19,
    "start_time": "2023-06-15T06:26:00.436Z"
   },
   {
    "duration": 35,
    "start_time": "2023-06-15T06:26:00.457Z"
   },
   {
    "duration": 132,
    "start_time": "2023-06-15T06:26:00.494Z"
   },
   {
    "duration": 4,
    "start_time": "2023-06-15T06:26:00.629Z"
   },
   {
    "duration": 43,
    "start_time": "2023-06-15T06:26:00.635Z"
   },
   {
    "duration": 222,
    "start_time": "2023-06-15T06:26:00.680Z"
   },
   {
    "duration": 17,
    "start_time": "2023-06-15T06:26:00.904Z"
   },
   {
    "duration": 86110,
    "start_time": "2023-06-15T06:26:00.923Z"
   },
   {
    "duration": 48,
    "start_time": "2023-06-15T06:27:27.035Z"
   },
   {
    "duration": 82179,
    "start_time": "2023-06-15T06:27:27.085Z"
   },
   {
    "duration": 7,
    "start_time": "2023-06-15T06:28:49.268Z"
   },
   {
    "duration": 55704,
    "start_time": "2023-06-15T06:28:49.300Z"
   },
   {
    "duration": 4,
    "start_time": "2023-06-15T06:29:45.006Z"
   },
   {
    "duration": 149,
    "start_time": "2023-06-15T06:29:45.011Z"
   },
   {
    "duration": 885457,
    "start_time": "2023-06-15T06:29:45.162Z"
   },
   {
    "duration": 0,
    "start_time": "2023-06-15T06:44:30.620Z"
   },
   {
    "duration": 0,
    "start_time": "2023-06-15T06:44:30.622Z"
   },
   {
    "duration": 0,
    "start_time": "2023-06-15T06:44:30.623Z"
   },
   {
    "duration": 0,
    "start_time": "2023-06-15T06:44:30.624Z"
   },
   {
    "duration": 0,
    "start_time": "2023-06-15T06:44:30.625Z"
   },
   {
    "duration": 0,
    "start_time": "2023-06-15T06:44:30.626Z"
   },
   {
    "duration": 0,
    "start_time": "2023-06-15T06:44:30.627Z"
   },
   {
    "duration": 0,
    "start_time": "2023-06-15T06:44:30.628Z"
   },
   {
    "duration": 0,
    "start_time": "2023-06-15T06:44:30.629Z"
   },
   {
    "duration": 0,
    "start_time": "2023-06-15T06:44:30.630Z"
   },
   {
    "duration": 0,
    "start_time": "2023-06-15T06:44:30.632Z"
   },
   {
    "duration": 0,
    "start_time": "2023-06-15T06:44:30.632Z"
   },
   {
    "duration": 1511,
    "start_time": "2023-06-15T06:44:51.248Z"
   },
   {
    "duration": 120,
    "start_time": "2023-06-15T06:45:00.632Z"
   },
   {
    "duration": 47,
    "start_time": "2023-06-15T06:45:08.016Z"
   },
   {
    "duration": 1483,
    "start_time": "2023-06-15T06:45:40.075Z"
   },
   {
    "duration": 1731,
    "start_time": "2023-06-15T06:46:19.111Z"
   },
   {
    "duration": 1901,
    "start_time": "2023-06-15T06:47:04.968Z"
   },
   {
    "duration": 1103,
    "start_time": "2023-06-15T06:49:21.971Z"
   },
   {
    "duration": 1620,
    "start_time": "2023-06-15T06:49:33.342Z"
   },
   {
    "duration": 1866,
    "start_time": "2023-06-15T06:52:54.996Z"
   },
   {
    "duration": 1945,
    "start_time": "2023-06-15T06:53:13.124Z"
   },
   {
    "duration": 1953,
    "start_time": "2023-06-15T06:53:58.414Z"
   },
   {
    "duration": 1882,
    "start_time": "2023-06-15T06:54:45.375Z"
   },
   {
    "duration": 10499,
    "start_time": "2023-06-15T06:56:08.405Z"
   },
   {
    "duration": 6870,
    "start_time": "2023-06-15T06:56:25.726Z"
   },
   {
    "duration": 22904,
    "start_time": "2023-06-15T06:56:37.368Z"
   },
   {
    "duration": 22873,
    "start_time": "2023-06-15T06:58:58.094Z"
   },
   {
    "duration": 24082,
    "start_time": "2023-06-15T07:01:33.628Z"
   },
   {
    "duration": 34493,
    "start_time": "2023-06-15T07:02:45.972Z"
   },
   {
    "duration": 33947,
    "start_time": "2023-06-15T07:03:39.811Z"
   },
   {
    "duration": 33345,
    "start_time": "2023-06-15T07:04:58.522Z"
   },
   {
    "duration": 33923,
    "start_time": "2023-06-15T07:07:45.041Z"
   },
   {
    "duration": 2556338,
    "start_time": "2023-06-15T07:09:06.736Z"
   },
   {
    "duration": 12,
    "start_time": "2023-06-15T07:56:35.111Z"
   },
   {
    "duration": 6,
    "start_time": "2023-06-15T07:56:39.604Z"
   },
   {
    "duration": 35714,
    "start_time": "2023-06-15T07:57:36.276Z"
   },
   {
    "duration": 1449817,
    "start_time": "2023-06-15T08:01:08.197Z"
   },
   {
    "duration": 78,
    "start_time": "2023-06-15T08:25:18.049Z"
   },
   {
    "duration": 0,
    "start_time": "2023-06-15T08:25:18.128Z"
   },
   {
    "duration": 284365,
    "start_time": "2023-06-15T08:43:30.524Z"
   },
   {
    "duration": 7177533,
    "start_time": "2023-06-15T08:48:14.893Z"
   },
   {
    "duration": 0,
    "start_time": "2023-06-15T10:47:52.429Z"
   },
   {
    "duration": 0,
    "start_time": "2023-06-15T10:47:52.433Z"
   },
   {
    "duration": 0,
    "start_time": "2023-06-15T10:47:52.435Z"
   },
   {
    "duration": 0,
    "start_time": "2023-06-15T10:47:52.436Z"
   },
   {
    "duration": 0,
    "start_time": "2023-06-15T10:47:52.441Z"
   },
   {
    "duration": 33303,
    "start_time": "2023-06-15T10:51:52.248Z"
   },
   {
    "duration": 27062,
    "start_time": "2023-06-15T10:52:55.794Z"
   },
   {
    "duration": 27553,
    "start_time": "2023-06-15T10:56:00.209Z"
   },
   {
    "duration": 56945,
    "start_time": "2023-06-15T10:56:49.111Z"
   },
   {
    "duration": 70814,
    "start_time": "2023-06-15T10:59:41.180Z"
   },
   {
    "duration": 115863,
    "start_time": "2023-06-15T11:00:52.000Z"
   },
   {
    "duration": 70,
    "start_time": "2023-06-15T11:05:14.821Z"
   },
   {
    "duration": 361428,
    "start_time": "2023-06-15T11:05:33.266Z"
   },
   {
    "duration": 267635,
    "start_time": "2023-06-15T11:13:19.702Z"
   },
   {
    "duration": 13,
    "start_time": "2023-06-15T11:18:32.205Z"
   },
   {
    "duration": 4,
    "start_time": "2023-06-15T11:19:15.222Z"
   },
   {
    "duration": 6,
    "start_time": "2023-06-15T11:19:26.233Z"
   },
   {
    "duration": 5,
    "start_time": "2023-06-15T11:19:34.991Z"
   },
   {
    "duration": 1963,
    "start_time": "2023-06-15T11:23:29.641Z"
   },
   {
    "duration": 4781,
    "start_time": "2023-06-15T11:23:31.607Z"
   },
   {
    "duration": 6,
    "start_time": "2023-06-15T11:23:36.390Z"
   },
   {
    "duration": 190,
    "start_time": "2023-06-15T11:23:36.399Z"
   },
   {
    "duration": 27,
    "start_time": "2023-06-15T11:23:36.592Z"
   },
   {
    "duration": 193,
    "start_time": "2023-06-15T11:23:36.620Z"
   },
   {
    "duration": 1350,
    "start_time": "2023-06-15T11:23:36.819Z"
   },
   {
    "duration": 127,
    "start_time": "2023-06-15T11:23:38.171Z"
   },
   {
    "duration": 888,
    "start_time": "2023-06-15T11:23:38.301Z"
   },
   {
    "duration": 4,
    "start_time": "2023-06-15T11:23:39.191Z"
   },
   {
    "duration": 425,
    "start_time": "2023-06-15T11:23:39.197Z"
   },
   {
    "duration": 109,
    "start_time": "2023-06-15T11:23:39.623Z"
   },
   {
    "duration": 102,
    "start_time": "2023-06-15T11:23:39.734Z"
   },
   {
    "duration": 33,
    "start_time": "2023-06-15T11:23:39.839Z"
   },
   {
    "duration": 57,
    "start_time": "2023-06-15T11:23:39.876Z"
   },
   {
    "duration": 49,
    "start_time": "2023-06-15T11:23:39.934Z"
   },
   {
    "duration": 53,
    "start_time": "2023-06-15T11:23:39.986Z"
   },
   {
    "duration": 34,
    "start_time": "2023-06-15T11:23:40.040Z"
   },
   {
    "duration": 56,
    "start_time": "2023-06-15T11:23:40.076Z"
   },
   {
    "duration": 64,
    "start_time": "2023-06-15T11:23:40.134Z"
   },
   {
    "duration": 27,
    "start_time": "2023-06-15T11:23:40.200Z"
   },
   {
    "duration": 44,
    "start_time": "2023-06-15T11:23:40.229Z"
   },
   {
    "duration": 56,
    "start_time": "2023-06-15T11:23:40.276Z"
   },
   {
    "duration": 65,
    "start_time": "2023-06-15T11:23:40.334Z"
   },
   {
    "duration": 124,
    "start_time": "2023-06-15T11:23:40.401Z"
   },
   {
    "duration": 89,
    "start_time": "2023-06-15T11:23:40.527Z"
   },
   {
    "duration": 316,
    "start_time": "2023-06-15T11:23:40.618Z"
   },
   {
    "duration": 307,
    "start_time": "2023-06-15T11:23:40.936Z"
   },
   {
    "duration": 339,
    "start_time": "2023-06-15T11:23:41.245Z"
   },
   {
    "duration": 41,
    "start_time": "2023-06-15T11:23:41.587Z"
   },
   {
    "duration": 63,
    "start_time": "2023-06-15T11:23:41.630Z"
   },
   {
    "duration": 42,
    "start_time": "2023-06-15T11:23:41.696Z"
   },
   {
    "duration": 40,
    "start_time": "2023-06-15T11:23:41.740Z"
   },
   {
    "duration": 58,
    "start_time": "2023-06-15T11:23:41.784Z"
   },
   {
    "duration": 9,
    "start_time": "2023-06-15T11:23:41.845Z"
   },
   {
    "duration": 44,
    "start_time": "2023-06-15T11:23:41.856Z"
   },
   {
    "duration": 413,
    "start_time": "2023-06-15T11:23:41.902Z"
   },
   {
    "duration": 469,
    "start_time": "2023-06-15T11:23:42.317Z"
   },
   {
    "duration": 16,
    "start_time": "2023-06-15T11:23:42.788Z"
   },
   {
    "duration": 6,
    "start_time": "2023-06-15T11:23:42.808Z"
   },
   {
    "duration": 108,
    "start_time": "2023-06-15T11:23:42.823Z"
   },
   {
    "duration": 4,
    "start_time": "2023-06-15T11:23:42.933Z"
   },
   {
    "duration": 26,
    "start_time": "2023-06-15T11:23:42.939Z"
   },
   {
    "duration": 189,
    "start_time": "2023-06-15T11:23:42.967Z"
   },
   {
    "duration": 22,
    "start_time": "2023-06-15T11:23:43.159Z"
   },
   {
    "duration": 86790,
    "start_time": "2023-06-15T11:23:43.184Z"
   },
   {
    "duration": 39,
    "start_time": "2023-06-15T11:25:09.983Z"
   },
   {
    "duration": 89891,
    "start_time": "2023-06-15T11:25:10.024Z"
   },
   {
    "duration": 7,
    "start_time": "2023-06-15T11:26:39.918Z"
   },
   {
    "duration": 75953,
    "start_time": "2023-06-15T11:26:39.927Z"
   },
   {
    "duration": 24,
    "start_time": "2023-06-15T11:27:55.890Z"
   },
   {
    "duration": 181,
    "start_time": "2023-06-15T11:27:55.920Z"
   },
   {
    "duration": 423274,
    "start_time": "2023-06-15T11:27:56.108Z"
   },
   {
    "duration": 14,
    "start_time": "2023-06-15T11:34:59.384Z"
   },
   {
    "duration": 20,
    "start_time": "2023-06-15T11:34:59.400Z"
   },
   {
    "duration": 12,
    "start_time": "2023-06-15T11:34:59.423Z"
   },
   {
    "duration": 39155,
    "start_time": "2023-06-15T11:34:59.437Z"
   },
   {
    "duration": 1931102,
    "start_time": "2023-06-15T11:35:38.595Z"
   },
   {
    "duration": 2044,
    "start_time": "2023-06-15T12:07:49.699Z"
   },
   {
    "duration": 26784,
    "start_time": "2023-06-15T12:07:51.753Z"
   },
   {
    "duration": 453308,
    "start_time": "2023-06-15T12:08:18.539Z"
   },
   {
    "duration": 0,
    "start_time": "2023-06-15T12:17:03.936Z"
   },
   {
    "duration": 0,
    "start_time": "2023-06-15T12:17:03.937Z"
   },
   {
    "duration": 0,
    "start_time": "2023-06-15T12:17:03.939Z"
   },
   {
    "duration": 0,
    "start_time": "2023-06-15T12:17:03.955Z"
   },
   {
    "duration": 0,
    "start_time": "2023-06-15T12:17:03.957Z"
   },
   {
    "duration": 0,
    "start_time": "2023-06-15T12:17:03.961Z"
   },
   {
    "duration": 0,
    "start_time": "2023-06-15T12:17:03.972Z"
   },
   {
    "duration": 2335,
    "start_time": "2023-06-15T12:17:23.308Z"
   },
   {
    "duration": 172,
    "start_time": "2023-06-15T12:17:25.646Z"
   },
   {
    "duration": 7,
    "start_time": "2023-06-15T12:17:25.820Z"
   },
   {
    "duration": 197,
    "start_time": "2023-06-15T12:17:25.829Z"
   },
   {
    "duration": 10,
    "start_time": "2023-06-15T12:17:26.028Z"
   },
   {
    "duration": 137,
    "start_time": "2023-06-15T12:19:35.333Z"
   },
   {
    "duration": 4073,
    "start_time": "2023-06-15T12:19:38.949Z"
   },
   {
    "duration": 6913,
    "start_time": "2023-06-15T12:20:59.220Z"
   },
   {
    "duration": 265,
    "start_time": "2023-06-15T12:21:12.410Z"
   },
   {
    "duration": 137,
    "start_time": "2023-06-15T12:21:35.379Z"
   },
   {
    "duration": 132,
    "start_time": "2023-06-15T12:22:07.799Z"
   },
   {
    "duration": 6381,
    "start_time": "2023-06-15T12:22:13.120Z"
   },
   {
    "duration": 196,
    "start_time": "2023-06-15T12:22:24.627Z"
   },
   {
    "duration": 8,
    "start_time": "2023-06-15T12:22:33.205Z"
   },
   {
    "duration": 8,
    "start_time": "2023-06-15T12:22:42.033Z"
   },
   {
    "duration": 7,
    "start_time": "2023-06-15T12:23:13.537Z"
   },
   {
    "duration": 9,
    "start_time": "2023-06-15T12:25:07.703Z"
   },
   {
    "duration": 9,
    "start_time": "2023-06-15T12:26:26.831Z"
   },
   {
    "duration": 9,
    "start_time": "2023-06-15T12:26:37.926Z"
   },
   {
    "duration": 11,
    "start_time": "2023-06-15T12:26:50.502Z"
   },
   {
    "duration": 1694,
    "start_time": "2023-06-15T12:29:03.151Z"
   },
   {
    "duration": 3430,
    "start_time": "2023-06-15T12:29:04.849Z"
   },
   {
    "duration": 6,
    "start_time": "2023-06-15T12:29:08.281Z"
   },
   {
    "duration": 151,
    "start_time": "2023-06-15T12:29:08.290Z"
   },
   {
    "duration": 33,
    "start_time": "2023-06-15T12:29:08.444Z"
   },
   {
    "duration": 124,
    "start_time": "2023-06-15T12:29:08.479Z"
   },
   {
    "duration": 1027,
    "start_time": "2023-06-15T12:29:08.605Z"
   },
   {
    "duration": 107,
    "start_time": "2023-06-15T12:29:09.633Z"
   },
   {
    "duration": 704,
    "start_time": "2023-06-15T12:29:09.742Z"
   },
   {
    "duration": 9,
    "start_time": "2023-06-15T12:29:10.458Z"
   },
   {
    "duration": 334,
    "start_time": "2023-06-15T12:29:10.470Z"
   },
   {
    "duration": 87,
    "start_time": "2023-06-15T12:29:10.805Z"
   },
   {
    "duration": 90,
    "start_time": "2023-06-15T12:29:10.894Z"
   },
   {
    "duration": 34,
    "start_time": "2023-06-15T12:29:10.989Z"
   },
   {
    "duration": 51,
    "start_time": "2023-06-15T12:29:11.025Z"
   },
   {
    "duration": 33,
    "start_time": "2023-06-15T12:29:11.078Z"
   },
   {
    "duration": 54,
    "start_time": "2023-06-15T12:29:11.113Z"
   },
   {
    "duration": 44,
    "start_time": "2023-06-15T12:29:11.168Z"
   },
   {
    "duration": 99,
    "start_time": "2023-06-15T12:29:11.213Z"
   },
   {
    "duration": 45,
    "start_time": "2023-06-15T12:29:11.314Z"
   },
   {
    "duration": 54,
    "start_time": "2023-06-15T12:29:11.360Z"
   },
   {
    "duration": 46,
    "start_time": "2023-06-15T12:29:11.415Z"
   },
   {
    "duration": 43,
    "start_time": "2023-06-15T12:29:11.463Z"
   },
   {
    "duration": 68,
    "start_time": "2023-06-15T12:29:11.509Z"
   },
   {
    "duration": 99,
    "start_time": "2023-06-15T12:29:11.579Z"
   },
   {
    "duration": 70,
    "start_time": "2023-06-15T12:29:11.680Z"
   },
   {
    "duration": 281,
    "start_time": "2023-06-15T12:29:11.752Z"
   },
   {
    "duration": 281,
    "start_time": "2023-06-15T12:29:12.035Z"
   },
   {
    "duration": 323,
    "start_time": "2023-06-15T12:29:12.318Z"
   },
   {
    "duration": 26,
    "start_time": "2023-06-15T12:29:12.642Z"
   },
   {
    "duration": 52,
    "start_time": "2023-06-15T12:29:12.670Z"
   },
   {
    "duration": 50,
    "start_time": "2023-06-15T12:29:12.724Z"
   },
   {
    "duration": 32,
    "start_time": "2023-06-15T12:29:12.776Z"
   },
   {
    "duration": 41,
    "start_time": "2023-06-15T12:29:12.810Z"
   },
   {
    "duration": 4,
    "start_time": "2023-06-15T12:29:12.853Z"
   },
   {
    "duration": 18,
    "start_time": "2023-06-15T12:29:12.859Z"
   },
   {
    "duration": 291,
    "start_time": "2023-06-15T12:29:12.880Z"
   },
   {
    "duration": 313,
    "start_time": "2023-06-15T12:29:13.174Z"
   },
   {
    "duration": 15,
    "start_time": "2023-06-15T12:29:13.489Z"
   },
   {
    "duration": 3,
    "start_time": "2023-06-15T12:29:13.507Z"
   },
   {
    "duration": 81,
    "start_time": "2023-06-15T12:29:13.517Z"
   },
   {
    "duration": 5,
    "start_time": "2023-06-15T12:29:13.600Z"
   },
   {
    "duration": 10,
    "start_time": "2023-06-15T12:29:13.607Z"
   },
   {
    "duration": 159,
    "start_time": "2023-06-15T12:29:13.619Z"
   },
   {
    "duration": 13,
    "start_time": "2023-06-15T12:29:13.780Z"
   },
   {
    "duration": 85959,
    "start_time": "2023-06-15T12:29:13.794Z"
   },
   {
    "duration": 45,
    "start_time": "2023-06-15T12:30:39.755Z"
   },
   {
    "duration": 63450,
    "start_time": "2023-06-15T12:30:39.802Z"
   },
   {
    "duration": 5,
    "start_time": "2023-06-15T12:31:43.254Z"
   },
   {
    "duration": 54328,
    "start_time": "2023-06-15T12:31:43.262Z"
   },
   {
    "duration": 5,
    "start_time": "2023-06-15T12:32:37.592Z"
   },
   {
    "duration": 120,
    "start_time": "2023-06-15T12:32:37.599Z"
   },
   {
    "duration": 383841,
    "start_time": "2023-06-15T12:32:37.721Z"
   },
   {
    "duration": 5,
    "start_time": "2023-06-15T12:39:01.564Z"
   },
   {
    "duration": 88,
    "start_time": "2023-06-15T12:39:01.571Z"
   },
   {
    "duration": 5709,
    "start_time": "2023-06-15T12:39:01.661Z"
   },
   {
    "duration": 162,
    "start_time": "2023-06-15T12:39:07.375Z"
   },
   {
    "duration": 17,
    "start_time": "2023-06-15T12:39:07.539Z"
   },
   {
    "duration": 6,
    "start_time": "2023-06-15T12:39:07.559Z"
   },
   {
    "duration": 13,
    "start_time": "2023-06-15T12:39:07.567Z"
   },
   {
    "duration": 463095,
    "start_time": "2023-06-15T12:39:07.582Z"
   },
   {
    "duration": 396595,
    "start_time": "2023-06-15T12:46:50.678Z"
   },
   {
    "duration": 6,
    "start_time": "2023-06-15T12:53:27.275Z"
   },
   {
    "duration": 54,
    "start_time": "2023-06-15T12:53:27.352Z"
   },
   {
    "duration": 0,
    "start_time": "2023-06-15T12:53:27.408Z"
   },
   {
    "duration": 1704,
    "start_time": "2023-06-15T17:28:43.966Z"
   },
   {
    "duration": 1130,
    "start_time": "2023-06-15T17:28:45.672Z"
   },
   {
    "duration": 6,
    "start_time": "2023-06-15T17:28:46.803Z"
   },
   {
    "duration": 162,
    "start_time": "2023-06-15T17:28:46.810Z"
   },
   {
    "duration": 14,
    "start_time": "2023-06-15T17:28:46.974Z"
   },
   {
    "duration": 123,
    "start_time": "2023-06-15T17:28:46.990Z"
   },
   {
    "duration": 1011,
    "start_time": "2023-06-15T17:28:47.115Z"
   },
   {
    "duration": 78,
    "start_time": "2023-06-15T17:28:48.128Z"
   },
   {
    "duration": 600,
    "start_time": "2023-06-15T17:28:48.207Z"
   },
   {
    "duration": 3,
    "start_time": "2023-06-15T17:28:48.809Z"
   },
   {
    "duration": 321,
    "start_time": "2023-06-15T17:28:48.814Z"
   },
   {
    "duration": 84,
    "start_time": "2023-06-15T17:28:49.137Z"
   },
   {
    "duration": 84,
    "start_time": "2023-06-15T17:28:49.223Z"
   },
   {
    "duration": 21,
    "start_time": "2023-06-15T17:28:49.310Z"
   },
   {
    "duration": 46,
    "start_time": "2023-06-15T17:28:49.332Z"
   },
   {
    "duration": 33,
    "start_time": "2023-06-15T17:28:49.380Z"
   },
   {
    "duration": 54,
    "start_time": "2023-06-15T17:28:49.415Z"
   },
   {
    "duration": 22,
    "start_time": "2023-06-15T17:28:49.471Z"
   },
   {
    "duration": 61,
    "start_time": "2023-06-15T17:28:49.494Z"
   },
   {
    "duration": 24,
    "start_time": "2023-06-15T17:28:49.557Z"
   },
   {
    "duration": 23,
    "start_time": "2023-06-15T17:28:49.582Z"
   },
   {
    "duration": 48,
    "start_time": "2023-06-15T17:28:49.607Z"
   },
   {
    "duration": 45,
    "start_time": "2023-06-15T17:28:49.657Z"
   },
   {
    "duration": 51,
    "start_time": "2023-06-15T17:28:49.704Z"
   },
   {
    "duration": 102,
    "start_time": "2023-06-15T17:28:49.757Z"
   },
   {
    "duration": 72,
    "start_time": "2023-06-15T17:28:49.861Z"
   },
   {
    "duration": 225,
    "start_time": "2023-06-15T17:28:49.935Z"
   },
   {
    "duration": 225,
    "start_time": "2023-06-15T17:28:50.162Z"
   },
   {
    "duration": 254,
    "start_time": "2023-06-15T17:28:50.389Z"
   },
   {
    "duration": 29,
    "start_time": "2023-06-15T17:28:50.645Z"
   },
   {
    "duration": 75,
    "start_time": "2023-06-15T17:28:50.676Z"
   },
   {
    "duration": 27,
    "start_time": "2023-06-15T17:28:50.753Z"
   },
   {
    "duration": 26,
    "start_time": "2023-06-15T17:28:50.782Z"
   },
   {
    "duration": 34,
    "start_time": "2023-06-15T17:28:50.810Z"
   },
   {
    "duration": 4,
    "start_time": "2023-06-15T17:28:50.853Z"
   },
   {
    "duration": 30,
    "start_time": "2023-06-15T17:28:50.859Z"
   },
   {
    "duration": 282,
    "start_time": "2023-06-15T17:28:50.891Z"
   },
   {
    "duration": 261,
    "start_time": "2023-06-15T17:28:51.175Z"
   },
   {
    "duration": 24,
    "start_time": "2023-06-15T17:28:51.437Z"
   },
   {
    "duration": 5,
    "start_time": "2023-06-15T17:28:51.462Z"
   },
   {
    "duration": 51,
    "start_time": "2023-06-15T17:28:51.472Z"
   },
   {
    "duration": 4,
    "start_time": "2023-06-15T17:28:51.525Z"
   },
   {
    "duration": 23,
    "start_time": "2023-06-15T17:28:51.531Z"
   },
   {
    "duration": 138,
    "start_time": "2023-06-15T17:28:51.556Z"
   },
   {
    "duration": 13,
    "start_time": "2023-06-15T17:28:51.696Z"
   },
   {
    "duration": 78162,
    "start_time": "2023-06-15T17:28:51.711Z"
   },
   {
    "duration": 25,
    "start_time": "2023-06-15T17:30:09.875Z"
   },
   {
    "duration": 31758,
    "start_time": "2023-06-15T17:30:09.902Z"
   },
   {
    "duration": 92,
    "start_time": "2023-06-15T17:30:41.663Z"
   },
   {
    "duration": 54283,
    "start_time": "2023-06-15T17:30:41.757Z"
   },
   {
    "duration": 5,
    "start_time": "2023-06-15T17:31:36.042Z"
   },
   {
    "duration": 140,
    "start_time": "2023-06-15T17:31:36.049Z"
   },
   {
    "duration": 54666,
    "start_time": "2023-06-15T17:31:36.191Z"
   },
   {
    "duration": 4,
    "start_time": "2023-06-15T17:32:30.859Z"
   },
   {
    "duration": 59,
    "start_time": "2023-06-15T17:32:30.865Z"
   },
   {
    "duration": 6601,
    "start_time": "2023-06-15T17:32:30.926Z"
   },
   {
    "duration": 127,
    "start_time": "2023-06-15T17:32:37.529Z"
   },
   {
    "duration": 11,
    "start_time": "2023-06-15T17:32:37.658Z"
   },
   {
    "duration": 65,
    "start_time": "2023-06-15T17:32:37.670Z"
   },
   {
    "duration": 39,
    "start_time": "2023-06-15T17:32:37.737Z"
   },
   {
    "duration": 1497,
    "start_time": "2023-06-15T17:51:27.959Z"
   },
   {
    "duration": 839,
    "start_time": "2023-06-15T17:51:29.458Z"
   },
   {
    "duration": 5,
    "start_time": "2023-06-15T17:51:30.299Z"
   },
   {
    "duration": 193,
    "start_time": "2023-06-15T17:51:30.306Z"
   },
   {
    "duration": 14,
    "start_time": "2023-06-15T17:51:30.502Z"
   },
   {
    "duration": 137,
    "start_time": "2023-06-15T17:51:30.518Z"
   },
   {
    "duration": 996,
    "start_time": "2023-06-15T17:51:30.657Z"
   },
   {
    "duration": 81,
    "start_time": "2023-06-15T17:51:31.655Z"
   },
   {
    "duration": 659,
    "start_time": "2023-06-15T17:51:31.738Z"
   },
   {
    "duration": 4,
    "start_time": "2023-06-15T17:51:32.400Z"
   },
   {
    "duration": 532,
    "start_time": "2023-06-15T17:51:32.406Z"
   },
   {
    "duration": 84,
    "start_time": "2023-06-15T17:51:32.940Z"
   },
   {
    "duration": 78,
    "start_time": "2023-06-15T17:51:33.026Z"
   },
   {
    "duration": 22,
    "start_time": "2023-06-15T17:51:33.108Z"
   },
   {
    "duration": 72,
    "start_time": "2023-06-15T17:51:33.132Z"
   },
   {
    "duration": 32,
    "start_time": "2023-06-15T17:51:33.206Z"
   },
   {
    "duration": 58,
    "start_time": "2023-06-15T17:51:33.240Z"
   },
   {
    "duration": 32,
    "start_time": "2023-06-15T17:51:33.300Z"
   },
   {
    "duration": 45,
    "start_time": "2023-06-15T17:51:33.334Z"
   },
   {
    "duration": 23,
    "start_time": "2023-06-15T17:51:33.381Z"
   },
   {
    "duration": 38,
    "start_time": "2023-06-15T17:51:33.405Z"
   },
   {
    "duration": 43,
    "start_time": "2023-06-15T17:51:33.444Z"
   },
   {
    "duration": 32,
    "start_time": "2023-06-15T17:51:33.489Z"
   },
   {
    "duration": 48,
    "start_time": "2023-06-15T17:51:33.523Z"
   },
   {
    "duration": 94,
    "start_time": "2023-06-15T17:51:33.573Z"
   },
   {
    "duration": 68,
    "start_time": "2023-06-15T17:51:33.669Z"
   },
   {
    "duration": 223,
    "start_time": "2023-06-15T17:51:33.739Z"
   },
   {
    "duration": 210,
    "start_time": "2023-06-15T17:51:33.964Z"
   },
   {
    "duration": 259,
    "start_time": "2023-06-15T17:51:34.176Z"
   },
   {
    "duration": 25,
    "start_time": "2023-06-15T17:51:34.437Z"
   },
   {
    "duration": 70,
    "start_time": "2023-06-15T17:51:34.464Z"
   },
   {
    "duration": 28,
    "start_time": "2023-06-15T17:51:34.536Z"
   },
   {
    "duration": 26,
    "start_time": "2023-06-15T17:51:34.566Z"
   },
   {
    "duration": 26,
    "start_time": "2023-06-15T17:51:34.594Z"
   },
   {
    "duration": 13,
    "start_time": "2023-06-15T17:51:34.621Z"
   },
   {
    "duration": 31,
    "start_time": "2023-06-15T17:51:34.635Z"
   },
   {
    "duration": 251,
    "start_time": "2023-06-15T17:51:34.668Z"
   },
   {
    "duration": 266,
    "start_time": "2023-06-15T17:51:34.920Z"
   },
   {
    "duration": 12,
    "start_time": "2023-06-15T17:51:35.188Z"
   },
   {
    "duration": 42,
    "start_time": "2023-06-15T17:51:35.202Z"
   },
   {
    "duration": 77,
    "start_time": "2023-06-15T17:51:35.248Z"
   },
   {
    "duration": 4,
    "start_time": "2023-06-15T17:51:35.327Z"
   },
   {
    "duration": 83,
    "start_time": "2023-06-15T17:51:35.333Z"
   },
   {
    "duration": 168,
    "start_time": "2023-06-15T17:51:35.418Z"
   },
   {
    "duration": 13,
    "start_time": "2023-06-15T17:51:35.588Z"
   },
   {
    "duration": 77816,
    "start_time": "2023-06-15T17:51:35.603Z"
   },
   {
    "duration": 34,
    "start_time": "2023-06-15T17:52:53.421Z"
   },
   {
    "duration": 32700,
    "start_time": "2023-06-15T17:52:53.457Z"
   },
   {
    "duration": 88,
    "start_time": "2023-06-15T17:53:26.167Z"
   },
   {
    "duration": 54134,
    "start_time": "2023-06-15T17:53:26.257Z"
   },
   {
    "duration": 3,
    "start_time": "2023-06-15T17:54:20.393Z"
   },
   {
    "duration": 154,
    "start_time": "2023-06-15T17:54:20.398Z"
   },
   {
    "duration": 31403,
    "start_time": "2023-06-15T17:54:20.554Z"
   },
   {
    "duration": 3,
    "start_time": "2023-06-15T17:54:51.959Z"
   },
   {
    "duration": 56,
    "start_time": "2023-06-15T17:54:51.964Z"
   },
   {
    "duration": 5667,
    "start_time": "2023-06-15T17:54:52.022Z"
   },
   {
    "duration": 110,
    "start_time": "2023-06-15T17:54:57.691Z"
   },
   {
    "duration": 8,
    "start_time": "2023-06-15T17:54:57.803Z"
   },
   {
    "duration": 16,
    "start_time": "2023-06-15T17:54:57.813Z"
   },
   {
    "duration": 27,
    "start_time": "2023-06-15T17:54:57.831Z"
   }
  ],
  "kernelspec": {
   "display_name": "Python 3 (ipykernel)",
   "language": "python",
   "name": "python3"
  },
  "language_info": {
   "codemirror_mode": {
    "name": "ipython",
    "version": 3
   },
   "file_extension": ".py",
   "mimetype": "text/x-python",
   "name": "python",
   "nbconvert_exporter": "python",
   "pygments_lexer": "ipython3",
   "version": "3.9.5"
  },
  "toc": {
   "base_numbering": 1,
   "nav_menu": {},
   "number_sections": true,
   "sideBar": true,
   "skip_h1_title": true,
   "title_cell": "Оглавление",
   "title_sidebar": "Contents",
   "toc_cell": true,
   "toc_position": {},
   "toc_section_display": true,
   "toc_window_display": false
  }
 },
 "nbformat": 4,
 "nbformat_minor": 2
}

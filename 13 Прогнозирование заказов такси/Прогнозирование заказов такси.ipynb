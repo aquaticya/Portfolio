{
 "cells": [
  {
   "cell_type": "markdown",
   "metadata": {
    "toc": true
   },
   "source": [
    "<h1>Содержание<span class=\"tocSkip\"></span></h1>\n",
    "<div class=\"toc\"><ul class=\"toc-item\"><li><span><a href=\"#Подготовка\" data-toc-modified-id=\"Подготовка-1\"><span class=\"toc-item-num\">1&nbsp;&nbsp;</span>Подготовка</a></span></li><li><span><a href=\"#Анализ\" data-toc-modified-id=\"Анализ-2\"><span class=\"toc-item-num\">2&nbsp;&nbsp;</span>Анализ</a></span></li><li><span><a href=\"#Обучение\" data-toc-modified-id=\"Обучение-3\"><span class=\"toc-item-num\">3&nbsp;&nbsp;</span>Обучение</a></span><ul class=\"toc-item\"><li><span><a href=\"#Подготовка-данных\" data-toc-modified-id=\"Подготовка-данных-3.1\"><span class=\"toc-item-num\">3.1&nbsp;&nbsp;</span>Подготовка данных</a></span></li><li><span><a href=\"#Модель-линейной-регрессии\" data-toc-modified-id=\"Модель-линейной-регрессии-3.2\"><span class=\"toc-item-num\">3.2&nbsp;&nbsp;</span>Модель линейной регрессии</a></span></li><li><span><a href=\"#Модель-CatBoost\" data-toc-modified-id=\"Модель-CatBoost-3.3\"><span class=\"toc-item-num\">3.3&nbsp;&nbsp;</span>Модель CatBoost</a></span></li><li><span><a href=\"#Модель-LightGBM\" data-toc-modified-id=\"Модель-LightGBM-3.4\"><span class=\"toc-item-num\">3.4&nbsp;&nbsp;</span>Модель LightGBM</a></span></li></ul></li><li><span><a href=\"#Тестирование\" data-toc-modified-id=\"Тестирование-4\"><span class=\"toc-item-num\">4&nbsp;&nbsp;</span>Тестирование</a></span><ul class=\"toc-item\"><li><span><a href=\"#Проверка-модели-на-тестовой-выборке\" data-toc-modified-id=\"Проверка-модели-на-тестовой-выборке-4.1\"><span class=\"toc-item-num\">4.1&nbsp;&nbsp;</span>Проверка модели на тестовой выборке</a></span></li><li><span><a href=\"#Проверка-модели-на-адекватность\" data-toc-modified-id=\"Проверка-модели-на-адекватность-4.2\"><span class=\"toc-item-num\">4.2&nbsp;&nbsp;</span>Проверка модели на адекватность</a></span></li></ul></li><li><span><a href=\"#Общий-вывод-по-проекту\" data-toc-modified-id=\"Общий-вывод-по-проекту-5\"><span class=\"toc-item-num\">5&nbsp;&nbsp;</span>Общий вывод по проекту</a></span></li><li><span><a href=\"#Чек-лист-проверки\" data-toc-modified-id=\"Чек-лист-проверки-6\"><span class=\"toc-item-num\">6&nbsp;&nbsp;</span>Чек-лист проверки</a></span></li></ul></div>"
   ]
  },
  {
   "cell_type": "markdown",
   "metadata": {},
   "source": [
    "#  Прогнозирование заказов такси"
   ]
  },
  {
   "cell_type": "markdown",
   "metadata": {},
   "source": [
    "Компания «Чётенькое такси» собрала исторические данные о заказах такси в аэропортах. Чтобы привлекать больше водителей в период пиковой нагрузки, нужно спрогнозировать количество заказов такси на следующий час. Постройте модель для такого предсказания.\n",
    "\n",
    "Значение метрики *RMSE* на тестовой выборке должно быть не больше 48.\n",
    "\n",
    "Вам нужно:\n",
    "\n",
    "1. Загрузить данные и выполнить их ресемплирование по одному часу.\n",
    "2. Проанализировать данные.\n",
    "3. Обучить разные модели с различными гиперпараметрами. Сделать тестовую выборку размером 10% от исходных данных.\n",
    "4. Проверить данные на тестовой выборке и сделать выводы.\n",
    "\n",
    "\n",
    "Количество заказов находится в столбце `num_orders` (от англ. *number of orders*, «число заказов»)."
   ]
  },
  {
   "cell_type": "markdown",
   "metadata": {},
   "source": [
    "## Подготовка"
   ]
  },
  {
   "cell_type": "code",
   "execution_count": 1,
   "metadata": {},
   "outputs": [],
   "source": [
    "import pandas as pd\n",
    "import numpy as np\n",
    "import matplotlib.pyplot as plt\n",
    "from sklearn.model_selection import train_test_split, cross_validate, GridSearchCV, TimeSeriesSplit \n",
    "from sklearn.dummy import DummyRegressor\n",
    "from sklearn.metrics import mean_squared_error\n",
    "from statsmodels.tsa.seasonal import seasonal_decompose\n",
    "from sklearn.linear_model import LinearRegression\n",
    "from catboost import CatBoostRegressor\n",
    "import lightgbm as lgb"
   ]
  },
  {
   "cell_type": "code",
   "execution_count": 2,
   "metadata": {},
   "outputs": [],
   "source": [
    "# загрузим данные, изменим индекс и тип данных и посмотрим их\n",
    "df = pd.read_csv('/datasets/taxi.csv', index_col=[0], parse_dates=[0])\n"
   ]
  },
  {
   "cell_type": "code",
   "execution_count": 3,
   "metadata": {},
   "outputs": [
    {
     "data": {
      "text/plain": [
       "(26496, 1)"
      ]
     },
     "execution_count": 3,
     "metadata": {},
     "output_type": "execute_result"
    }
   ],
   "source": [
    "# размер данных\n",
    "df.shape"
   ]
  },
  {
   "cell_type": "code",
   "execution_count": 4,
   "metadata": {},
   "outputs": [
    {
     "name": "stdout",
     "output_type": "stream",
     "text": [
      "<class 'pandas.core.frame.DataFrame'>\n",
      "DatetimeIndex: 26496 entries, 2018-03-01 00:00:00 to 2018-08-31 23:50:00\n",
      "Data columns (total 1 columns):\n",
      " #   Column      Non-Null Count  Dtype\n",
      "---  ------      --------------  -----\n",
      " 0   num_orders  26496 non-null  int64\n",
      "dtypes: int64(1)\n",
      "memory usage: 414.0 KB\n"
     ]
    }
   ],
   "source": [
    "# общая информация о данных\n",
    "df.info()"
   ]
  },
  {
   "cell_type": "code",
   "execution_count": 5,
   "metadata": {
    "scrolled": true
   },
   "outputs": [
    {
     "data": {
      "text/html": [
       "<div>\n",
       "<style scoped>\n",
       "    .dataframe tbody tr th:only-of-type {\n",
       "        vertical-align: middle;\n",
       "    }\n",
       "\n",
       "    .dataframe tbody tr th {\n",
       "        vertical-align: top;\n",
       "    }\n",
       "\n",
       "    .dataframe thead th {\n",
       "        text-align: right;\n",
       "    }\n",
       "</style>\n",
       "<table border=\"1\" class=\"dataframe\">\n",
       "  <thead>\n",
       "    <tr style=\"text-align: right;\">\n",
       "      <th></th>\n",
       "      <th>num_orders</th>\n",
       "    </tr>\n",
       "    <tr>\n",
       "      <th>datetime</th>\n",
       "      <th></th>\n",
       "    </tr>\n",
       "  </thead>\n",
       "  <tbody>\n",
       "    <tr>\n",
       "      <th>2018-03-01 00:00:00</th>\n",
       "      <td>9</td>\n",
       "    </tr>\n",
       "    <tr>\n",
       "      <th>2018-03-01 00:10:00</th>\n",
       "      <td>14</td>\n",
       "    </tr>\n",
       "    <tr>\n",
       "      <th>2018-03-01 00:20:00</th>\n",
       "      <td>28</td>\n",
       "    </tr>\n",
       "    <tr>\n",
       "      <th>2018-03-01 00:30:00</th>\n",
       "      <td>20</td>\n",
       "    </tr>\n",
       "    <tr>\n",
       "      <th>2018-03-01 00:40:00</th>\n",
       "      <td>32</td>\n",
       "    </tr>\n",
       "  </tbody>\n",
       "</table>\n",
       "</div>"
      ],
      "text/plain": [
       "                     num_orders\n",
       "datetime                       \n",
       "2018-03-01 00:00:00           9\n",
       "2018-03-01 00:10:00          14\n",
       "2018-03-01 00:20:00          28\n",
       "2018-03-01 00:30:00          20\n",
       "2018-03-01 00:40:00          32"
      ]
     },
     "execution_count": 5,
     "metadata": {},
     "output_type": "execute_result"
    }
   ],
   "source": [
    "df.head()"
   ]
  },
  {
   "cell_type": "code",
   "execution_count": 6,
   "metadata": {},
   "outputs": [
    {
     "data": {
      "text/html": [
       "<div>\n",
       "<style scoped>\n",
       "    .dataframe tbody tr th:only-of-type {\n",
       "        vertical-align: middle;\n",
       "    }\n",
       "\n",
       "    .dataframe tbody tr th {\n",
       "        vertical-align: top;\n",
       "    }\n",
       "\n",
       "    .dataframe thead th {\n",
       "        text-align: right;\n",
       "    }\n",
       "</style>\n",
       "<table border=\"1\" class=\"dataframe\">\n",
       "  <thead>\n",
       "    <tr style=\"text-align: right;\">\n",
       "      <th></th>\n",
       "      <th>num_orders</th>\n",
       "    </tr>\n",
       "    <tr>\n",
       "      <th>datetime</th>\n",
       "      <th></th>\n",
       "    </tr>\n",
       "  </thead>\n",
       "  <tbody>\n",
       "    <tr>\n",
       "      <th>2018-08-31 23:10:00</th>\n",
       "      <td>32</td>\n",
       "    </tr>\n",
       "    <tr>\n",
       "      <th>2018-08-31 23:20:00</th>\n",
       "      <td>24</td>\n",
       "    </tr>\n",
       "    <tr>\n",
       "      <th>2018-08-31 23:30:00</th>\n",
       "      <td>27</td>\n",
       "    </tr>\n",
       "    <tr>\n",
       "      <th>2018-08-31 23:40:00</th>\n",
       "      <td>39</td>\n",
       "    </tr>\n",
       "    <tr>\n",
       "      <th>2018-08-31 23:50:00</th>\n",
       "      <td>53</td>\n",
       "    </tr>\n",
       "  </tbody>\n",
       "</table>\n",
       "</div>"
      ],
      "text/plain": [
       "                     num_orders\n",
       "datetime                       \n",
       "2018-08-31 23:10:00          32\n",
       "2018-08-31 23:20:00          24\n",
       "2018-08-31 23:30:00          27\n",
       "2018-08-31 23:40:00          39\n",
       "2018-08-31 23:50:00          53"
      ]
     },
     "execution_count": 6,
     "metadata": {},
     "output_type": "execute_result"
    }
   ],
   "source": [
    "df.tail()"
   ]
  },
  {
   "cell_type": "code",
   "execution_count": 7,
   "metadata": {},
   "outputs": [
    {
     "data": {
      "text/plain": [
       "True"
      ]
     },
     "execution_count": 7,
     "metadata": {},
     "output_type": "execute_result"
    }
   ],
   "source": [
    "# проверим в хронологическом ли порядке данные, да\n",
    "df.index.is_monotonic"
   ]
  },
  {
   "cell_type": "code",
   "execution_count": 8,
   "metadata": {
    "scrolled": true
   },
   "outputs": [
    {
     "data": {
      "text/html": [
       "<div>\n",
       "<style scoped>\n",
       "    .dataframe tbody tr th:only-of-type {\n",
       "        vertical-align: middle;\n",
       "    }\n",
       "\n",
       "    .dataframe tbody tr th {\n",
       "        vertical-align: top;\n",
       "    }\n",
       "\n",
       "    .dataframe thead th {\n",
       "        text-align: right;\n",
       "    }\n",
       "</style>\n",
       "<table border=\"1\" class=\"dataframe\">\n",
       "  <thead>\n",
       "    <tr style=\"text-align: right;\">\n",
       "      <th></th>\n",
       "      <th>num_orders</th>\n",
       "    </tr>\n",
       "  </thead>\n",
       "  <tbody>\n",
       "    <tr>\n",
       "      <th>count</th>\n",
       "      <td>26496.000000</td>\n",
       "    </tr>\n",
       "    <tr>\n",
       "      <th>mean</th>\n",
       "      <td>14.070463</td>\n",
       "    </tr>\n",
       "    <tr>\n",
       "      <th>std</th>\n",
       "      <td>9.211330</td>\n",
       "    </tr>\n",
       "    <tr>\n",
       "      <th>min</th>\n",
       "      <td>0.000000</td>\n",
       "    </tr>\n",
       "    <tr>\n",
       "      <th>25%</th>\n",
       "      <td>8.000000</td>\n",
       "    </tr>\n",
       "    <tr>\n",
       "      <th>50%</th>\n",
       "      <td>13.000000</td>\n",
       "    </tr>\n",
       "    <tr>\n",
       "      <th>75%</th>\n",
       "      <td>19.000000</td>\n",
       "    </tr>\n",
       "    <tr>\n",
       "      <th>max</th>\n",
       "      <td>119.000000</td>\n",
       "    </tr>\n",
       "  </tbody>\n",
       "</table>\n",
       "</div>"
      ],
      "text/plain": [
       "         num_orders\n",
       "count  26496.000000\n",
       "mean      14.070463\n",
       "std        9.211330\n",
       "min        0.000000\n",
       "25%        8.000000\n",
       "50%       13.000000\n",
       "75%       19.000000\n",
       "max      119.000000"
      ]
     },
     "execution_count": 8,
     "metadata": {},
     "output_type": "execute_result"
    }
   ],
   "source": [
    "df.describe()"
   ]
  },
  {
   "cell_type": "code",
   "execution_count": 9,
   "metadata": {
    "scrolled": true
   },
   "outputs": [
    {
     "data": {
      "image/png": "[encoded data removed]",
      "text/plain": [
       "<Figure size 1080x216 with 1 Axes>"
      ]
     },
     "metadata": {
      "needs_background": "light"
     },
     "output_type": "display_data"
    }
   ],
   "source": [
    "# посмотрим на данные\n",
    "df.hist(figsize=(15, 3));"
   ]
  },
  {
   "cell_type": "code",
   "execution_count": 10,
   "metadata": {
    "scrolled": false
   },
   "outputs": [
    {
     "data": {
      "text/plain": [
       "num_orders    0\n",
       "dtype: int64"
      ]
     },
     "execution_count": 10,
     "metadata": {},
     "output_type": "execute_result"
    }
   ],
   "source": [
    "# проверим пропуски, их нет\n",
    "df.isna().sum()"
   ]
  },
  {
   "cell_type": "markdown",
   "metadata": {},
   "source": [
    "**Вывод по разделу**\n",
    "\n",
    "- при загрузке данных изменили индекс, тип данных\n",
    "- проверили, что данные в хронологическом ли порядке\n",
    "\n",
    "Данные содержат 26496 строк \n",
    "- временной период 6 месяцев 2018 г. c 1 марта 2018 по 31 августа 2018 года (каждые 10 минут)\n",
    "- в среднем 14 заказов, максимальное количество 119 заказов, стандартное отклонение 9 заказов, медиана 13 заказов\n",
    "- пропусков нет"
   ]
  },
  {
   "cell_type": "markdown",
   "metadata": {},
   "source": [
    "## Анализ"
   ]
  },
  {
   "cell_type": "code",
   "execution_count": 11,
   "metadata": {},
   "outputs": [],
   "source": [
    "# изменим интервал до 1 часа\n",
    "df = df.resample('1H').sum()"
   ]
  },
  {
   "cell_type": "code",
   "execution_count": 12,
   "metadata": {
    "scrolled": true
   },
   "outputs": [
    {
     "data": {
      "text/html": [
       "<div>\n",
       "<style scoped>\n",
       "    .dataframe tbody tr th:only-of-type {\n",
       "        vertical-align: middle;\n",
       "    }\n",
       "\n",
       "    .dataframe tbody tr th {\n",
       "        vertical-align: top;\n",
       "    }\n",
       "\n",
       "    .dataframe thead th {\n",
       "        text-align: right;\n",
       "    }\n",
       "</style>\n",
       "<table border=\"1\" class=\"dataframe\">\n",
       "  <thead>\n",
       "    <tr style=\"text-align: right;\">\n",
       "      <th></th>\n",
       "      <th>num_orders</th>\n",
       "    </tr>\n",
       "    <tr>\n",
       "      <th>datetime</th>\n",
       "      <th></th>\n",
       "    </tr>\n",
       "  </thead>\n",
       "  <tbody>\n",
       "    <tr>\n",
       "      <th>2018-03-01 00:00:00</th>\n",
       "      <td>124</td>\n",
       "    </tr>\n",
       "    <tr>\n",
       "      <th>2018-03-01 01:00:00</th>\n",
       "      <td>85</td>\n",
       "    </tr>\n",
       "    <tr>\n",
       "      <th>2018-03-01 02:00:00</th>\n",
       "      <td>71</td>\n",
       "    </tr>\n",
       "    <tr>\n",
       "      <th>2018-03-01 03:00:00</th>\n",
       "      <td>66</td>\n",
       "    </tr>\n",
       "    <tr>\n",
       "      <th>2018-03-01 04:00:00</th>\n",
       "      <td>43</td>\n",
       "    </tr>\n",
       "  </tbody>\n",
       "</table>\n",
       "</div>"
      ],
      "text/plain": [
       "                     num_orders\n",
       "datetime                       \n",
       "2018-03-01 00:00:00         124\n",
       "2018-03-01 01:00:00          85\n",
       "2018-03-01 02:00:00          71\n",
       "2018-03-01 03:00:00          66\n",
       "2018-03-01 04:00:00          43"
      ]
     },
     "execution_count": 12,
     "metadata": {},
     "output_type": "execute_result"
    }
   ],
   "source": [
    "df.head()"
   ]
  },
  {
   "cell_type": "code",
   "execution_count": 13,
   "metadata": {
    "scrolled": false
   },
   "outputs": [
    {
     "data": {
      "text/html": [
       "<div>\n",
       "<style scoped>\n",
       "    .dataframe tbody tr th:only-of-type {\n",
       "        vertical-align: middle;\n",
       "    }\n",
       "\n",
       "    .dataframe tbody tr th {\n",
       "        vertical-align: top;\n",
       "    }\n",
       "\n",
       "    .dataframe thead th {\n",
       "        text-align: right;\n",
       "    }\n",
       "</style>\n",
       "<table border=\"1\" class=\"dataframe\">\n",
       "  <thead>\n",
       "    <tr style=\"text-align: right;\">\n",
       "      <th></th>\n",
       "      <th>num_orders</th>\n",
       "    </tr>\n",
       "  </thead>\n",
       "  <tbody>\n",
       "    <tr>\n",
       "      <th>count</th>\n",
       "      <td>4416.000000</td>\n",
       "    </tr>\n",
       "    <tr>\n",
       "      <th>mean</th>\n",
       "      <td>84.422781</td>\n",
       "    </tr>\n",
       "    <tr>\n",
       "      <th>std</th>\n",
       "      <td>45.023853</td>\n",
       "    </tr>\n",
       "    <tr>\n",
       "      <th>min</th>\n",
       "      <td>0.000000</td>\n",
       "    </tr>\n",
       "    <tr>\n",
       "      <th>25%</th>\n",
       "      <td>54.000000</td>\n",
       "    </tr>\n",
       "    <tr>\n",
       "      <th>50%</th>\n",
       "      <td>78.000000</td>\n",
       "    </tr>\n",
       "    <tr>\n",
       "      <th>75%</th>\n",
       "      <td>107.000000</td>\n",
       "    </tr>\n",
       "    <tr>\n",
       "      <th>max</th>\n",
       "      <td>462.000000</td>\n",
       "    </tr>\n",
       "  </tbody>\n",
       "</table>\n",
       "</div>"
      ],
      "text/plain": [
       "        num_orders\n",
       "count  4416.000000\n",
       "mean     84.422781\n",
       "std      45.023853\n",
       "min       0.000000\n",
       "25%      54.000000\n",
       "50%      78.000000\n",
       "75%     107.000000\n",
       "max     462.000000"
      ]
     },
     "execution_count": 13,
     "metadata": {},
     "output_type": "execute_result"
    }
   ],
   "source": [
    "df.describe()"
   ]
  },
  {
   "cell_type": "code",
   "execution_count": 14,
   "metadata": {
    "scrolled": true
   },
   "outputs": [
    {
     "data": {
      "image/png": "[encoded data removed]",
      "text/plain": [
       "<Figure size 1080x216 with 1 Axes>"
      ]
     },
     "metadata": {
      "needs_background": "light"
     },
     "output_type": "display_data"
    }
   ],
   "source": [
    "# Построим график заказов и скользящего среднего\n",
    "df_rolling = df.copy()\n",
    "df_rolling['rolling_mean'] = df_rolling.rolling(40).mean()\n",
    "df_rolling.plot(figsize=(15, 3), title='Количество заказов такси', ylabel='Количество', xlabel='Дата');"
   ]
  },
  {
   "cell_type": "code",
   "execution_count": 15,
   "metadata": {
    "scrolled": false
   },
   "outputs": [
    {
     "data": {
      "image/png": "[encoded data removed]",
      "text/plain": [
       "<Figure size 1080x216 with 1 Axes>"
      ]
     },
     "metadata": {
      "needs_background": "light"
     },
     "output_type": "display_data"
    },
    {
     "data": {
      "image/png": "[encoded data removed]",
      "text/plain": [
       "<Figure size 1080x216 with 1 Axes>"
      ]
     },
     "metadata": {
      "needs_background": "light"
     },
     "output_type": "display_data"
    }
   ],
   "source": [
    "# Построим тренд и сезонную компоненту\n",
    "decomposed = seasonal_decompose(df_rolling['num_orders'])\n",
    "plt.figure(figsize=(15, 3))\n",
    "plt.subplot()\n",
    "decomposed.trend.plot()\n",
    "plt.title('Trend');\n",
    "plt.figure(figsize=(15, 3))\n",
    "plt.subplot()\n",
    "decomposed.seasonal.plot()\n",
    "plt.title('Seasonality');"
   ]
  },
  {
   "cell_type": "markdown",
   "metadata": {},
   "source": [
    "Виден тренд к увеличению заказов в течение полугода.\n",
    "Сезонность имеется, но пока не понятна ее зависимость.\n",
    "Рассмотрим меньший период."
   ]
  },
  {
   "cell_type": "code",
   "execution_count": 16,
   "metadata": {},
   "outputs": [
    {
     "data": {
      "image/png": "[encoded data removed]",
      "text/plain": [
       "<Figure size 1080x216 with 1 Axes>"
      ]
     },
     "metadata": {
      "needs_background": "light"
     },
     "output_type": "display_data"
    },
    {
     "data": {
      "image/png": "[encoded data removed]",
      "text/plain": [
       "<Figure size 1080x216 with 1 Axes>"
      ]
     },
     "metadata": {
      "needs_background": "light"
     },
     "output_type": "display_data"
    }
   ],
   "source": [
    "# Построим тренд и сезонную компоненту с 1 по 15 марта\n",
    "df_seasonal = df_rolling['2018-03-01':'2018-03-15']\n",
    "decomposed = seasonal_decompose(df_seasonal['num_orders'])\n",
    "plt.figure(figsize=(15, 3))\n",
    "plt.subplot()\n",
    "decomposed.trend.plot()\n",
    "plt.title('Trend');\n",
    "plt.figure(figsize=(15, 3))\n",
    "plt.subplot()\n",
    "decomposed.seasonal.plot()\n",
    "plt.title('Seasonality');"
   ]
  },
  {
   "cell_type": "markdown",
   "metadata": {},
   "source": [
    "При уменьшении периода до полумесяца тренд теряется, но видна сезонность в пределах суток. \n",
    "Рассмотрим еще более мелкий период."
   ]
  },
  {
   "cell_type": "code",
   "execution_count": 17,
   "metadata": {},
   "outputs": [
    {
     "data": {
      "image/png": "[encoded data removed]",
      "text/plain": [
       "<Figure size 1080x216 with 1 Axes>"
      ]
     },
     "metadata": {
      "needs_background": "light"
     },
     "output_type": "display_data"
    }
   ],
   "source": [
    "# Построим сезонную компоненту с 1 по 2 марта\n",
    "df_seasonal = df_rolling['2018-03-01':'2018-03-02']\n",
    "decomposed = seasonal_decompose(df_seasonal['num_orders'])\n",
    "plt.figure(figsize=(15, 3))\n",
    "plt.subplot()\n",
    "decomposed.seasonal.plot()\n",
    "plt.title('Seasonality');"
   ]
  },
  {
   "cell_type": "markdown",
   "metadata": {},
   "source": [
    "Видна сезонность в течении суток, спад заказов к 6-7 часам утра и ежедневный рост с 10 вечера до 1 ночи."
   ]
  },
  {
   "cell_type": "code",
   "execution_count": 18,
   "metadata": {
    "scrolled": true
   },
   "outputs": [
    {
     "data": {
      "image/png": "[encoded data removed]",
      "text/plain": [
       "<Figure size 1080x216 with 1 Axes>"
      ]
     },
     "metadata": {
      "needs_background": "light"
     },
     "output_type": "display_data"
    }
   ],
   "source": [
    "# Рассмотрим стационарный наш ряд или нет, найдём скользящее стандартное отклонение\n",
    "df_rolling['rolling_std'] = df_rolling['num_orders'].rolling(40).std()\n",
    "df_rolling.plot(figsize=(15, 3), ylabel='Количество', xlabel='Дата');"
   ]
  },
  {
   "cell_type": "code",
   "execution_count": 19,
   "metadata": {},
   "outputs": [
    {
     "data": {
      "image/png": "[encoded data removed]",
      "text/plain": [
       "<Figure size 1080x216 with 1 Axes>"
      ]
     },
     "metadata": {
      "needs_background": "light"
     },
     "output_type": "display_data"
    }
   ],
   "source": [
    "df_rolling['2018-03-01':'2018-04-01'].plot(figsize=(15, 3), ylabel='Количество', xlabel='Дата');"
   ]
  },
  {
   "cell_type": "markdown",
   "metadata": {},
   "source": [
    "Так как стационарные временные ряды  это ряды, у которых среднее и стандартное отклонение не меняются, то за полный период данных (полгода) когда видет тренд, меняется среднее и отклонения и временной ряд можно назвать нестационарным.\n",
    "\n",
    "А если рассматривать временной период (месяц) за который видна сезонность, то можно сказать, что такой ряд стационарный, так среднее и отклонения не меняются."
   ]
  },
  {
   "cell_type": "code",
   "execution_count": 20,
   "metadata": {
    "scrolled": true
   },
   "outputs": [
    {
     "data": {
      "image/png": "[encoded data removed]",
      "text/plain": [
       "<Figure size 1080x216 with 1 Axes>"
      ]
     },
     "metadata": {
      "needs_background": "light"
     },
     "output_type": "display_data"
    }
   ],
   "source": [
    "# Чтобы ряд сделать стационарным, найдём разности его значений\n",
    "df_shift = df - df.shift()\n",
    "df_shift['mean'] = df_shift['num_orders'].rolling(40).mean()\n",
    "df_shift['std'] = df_shift['num_orders'].rolling(40).std()\n",
    "df_shift.plot(figsize=(15, 3), ylabel='Количество', xlabel='Дата');"
   ]
  },
  {
   "cell_type": "code",
   "execution_count": 22,
   "metadata": {},
   "outputs": [
    {
     "data": {
      "image/png": "[encoded data removed]",
      "text/plain": [
       "<Figure size 1080x216 with 1 Axes>"
      ]
     },
     "metadata": {
      "needs_background": "light"
     },
     "output_type": "display_data"
    }
   ],
   "source": [
    "# Исследуем недельную сезонность\n",
    "# изменим интервал до 1 дня\n",
    "df_day = df.resample('1D').sum()\n",
    "# Построим график заказов и скользящего среднего\n",
    "df_day['rolling_mean'] = df_day.rolling(10).mean()\n",
    "df_day.plot(figsize=(15, 3), title='Количество заказов такси', ylabel='Количество', xlabel='Дата');"
   ]
  },
  {
   "cell_type": "code",
   "execution_count": 23,
   "metadata": {},
   "outputs": [
    {
     "data": {
      "image/png": "[encoded data removed]",
      "text/plain": [
       "<Figure size 1080x216 with 1 Axes>"
      ]
     },
     "metadata": {
      "needs_background": "light"
     },
     "output_type": "display_data"
    },
    {
     "data": {
      "image/png": "[encoded data removed]",
      "text/plain": [
       "<Figure size 1080x216 with 1 Axes>"
      ]
     },
     "metadata": {
      "needs_background": "light"
     },
     "output_type": "display_data"
    }
   ],
   "source": [
    "# Построим тренд и сезонную компоненту\n",
    "decomposed = seasonal_decompose(df_day['num_orders'])\n",
    "plt.figure(figsize=(15, 3))\n",
    "plt.subplot()\n",
    "decomposed.trend.plot()\n",
    "plt.title('Trend');\n",
    "plt.figure(figsize=(15, 3))\n",
    "plt.subplot()\n",
    "decomposed.seasonal.plot()\n",
    "plt.title('Seasonality');"
   ]
  },
  {
   "cell_type": "code",
   "execution_count": 24,
   "metadata": {
    "scrolled": false
   },
   "outputs": [
    {
     "data": {
      "image/png": "[encoded data removed]",
      "text/plain": [
       "<Figure size 1080x216 with 1 Axes>"
      ]
     },
     "metadata": {
      "needs_background": "light"
     },
     "output_type": "display_data"
    }
   ],
   "source": [
    "# Построим сезонную компоненту за 1 месяца\n",
    "df_day = df_day['2018-03-01':'2018-03-30']\n",
    "decomposed = seasonal_decompose(df_day['num_orders'])\n",
    "plt.figure(figsize=(15, 3))\n",
    "plt.subplot()\n",
    "decomposed.seasonal.plot()\n",
    "plt.title('Seasonality');"
   ]
  },
  {
   "cell_type": "markdown",
   "metadata": {},
   "source": [
    "На графике видна недельная сезонность в течении суток, спад заказов по понедельникам и рост по средам и воскресеньям."
   ]
  },
  {
   "cell_type": "markdown",
   "metadata": {},
   "source": [
    "**Вывод по разделу**\n",
    "\n",
    "Провели ресемплирование по одному часу\n",
    "- данных стало 4416 строк\n",
    "- в среднем за час 84 заказа, максимальное количество 462 заказа, стандартное отклонение 45 заказов, медиана 78 заказов\n",
    "- построили график заказов и скользящего среднего\n",
    "- построили тренд и сезонную компоненту\n",
    "    - виден тренд к увеличению заказов в течении полугода\n",
    "    - и сезонность в течении суток, спад заказов к 6-7 часам утра и ежедневный рост с 10 вечера до 1 ночи.\n",
    "- за полный период данных (полгода) временной ряд можно назвать нестационарным, а если рассматривать временной период (месяц), то можно сказать, что такой ряд стационарный, так среднее и отклонения не меняются.\n",
    "- можно ряд сделать стационарным, найдя разности его значений\n",
    "- исследовали недельную сезонность, выявлено, что есть недельная сезонность в течении суток, спад заказов по понедельникам и рост по средам и воскресеньям."
   ]
  },
  {
   "cell_type": "markdown",
   "metadata": {},
   "source": [
    "## Обучение"
   ]
  },
  {
   "cell_type": "markdown",
   "metadata": {},
   "source": [
    "### Подготовка данных"
   ]
  },
  {
   "cell_type": "markdown",
   "metadata": {},
   "source": [
    "У данных выявлена суточная и недельная сезонность, поэтому дополнительные признаки будут час и день недели."
   ]
  },
  {
   "cell_type": "code",
   "execution_count": 26,
   "metadata": {},
   "outputs": [],
   "source": [
    "# cоздадим признаки для горизонта прогнозирования, напишем функцию для создания признаков\n",
    "def make_features(data, max_lag=0, rolling_mean_size=0):\n",
    "    # календарные признаки\n",
    "    data['hour'] = data.index.hour\n",
    "    data['dayofweek'] = data.index.dayofweek\n",
    "    # отстающие значения\n",
    "    for lag in range(1, max_lag + 1):\n",
    "        data['lag_{}'.format(lag)] = data['num_orders'].shift(lag)\n",
    "    # скользящее среднее\n",
    "    data['rolling_mean'] = data['num_orders'].shift().rolling(rolling_mean_size).mean() "
   ]
  },
  {
   "cell_type": "code",
   "execution_count": 27,
   "metadata": {
    "scrolled": false
   },
   "outputs": [
    {
     "data": {
      "text/html": [
       "<div>\n",
       "<style scoped>\n",
       "    .dataframe tbody tr th:only-of-type {\n",
       "        vertical-align: middle;\n",
       "    }\n",
       "\n",
       "    .dataframe tbody tr th {\n",
       "        vertical-align: top;\n",
       "    }\n",
       "\n",
       "    .dataframe thead th {\n",
       "        text-align: right;\n",
       "    }\n",
       "</style>\n",
       "<table border=\"1\" class=\"dataframe\">\n",
       "  <thead>\n",
       "    <tr style=\"text-align: right;\">\n",
       "      <th></th>\n",
       "      <th>num_orders</th>\n",
       "      <th>hour</th>\n",
       "      <th>dayofweek</th>\n",
       "      <th>lag_1</th>\n",
       "      <th>lag_2</th>\n",
       "      <th>lag_3</th>\n",
       "      <th>lag_4</th>\n",
       "      <th>lag_5</th>\n",
       "      <th>lag_6</th>\n",
       "      <th>lag_7</th>\n",
       "      <th>...</th>\n",
       "      <th>lag_16</th>\n",
       "      <th>lag_17</th>\n",
       "      <th>lag_18</th>\n",
       "      <th>lag_19</th>\n",
       "      <th>lag_20</th>\n",
       "      <th>lag_21</th>\n",
       "      <th>lag_22</th>\n",
       "      <th>lag_23</th>\n",
       "      <th>lag_24</th>\n",
       "      <th>rolling_mean</th>\n",
       "    </tr>\n",
       "    <tr>\n",
       "      <th>datetime</th>\n",
       "      <th></th>\n",
       "      <th></th>\n",
       "      <th></th>\n",
       "      <th></th>\n",
       "      <th></th>\n",
       "      <th></th>\n",
       "      <th></th>\n",
       "      <th></th>\n",
       "      <th></th>\n",
       "      <th></th>\n",
       "      <th></th>\n",
       "      <th></th>\n",
       "      <th></th>\n",
       "      <th></th>\n",
       "      <th></th>\n",
       "      <th></th>\n",
       "      <th></th>\n",
       "      <th></th>\n",
       "      <th></th>\n",
       "      <th></th>\n",
       "      <th></th>\n",
       "    </tr>\n",
       "  </thead>\n",
       "  <tbody>\n",
       "    <tr>\n",
       "      <th>2018-03-01 00:00:00</th>\n",
       "      <td>124</td>\n",
       "      <td>0</td>\n",
       "      <td>3</td>\n",
       "      <td>NaN</td>\n",
       "      <td>NaN</td>\n",
       "      <td>NaN</td>\n",
       "      <td>NaN</td>\n",
       "      <td>NaN</td>\n",
       "      <td>NaN</td>\n",
       "      <td>NaN</td>\n",
       "      <td>...</td>\n",
       "      <td>NaN</td>\n",
       "      <td>NaN</td>\n",
       "      <td>NaN</td>\n",
       "      <td>NaN</td>\n",
       "      <td>NaN</td>\n",
       "      <td>NaN</td>\n",
       "      <td>NaN</td>\n",
       "      <td>NaN</td>\n",
       "      <td>NaN</td>\n",
       "      <td>NaN</td>\n",
       "    </tr>\n",
       "    <tr>\n",
       "      <th>2018-03-01 01:00:00</th>\n",
       "      <td>85</td>\n",
       "      <td>1</td>\n",
       "      <td>3</td>\n",
       "      <td>124.0</td>\n",
       "      <td>NaN</td>\n",
       "      <td>NaN</td>\n",
       "      <td>NaN</td>\n",
       "      <td>NaN</td>\n",
       "      <td>NaN</td>\n",
       "      <td>NaN</td>\n",
       "      <td>...</td>\n",
       "      <td>NaN</td>\n",
       "      <td>NaN</td>\n",
       "      <td>NaN</td>\n",
       "      <td>NaN</td>\n",
       "      <td>NaN</td>\n",
       "      <td>NaN</td>\n",
       "      <td>NaN</td>\n",
       "      <td>NaN</td>\n",
       "      <td>NaN</td>\n",
       "      <td>NaN</td>\n",
       "    </tr>\n",
       "    <tr>\n",
       "      <th>2018-03-01 02:00:00</th>\n",
       "      <td>71</td>\n",
       "      <td>2</td>\n",
       "      <td>3</td>\n",
       "      <td>85.0</td>\n",
       "      <td>124.0</td>\n",
       "      <td>NaN</td>\n",
       "      <td>NaN</td>\n",
       "      <td>NaN</td>\n",
       "      <td>NaN</td>\n",
       "      <td>NaN</td>\n",
       "      <td>...</td>\n",
       "      <td>NaN</td>\n",
       "      <td>NaN</td>\n",
       "      <td>NaN</td>\n",
       "      <td>NaN</td>\n",
       "      <td>NaN</td>\n",
       "      <td>NaN</td>\n",
       "      <td>NaN</td>\n",
       "      <td>NaN</td>\n",
       "      <td>NaN</td>\n",
       "      <td>NaN</td>\n",
       "    </tr>\n",
       "    <tr>\n",
       "      <th>2018-03-01 03:00:00</th>\n",
       "      <td>66</td>\n",
       "      <td>3</td>\n",
       "      <td>3</td>\n",
       "      <td>71.0</td>\n",
       "      <td>85.0</td>\n",
       "      <td>124.0</td>\n",
       "      <td>NaN</td>\n",
       "      <td>NaN</td>\n",
       "      <td>NaN</td>\n",
       "      <td>NaN</td>\n",
       "      <td>...</td>\n",
       "      <td>NaN</td>\n",
       "      <td>NaN</td>\n",
       "      <td>NaN</td>\n",
       "      <td>NaN</td>\n",
       "      <td>NaN</td>\n",
       "      <td>NaN</td>\n",
       "      <td>NaN</td>\n",
       "      <td>NaN</td>\n",
       "      <td>NaN</td>\n",
       "      <td>NaN</td>\n",
       "    </tr>\n",
       "    <tr>\n",
       "      <th>2018-03-01 04:00:00</th>\n",
       "      <td>43</td>\n",
       "      <td>4</td>\n",
       "      <td>3</td>\n",
       "      <td>66.0</td>\n",
       "      <td>71.0</td>\n",
       "      <td>85.0</td>\n",
       "      <td>124.0</td>\n",
       "      <td>NaN</td>\n",
       "      <td>NaN</td>\n",
       "      <td>NaN</td>\n",
       "      <td>...</td>\n",
       "      <td>NaN</td>\n",
       "      <td>NaN</td>\n",
       "      <td>NaN</td>\n",
       "      <td>NaN</td>\n",
       "      <td>NaN</td>\n",
       "      <td>NaN</td>\n",
       "      <td>NaN</td>\n",
       "      <td>NaN</td>\n",
       "      <td>NaN</td>\n",
       "      <td>NaN</td>\n",
       "    </tr>\n",
       "    <tr>\n",
       "      <th>...</th>\n",
       "      <td>...</td>\n",
       "      <td>...</td>\n",
       "      <td>...</td>\n",
       "      <td>...</td>\n",
       "      <td>...</td>\n",
       "      <td>...</td>\n",
       "      <td>...</td>\n",
       "      <td>...</td>\n",
       "      <td>...</td>\n",
       "      <td>...</td>\n",
       "      <td>...</td>\n",
       "      <td>...</td>\n",
       "      <td>...</td>\n",
       "      <td>...</td>\n",
       "      <td>...</td>\n",
       "      <td>...</td>\n",
       "      <td>...</td>\n",
       "      <td>...</td>\n",
       "      <td>...</td>\n",
       "      <td>...</td>\n",
       "      <td>...</td>\n",
       "    </tr>\n",
       "    <tr>\n",
       "      <th>2018-08-31 19:00:00</th>\n",
       "      <td>136</td>\n",
       "      <td>19</td>\n",
       "      <td>4</td>\n",
       "      <td>207.0</td>\n",
       "      <td>217.0</td>\n",
       "      <td>197.0</td>\n",
       "      <td>116.0</td>\n",
       "      <td>133.0</td>\n",
       "      <td>166.0</td>\n",
       "      <td>136.0</td>\n",
       "      <td>...</td>\n",
       "      <td>99.0</td>\n",
       "      <td>230.0</td>\n",
       "      <td>194.0</td>\n",
       "      <td>276.0</td>\n",
       "      <td>246.0</td>\n",
       "      <td>158.0</td>\n",
       "      <td>198.0</td>\n",
       "      <td>142.0</td>\n",
       "      <td>72.0</td>\n",
       "      <td>167.428571</td>\n",
       "    </tr>\n",
       "    <tr>\n",
       "      <th>2018-08-31 20:00:00</th>\n",
       "      <td>154</td>\n",
       "      <td>20</td>\n",
       "      <td>4</td>\n",
       "      <td>136.0</td>\n",
       "      <td>207.0</td>\n",
       "      <td>217.0</td>\n",
       "      <td>197.0</td>\n",
       "      <td>116.0</td>\n",
       "      <td>133.0</td>\n",
       "      <td>166.0</td>\n",
       "      <td>...</td>\n",
       "      <td>268.0</td>\n",
       "      <td>99.0</td>\n",
       "      <td>230.0</td>\n",
       "      <td>194.0</td>\n",
       "      <td>276.0</td>\n",
       "      <td>246.0</td>\n",
       "      <td>158.0</td>\n",
       "      <td>198.0</td>\n",
       "      <td>142.0</td>\n",
       "      <td>167.428571</td>\n",
       "    </tr>\n",
       "    <tr>\n",
       "      <th>2018-08-31 21:00:00</th>\n",
       "      <td>159</td>\n",
       "      <td>21</td>\n",
       "      <td>4</td>\n",
       "      <td>154.0</td>\n",
       "      <td>136.0</td>\n",
       "      <td>207.0</td>\n",
       "      <td>217.0</td>\n",
       "      <td>197.0</td>\n",
       "      <td>116.0</td>\n",
       "      <td>133.0</td>\n",
       "      <td>...</td>\n",
       "      <td>78.0</td>\n",
       "      <td>268.0</td>\n",
       "      <td>99.0</td>\n",
       "      <td>230.0</td>\n",
       "      <td>194.0</td>\n",
       "      <td>276.0</td>\n",
       "      <td>246.0</td>\n",
       "      <td>158.0</td>\n",
       "      <td>198.0</td>\n",
       "      <td>165.714286</td>\n",
       "    </tr>\n",
       "    <tr>\n",
       "      <th>2018-08-31 22:00:00</th>\n",
       "      <td>223</td>\n",
       "      <td>22</td>\n",
       "      <td>4</td>\n",
       "      <td>159.0</td>\n",
       "      <td>154.0</td>\n",
       "      <td>136.0</td>\n",
       "      <td>207.0</td>\n",
       "      <td>217.0</td>\n",
       "      <td>197.0</td>\n",
       "      <td>116.0</td>\n",
       "      <td>...</td>\n",
       "      <td>35.0</td>\n",
       "      <td>78.0</td>\n",
       "      <td>268.0</td>\n",
       "      <td>99.0</td>\n",
       "      <td>230.0</td>\n",
       "      <td>194.0</td>\n",
       "      <td>276.0</td>\n",
       "      <td>246.0</td>\n",
       "      <td>158.0</td>\n",
       "      <td>169.428571</td>\n",
       "    </tr>\n",
       "    <tr>\n",
       "      <th>2018-08-31 23:00:00</th>\n",
       "      <td>205</td>\n",
       "      <td>23</td>\n",
       "      <td>4</td>\n",
       "      <td>223.0</td>\n",
       "      <td>159.0</td>\n",
       "      <td>154.0</td>\n",
       "      <td>136.0</td>\n",
       "      <td>207.0</td>\n",
       "      <td>217.0</td>\n",
       "      <td>197.0</td>\n",
       "      <td>...</td>\n",
       "      <td>46.0</td>\n",
       "      <td>35.0</td>\n",
       "      <td>78.0</td>\n",
       "      <td>268.0</td>\n",
       "      <td>99.0</td>\n",
       "      <td>230.0</td>\n",
       "      <td>194.0</td>\n",
       "      <td>276.0</td>\n",
       "      <td>246.0</td>\n",
       "      <td>184.714286</td>\n",
       "    </tr>\n",
       "  </tbody>\n",
       "</table>\n",
       "<p>4416 rows × 28 columns</p>\n",
       "</div>"
      ],
      "text/plain": [
       "                     num_orders  hour  dayofweek  lag_1  lag_2  lag_3  lag_4  \\\n",
       "datetime                                                                       \n",
       "2018-03-01 00:00:00         124     0          3    NaN    NaN    NaN    NaN   \n",
       "2018-03-01 01:00:00          85     1          3  124.0    NaN    NaN    NaN   \n",
       "2018-03-01 02:00:00          71     2          3   85.0  124.0    NaN    NaN   \n",
       "2018-03-01 03:00:00          66     3          3   71.0   85.0  124.0    NaN   \n",
       "2018-03-01 04:00:00          43     4          3   66.0   71.0   85.0  124.0   \n",
       "...                         ...   ...        ...    ...    ...    ...    ...   \n",
       "2018-08-31 19:00:00         136    19          4  207.0  217.0  197.0  116.0   \n",
       "2018-08-31 20:00:00         154    20          4  136.0  207.0  217.0  197.0   \n",
       "2018-08-31 21:00:00         159    21          4  154.0  136.0  207.0  217.0   \n",
       "2018-08-31 22:00:00         223    22          4  159.0  154.0  136.0  207.0   \n",
       "2018-08-31 23:00:00         205    23          4  223.0  159.0  154.0  136.0   \n",
       "\n",
       "                     lag_5  lag_6  lag_7  ...  lag_16  lag_17  lag_18  lag_19  \\\n",
       "datetime                                  ...                                   \n",
       "2018-03-01 00:00:00    NaN    NaN    NaN  ...     NaN     NaN     NaN     NaN   \n",
       "2018-03-01 01:00:00    NaN    NaN    NaN  ...     NaN     NaN     NaN     NaN   \n",
       "2018-03-01 02:00:00    NaN    NaN    NaN  ...     NaN     NaN     NaN     NaN   \n",
       "2018-03-01 03:00:00    NaN    NaN    NaN  ...     NaN     NaN     NaN     NaN   \n",
       "2018-03-01 04:00:00    NaN    NaN    NaN  ...     NaN     NaN     NaN     NaN   \n",
       "...                    ...    ...    ...  ...     ...     ...     ...     ...   \n",
       "2018-08-31 19:00:00  133.0  166.0  136.0  ...    99.0   230.0   194.0   276.0   \n",
       "2018-08-31 20:00:00  116.0  133.0  166.0  ...   268.0    99.0   230.0   194.0   \n",
       "2018-08-31 21:00:00  197.0  116.0  133.0  ...    78.0   268.0    99.0   230.0   \n",
       "2018-08-31 22:00:00  217.0  197.0  116.0  ...    35.0    78.0   268.0    99.0   \n",
       "2018-08-31 23:00:00  207.0  217.0  197.0  ...    46.0    35.0    78.0   268.0   \n",
       "\n",
       "                     lag_20  lag_21  lag_22  lag_23  lag_24  rolling_mean  \n",
       "datetime                                                                   \n",
       "2018-03-01 00:00:00     NaN     NaN     NaN     NaN     NaN           NaN  \n",
       "2018-03-01 01:00:00     NaN     NaN     NaN     NaN     NaN           NaN  \n",
       "2018-03-01 02:00:00     NaN     NaN     NaN     NaN     NaN           NaN  \n",
       "2018-03-01 03:00:00     NaN     NaN     NaN     NaN     NaN           NaN  \n",
       "2018-03-01 04:00:00     NaN     NaN     NaN     NaN     NaN           NaN  \n",
       "...                     ...     ...     ...     ...     ...           ...  \n",
       "2018-08-31 19:00:00   246.0   158.0   198.0   142.0    72.0    167.428571  \n",
       "2018-08-31 20:00:00   276.0   246.0   158.0   198.0   142.0    167.428571  \n",
       "2018-08-31 21:00:00   194.0   276.0   246.0   158.0   198.0    165.714286  \n",
       "2018-08-31 22:00:00   230.0   194.0   276.0   246.0   158.0    169.428571  \n",
       "2018-08-31 23:00:00    99.0   230.0   194.0   276.0   246.0    184.714286  \n",
       "\n",
       "[4416 rows x 28 columns]"
      ]
     },
     "execution_count": 27,
     "metadata": {},
     "output_type": "execute_result"
    }
   ],
   "source": [
    "make_features(df, 24, 7)\n",
    "df"
   ]
  },
  {
   "cell_type": "code",
   "execution_count": 28,
   "metadata": {},
   "outputs": [],
   "source": [
    "# разделим данные на выборки 90/10\n",
    "train, test = train_test_split(df, shuffle=False, test_size=0.1)"
   ]
  },
  {
   "cell_type": "code",
   "execution_count": 29,
   "metadata": {},
   "outputs": [],
   "source": [
    "# удалим значения признаков с NaN\n",
    "train = train.dropna()"
   ]
  },
  {
   "cell_type": "code",
   "execution_count": 30,
   "metadata": {
    "scrolled": true
   },
   "outputs": [
    {
     "data": {
      "text/plain": [
       "((3950, 28),\n",
       " (442, 28),\n",
       " Timestamp('2018-03-02 00:00:00', freq='H'),\n",
       " Timestamp('2018-08-13 13:00:00', freq='H'),\n",
       " Timestamp('2018-08-13 14:00:00', freq='H'),\n",
       " Timestamp('2018-08-31 23:00:00', freq='H'))"
      ]
     },
     "execution_count": 30,
     "metadata": {},
     "output_type": "execute_result"
    }
   ],
   "source": [
    "# проверим деление\n",
    "train.shape, test.shape, train.index.min(), train.index.max(), test.index.min(), test.index.max()"
   ]
  },
  {
   "cell_type": "code",
   "execution_count": 31,
   "metadata": {},
   "outputs": [],
   "source": [
    "# выделим признаки\n",
    "features_train = train.drop(['num_orders'], axis=1)\n",
    "features_test = test.drop(['num_orders'], axis=1)"
   ]
  },
  {
   "cell_type": "code",
   "execution_count": 32,
   "metadata": {},
   "outputs": [],
   "source": [
    "# выделим целевой признак\n",
    "target_train = train['num_orders']\n",
    "target_test = test['num_orders']"
   ]
  },
  {
   "cell_type": "code",
   "execution_count": 33,
   "metadata": {},
   "outputs": [
    {
     "data": {
      "text/plain": [
       "((3950, 27), (442, 27), (3950,), (442,))"
      ]
     },
     "execution_count": 33,
     "metadata": {},
     "output_type": "execute_result"
    }
   ],
   "source": [
    "# проверим деление\n",
    "features_train.shape, features_test.shape, target_train.shape, target_test.shape, "
   ]
  },
  {
   "cell_type": "markdown",
   "metadata": {},
   "source": [
    "### Модель линейной регрессии"
   ]
  },
  {
   "cell_type": "code",
   "execution_count": 34,
   "metadata": {
    "scrolled": false
   },
   "outputs": [
    {
     "name": "stdout",
     "output_type": "stream",
     "text": [
      "RMSE:  27.773\n",
      "CPU times: user 170 ms, sys: 474 ms, total: 643 ms\n",
      "Wall time: 573 ms\n"
     ]
    }
   ],
   "source": [
    "%%time\n",
    "# Обучим модель линейной регрессии через кросс валидацию\n",
    "model = LinearRegression()\n",
    "scores = cross_validate(model, features_train, target_train, \\\n",
    "                        scoring='neg_root_mean_squared_error', cv=TimeSeriesSplit(n_splits=3), n_jobs=-1)\n",
    "print('RMSE: ', round(abs(scores['test_score'].mean()), 3))\n",
    "rmse = []\n",
    "rmse.append(round(abs(scores['test_score'].mean()), 3))"
   ]
  },
  {
   "cell_type": "markdown",
   "metadata": {},
   "source": [
    "### Модель CatBoost"
   ]
  },
  {
   "cell_type": "code",
   "execution_count": 35,
   "metadata": {},
   "outputs": [
    {
     "name": "stdout",
     "output_type": "stream",
     "text": [
      "RMSE:  26.489\n",
      "Лучшие параметры:  {'depth': 6, 'learning_rate': 0.3}\n",
      "CPU times: user 31 s, sys: 515 ms, total: 31.5 s\n",
      "Wall time: 56.4 s\n"
     ]
    }
   ],
   "source": [
    "%%time\n",
    "# Обучим модель градиентного бустинга CatBoost. В данной моделе будем менять гиперпараметры:\n",
    "# максимальную глубину дерева - depth, скорость обучения - learning_rate\n",
    "model = CatBoostRegressor(iterations=200)\n",
    "parameters = [{'depth':[6, 8], 'learning_rate':[0.3, 0.5]}]\n",
    "grid = GridSearchCV(estimator=model, param_grid=parameters, \\\n",
    "                    scoring='neg_root_mean_squared_error', cv = TimeSeriesSplit(n_splits=3), n_jobs=-1)\n",
    "grid.fit(features_train, target_train, verbose=False)\n",
    "print('RMSE: ', round(abs(grid.best_score_), 3))\n",
    "print('Лучшие параметры: ', grid.best_params_)\n",
    "rmse.append(round(abs(grid.best_score_), 3))"
   ]
  },
  {
   "cell_type": "markdown",
   "metadata": {},
   "source": [
    "### Модель LightGBM"
   ]
  },
  {
   "cell_type": "code",
   "execution_count": 36,
   "metadata": {},
   "outputs": [
    {
     "name": "stdout",
     "output_type": "stream",
     "text": [
      "RMSE:  26.667\n",
      "Лучшие гиперпараметры:  {'learning_rate': 0.5, 'max_depth': 4, 'n_estimators': 10, 'num_leaves': 8}\n",
      "CPU times: user 4min 55s, sys: 3.7 s, total: 4min 59s\n",
      "Wall time: 5min\n"
     ]
    }
   ],
   "source": [
    "%%time\n",
    "# Обучим модель градиентного бустинга LightGBM. В данной моделе будем менять гиперпараметры:\n",
    "# n_estimators - число деревьев , num_leaves - максимальное количество листьев, \n",
    "# максимальную глубину дерева - max_depth, скорость обучения - learning_rate\n",
    "model = lgb.LGBMRegressor()\n",
    "parameters = {'n_estimators': [8, 10],\n",
    "              'num_leaves': [8,10],\n",
    "              'max_depth':[2,4],\n",
    "             'learning_rate':[0.3, 0.5] }\n",
    "grid = GridSearchCV(estimator=model, param_grid=parameters, \\\n",
    "                    scoring='neg_root_mean_squared_error', cv = TimeSeriesSplit(n_splits=3), n_jobs=-1)\n",
    "grid.fit(features_train, target_train)\n",
    "print(f'RMSE:  {(-grid.best_score_):.3f}')\n",
    "print(f'Лучшие гиперпараметры:  {grid.best_params_}')\n",
    "rmse.append(round(abs(grid.best_score_), 3))"
   ]
  },
  {
   "cell_type": "code",
   "execution_count": 37,
   "metadata": {},
   "outputs": [
    {
     "data": {
      "text/html": [
       "<div>\n",
       "<style scoped>\n",
       "    .dataframe tbody tr th:only-of-type {\n",
       "        vertical-align: middle;\n",
       "    }\n",
       "\n",
       "    .dataframe tbody tr th {\n",
       "        vertical-align: top;\n",
       "    }\n",
       "\n",
       "    .dataframe thead th {\n",
       "        text-align: right;\n",
       "    }\n",
       "</style>\n",
       "<table border=\"1\" class=\"dataframe\">\n",
       "  <thead>\n",
       "    <tr style=\"text-align: right;\">\n",
       "      <th></th>\n",
       "      <th>Модель</th>\n",
       "      <th>RMSE</th>\n",
       "    </tr>\n",
       "  </thead>\n",
       "  <tbody>\n",
       "    <tr>\n",
       "      <th>0</th>\n",
       "      <td>Линейная регрессия</td>\n",
       "      <td>27.773</td>\n",
       "    </tr>\n",
       "    <tr>\n",
       "      <th>1</th>\n",
       "      <td>Модель CatBoost</td>\n",
       "      <td>26.489</td>\n",
       "    </tr>\n",
       "    <tr>\n",
       "      <th>2</th>\n",
       "      <td>Модель LightGBM</td>\n",
       "      <td>26.667</td>\n",
       "    </tr>\n",
       "  </tbody>\n",
       "</table>\n",
       "</div>"
      ],
      "text/plain": [
       "               Модель    RMSE\n",
       "0  Линейная регрессия  27.773\n",
       "1     Модель CatBoost  26.489\n",
       "2     Модель LightGBM  26.667"
      ]
     },
     "execution_count": 37,
     "metadata": {},
     "output_type": "execute_result"
    }
   ],
   "source": [
    "df_total = pd.DataFrame({'Модель':['Линейная регрессия', 'Модель CatBoost', 'Модель LightGBM'], 'RMSE':rmse})\n",
    "df_total"
   ]
  },
  {
   "cell_type": "markdown",
   "metadata": {},
   "source": [
    "**Вывод по разделу**\n",
    "\n",
    "Подготовили данные:\n",
    "- добавили дополнительные календарные признаки: час и день недели\n",
    "- добавили отстающие значения (24)\n",
    "- добавили скользящее среднее (7)\n",
    "- разделим данные на выборки 90/10\n",
    "- проверели деление данных: количество и временной период\n",
    "\n",
    "Обучили три модели, с использованием кросс валидации и подбора параметров GridSearchCV, выбрали лучшие параметры и оценили качество моделей.\n",
    "\n",
    "Наилучший результат показала Модель  CatBoost с параметрами: {'depth': 6, 'learning_rate': 0.3}\n",
    "\n",
    "наилучшая RMSE = 26.489"
   ]
  },
  {
   "cell_type": "markdown",
   "metadata": {},
   "source": [
    "## Тестирование"
   ]
  },
  {
   "cell_type": "markdown",
   "metadata": {},
   "source": [
    "### Проверка модели на тестовой выборке"
   ]
  },
  {
   "cell_type": "code",
   "execution_count": 43,
   "metadata": {},
   "outputs": [
    {
     "name": "stdout",
     "output_type": "stream",
     "text": [
      "Тестовая выборка\n",
      "RMSE:  39.929\n",
      "CPU times: user 1.56 s, sys: 60.2 ms, total: 1.62 s\n",
      "Wall time: 3.42 s\n"
     ]
    }
   ],
   "source": [
    "%%time\n",
    "model = CatBoostRegressor(iterations=200, depth=6, learning_rate=0.3)\n",
    "model.fit(features_train, target_train, verbose=False)\n",
    "predicted_test = model.predict(features_test)\n",
    "rmse_test = mean_squared_error(target_test, predicted_test)**0.5\n",
    "print('Тестовая выборка')\n",
    "print('RMSE: ', round(rmse_test, 3))"
   ]
  },
  {
   "cell_type": "markdown",
   "metadata": {},
   "source": [
    "### Проверка модели на адекватность"
   ]
  },
  {
   "cell_type": "code",
   "execution_count": 39,
   "metadata": {
    "scrolled": true
   },
   "outputs": [
    {
     "name": "stdout",
     "output_type": "stream",
     "text": [
      "Среднее количество заказов такси в час: 139.557\n",
      "RMSE:  85.271\n"
     ]
    }
   ],
   "source": [
    "# Cпрогнозируем временной ряд без обучения, это будет проверкой на адекватность и служить ориентиром\n",
    "\n",
    "# 1 способ: все значения тестовой выборки предсказываются одним и тем же числом (константой), возмем медиану\n",
    "print(\"Среднее количество заказов такси в час:\", round(test['num_orders'].mean(), 3))\n",
    "pred_median = np.ones(test.shape) * train['num_orders'].median()\n",
    "print('RMSE: ', round(mean_squared_error(test, pred_median)**0.5, 3))"
   ]
  },
  {
   "cell_type": "code",
   "execution_count": 40,
   "metadata": {},
   "outputs": [
    {
     "name": "stdout",
     "output_type": "stream",
     "text": [
      "Среднее количество заказов такси в час: 139.557\n",
      "RMSE:  56.31\n"
     ]
    }
   ],
   "source": [
    "# 2 способ: новое значение x(t) прогнозируется предыдущим значением ряда, то есть x(t-1)\n",
    "print(\"Среднее количество заказов такси в час:\", round(test['num_orders'].mean(), 3))\n",
    "pred_previous = test.shift(fill_value=train.iloc[-1, 0])\n",
    "print('RMSE: ', round(mean_squared_error(test, pred_previous)**0.5, 3))"
   ]
  },
  {
   "cell_type": "code",
   "execution_count": 41,
   "metadata": {
    "scrolled": true
   },
   "outputs": [
    {
     "name": "stdout",
     "output_type": "stream",
     "text": [
      "Dummy модель\n",
      "RMSE:  84.65\n",
      "CPU times: user 1.59 ms, sys: 0 ns, total: 1.59 ms\n",
      "Wall time: 1.37 ms\n"
     ]
    }
   ],
   "source": [
    "%%time\n",
    "# 3 способ: модель Dummy\n",
    "dummy = DummyRegressor(strategy=\"mean\")\n",
    "dummy.fit(features_train, target_train)\n",
    "prediced_dummy = dummy.predict(features_test)\n",
    "rmse_dummy = mean_squared_error(target_test, prediced_dummy)**0.5\n",
    "print('Dummy модель')\n",
    "print('RMSE: ', round(rmse_dummy, 3))"
   ]
  },
  {
   "cell_type": "markdown",
   "metadata": {},
   "source": [
    "В качестве сравнения выберем лучшую костантную модель (по 2 способу)"
   ]
  },
  {
   "cell_type": "code",
   "execution_count": 42,
   "metadata": {},
   "outputs": [
    {
     "data": {
      "text/html": [
       "<div>\n",
       "<style scoped>\n",
       "    .dataframe tbody tr th:only-of-type {\n",
       "        vertical-align: middle;\n",
       "    }\n",
       "\n",
       "    .dataframe tbody tr th {\n",
       "        vertical-align: top;\n",
       "    }\n",
       "\n",
       "    .dataframe thead th {\n",
       "        text-align: right;\n",
       "    }\n",
       "</style>\n",
       "<table border=\"1\" class=\"dataframe\">\n",
       "  <thead>\n",
       "    <tr style=\"text-align: right;\">\n",
       "      <th></th>\n",
       "      <th>Модель</th>\n",
       "      <th>RMSE</th>\n",
       "    </tr>\n",
       "  </thead>\n",
       "  <tbody>\n",
       "    <tr>\n",
       "      <th>0</th>\n",
       "      <td>Модель CatBoost Обучающая</td>\n",
       "      <td>26.489</td>\n",
       "    </tr>\n",
       "    <tr>\n",
       "      <th>1</th>\n",
       "      <td>Модель CatBoost Тестовая</td>\n",
       "      <td>42.671</td>\n",
       "    </tr>\n",
       "    <tr>\n",
       "      <th>2</th>\n",
       "      <td>Лучшая Константная модель</td>\n",
       "      <td>56.310</td>\n",
       "    </tr>\n",
       "  </tbody>\n",
       "</table>\n",
       "</div>"
      ],
      "text/plain": [
       "                      Модель    RMSE\n",
       "0  Модель CatBoost Обучающая  26.489\n",
       "1   Модель CatBoost Тестовая  42.671\n",
       "2  Лучшая Константная модель  56.310"
      ]
     },
     "execution_count": 42,
     "metadata": {},
     "output_type": "execute_result"
    }
   ],
   "source": [
    "df_total_t = pd.DataFrame({'Модель':['Модель CatBoost Обучающая', 'Модель CatBoost Тестовая', \\\n",
    "                                     'Лучшая Константная модель'], \\\n",
    "                           'RMSE': [rmse[1], round(rmse_test, 3), round(mean_squared_error(test, pred_previous)**0.5, 3)]})\n",
    "df_total_t"
   ]
  },
  {
   "cell_type": "markdown",
   "metadata": {},
   "source": [
    "**Вывод по разделу:**\n",
    "\n",
    "В результате проверки наилучшей модели на тестовой выборке данные улучшились.\n",
    "- RMSE тестовой выборки: 42.671\n",
    "\n",
    "\n",
    "Также в результате сравнения с константной моделью видны лучшие характеристики нашей модели.\n",
    "Соответственно работа выполнена, модель обучена и проверена."
   ]
  },
  {
   "cell_type": "markdown",
   "metadata": {},
   "source": [
    "## Общий вывод по проекту"
   ]
  },
  {
   "cell_type": "markdown",
   "metadata": {},
   "source": [
    "Проанализировав данные компании «Чётенькое такси» о заказах такси в аэропортах. Была выбрана лучшая модель, и проверено её качество на тестовой выборке.\n",
    "Ей стала Модель CatBoost с параметрами: {'depth': 8, 'learning_rate': 0.3}\n",
    "\n",
    "\n",
    "В 1 разделе: \n",
    "- что данные в хронологическом ли порядке\n",
    "- данные содержат 26496 строк \n",
    "- временной период 6 месяцев 2018 г. c 1 марта 2018 по 31 августа 2018 года (каждые 10 минут)\n",
    "- в среднем 14 заказов, максимальное количество 119 заказов, стандартное отклонение 9 заказов, медиана 13 заказов\n",
    "- пропусков нет\n",
    "\n",
    "Во 2 разделе:\n",
    "- провели ресемплирование по одному часу\n",
    "- данных стало 4416 строк\n",
    "- в среднем за час 84 заказа, максимальное количество 462 заказа, стандартное отклонение 45 заказов, медиана 78 заказов\n",
    "- построили график заказов и скользящего среднего\n",
    "- построили тренд и сезонную компоненту\n",
    "    - виден тренд к увеличению заказов в течении полугода\n",
    "    - и сезонность в течении суток, спад заказов к 6-7 часам утра и ежедневный рост с 10 вечера до 1 ночи.\n",
    "- за полный период данных (полгода) временной ряд можно назвать нестационарным, а если рассматривать временной период (месяц), то можно сказать, что такой ряд стационарный, так среднее и отклонения не меняются.\n",
    "- можно ряд сделать стационарным, найдя разности его значений\n",
    "- исследовали недельную сезонность, выявлено, что есть недельная сезонность в течении суток, спад заказов по понедельникам и рост по средам и воскресеньям.\n",
    "\n",
    "В 3 разделе:\n",
    "- подготовили данные:\n",
    "- добавили дополнительные календарные признаки: час и день недели\n",
    "- добавили отстающие значения (24)\n",
    "- добавили скользящее среднее (7)\n",
    "- разделим данные на выборки 90/10\n",
    "- проверели деление данных: количество и временной период\n",
    "Обучили три модели, с использованием кросс валидации и подбора параметров GridSearchCV, выбрали лучшие параметры и оценили качество моделей.\n",
    "\n",
    "Наилучший результат показала Модель  CatBoost с параметрами: {'depth': 6, 'learning_rate': 0.3}\n",
    "\n",
    "наилучшая RMSE = 26.489\n",
    "\n",
    "В 4 разделе:\n",
    "В результате проверки наилучшей модели на тестовой выборке данные улучшились.\n",
    "- RMSE тестовой выборки: 42.671\n",
    "Также в результате сравнения с константной моделью видны лучшие характеристики нашей модели.\n",
    "Соответственно работа выполнена, модель обучена и проверена.\n"
   ]
  }
 ],
 "metadata": {
  "ExecuteTimeLog": [
   {
    "duration": 47,
    "start_time": "2023-06-20T12:27:08.922Z"
   },
   {
    "duration": 1548,
    "start_time": "2023-06-20T12:27:10.827Z"
   },
   {
    "duration": 112,
    "start_time": "2023-06-20T12:27:13.571Z"
   },
   {
    "duration": 3,
    "start_time": "2023-06-20T12:27:27.367Z"
   },
   {
    "duration": 41,
    "start_time": "2023-06-20T12:27:29.116Z"
   },
   {
    "duration": 6,
    "start_time": "2023-06-20T12:28:16.124Z"
   },
   {
    "duration": 14,
    "start_time": "2023-06-20T12:28:18.115Z"
   },
   {
    "duration": 50,
    "start_time": "2023-06-20T12:29:32.680Z"
   },
   {
    "duration": 4,
    "start_time": "2023-06-20T12:29:34.436Z"
   },
   {
    "duration": 8,
    "start_time": "2023-06-20T12:29:38.675Z"
   },
   {
    "duration": 8,
    "start_time": "2023-06-20T12:29:50.637Z"
   },
   {
    "duration": 4,
    "start_time": "2023-06-20T12:32:47.291Z"
   },
   {
    "duration": 11,
    "start_time": "2023-06-20T12:33:42.229Z"
   },
   {
    "duration": 201,
    "start_time": "2023-06-20T12:33:52.222Z"
   },
   {
    "duration": 136,
    "start_time": "2023-06-20T12:35:42.926Z"
   },
   {
    "duration": 186,
    "start_time": "2023-06-20T12:35:48.127Z"
   },
   {
    "duration": 118,
    "start_time": "2023-06-20T12:35:52.339Z"
   },
   {
    "duration": 6,
    "start_time": "2023-06-20T12:38:10.920Z"
   },
   {
    "duration": 5,
    "start_time": "2023-06-20T12:39:52.153Z"
   },
   {
    "duration": 5,
    "start_time": "2023-06-20T12:41:07.135Z"
   },
   {
    "duration": 10,
    "start_time": "2023-06-20T12:55:09.374Z"
   },
   {
    "duration": 7,
    "start_time": "2023-06-20T12:55:20.722Z"
   },
   {
    "duration": 3,
    "start_time": "2023-06-20T12:56:31.415Z"
   },
   {
    "duration": 9,
    "start_time": "2023-06-20T12:56:33.850Z"
   },
   {
    "duration": 546,
    "start_time": "2023-06-22T09:41:59.503Z"
   },
   {
    "duration": 371,
    "start_time": "2023-06-22T09:42:00.052Z"
   },
   {
    "duration": 13,
    "start_time": "2023-06-22T09:42:00.426Z"
   },
   {
    "duration": 141,
    "start_time": "2023-06-22T09:42:00.442Z"
   },
   {
    "duration": 157,
    "start_time": "2023-06-22T09:42:00.589Z"
   },
   {
    "duration": 121,
    "start_time": "2023-06-22T09:42:00.748Z"
   },
   {
    "duration": 79,
    "start_time": "2023-06-22T09:42:00.871Z"
   },
   {
    "duration": 134,
    "start_time": "2023-06-22T09:42:00.952Z"
   },
   {
    "duration": 976,
    "start_time": "2023-06-22T09:42:01.089Z"
   },
   {
    "duration": 13,
    "start_time": "2023-06-22T09:42:02.068Z"
   },
   {
    "duration": 154,
    "start_time": "2023-06-22T09:42:02.083Z"
   },
   {
    "duration": 112,
    "start_time": "2023-06-22T09:42:02.240Z"
   },
   {
    "duration": 106,
    "start_time": "2023-06-22T09:42:02.355Z"
   },
   {
    "duration": 146,
    "start_time": "2023-06-22T09:42:02.463Z"
   },
   {
    "duration": 198,
    "start_time": "2023-06-22T09:42:02.612Z"
   },
   {
    "duration": 328,
    "start_time": "2023-06-22T09:42:41.447Z"
   },
   {
    "duration": 350,
    "start_time": "2023-06-22T09:44:11.103Z"
   },
   {
    "duration": 245,
    "start_time": "2023-06-22T09:44:20.624Z"
   },
   {
    "duration": 210,
    "start_time": "2023-06-22T09:45:04.404Z"
   },
   {
    "duration": 242,
    "start_time": "2023-06-22T09:46:54.121Z"
   },
   {
    "duration": 366,
    "start_time": "2023-06-22T09:47:49.914Z"
   },
   {
    "duration": 387,
    "start_time": "2023-06-22T09:48:32.165Z"
   },
   {
    "duration": 339,
    "start_time": "2023-06-22T09:48:38.816Z"
   },
   {
    "duration": 5,
    "start_time": "2023-06-22T09:51:23.332Z"
   },
   {
    "duration": 13,
    "start_time": "2023-06-22T09:51:45.001Z"
   },
   {
    "duration": 22,
    "start_time": "2023-06-22T10:03:44.990Z"
   },
   {
    "duration": 671,
    "start_time": "2023-06-22T10:14:37.742Z"
   },
   {
    "duration": 10,
    "start_time": "2023-06-22T10:15:25.615Z"
   },
   {
    "duration": 11,
    "start_time": "2023-06-22T10:15:36.527Z"
   },
   {
    "duration": 7,
    "start_time": "2023-06-22T10:16:04.462Z"
   },
   {
    "duration": 7,
    "start_time": "2023-06-22T10:18:01.505Z"
   },
   {
    "duration": 7,
    "start_time": "2023-06-22T10:20:10.338Z"
   },
   {
    "duration": 82,
    "start_time": "2023-06-22T10:20:21.629Z"
   },
   {
    "duration": 356,
    "start_time": "2023-06-22T10:20:27.403Z"
   },
   {
    "duration": 517,
    "start_time": "2023-06-22T10:20:40.064Z"
   },
   {
    "duration": 352,
    "start_time": "2023-06-22T10:20:54.444Z"
   },
   {
    "duration": 346,
    "start_time": "2023-06-22T10:22:04.057Z"
   },
   {
    "duration": 348,
    "start_time": "2023-06-22T10:22:22.523Z"
   },
   {
    "duration": 23,
    "start_time": "2023-06-22T10:22:57.830Z"
   },
   {
    "duration": 5,
    "start_time": "2023-06-22T10:23:15.928Z"
   },
   {
    "duration": 23,
    "start_time": "2023-06-22T10:23:22.817Z"
   },
   {
    "duration": 13,
    "start_time": "2023-06-22T10:24:08.838Z"
   },
   {
    "duration": 16,
    "start_time": "2023-06-22T10:24:38.334Z"
   },
   {
    "duration": 13,
    "start_time": "2023-06-22T10:25:14.926Z"
   },
   {
    "duration": 1312,
    "start_time": "2023-06-22T10:27:05.522Z"
   },
   {
    "duration": 267,
    "start_time": "2023-06-22T10:27:06.836Z"
   },
   {
    "duration": 12,
    "start_time": "2023-06-22T10:27:07.111Z"
   },
   {
    "duration": 19,
    "start_time": "2023-06-22T10:27:07.125Z"
   },
   {
    "duration": 9,
    "start_time": "2023-06-22T10:27:07.147Z"
   },
   {
    "duration": 14,
    "start_time": "2023-06-22T10:27:07.157Z"
   },
   {
    "duration": 57,
    "start_time": "2023-06-22T10:27:07.172Z"
   },
   {
    "duration": 21,
    "start_time": "2023-06-22T10:27:07.231Z"
   },
   {
    "duration": 185,
    "start_time": "2023-06-22T10:27:07.254Z"
   },
   {
    "duration": 6,
    "start_time": "2023-06-22T10:27:07.441Z"
   },
   {
    "duration": 20,
    "start_time": "2023-06-22T10:27:07.448Z"
   },
   {
    "duration": 55,
    "start_time": "2023-06-22T10:27:07.470Z"
   },
   {
    "duration": 14,
    "start_time": "2023-06-22T10:27:07.527Z"
   },
   {
    "duration": 384,
    "start_time": "2023-06-22T10:27:07.544Z"
   },
   {
    "duration": 115,
    "start_time": "2023-06-22T10:27:07.930Z"
   },
   {
    "duration": 0,
    "start_time": "2023-06-22T10:27:08.046Z"
   },
   {
    "duration": 15,
    "start_time": "2023-06-22T10:27:35.318Z"
   },
   {
    "duration": 1335,
    "start_time": "2023-06-24T01:28:26.723Z"
   },
   {
    "duration": 214,
    "start_time": "2023-06-24T01:28:28.060Z"
   },
   {
    "duration": 5,
    "start_time": "2023-06-24T01:28:28.276Z"
   },
   {
    "duration": 15,
    "start_time": "2023-06-24T01:28:28.283Z"
   },
   {
    "duration": 12,
    "start_time": "2023-06-24T01:28:28.300Z"
   },
   {
    "duration": 9,
    "start_time": "2023-06-24T01:28:28.314Z"
   },
   {
    "duration": 28,
    "start_time": "2023-06-24T01:28:28.324Z"
   },
   {
    "duration": 36,
    "start_time": "2023-06-24T01:28:28.353Z"
   },
   {
    "duration": 160,
    "start_time": "2023-06-24T01:28:28.391Z"
   },
   {
    "duration": 7,
    "start_time": "2023-06-24T01:28:28.552Z"
   },
   {
    "duration": 31,
    "start_time": "2023-06-24T01:28:28.561Z"
   },
   {
    "duration": 9,
    "start_time": "2023-06-24T01:28:28.594Z"
   },
   {
    "duration": 25,
    "start_time": "2023-06-24T01:28:28.604Z"
   },
   {
    "duration": 279,
    "start_time": "2023-06-24T01:28:28.631Z"
   },
   {
    "duration": 10,
    "start_time": "2023-06-24T01:28:28.912Z"
   },
   {
    "duration": 20,
    "start_time": "2023-06-24T01:28:28.936Z"
   },
   {
    "duration": 109,
    "start_time": "2023-06-24T01:28:28.957Z"
   },
   {
    "duration": 0,
    "start_time": "2023-06-24T01:28:29.068Z"
   },
   {
    "duration": 11,
    "start_time": "2023-06-24T01:31:41.099Z"
   },
   {
    "duration": 12,
    "start_time": "2023-06-24T01:31:54.215Z"
   },
   {
    "duration": 12,
    "start_time": "2023-06-24T01:32:06.015Z"
   },
   {
    "duration": 10,
    "start_time": "2023-06-24T01:32:58.311Z"
   },
   {
    "duration": 5,
    "start_time": "2023-06-24T01:33:05.920Z"
   },
   {
    "duration": 10,
    "start_time": "2023-06-24T01:33:08.542Z"
   },
   {
    "duration": 30,
    "start_time": "2023-06-24T01:33:14.998Z"
   },
   {
    "duration": 23,
    "start_time": "2023-06-24T01:34:49.700Z"
   },
   {
    "duration": 20,
    "start_time": "2023-06-24T01:37:13.995Z"
   },
   {
    "duration": 6,
    "start_time": "2023-06-24T01:38:41.085Z"
   },
   {
    "duration": 207,
    "start_time": "2023-06-24T01:38:43.261Z"
   },
   {
    "duration": 200,
    "start_time": "2023-06-24T01:39:01.351Z"
   },
   {
    "duration": 320,
    "start_time": "2023-06-24T01:39:32.999Z"
   },
   {
    "duration": 554,
    "start_time": "2023-06-24T01:39:50.092Z"
   },
   {
    "duration": 202,
    "start_time": "2023-06-24T01:39:59.051Z"
   },
   {
    "duration": 501,
    "start_time": "2023-06-24T01:40:45.088Z"
   },
   {
    "duration": 35,
    "start_time": "2023-06-24T01:40:57.524Z"
   },
   {
    "duration": 772,
    "start_time": "2023-06-24T01:41:17.256Z"
   },
   {
    "duration": 485,
    "start_time": "2023-06-24T01:41:58.206Z"
   },
   {
    "duration": 325,
    "start_time": "2023-06-24T01:42:11.747Z"
   },
   {
    "duration": 441,
    "start_time": "2023-06-24T01:42:20.251Z"
   },
   {
    "duration": 176,
    "start_time": "2023-06-24T01:42:39.027Z"
   },
   {
    "duration": 174,
    "start_time": "2023-06-24T01:42:43.124Z"
   },
   {
    "duration": 193,
    "start_time": "2023-06-24T01:42:59.950Z"
   },
   {
    "duration": 195,
    "start_time": "2023-06-24T01:43:06.644Z"
   },
   {
    "duration": 270,
    "start_time": "2023-06-24T01:43:13.319Z"
   },
   {
    "duration": 190,
    "start_time": "2023-06-24T01:43:17.995Z"
   },
   {
    "duration": 214,
    "start_time": "2023-06-24T01:43:40.332Z"
   },
   {
    "duration": 195,
    "start_time": "2023-06-24T01:43:50.919Z"
   },
   {
    "duration": 206,
    "start_time": "2023-06-24T01:44:00.950Z"
   },
   {
    "duration": 202,
    "start_time": "2023-06-24T01:44:05.988Z"
   },
   {
    "duration": 365,
    "start_time": "2023-06-24T01:44:09.822Z"
   },
   {
    "duration": 218,
    "start_time": "2023-06-24T01:44:18.241Z"
   },
   {
    "duration": 1185,
    "start_time": "2023-06-24T01:44:39.690Z"
   },
   {
    "duration": 115,
    "start_time": "2023-06-24T01:44:40.877Z"
   },
   {
    "duration": 6,
    "start_time": "2023-06-24T01:44:40.994Z"
   },
   {
    "duration": 28,
    "start_time": "2023-06-24T01:44:41.002Z"
   },
   {
    "duration": 21,
    "start_time": "2023-06-24T01:44:41.036Z"
   },
   {
    "duration": 8,
    "start_time": "2023-06-24T01:44:41.061Z"
   },
   {
    "duration": 13,
    "start_time": "2023-06-24T01:44:41.072Z"
   },
   {
    "duration": 34,
    "start_time": "2023-06-24T01:44:41.086Z"
   },
   {
    "duration": 170,
    "start_time": "2023-06-24T01:44:41.122Z"
   },
   {
    "duration": 8,
    "start_time": "2023-06-24T01:44:41.295Z"
   },
   {
    "duration": 21,
    "start_time": "2023-06-24T01:44:41.305Z"
   },
   {
    "duration": 20,
    "start_time": "2023-06-24T01:44:41.332Z"
   },
   {
    "duration": 37,
    "start_time": "2023-06-24T01:44:41.354Z"
   },
   {
    "duration": 314,
    "start_time": "2023-06-24T01:44:41.392Z"
   },
   {
    "duration": 12,
    "start_time": "2023-06-24T01:44:41.708Z"
   },
   {
    "duration": 19,
    "start_time": "2023-06-24T01:44:41.731Z"
   },
   {
    "duration": 228,
    "start_time": "2023-06-24T01:44:41.752Z"
   },
   {
    "duration": 289,
    "start_time": "2023-06-24T01:44:41.984Z"
   },
   {
    "duration": 7,
    "start_time": "2023-06-24T01:44:42.274Z"
   },
   {
    "duration": 5,
    "start_time": "2023-06-24T01:52:23.097Z"
   },
   {
    "duration": 12,
    "start_time": "2023-06-24T01:52:29.701Z"
   },
   {
    "duration": 214,
    "start_time": "2023-06-24T01:53:09.803Z"
   },
   {
    "duration": 324,
    "start_time": "2023-06-24T01:53:31.300Z"
   },
   {
    "duration": 253,
    "start_time": "2023-06-24T01:54:28.694Z"
   },
   {
    "duration": 523,
    "start_time": "2023-06-24T01:54:52.462Z"
   },
   {
    "duration": 535,
    "start_time": "2023-06-24T01:55:29.320Z"
   },
   {
    "duration": 465,
    "start_time": "2023-06-24T01:55:45.989Z"
   },
   {
    "duration": 373,
    "start_time": "2023-06-24T01:57:10.412Z"
   },
   {
    "duration": 329,
    "start_time": "2023-06-24T01:58:08.094Z"
   },
   {
    "duration": 177,
    "start_time": "2023-06-24T01:58:28.216Z"
   },
   {
    "duration": 182,
    "start_time": "2023-06-24T01:58:41.714Z"
   },
   {
    "duration": 336,
    "start_time": "2023-06-24T01:58:58.715Z"
   },
   {
    "duration": 301,
    "start_time": "2023-06-24T02:02:25.631Z"
   },
   {
    "duration": 327,
    "start_time": "2023-06-24T02:02:47.815Z"
   },
   {
    "duration": 265,
    "start_time": "2023-06-24T02:03:00.055Z"
   },
   {
    "duration": 95,
    "start_time": "2023-06-24T02:03:21.010Z"
   },
   {
    "duration": 269,
    "start_time": "2023-06-24T02:03:32.832Z"
   },
   {
    "duration": 139,
    "start_time": "2023-06-24T02:03:47.043Z"
   },
   {
    "duration": 126,
    "start_time": "2023-06-24T02:03:57.411Z"
   },
   {
    "duration": 141,
    "start_time": "2023-06-24T02:05:29.231Z"
   },
   {
    "duration": 13,
    "start_time": "2023-06-24T02:06:44.376Z"
   },
   {
    "duration": 12,
    "start_time": "2023-06-24T02:06:53.756Z"
   },
   {
    "duration": 12,
    "start_time": "2023-06-24T02:07:03.742Z"
   },
   {
    "duration": 140,
    "start_time": "2023-06-24T02:07:23.399Z"
   },
   {
    "duration": 1315,
    "start_time": "2023-06-24T02:13:56.873Z"
   },
   {
    "duration": 11,
    "start_time": "2023-06-24T02:14:46.566Z"
   },
   {
    "duration": 262,
    "start_time": "2023-06-24T02:15:28.394Z"
   },
   {
    "duration": 315,
    "start_time": "2023-06-24T02:16:18.917Z"
   },
   {
    "duration": 316,
    "start_time": "2023-06-24T02:16:27.183Z"
   },
   {
    "duration": 306,
    "start_time": "2023-06-24T02:16:42.686Z"
   },
   {
    "duration": 322,
    "start_time": "2023-06-24T02:17:28.717Z"
   },
   {
    "duration": 341,
    "start_time": "2023-06-24T02:17:43.898Z"
   },
   {
    "duration": 321,
    "start_time": "2023-06-24T02:18:07.814Z"
   },
   {
    "duration": 333,
    "start_time": "2023-06-24T02:18:18.511Z"
   },
   {
    "duration": 253,
    "start_time": "2023-06-24T02:18:24.889Z"
   },
   {
    "duration": 256,
    "start_time": "2023-06-24T02:18:30.534Z"
   },
   {
    "duration": 317,
    "start_time": "2023-06-24T02:18:44.693Z"
   },
   {
    "duration": 271,
    "start_time": "2023-06-24T02:23:40.591Z"
   },
   {
    "duration": 240,
    "start_time": "2023-06-24T02:24:16.133Z"
   },
   {
    "duration": 253,
    "start_time": "2023-06-24T02:24:32.455Z"
   },
   {
    "duration": 259,
    "start_time": "2023-06-24T02:25:03.318Z"
   },
   {
    "duration": 244,
    "start_time": "2023-06-24T02:29:24.693Z"
   },
   {
    "duration": 11,
    "start_time": "2023-06-24T02:32:50.350Z"
   },
   {
    "duration": 18,
    "start_time": "2023-06-24T02:33:34.690Z"
   },
   {
    "duration": 422,
    "start_time": "2023-06-24T02:34:08.600Z"
   },
   {
    "duration": 15,
    "start_time": "2023-06-24T02:34:36.992Z"
   },
   {
    "duration": 1030,
    "start_time": "2023-06-24T02:35:13.165Z"
   },
   {
    "duration": 102,
    "start_time": "2023-06-24T02:35:14.197Z"
   },
   {
    "duration": 5,
    "start_time": "2023-06-24T02:35:14.300Z"
   },
   {
    "duration": 12,
    "start_time": "2023-06-24T02:35:14.307Z"
   },
   {
    "duration": 13,
    "start_time": "2023-06-24T02:35:14.320Z"
   },
   {
    "duration": 13,
    "start_time": "2023-06-24T02:35:14.335Z"
   },
   {
    "duration": 12,
    "start_time": "2023-06-24T02:35:14.349Z"
   },
   {
    "duration": 13,
    "start_time": "2023-06-24T02:35:14.363Z"
   },
   {
    "duration": 181,
    "start_time": "2023-06-24T02:35:14.377Z"
   },
   {
    "duration": 7,
    "start_time": "2023-06-24T02:35:14.561Z"
   },
   {
    "duration": 24,
    "start_time": "2023-06-24T02:35:14.570Z"
   },
   {
    "duration": 10,
    "start_time": "2023-06-24T02:35:14.596Z"
   },
   {
    "duration": 38,
    "start_time": "2023-06-24T02:35:14.607Z"
   },
   {
    "duration": 274,
    "start_time": "2023-06-24T02:35:14.647Z"
   },
   {
    "duration": 451,
    "start_time": "2023-06-24T02:35:14.923Z"
   },
   {
    "duration": 370,
    "start_time": "2023-06-24T02:35:15.375Z"
   },
   {
    "duration": 159,
    "start_time": "2023-06-24T02:35:15.746Z"
   },
   {
    "duration": 3,
    "start_time": "2023-06-24T02:35:15.907Z"
   },
   {
    "duration": 343,
    "start_time": "2023-06-24T02:35:15.912Z"
   },
   {
    "duration": 253,
    "start_time": "2023-06-24T02:35:16.257Z"
   },
   {
    "duration": 20,
    "start_time": "2023-06-24T02:35:16.512Z"
   },
   {
    "duration": 4,
    "start_time": "2023-06-24T02:35:16.534Z"
   },
   {
    "duration": 365,
    "start_time": "2023-06-24T02:35:16.539Z"
   },
   {
    "duration": 344,
    "start_time": "2023-06-24T02:35:16.906Z"
   },
   {
    "duration": 3,
    "start_time": "2023-06-24T02:39:53.433Z"
   },
   {
    "duration": 70,
    "start_time": "2023-06-24T02:39:53.438Z"
   },
   {
    "duration": 3,
    "start_time": "2023-06-24T02:39:53.510Z"
   },
   {
    "duration": 38,
    "start_time": "2023-06-24T02:39:53.515Z"
   },
   {
    "duration": 19,
    "start_time": "2023-06-24T02:39:53.554Z"
   },
   {
    "duration": 35,
    "start_time": "2023-06-24T02:39:53.574Z"
   },
   {
    "duration": 47,
    "start_time": "2023-06-24T02:39:53.611Z"
   },
   {
    "duration": 66,
    "start_time": "2023-06-24T02:39:53.660Z"
   },
   {
    "duration": 141,
    "start_time": "2023-06-24T02:39:53.729Z"
   },
   {
    "duration": 6,
    "start_time": "2023-06-24T02:39:53.871Z"
   },
   {
    "duration": 27,
    "start_time": "2023-06-24T02:39:53.879Z"
   },
   {
    "duration": 28,
    "start_time": "2023-06-24T02:39:53.908Z"
   },
   {
    "duration": 21,
    "start_time": "2023-06-24T02:39:53.937Z"
   },
   {
    "duration": 240,
    "start_time": "2023-06-24T02:39:53.960Z"
   },
   {
    "duration": 441,
    "start_time": "2023-06-24T02:39:54.202Z"
   },
   {
    "duration": 387,
    "start_time": "2023-06-24T02:39:54.645Z"
   },
   {
    "duration": 137,
    "start_time": "2023-06-24T02:39:55.034Z"
   },
   {
    "duration": 2,
    "start_time": "2023-06-24T02:39:55.173Z"
   },
   {
    "duration": 406,
    "start_time": "2023-06-24T02:39:55.177Z"
   },
   {
    "duration": 265,
    "start_time": "2023-06-24T02:39:55.585Z"
   },
   {
    "duration": 4,
    "start_time": "2023-06-24T02:39:55.851Z"
   },
   {
    "duration": 6,
    "start_time": "2023-06-24T02:40:06.453Z"
   },
   {
    "duration": 1750,
    "start_time": "2023-06-24T02:41:12.431Z"
   },
   {
    "duration": 1338,
    "start_time": "2023-06-24T02:41:35.434Z"
   },
   {
    "duration": 26,
    "start_time": "2023-06-24T02:41:51.014Z"
   },
   {
    "duration": 8,
    "start_time": "2023-06-24T02:41:53.494Z"
   },
   {
    "duration": 380,
    "start_time": "2023-06-24T02:43:33.088Z"
   },
   {
    "duration": 25,
    "start_time": "2023-06-24T02:43:52.221Z"
   },
   {
    "duration": 8,
    "start_time": "2023-06-24T02:43:55.005Z"
   },
   {
    "duration": 7,
    "start_time": "2023-06-24T02:44:01.013Z"
   },
   {
    "duration": 33,
    "start_time": "2023-06-24T02:44:08.721Z"
   },
   {
    "duration": 4,
    "start_time": "2023-06-24T02:44:10.387Z"
   },
   {
    "duration": 5,
    "start_time": "2023-06-24T02:44:35.203Z"
   },
   {
    "duration": 9,
    "start_time": "2023-06-24T02:44:37.192Z"
   },
   {
    "duration": 10,
    "start_time": "2023-06-24T02:44:45.893Z"
   },
   {
    "duration": 9,
    "start_time": "2023-06-24T02:44:54.197Z"
   },
   {
    "duration": 3,
    "start_time": "2023-06-24T02:45:24.616Z"
   },
   {
    "duration": 9,
    "start_time": "2023-06-24T02:45:27.488Z"
   },
   {
    "duration": 69,
    "start_time": "2023-06-24T02:45:37.318Z"
   },
   {
    "duration": 11,
    "start_time": "2023-06-24T02:45:40.554Z"
   },
   {
    "duration": 3,
    "start_time": "2023-06-24T02:45:46.232Z"
   },
   {
    "duration": 55,
    "start_time": "2023-06-24T02:45:46.237Z"
   },
   {
    "duration": 3,
    "start_time": "2023-06-24T02:45:46.293Z"
   },
   {
    "duration": 16,
    "start_time": "2023-06-24T02:45:46.298Z"
   },
   {
    "duration": 5,
    "start_time": "2023-06-24T02:45:46.316Z"
   },
   {
    "duration": 9,
    "start_time": "2023-06-24T02:45:46.322Z"
   },
   {
    "duration": 5,
    "start_time": "2023-06-24T02:45:46.333Z"
   },
   {
    "duration": 13,
    "start_time": "2023-06-24T02:45:46.339Z"
   },
   {
    "duration": 143,
    "start_time": "2023-06-24T02:45:46.354Z"
   },
   {
    "duration": 5,
    "start_time": "2023-06-24T02:45:46.499Z"
   },
   {
    "duration": 21,
    "start_time": "2023-06-24T02:45:46.506Z"
   },
   {
    "duration": 20,
    "start_time": "2023-06-24T02:45:46.529Z"
   },
   {
    "duration": 15,
    "start_time": "2023-06-24T02:45:46.550Z"
   },
   {
    "duration": 295,
    "start_time": "2023-06-24T02:45:46.568Z"
   },
   {
    "duration": 390,
    "start_time": "2023-06-24T02:45:46.864Z"
   },
   {
    "duration": 345,
    "start_time": "2023-06-24T02:45:47.256Z"
   },
   {
    "duration": 147,
    "start_time": "2023-06-24T02:45:47.602Z"
   },
   {
    "duration": 2,
    "start_time": "2023-06-24T02:45:47.750Z"
   },
   {
    "duration": 281,
    "start_time": "2023-06-24T02:45:47.753Z"
   },
   {
    "duration": 330,
    "start_time": "2023-06-24T02:45:48.035Z"
   },
   {
    "duration": 4,
    "start_time": "2023-06-24T02:45:48.367Z"
   },
   {
    "duration": 4,
    "start_time": "2023-06-24T02:46:07.550Z"
   },
   {
    "duration": 6,
    "start_time": "2023-06-24T02:46:09.422Z"
   },
   {
    "duration": 150,
    "start_time": "2023-06-24T02:46:27.014Z"
   },
   {
    "duration": 25,
    "start_time": "2023-06-24T02:46:29.254Z"
   },
   {
    "duration": 157,
    "start_time": "2023-06-24T02:46:35.488Z"
   },
   {
    "duration": 29,
    "start_time": "2023-06-24T02:46:37.525Z"
   },
   {
    "duration": 5,
    "start_time": "2023-06-24T02:46:43.103Z"
   },
   {
    "duration": 12,
    "start_time": "2023-06-24T02:46:45.629Z"
   },
   {
    "duration": 2,
    "start_time": "2023-06-24T02:50:07.631Z"
   },
   {
    "duration": 6,
    "start_time": "2023-06-24T02:50:09.833Z"
   },
   {
    "duration": 4,
    "start_time": "2023-06-24T02:50:27.033Z"
   },
   {
    "duration": 7,
    "start_time": "2023-06-24T02:50:28.886Z"
   },
   {
    "duration": 331,
    "start_time": "2023-06-24T02:50:35.893Z"
   },
   {
    "duration": 11,
    "start_time": "2023-06-24T02:50:48.429Z"
   },
   {
    "duration": 25,
    "start_time": "2023-06-24T02:52:28.321Z"
   },
   {
    "duration": 8,
    "start_time": "2023-06-24T02:52:31.959Z"
   },
   {
    "duration": 1762,
    "start_time": "2023-06-24T02:54:09.325Z"
   },
   {
    "duration": 12,
    "start_time": "2023-06-24T02:54:18.993Z"
   },
   {
    "duration": 2815,
    "start_time": "2023-06-24T02:55:02.288Z"
   },
   {
    "duration": 10,
    "start_time": "2023-06-24T02:55:32.517Z"
   },
   {
    "duration": 14,
    "start_time": "2023-06-24T02:55:49.130Z"
   },
   {
    "duration": 15,
    "start_time": "2023-06-24T02:56:22.359Z"
   },
   {
    "duration": 340,
    "start_time": "2023-06-24T02:56:53.888Z"
   },
   {
    "duration": 1462,
    "start_time": "2023-06-24T02:58:52.909Z"
   },
   {
    "duration": 1304,
    "start_time": "2023-06-24T02:59:26.292Z"
   },
   {
    "duration": 14,
    "start_time": "2023-06-24T02:59:36.613Z"
   },
   {
    "duration": 12,
    "start_time": "2023-06-24T02:59:54.933Z"
   },
   {
    "duration": 26,
    "start_time": "2023-06-24T03:00:08.847Z"
   },
   {
    "duration": 9,
    "start_time": "2023-06-24T03:00:25.193Z"
   },
   {
    "duration": 13,
    "start_time": "2023-06-24T03:00:27.558Z"
   },
   {
    "duration": 3,
    "start_time": "2023-06-24T03:00:50.847Z"
   },
   {
    "duration": 63,
    "start_time": "2023-06-24T03:00:50.852Z"
   },
   {
    "duration": 4,
    "start_time": "2023-06-24T03:00:50.916Z"
   },
   {
    "duration": 18,
    "start_time": "2023-06-24T03:00:50.922Z"
   },
   {
    "duration": 10,
    "start_time": "2023-06-24T03:00:50.943Z"
   },
   {
    "duration": 42,
    "start_time": "2023-06-24T03:00:50.954Z"
   },
   {
    "duration": 26,
    "start_time": "2023-06-24T03:00:50.997Z"
   },
   {
    "duration": 13,
    "start_time": "2023-06-24T03:00:51.025Z"
   },
   {
    "duration": 144,
    "start_time": "2023-06-24T03:00:51.039Z"
   },
   {
    "duration": 5,
    "start_time": "2023-06-24T03:00:51.185Z"
   },
   {
    "duration": 41,
    "start_time": "2023-06-24T03:00:51.191Z"
   },
   {
    "duration": 23,
    "start_time": "2023-06-24T03:00:51.234Z"
   },
   {
    "duration": 15,
    "start_time": "2023-06-24T03:00:51.259Z"
   },
   {
    "duration": 254,
    "start_time": "2023-06-24T03:00:51.277Z"
   },
   {
    "duration": 402,
    "start_time": "2023-06-24T03:00:51.533Z"
   },
   {
    "duration": 425,
    "start_time": "2023-06-24T03:00:51.936Z"
   },
   {
    "duration": 154,
    "start_time": "2023-06-24T03:00:52.363Z"
   },
   {
    "duration": 3,
    "start_time": "2023-06-24T03:00:52.518Z"
   },
   {
    "duration": 415,
    "start_time": "2023-06-24T03:00:52.522Z"
   },
   {
    "duration": 266,
    "start_time": "2023-06-24T03:00:52.939Z"
   },
   {
    "duration": 10,
    "start_time": "2023-06-24T03:02:11.193Z"
   },
   {
    "duration": 9,
    "start_time": "2023-06-24T03:02:21.259Z"
   },
   {
    "duration": 14,
    "start_time": "2023-06-24T03:02:26.765Z"
   },
   {
    "duration": 331,
    "start_time": "2023-06-24T03:02:41.150Z"
   },
   {
    "duration": 367,
    "start_time": "2023-06-24T03:04:25.312Z"
   },
   {
    "duration": 11,
    "start_time": "2023-06-24T03:04:39.229Z"
   },
   {
    "duration": 12,
    "start_time": "2023-06-24T03:22:35.493Z"
   },
   {
    "duration": 3,
    "start_time": "2023-06-24T03:23:02.780Z"
   },
   {
    "duration": 5,
    "start_time": "2023-06-24T03:23:06.125Z"
   },
   {
    "duration": 7,
    "start_time": "2023-06-24T03:23:16.964Z"
   },
   {
    "duration": 6,
    "start_time": "2023-06-24T03:23:44.995Z"
   },
   {
    "duration": 5,
    "start_time": "2023-06-24T03:24:15.630Z"
   },
   {
    "duration": 9,
    "start_time": "2023-06-24T03:24:22.749Z"
   },
   {
    "duration": 41,
    "start_time": "2023-06-24T03:24:32.385Z"
   },
   {
    "duration": 1004,
    "start_time": "2023-06-24T03:24:47.452Z"
   },
   {
    "duration": 74,
    "start_time": "2023-06-24T03:24:48.458Z"
   },
   {
    "duration": 4,
    "start_time": "2023-06-24T03:24:48.534Z"
   },
   {
    "duration": 22,
    "start_time": "2023-06-24T03:24:48.540Z"
   },
   {
    "duration": 7,
    "start_time": "2023-06-24T03:24:48.564Z"
   },
   {
    "duration": 6,
    "start_time": "2023-06-24T03:24:48.572Z"
   },
   {
    "duration": 5,
    "start_time": "2023-06-24T03:24:48.580Z"
   },
   {
    "duration": 12,
    "start_time": "2023-06-24T03:24:48.586Z"
   },
   {
    "duration": 153,
    "start_time": "2023-06-24T03:24:48.599Z"
   },
   {
    "duration": 5,
    "start_time": "2023-06-24T03:24:48.753Z"
   },
   {
    "duration": 34,
    "start_time": "2023-06-24T03:24:48.760Z"
   },
   {
    "duration": 14,
    "start_time": "2023-06-24T03:24:48.795Z"
   },
   {
    "duration": 21,
    "start_time": "2023-06-24T03:24:48.810Z"
   },
   {
    "duration": 246,
    "start_time": "2023-06-24T03:24:48.833Z"
   },
   {
    "duration": 396,
    "start_time": "2023-06-24T03:24:49.081Z"
   },
   {
    "duration": 346,
    "start_time": "2023-06-24T03:24:49.478Z"
   },
   {
    "duration": 139,
    "start_time": "2023-06-24T03:24:49.826Z"
   },
   {
    "duration": 334,
    "start_time": "2023-06-24T03:24:49.966Z"
   },
   {
    "duration": 247,
    "start_time": "2023-06-24T03:24:50.301Z"
   },
   {
    "duration": 263,
    "start_time": "2023-06-24T03:24:50.550Z"
   },
   {
    "duration": 18,
    "start_time": "2023-06-24T03:24:50.815Z"
   },
   {
    "duration": 9,
    "start_time": "2023-06-24T03:24:50.835Z"
   },
   {
    "duration": 1090,
    "start_time": "2023-06-24T03:28:30.801Z"
   },
   {
    "duration": 104,
    "start_time": "2023-06-24T03:28:31.893Z"
   },
   {
    "duration": 5,
    "start_time": "2023-06-24T03:28:31.998Z"
   },
   {
    "duration": 42,
    "start_time": "2023-06-24T03:28:32.005Z"
   },
   {
    "duration": 13,
    "start_time": "2023-06-24T03:28:32.049Z"
   },
   {
    "duration": 7,
    "start_time": "2023-06-24T03:28:32.063Z"
   },
   {
    "duration": 15,
    "start_time": "2023-06-24T03:28:32.071Z"
   },
   {
    "duration": 28,
    "start_time": "2023-06-24T03:28:32.087Z"
   },
   {
    "duration": 159,
    "start_time": "2023-06-24T03:28:32.117Z"
   },
   {
    "duration": 5,
    "start_time": "2023-06-24T03:28:32.278Z"
   },
   {
    "duration": 21,
    "start_time": "2023-06-24T03:28:32.285Z"
   },
   {
    "duration": 6,
    "start_time": "2023-06-24T03:28:32.307Z"
   },
   {
    "duration": 32,
    "start_time": "2023-06-24T03:28:32.315Z"
   },
   {
    "duration": 259,
    "start_time": "2023-06-24T03:28:32.349Z"
   },
   {
    "duration": 416,
    "start_time": "2023-06-24T03:28:32.610Z"
   },
   {
    "duration": 332,
    "start_time": "2023-06-24T03:28:33.031Z"
   },
   {
    "duration": 150,
    "start_time": "2023-06-24T03:28:33.364Z"
   },
   {
    "duration": 372,
    "start_time": "2023-06-24T03:28:33.515Z"
   },
   {
    "duration": 276,
    "start_time": "2023-06-24T03:28:33.888Z"
   },
   {
    "duration": 298,
    "start_time": "2023-06-24T03:28:34.166Z"
   },
   {
    "duration": 12,
    "start_time": "2023-06-24T03:28:34.465Z"
   },
   {
    "duration": 23,
    "start_time": "2023-06-24T03:28:34.478Z"
   },
   {
    "duration": 13,
    "start_time": "2023-06-24T03:29:03.761Z"
   },
   {
    "duration": 12,
    "start_time": "2023-06-24T03:29:04.996Z"
   },
   {
    "duration": 12,
    "start_time": "2023-06-24T03:29:39.239Z"
   },
   {
    "duration": 11,
    "start_time": "2023-06-24T03:29:46.192Z"
   },
   {
    "duration": 1039,
    "start_time": "2023-06-24T03:30:46.634Z"
   },
   {
    "duration": 77,
    "start_time": "2023-06-24T03:30:47.676Z"
   },
   {
    "duration": 10,
    "start_time": "2023-06-24T03:30:47.755Z"
   },
   {
    "duration": 16,
    "start_time": "2023-06-24T03:30:47.767Z"
   },
   {
    "duration": 20,
    "start_time": "2023-06-24T03:30:47.785Z"
   },
   {
    "duration": 7,
    "start_time": "2023-06-24T03:30:47.807Z"
   },
   {
    "duration": 47,
    "start_time": "2023-06-24T03:30:47.815Z"
   },
   {
    "duration": 13,
    "start_time": "2023-06-24T03:30:47.863Z"
   },
   {
    "duration": 150,
    "start_time": "2023-06-24T03:30:47.878Z"
   },
   {
    "duration": 5,
    "start_time": "2023-06-24T03:30:48.033Z"
   },
   {
    "duration": 11,
    "start_time": "2023-06-24T03:30:48.039Z"
   },
   {
    "duration": 7,
    "start_time": "2023-06-24T03:30:48.051Z"
   },
   {
    "duration": 15,
    "start_time": "2023-06-24T03:30:48.059Z"
   },
   {
    "duration": 107,
    "start_time": "2023-06-24T03:30:48.076Z"
   },
   {
    "duration": 0,
    "start_time": "2023-06-24T03:30:48.185Z"
   },
   {
    "duration": 0,
    "start_time": "2023-06-24T03:30:48.186Z"
   },
   {
    "duration": 0,
    "start_time": "2023-06-24T03:30:48.187Z"
   },
   {
    "duration": 0,
    "start_time": "2023-06-24T03:30:48.189Z"
   },
   {
    "duration": 0,
    "start_time": "2023-06-24T03:30:48.190Z"
   },
   {
    "duration": 0,
    "start_time": "2023-06-24T03:30:48.191Z"
   },
   {
    "duration": 0,
    "start_time": "2023-06-24T03:30:48.193Z"
   },
   {
    "duration": 0,
    "start_time": "2023-06-24T03:30:48.194Z"
   },
   {
    "duration": 0,
    "start_time": "2023-06-24T03:30:48.196Z"
   },
   {
    "duration": 0,
    "start_time": "2023-06-24T03:30:48.197Z"
   },
   {
    "duration": 9,
    "start_time": "2023-06-24T03:31:03.630Z"
   },
   {
    "duration": 248,
    "start_time": "2023-06-24T03:31:07.484Z"
   },
   {
    "duration": 11,
    "start_time": "2023-06-24T03:31:20.091Z"
   },
   {
    "duration": 12,
    "start_time": "2023-06-24T03:31:27.755Z"
   },
   {
    "duration": 243,
    "start_time": "2023-06-24T03:32:16.618Z"
   },
   {
    "duration": 11,
    "start_time": "2023-06-24T03:32:22.296Z"
   },
   {
    "duration": 1009,
    "start_time": "2023-06-24T03:32:29.194Z"
   },
   {
    "duration": 78,
    "start_time": "2023-06-24T03:32:30.205Z"
   },
   {
    "duration": 28,
    "start_time": "2023-06-24T03:32:30.285Z"
   },
   {
    "duration": 50,
    "start_time": "2023-06-24T03:32:30.315Z"
   },
   {
    "duration": 27,
    "start_time": "2023-06-24T03:32:30.367Z"
   },
   {
    "duration": 35,
    "start_time": "2023-06-24T03:32:30.396Z"
   },
   {
    "duration": 30,
    "start_time": "2023-06-24T03:32:30.433Z"
   },
   {
    "duration": 40,
    "start_time": "2023-06-24T03:32:30.465Z"
   },
   {
    "duration": 158,
    "start_time": "2023-06-24T03:32:30.506Z"
   },
   {
    "duration": 6,
    "start_time": "2023-06-24T03:32:30.666Z"
   },
   {
    "duration": 44,
    "start_time": "2023-06-24T03:32:30.673Z"
   },
   {
    "duration": 34,
    "start_time": "2023-06-24T03:32:30.718Z"
   },
   {
    "duration": 43,
    "start_time": "2023-06-24T03:32:30.753Z"
   },
   {
    "duration": 108,
    "start_time": "2023-06-24T03:32:30.797Z"
   },
   {
    "duration": 0,
    "start_time": "2023-06-24T03:32:30.907Z"
   },
   {
    "duration": 0,
    "start_time": "2023-06-24T03:32:30.908Z"
   },
   {
    "duration": 0,
    "start_time": "2023-06-24T03:32:30.909Z"
   },
   {
    "duration": 0,
    "start_time": "2023-06-24T03:32:30.910Z"
   },
   {
    "duration": 0,
    "start_time": "2023-06-24T03:32:30.911Z"
   },
   {
    "duration": 0,
    "start_time": "2023-06-24T03:32:30.912Z"
   },
   {
    "duration": 0,
    "start_time": "2023-06-24T03:32:30.913Z"
   },
   {
    "duration": 0,
    "start_time": "2023-06-24T03:32:30.913Z"
   },
   {
    "duration": 0,
    "start_time": "2023-06-24T03:32:30.914Z"
   },
   {
    "duration": 0,
    "start_time": "2023-06-24T03:32:30.931Z"
   },
   {
    "duration": 0,
    "start_time": "2023-06-24T03:32:30.932Z"
   },
   {
    "duration": 0,
    "start_time": "2023-06-24T03:32:30.933Z"
   },
   {
    "duration": 9,
    "start_time": "2023-06-24T03:32:41.645Z"
   },
   {
    "duration": 8,
    "start_time": "2023-06-24T03:32:45.288Z"
   },
   {
    "duration": 241,
    "start_time": "2023-06-24T03:32:48.525Z"
   },
   {
    "duration": 11,
    "start_time": "2023-06-24T03:32:54.865Z"
   },
   {
    "duration": 10,
    "start_time": "2023-06-24T03:33:01.796Z"
   },
   {
    "duration": 1011,
    "start_time": "2023-06-24T03:33:52.999Z"
   },
   {
    "duration": 76,
    "start_time": "2023-06-24T03:33:54.012Z"
   },
   {
    "duration": 4,
    "start_time": "2023-06-24T03:33:54.089Z"
   },
   {
    "duration": 11,
    "start_time": "2023-06-24T03:33:54.095Z"
   },
   {
    "duration": 28,
    "start_time": "2023-06-24T03:33:54.107Z"
   },
   {
    "duration": 6,
    "start_time": "2023-06-24T03:33:54.136Z"
   },
   {
    "duration": 10,
    "start_time": "2023-06-24T03:33:54.144Z"
   },
   {
    "duration": 13,
    "start_time": "2023-06-24T03:33:54.155Z"
   },
   {
    "duration": 158,
    "start_time": "2023-06-24T03:33:54.170Z"
   },
   {
    "duration": 6,
    "start_time": "2023-06-24T03:33:54.330Z"
   },
   {
    "duration": 29,
    "start_time": "2023-06-24T03:33:54.337Z"
   },
   {
    "duration": 8,
    "start_time": "2023-06-24T03:33:54.367Z"
   },
   {
    "duration": 26,
    "start_time": "2023-06-24T03:33:54.376Z"
   },
   {
    "duration": 9,
    "start_time": "2023-06-24T03:33:54.404Z"
   },
   {
    "duration": 98,
    "start_time": "2023-06-24T03:33:54.414Z"
   },
   {
    "duration": 0,
    "start_time": "2023-06-24T03:33:54.514Z"
   },
   {
    "duration": 0,
    "start_time": "2023-06-24T03:33:54.515Z"
   },
   {
    "duration": 0,
    "start_time": "2023-06-24T03:33:54.516Z"
   },
   {
    "duration": 0,
    "start_time": "2023-06-24T03:33:54.518Z"
   },
   {
    "duration": 0,
    "start_time": "2023-06-24T03:33:54.519Z"
   },
   {
    "duration": 0,
    "start_time": "2023-06-24T03:33:54.521Z"
   },
   {
    "duration": 0,
    "start_time": "2023-06-24T03:33:54.532Z"
   },
   {
    "duration": 0,
    "start_time": "2023-06-24T03:33:54.532Z"
   },
   {
    "duration": 0,
    "start_time": "2023-06-24T03:33:54.533Z"
   },
   {
    "duration": 0,
    "start_time": "2023-06-24T03:33:54.535Z"
   },
   {
    "duration": 1057,
    "start_time": "2023-06-24T03:34:31.013Z"
   },
   {
    "duration": 80,
    "start_time": "2023-06-24T03:34:32.072Z"
   },
   {
    "duration": 6,
    "start_time": "2023-06-24T03:34:32.153Z"
   },
   {
    "duration": 41,
    "start_time": "2023-06-24T03:34:32.161Z"
   },
   {
    "duration": 27,
    "start_time": "2023-06-24T03:34:32.204Z"
   },
   {
    "duration": 31,
    "start_time": "2023-06-24T03:34:32.233Z"
   },
   {
    "duration": 98,
    "start_time": "2023-06-24T03:34:32.266Z"
   },
   {
    "duration": 50,
    "start_time": "2023-06-24T03:34:32.366Z"
   },
   {
    "duration": 159,
    "start_time": "2023-06-24T03:34:32.417Z"
   },
   {
    "duration": 5,
    "start_time": "2023-06-24T03:34:32.578Z"
   },
   {
    "duration": 33,
    "start_time": "2023-06-24T03:34:32.585Z"
   },
   {
    "duration": 41,
    "start_time": "2023-06-24T03:34:32.620Z"
   },
   {
    "duration": 42,
    "start_time": "2023-06-24T03:34:32.663Z"
   },
   {
    "duration": 272,
    "start_time": "2023-06-24T03:34:32.707Z"
   },
   {
    "duration": 405,
    "start_time": "2023-06-24T03:34:32.980Z"
   },
   {
    "duration": 384,
    "start_time": "2023-06-24T03:34:33.387Z"
   },
   {
    "duration": 152,
    "start_time": "2023-06-24T03:34:33.773Z"
   },
   {
    "duration": 326,
    "start_time": "2023-06-24T03:34:33.927Z"
   },
   {
    "duration": 256,
    "start_time": "2023-06-24T03:34:34.255Z"
   },
   {
    "duration": 148,
    "start_time": "2023-06-24T03:34:34.513Z"
   },
   {
    "duration": 0,
    "start_time": "2023-06-24T03:34:34.662Z"
   },
   {
    "duration": 0,
    "start_time": "2023-06-24T03:34:34.664Z"
   },
   {
    "duration": 0,
    "start_time": "2023-06-24T03:34:34.665Z"
   },
   {
    "duration": 285,
    "start_time": "2023-06-24T03:35:36.796Z"
   },
   {
    "duration": 12,
    "start_time": "2023-06-24T03:35:57.405Z"
   },
   {
    "duration": 10,
    "start_time": "2023-06-24T03:36:02.686Z"
   },
   {
    "duration": 12,
    "start_time": "2023-06-24T03:36:05.994Z"
   },
   {
    "duration": 8,
    "start_time": "2023-06-24T03:38:38.830Z"
   },
   {
    "duration": 290,
    "start_time": "2023-06-24T03:38:44.879Z"
   },
   {
    "duration": 4,
    "start_time": "2023-06-24T03:38:55.125Z"
   },
   {
    "duration": 4,
    "start_time": "2023-06-24T03:39:31.194Z"
   },
   {
    "duration": 3,
    "start_time": "2023-06-24T03:58:06.610Z"
   },
   {
    "duration": 9,
    "start_time": "2023-06-24T03:58:53.158Z"
   },
   {
    "duration": 20,
    "start_time": "2023-06-24T04:01:34.447Z"
   },
   {
    "duration": 3,
    "start_time": "2023-06-24T04:02:08.010Z"
   },
   {
    "duration": 7,
    "start_time": "2023-06-24T04:02:13.016Z"
   },
   {
    "duration": 6,
    "start_time": "2023-06-24T04:02:32.058Z"
   },
   {
    "duration": 72,
    "start_time": "2023-06-24T04:03:44.868Z"
   },
   {
    "duration": 7,
    "start_time": "2023-06-24T04:03:50.682Z"
   },
   {
    "duration": 76,
    "start_time": "2023-06-24T04:04:10.697Z"
   },
   {
    "duration": 7,
    "start_time": "2023-06-24T04:04:18.769Z"
   },
   {
    "duration": 7,
    "start_time": "2023-06-24T04:06:08.151Z"
   },
   {
    "duration": 8,
    "start_time": "2023-06-24T04:10:35.070Z"
   },
   {
    "duration": 12,
    "start_time": "2023-06-24T04:12:54.349Z"
   },
   {
    "duration": 11,
    "start_time": "2023-06-24T04:13:09.390Z"
   },
   {
    "duration": 6,
    "start_time": "2023-06-24T04:18:02.270Z"
   },
   {
    "duration": 4,
    "start_time": "2023-06-24T04:18:20.314Z"
   },
   {
    "duration": 4,
    "start_time": "2023-06-24T04:19:16.445Z"
   },
   {
    "duration": 4,
    "start_time": "2023-06-24T04:19:33.153Z"
   },
   {
    "duration": 9,
    "start_time": "2023-06-24T04:26:26.808Z"
   },
   {
    "duration": 5,
    "start_time": "2023-06-24T04:29:43.643Z"
   },
   {
    "duration": 11,
    "start_time": "2023-06-24T04:32:00.515Z"
   },
   {
    "duration": 24,
    "start_time": "2023-06-24T04:32:09.603Z"
   },
   {
    "duration": 7,
    "start_time": "2023-06-24T04:32:44.119Z"
   },
   {
    "duration": 28,
    "start_time": "2023-06-24T04:32:49.085Z"
   },
   {
    "duration": 1283,
    "start_time": "2023-06-24T04:40:49.038Z"
   },
   {
    "duration": 47,
    "start_time": "2023-06-24T04:40:50.323Z"
   },
   {
    "duration": 4,
    "start_time": "2023-06-24T04:40:50.372Z"
   },
   {
    "duration": 12,
    "start_time": "2023-06-24T04:40:50.378Z"
   },
   {
    "duration": 8,
    "start_time": "2023-06-24T04:40:50.392Z"
   },
   {
    "duration": 8,
    "start_time": "2023-06-24T04:40:50.401Z"
   },
   {
    "duration": 8,
    "start_time": "2023-06-24T04:40:50.411Z"
   },
   {
    "duration": 17,
    "start_time": "2023-06-24T04:40:50.420Z"
   },
   {
    "duration": 144,
    "start_time": "2023-06-24T04:40:50.439Z"
   },
   {
    "duration": 6,
    "start_time": "2023-06-24T04:40:50.585Z"
   },
   {
    "duration": 9,
    "start_time": "2023-06-24T04:40:50.592Z"
   },
   {
    "duration": 6,
    "start_time": "2023-06-24T04:40:50.603Z"
   },
   {
    "duration": 26,
    "start_time": "2023-06-24T04:40:50.611Z"
   },
   {
    "duration": 241,
    "start_time": "2023-06-24T04:40:50.640Z"
   },
   {
    "duration": 387,
    "start_time": "2023-06-24T04:40:50.883Z"
   },
   {
    "duration": 410,
    "start_time": "2023-06-24T04:40:51.271Z"
   },
   {
    "duration": 138,
    "start_time": "2023-06-24T04:40:51.683Z"
   },
   {
    "duration": 249,
    "start_time": "2023-06-24T04:40:51.823Z"
   },
   {
    "duration": 250,
    "start_time": "2023-06-24T04:40:52.073Z"
   },
   {
    "duration": 275,
    "start_time": "2023-06-24T04:40:52.325Z"
   },
   {
    "duration": 4,
    "start_time": "2023-06-24T04:40:52.602Z"
   },
   {
    "duration": 35,
    "start_time": "2023-06-24T04:40:52.607Z"
   },
   {
    "duration": 4,
    "start_time": "2023-06-24T04:40:52.644Z"
   },
   {
    "duration": 20,
    "start_time": "2023-06-24T04:40:52.649Z"
   },
   {
    "duration": 8,
    "start_time": "2023-06-24T04:40:52.670Z"
   },
   {
    "duration": 12,
    "start_time": "2023-06-24T04:40:52.679Z"
   },
   {
    "duration": 33,
    "start_time": "2023-06-24T04:40:52.692Z"
   },
   {
    "duration": 8,
    "start_time": "2023-06-24T04:40:52.800Z"
   },
   {
    "duration": 43,
    "start_time": "2023-06-24T04:40:52.809Z"
   },
   {
    "duration": 3,
    "start_time": "2023-06-24T04:41:55.407Z"
   },
   {
    "duration": 4,
    "start_time": "2023-06-24T04:42:15.949Z"
   },
   {
    "duration": 1371,
    "start_time": "2023-06-24T04:49:04.112Z"
   },
   {
    "duration": 63,
    "start_time": "2023-06-24T04:49:05.484Z"
   },
   {
    "duration": 25,
    "start_time": "2023-06-24T04:49:05.549Z"
   },
   {
    "duration": 47,
    "start_time": "2023-06-24T04:49:05.576Z"
   },
   {
    "duration": 28,
    "start_time": "2023-06-24T04:49:05.625Z"
   },
   {
    "duration": 42,
    "start_time": "2023-06-24T04:49:05.655Z"
   },
   {
    "duration": 30,
    "start_time": "2023-06-24T04:49:05.698Z"
   },
   {
    "duration": 93,
    "start_time": "2023-06-24T04:49:05.730Z"
   },
   {
    "duration": 261,
    "start_time": "2023-06-24T04:49:05.825Z"
   },
   {
    "duration": 6,
    "start_time": "2023-06-24T04:49:06.088Z"
   },
   {
    "duration": 32,
    "start_time": "2023-06-24T04:49:06.096Z"
   },
   {
    "duration": 39,
    "start_time": "2023-06-24T04:49:06.129Z"
   },
   {
    "duration": 34,
    "start_time": "2023-06-24T04:49:06.170Z"
   },
   {
    "duration": 269,
    "start_time": "2023-06-24T04:49:06.207Z"
   },
   {
    "duration": 424,
    "start_time": "2023-06-24T04:49:06.478Z"
   },
   {
    "duration": 422,
    "start_time": "2023-06-24T04:49:06.903Z"
   },
   {
    "duration": 145,
    "start_time": "2023-06-24T04:49:07.326Z"
   },
   {
    "duration": 277,
    "start_time": "2023-06-24T04:49:07.473Z"
   },
   {
    "duration": 267,
    "start_time": "2023-06-24T04:49:07.752Z"
   },
   {
    "duration": 288,
    "start_time": "2023-06-24T04:49:08.021Z"
   },
   {
    "duration": 4,
    "start_time": "2023-06-24T04:49:08.310Z"
   },
   {
    "duration": 55,
    "start_time": "2023-06-24T04:49:08.316Z"
   },
   {
    "duration": 4,
    "start_time": "2023-06-24T04:49:08.373Z"
   },
   {
    "duration": 13,
    "start_time": "2023-06-24T04:49:08.378Z"
   },
   {
    "duration": 22,
    "start_time": "2023-06-24T04:49:08.392Z"
   },
   {
    "duration": 89,
    "start_time": "2023-06-24T04:49:08.415Z"
   },
   {
    "duration": 15,
    "start_time": "2023-06-24T04:49:08.505Z"
   },
   {
    "duration": 29,
    "start_time": "2023-06-24T04:49:08.521Z"
   },
   {
    "duration": 23,
    "start_time": "2023-06-24T04:49:08.551Z"
   },
   {
    "duration": 5,
    "start_time": "2023-06-24T04:52:16.641Z"
   },
   {
    "duration": 14,
    "start_time": "2023-06-24T04:52:22.133Z"
   },
   {
    "duration": 5,
    "start_time": "2023-06-24T04:52:23.025Z"
   },
   {
    "duration": 6,
    "start_time": "2023-06-24T04:52:30.545Z"
   },
   {
    "duration": 8,
    "start_time": "2023-06-24T04:52:32.527Z"
   },
   {
    "duration": 35,
    "start_time": "2023-06-24T04:53:14.237Z"
   },
   {
    "duration": 2,
    "start_time": "2023-06-24T04:53:36.445Z"
   },
   {
    "duration": 18,
    "start_time": "2023-06-24T04:56:14.197Z"
   },
   {
    "duration": 4,
    "start_time": "2023-06-24T04:57:28.553Z"
   },
   {
    "duration": 43,
    "start_time": "2023-06-24T04:59:55.310Z"
   },
   {
    "duration": 6,
    "start_time": "2023-06-24T05:00:09.251Z"
   },
   {
    "duration": 28,
    "start_time": "2023-06-24T05:00:09.259Z"
   },
   {
    "duration": 25,
    "start_time": "2023-06-24T05:00:09.289Z"
   },
   {
    "duration": 47,
    "start_time": "2023-06-24T05:00:09.315Z"
   },
   {
    "duration": 18,
    "start_time": "2023-06-24T05:00:09.364Z"
   },
   {
    "duration": 22,
    "start_time": "2023-06-24T05:00:09.384Z"
   },
   {
    "duration": 46,
    "start_time": "2023-06-24T05:00:09.408Z"
   },
   {
    "duration": 190,
    "start_time": "2023-06-24T05:00:09.458Z"
   },
   {
    "duration": 18,
    "start_time": "2023-06-24T05:00:09.649Z"
   },
   {
    "duration": 1406,
    "start_time": "2023-06-24T05:17:17.249Z"
   },
   {
    "duration": 47,
    "start_time": "2023-06-24T05:17:18.656Z"
   },
   {
    "duration": 4,
    "start_time": "2023-06-24T05:17:18.705Z"
   },
   {
    "duration": 19,
    "start_time": "2023-06-24T05:17:18.711Z"
   },
   {
    "duration": 14,
    "start_time": "2023-06-24T05:17:18.733Z"
   },
   {
    "duration": 11,
    "start_time": "2023-06-24T05:17:18.749Z"
   },
   {
    "duration": 21,
    "start_time": "2023-06-24T05:17:18.761Z"
   },
   {
    "duration": 24,
    "start_time": "2023-06-24T05:17:18.783Z"
   },
   {
    "duration": 167,
    "start_time": "2023-06-24T05:17:18.808Z"
   },
   {
    "duration": 5,
    "start_time": "2023-06-24T05:17:18.977Z"
   },
   {
    "duration": 13,
    "start_time": "2023-06-24T05:17:18.983Z"
   },
   {
    "duration": 9,
    "start_time": "2023-06-24T05:17:18.997Z"
   },
   {
    "duration": 13,
    "start_time": "2023-06-24T05:17:19.008Z"
   },
   {
    "duration": 277,
    "start_time": "2023-06-24T05:17:19.033Z"
   },
   {
    "duration": 495,
    "start_time": "2023-06-24T05:17:19.311Z"
   },
   {
    "duration": 367,
    "start_time": "2023-06-24T05:17:19.808Z"
   },
   {
    "duration": 166,
    "start_time": "2023-06-24T05:17:20.176Z"
   },
   {
    "duration": 292,
    "start_time": "2023-06-24T05:17:20.344Z"
   },
   {
    "duration": 278,
    "start_time": "2023-06-24T05:17:20.638Z"
   },
   {
    "duration": 398,
    "start_time": "2023-06-24T05:17:20.918Z"
   },
   {
    "duration": 13,
    "start_time": "2023-06-24T05:17:21.319Z"
   },
   {
    "duration": 89,
    "start_time": "2023-06-24T05:17:21.334Z"
   },
   {
    "duration": 7,
    "start_time": "2023-06-24T05:17:21.425Z"
   },
   {
    "duration": 18,
    "start_time": "2023-06-24T05:17:21.433Z"
   },
   {
    "duration": 7,
    "start_time": "2023-06-24T05:17:21.453Z"
   },
   {
    "duration": 23,
    "start_time": "2023-06-24T05:17:21.461Z"
   },
   {
    "duration": 8,
    "start_time": "2023-06-24T05:17:21.486Z"
   },
   {
    "duration": 7,
    "start_time": "2023-06-24T05:17:21.497Z"
   },
   {
    "duration": 32,
    "start_time": "2023-06-24T05:17:21.505Z"
   },
   {
    "duration": 102,
    "start_time": "2023-06-24T05:17:21.539Z"
   },
   {
    "duration": 59,
    "start_time": "2023-06-24T05:17:21.731Z"
   },
   {
    "duration": 1477,
    "start_time": "2023-06-25T15:37:54.591Z"
   },
   {
    "duration": 190,
    "start_time": "2023-06-25T15:37:56.070Z"
   },
   {
    "duration": 8,
    "start_time": "2023-06-25T15:37:56.262Z"
   },
   {
    "duration": 36,
    "start_time": "2023-06-25T15:37:56.272Z"
   },
   {
    "duration": 13,
    "start_time": "2023-06-25T15:37:56.311Z"
   },
   {
    "duration": 10,
    "start_time": "2023-06-25T15:37:56.326Z"
   },
   {
    "duration": 12,
    "start_time": "2023-06-25T15:37:56.338Z"
   },
   {
    "duration": 26,
    "start_time": "2023-06-25T15:37:56.351Z"
   },
   {
    "duration": 161,
    "start_time": "2023-06-25T15:37:56.379Z"
   },
   {
    "duration": 5,
    "start_time": "2023-06-25T15:37:56.541Z"
   },
   {
    "duration": 24,
    "start_time": "2023-06-25T15:37:56.548Z"
   },
   {
    "duration": 12,
    "start_time": "2023-06-25T15:37:56.573Z"
   },
   {
    "duration": 19,
    "start_time": "2023-06-25T15:37:56.586Z"
   },
   {
    "duration": 264,
    "start_time": "2023-06-25T15:37:56.608Z"
   },
   {
    "duration": 468,
    "start_time": "2023-06-25T15:37:56.873Z"
   },
   {
    "duration": 356,
    "start_time": "2023-06-25T15:37:57.343Z"
   },
   {
    "duration": 136,
    "start_time": "2023-06-25T15:37:57.701Z"
   },
   {
    "duration": 257,
    "start_time": "2023-06-25T15:37:57.839Z"
   },
   {
    "duration": 255,
    "start_time": "2023-06-25T15:37:58.097Z"
   },
   {
    "duration": 351,
    "start_time": "2023-06-25T15:37:58.353Z"
   },
   {
    "duration": 4,
    "start_time": "2023-06-25T15:37:58.705Z"
   },
   {
    "duration": 47,
    "start_time": "2023-06-25T15:37:58.710Z"
   },
   {
    "duration": 20,
    "start_time": "2023-06-25T15:37:58.758Z"
   },
   {
    "duration": 18,
    "start_time": "2023-06-25T15:37:58.779Z"
   },
   {
    "duration": 8,
    "start_time": "2023-06-25T15:37:58.799Z"
   },
   {
    "duration": 14,
    "start_time": "2023-06-25T15:37:58.808Z"
   },
   {
    "duration": 10,
    "start_time": "2023-06-25T15:37:58.823Z"
   },
   {
    "duration": 12,
    "start_time": "2023-06-25T15:37:58.835Z"
   },
   {
    "duration": 136,
    "start_time": "2023-06-25T15:37:58.848Z"
   },
   {
    "duration": 9,
    "start_time": "2023-06-25T15:37:59.076Z"
   },
   {
    "duration": 94,
    "start_time": "2023-06-25T15:37:59.087Z"
   },
   {
    "duration": 1553,
    "start_time": "2023-06-25T18:37:10.094Z"
   },
   {
    "duration": 161,
    "start_time": "2023-06-25T18:37:11.650Z"
   },
   {
    "duration": 8,
    "start_time": "2023-06-25T18:37:11.812Z"
   },
   {
    "duration": 24,
    "start_time": "2023-06-25T18:37:11.822Z"
   },
   {
    "duration": 19,
    "start_time": "2023-06-25T18:37:11.848Z"
   },
   {
    "duration": 10,
    "start_time": "2023-06-25T18:37:11.868Z"
   },
   {
    "duration": 20,
    "start_time": "2023-06-25T18:37:11.879Z"
   },
   {
    "duration": 25,
    "start_time": "2023-06-25T18:37:11.900Z"
   },
   {
    "duration": 143,
    "start_time": "2023-06-25T18:37:11.927Z"
   },
   {
    "duration": 6,
    "start_time": "2023-06-25T18:37:12.076Z"
   },
   {
    "duration": 14,
    "start_time": "2023-06-25T18:37:12.083Z"
   },
   {
    "duration": 26,
    "start_time": "2023-06-25T18:37:12.099Z"
   },
   {
    "duration": 25,
    "start_time": "2023-06-25T18:37:12.126Z"
   },
   {
    "duration": 263,
    "start_time": "2023-06-25T18:37:12.153Z"
   },
   {
    "duration": 468,
    "start_time": "2023-06-25T18:37:12.417Z"
   },
   {
    "duration": 350,
    "start_time": "2023-06-25T18:37:12.887Z"
   },
   {
    "duration": 158,
    "start_time": "2023-06-25T18:37:13.239Z"
   },
   {
    "duration": 271,
    "start_time": "2023-06-25T18:37:13.399Z"
   },
   {
    "duration": 305,
    "start_time": "2023-06-25T18:37:13.672Z"
   },
   {
    "duration": 398,
    "start_time": "2023-06-25T18:37:13.979Z"
   },
   {
    "duration": 5,
    "start_time": "2023-06-25T18:37:14.379Z"
   },
   {
    "duration": 60,
    "start_time": "2023-06-25T18:37:14.386Z"
   },
   {
    "duration": 6,
    "start_time": "2023-06-25T18:37:14.447Z"
   },
   {
    "duration": 31,
    "start_time": "2023-06-25T18:37:14.455Z"
   },
   {
    "duration": 10,
    "start_time": "2023-06-25T18:37:14.488Z"
   },
   {
    "duration": 16,
    "start_time": "2023-06-25T18:37:14.500Z"
   },
   {
    "duration": 11,
    "start_time": "2023-06-25T18:37:14.518Z"
   },
   {
    "duration": 6,
    "start_time": "2023-06-25T18:37:14.533Z"
   },
   {
    "duration": 137,
    "start_time": "2023-06-25T18:37:14.540Z"
   },
   {
    "duration": 10,
    "start_time": "2023-06-25T18:37:14.679Z"
   },
   {
    "duration": 91,
    "start_time": "2023-06-25T18:37:14.691Z"
   },
   {
    "duration": 4,
    "start_time": "2023-06-25T18:47:42.327Z"
   },
   {
    "duration": 202,
    "start_time": "2023-06-25T18:57:26.015Z"
   },
   {
    "duration": 3,
    "start_time": "2023-06-25T18:58:04.928Z"
   },
   {
    "duration": 89,
    "start_time": "2023-06-25T18:58:10.433Z"
   },
   {
    "duration": 623,
    "start_time": "2023-06-25T18:59:10.138Z"
   },
   {
    "duration": 146,
    "start_time": "2023-06-25T18:59:46.736Z"
   },
   {
    "duration": 147,
    "start_time": "2023-06-25T19:00:05.035Z"
   },
   {
    "duration": 478,
    "start_time": "2023-06-25T19:00:16.801Z"
   },
   {
    "duration": 317,
    "start_time": "2023-06-25T19:01:17.560Z"
   },
   {
    "duration": 147,
    "start_time": "2023-06-25T19:01:42.833Z"
   },
   {
    "duration": 317,
    "start_time": "2023-06-25T19:02:00.360Z"
   },
   {
    "duration": 133,
    "start_time": "2023-06-25T19:02:08.944Z"
   },
   {
    "duration": 245,
    "start_time": "2023-06-25T19:02:26.632Z"
   },
   {
    "duration": 219,
    "start_time": "2023-06-25T19:02:48.064Z"
   },
   {
    "duration": 116,
    "start_time": "2023-06-25T19:04:48.438Z"
   },
   {
    "duration": 66,
    "start_time": "2023-06-25T19:05:08.513Z"
   },
   {
    "duration": 97,
    "start_time": "2023-06-25T19:05:13.559Z"
   },
   {
    "duration": 3,
    "start_time": "2023-06-25T19:05:28.631Z"
   },
   {
    "duration": 85,
    "start_time": "2023-06-25T19:05:37.719Z"
   },
   {
    "duration": 27348,
    "start_time": "2023-06-25T19:05:43.929Z"
   },
   {
    "duration": 27333,
    "start_time": "2023-06-25T19:07:03.167Z"
   },
   {
    "duration": 37424,
    "start_time": "2023-06-25T19:09:57.882Z"
   },
   {
    "duration": 103,
    "start_time": "2023-06-25T19:13:12.421Z"
   },
   {
    "duration": 4,
    "start_time": "2023-06-25T19:13:35.556Z"
   },
   {
    "duration": 7456,
    "start_time": "2023-06-25T19:13:39.835Z"
   },
   {
    "duration": 11476,
    "start_time": "2023-06-25T19:17:19.313Z"
   },
   {
    "duration": 1391,
    "start_time": "2023-06-25T19:18:03.112Z"
   },
   {
    "duration": 47,
    "start_time": "2023-06-25T19:18:04.505Z"
   },
   {
    "duration": 5,
    "start_time": "2023-06-25T19:18:04.554Z"
   },
   {
    "duration": 19,
    "start_time": "2023-06-25T19:18:04.560Z"
   },
   {
    "duration": 15,
    "start_time": "2023-06-25T19:18:04.581Z"
   },
   {
    "duration": 22,
    "start_time": "2023-06-25T19:18:04.597Z"
   },
   {
    "duration": 13,
    "start_time": "2023-06-25T19:18:04.621Z"
   },
   {
    "duration": 32,
    "start_time": "2023-06-25T19:18:04.636Z"
   },
   {
    "duration": 162,
    "start_time": "2023-06-25T19:18:04.669Z"
   },
   {
    "duration": 6,
    "start_time": "2023-06-25T19:18:04.832Z"
   },
   {
    "duration": 23,
    "start_time": "2023-06-25T19:18:04.839Z"
   },
   {
    "duration": 35,
    "start_time": "2023-06-25T19:18:04.864Z"
   },
   {
    "duration": 23,
    "start_time": "2023-06-25T19:18:04.900Z"
   },
   {
    "duration": 247,
    "start_time": "2023-06-25T19:18:04.926Z"
   },
   {
    "duration": 501,
    "start_time": "2023-06-25T19:18:05.175Z"
   },
   {
    "duration": 358,
    "start_time": "2023-06-25T19:18:05.677Z"
   },
   {
    "duration": 147,
    "start_time": "2023-06-25T19:18:06.036Z"
   },
   {
    "duration": 335,
    "start_time": "2023-06-25T19:18:06.185Z"
   },
   {
    "duration": 268,
    "start_time": "2023-06-25T19:18:06.521Z"
   },
   {
    "duration": 399,
    "start_time": "2023-06-25T19:18:06.791Z"
   },
   {
    "duration": 4,
    "start_time": "2023-06-25T19:18:07.191Z"
   },
   {
    "duration": 61,
    "start_time": "2023-06-25T19:18:07.196Z"
   },
   {
    "duration": 17,
    "start_time": "2023-06-25T19:18:07.259Z"
   },
   {
    "duration": 6,
    "start_time": "2023-06-25T19:18:07.277Z"
   },
   {
    "duration": 24,
    "start_time": "2023-06-25T19:18:07.285Z"
   },
   {
    "duration": 23,
    "start_time": "2023-06-25T19:18:07.311Z"
   },
   {
    "duration": 13,
    "start_time": "2023-06-25T19:18:07.336Z"
   },
   {
    "duration": 23,
    "start_time": "2023-06-25T19:18:07.351Z"
   },
   {
    "duration": 504,
    "start_time": "2023-06-25T19:18:07.375Z"
   },
   {
    "duration": 36308,
    "start_time": "2023-06-25T19:18:07.882Z"
   },
   {
    "duration": 201161,
    "start_time": "2023-06-25T19:18:44.192Z"
   },
   {
    "duration": 14,
    "start_time": "2023-06-25T19:22:05.355Z"
   },
   {
    "duration": 0,
    "start_time": "2023-06-25T19:22:05.371Z"
   },
   {
    "duration": 0,
    "start_time": "2023-06-25T19:22:05.372Z"
   },
   {
    "duration": 167577,
    "start_time": "2023-06-25T19:22:16.310Z"
   },
   {
    "duration": 7,
    "start_time": "2023-06-25T19:26:22.590Z"
   },
   {
    "duration": 895,
    "start_time": "2023-06-25T19:29:25.673Z"
   },
   {
    "duration": 908,
    "start_time": "2023-06-25T19:29:51.155Z"
   },
   {
    "duration": 1960,
    "start_time": "2023-06-25T19:31:41.890Z"
   },
   {
    "duration": 84,
    "start_time": "2023-06-25T19:33:48.530Z"
   },
   {
    "duration": 4,
    "start_time": "2023-06-25T19:35:07.994Z"
   },
   {
    "duration": 494,
    "start_time": "2023-06-25T19:35:14.586Z"
   },
   {
    "duration": 31823,
    "start_time": "2023-06-25T19:35:29.002Z"
   },
   {
    "duration": 1557,
    "start_time": "2023-06-25T19:38:09.545Z"
   },
   {
    "duration": 51,
    "start_time": "2023-06-25T19:38:11.105Z"
   },
   {
    "duration": 5,
    "start_time": "2023-06-25T19:38:11.158Z"
   },
   {
    "duration": 21,
    "start_time": "2023-06-25T19:38:11.166Z"
   },
   {
    "duration": 36,
    "start_time": "2023-06-25T19:38:11.189Z"
   },
   {
    "duration": 27,
    "start_time": "2023-06-25T19:38:11.227Z"
   },
   {
    "duration": 24,
    "start_time": "2023-06-25T19:38:11.256Z"
   },
   {
    "duration": 47,
    "start_time": "2023-06-25T19:38:11.282Z"
   },
   {
    "duration": 171,
    "start_time": "2023-06-25T19:38:11.331Z"
   },
   {
    "duration": 6,
    "start_time": "2023-06-25T19:38:11.504Z"
   },
   {
    "duration": 40,
    "start_time": "2023-06-25T19:38:11.512Z"
   },
   {
    "duration": 26,
    "start_time": "2023-06-25T19:38:11.554Z"
   },
   {
    "duration": 51,
    "start_time": "2023-06-25T19:38:11.583Z"
   },
   {
    "duration": 309,
    "start_time": "2023-06-25T19:38:11.636Z"
   },
   {
    "duration": 515,
    "start_time": "2023-06-25T19:38:11.947Z"
   },
   {
    "duration": 399,
    "start_time": "2023-06-25T19:38:12.464Z"
   },
   {
    "duration": 163,
    "start_time": "2023-06-25T19:38:12.865Z"
   },
   {
    "duration": 317,
    "start_time": "2023-06-25T19:38:13.031Z"
   },
   {
    "duration": 288,
    "start_time": "2023-06-25T19:38:13.350Z"
   },
   {
    "duration": 416,
    "start_time": "2023-06-25T19:38:13.640Z"
   },
   {
    "duration": 4,
    "start_time": "2023-06-25T19:38:14.058Z"
   },
   {
    "duration": 81,
    "start_time": "2023-06-25T19:38:14.064Z"
   },
   {
    "duration": 6,
    "start_time": "2023-06-25T19:38:14.147Z"
   },
   {
    "duration": 24,
    "start_time": "2023-06-25T19:38:14.155Z"
   },
   {
    "duration": 12,
    "start_time": "2023-06-25T19:38:14.181Z"
   },
   {
    "duration": 26,
    "start_time": "2023-06-25T19:38:14.194Z"
   },
   {
    "duration": 33,
    "start_time": "2023-06-25T19:38:14.222Z"
   },
   {
    "duration": 27,
    "start_time": "2023-06-25T19:38:14.260Z"
   },
   {
    "duration": 605,
    "start_time": "2023-06-25T19:38:14.289Z"
   },
   {
    "duration": 33733,
    "start_time": "2023-06-25T19:38:14.976Z"
   },
   {
    "duration": 268181,
    "start_time": "2023-06-25T19:38:48.710Z"
   },
   {
    "duration": 11,
    "start_time": "2023-06-25T19:43:16.893Z"
   },
   {
    "duration": 1893,
    "start_time": "2023-06-25T19:43:16.905Z"
   },
   {
    "duration": 10,
    "start_time": "2023-06-25T19:43:18.800Z"
   },
   {
    "duration": 30,
    "start_time": "2023-06-25T19:43:18.811Z"
   },
   {
    "duration": 251,
    "start_time": "2023-06-25T19:43:18.843Z"
   },
   {
    "duration": 9,
    "start_time": "2023-06-25T19:43:19.096Z"
   },
   {
    "duration": 112412,
    "start_time": "2023-06-25T19:47:26.775Z"
   },
   {
    "duration": 7,
    "start_time": "2023-06-25T19:49:19.189Z"
   },
   {
    "duration": 1464,
    "start_time": "2023-06-25T19:56:46.388Z"
   },
   {
    "duration": 50,
    "start_time": "2023-06-25T19:56:47.854Z"
   },
   {
    "duration": 6,
    "start_time": "2023-06-25T19:56:47.908Z"
   },
   {
    "duration": 19,
    "start_time": "2023-06-25T19:56:47.915Z"
   },
   {
    "duration": 9,
    "start_time": "2023-06-25T19:56:47.936Z"
   },
   {
    "duration": 19,
    "start_time": "2023-06-25T19:56:47.946Z"
   },
   {
    "duration": 9,
    "start_time": "2023-06-25T19:56:47.967Z"
   },
   {
    "duration": 16,
    "start_time": "2023-06-25T19:56:47.977Z"
   },
   {
    "duration": 169,
    "start_time": "2023-06-25T19:56:47.994Z"
   },
   {
    "duration": 12,
    "start_time": "2023-06-25T19:56:48.164Z"
   },
   {
    "duration": 10,
    "start_time": "2023-06-25T19:56:48.178Z"
   },
   {
    "duration": 11,
    "start_time": "2023-06-25T19:56:48.190Z"
   },
   {
    "duration": 12,
    "start_time": "2023-06-25T19:56:48.205Z"
   },
   {
    "duration": 377,
    "start_time": "2023-06-25T19:56:48.218Z"
   },
   {
    "duration": 468,
    "start_time": "2023-06-25T19:56:48.597Z"
   },
   {
    "duration": 353,
    "start_time": "2023-06-25T19:56:49.067Z"
   },
   {
    "duration": 184,
    "start_time": "2023-06-25T19:56:49.422Z"
   },
   {
    "duration": 272,
    "start_time": "2023-06-25T19:56:49.608Z"
   },
   {
    "duration": 363,
    "start_time": "2023-06-25T19:56:49.881Z"
   },
   {
    "duration": 300,
    "start_time": "2023-06-25T19:56:50.245Z"
   },
   {
    "duration": 5,
    "start_time": "2023-06-25T19:56:50.547Z"
   },
   {
    "duration": 81,
    "start_time": "2023-06-25T19:56:50.555Z"
   },
   {
    "duration": 5,
    "start_time": "2023-06-25T19:56:50.638Z"
   },
   {
    "duration": 20,
    "start_time": "2023-06-25T19:56:50.645Z"
   },
   {
    "duration": 19,
    "start_time": "2023-06-25T19:56:50.667Z"
   },
   {
    "duration": 21,
    "start_time": "2023-06-25T19:56:50.688Z"
   },
   {
    "duration": 21,
    "start_time": "2023-06-25T19:56:50.711Z"
   },
   {
    "duration": 21,
    "start_time": "2023-06-25T19:56:50.734Z"
   },
   {
    "duration": 625,
    "start_time": "2023-06-25T19:56:50.757Z"
   },
   {
    "duration": 32466,
    "start_time": "2023-06-25T19:56:51.385Z"
   },
   {
    "duration": 240925,
    "start_time": "2023-06-25T19:57:23.853Z"
   },
   {
    "duration": 8,
    "start_time": "2023-06-25T20:01:24.780Z"
   },
   {
    "duration": 4073,
    "start_time": "2023-06-25T20:01:24.789Z"
   },
   {
    "duration": 6616,
    "start_time": "2023-06-25T20:01:28.863Z"
   },
   {
    "duration": 8,
    "start_time": "2023-06-25T20:01:35.480Z"
   },
   {
    "duration": 13,
    "start_time": "2023-06-25T20:01:35.490Z"
   },
   {
    "duration": 13,
    "start_time": "2023-06-25T20:01:35.505Z"
   },
   {
    "duration": 21,
    "start_time": "2023-06-25T20:01:35.519Z"
   },
   {
    "duration": 8,
    "start_time": "2023-06-25T20:08:08.528Z"
   },
   {
    "duration": 4477,
    "start_time": "2023-06-25T20:08:14.444Z"
   },
   {
    "duration": 9,
    "start_time": "2023-06-25T20:08:24.034Z"
   },
   {
    "duration": 5999,
    "start_time": "2023-06-25T21:34:10.208Z"
   },
   {
    "duration": 222,
    "start_time": "2023-06-25T21:34:16.211Z"
   },
   {
    "duration": 74,
    "start_time": "2023-06-25T21:34:16.435Z"
   },
   {
    "duration": 91,
    "start_time": "2023-06-25T21:34:16.512Z"
   },
   {
    "duration": 208,
    "start_time": "2023-06-25T21:34:16.605Z"
   },
   {
    "duration": 202,
    "start_time": "2023-06-25T21:34:16.814Z"
   },
   {
    "duration": 93,
    "start_time": "2023-06-25T21:34:17.023Z"
   },
   {
    "duration": 207,
    "start_time": "2023-06-25T21:34:17.119Z"
   },
   {
    "duration": 1123,
    "start_time": "2023-06-25T21:34:17.414Z"
   },
   {
    "duration": 11,
    "start_time": "2023-06-25T21:34:18.605Z"
   },
   {
    "duration": 92,
    "start_time": "2023-06-25T21:34:18.618Z"
   },
   {
    "duration": 201,
    "start_time": "2023-06-25T21:34:18.718Z"
   },
   {
    "duration": 99,
    "start_time": "2023-06-25T21:34:18.925Z"
   },
   {
    "duration": 1514,
    "start_time": "2023-06-25T21:34:19.106Z"
   },
   {
    "duration": 2913,
    "start_time": "2023-06-25T21:34:20.622Z"
   },
   {
    "duration": 1829,
    "start_time": "2023-06-25T21:34:23.602Z"
   },
   {
    "duration": 924,
    "start_time": "2023-06-25T21:34:25.501Z"
   },
   {
    "duration": 1587,
    "start_time": "2023-06-25T21:34:26.431Z"
   },
   {
    "duration": 1595,
    "start_time": "2023-06-25T21:34:28.024Z"
   },
   {
    "duration": 2413,
    "start_time": "2023-06-25T21:34:29.622Z"
   },
   {
    "duration": 15,
    "start_time": "2023-06-25T21:34:32.103Z"
   },
   {
    "duration": 584,
    "start_time": "2023-06-25T21:34:32.121Z"
   },
   {
    "duration": 99,
    "start_time": "2023-06-25T21:34:32.710Z"
   },
   {
    "duration": 108,
    "start_time": "2023-06-25T21:34:32.820Z"
   },
   {
    "duration": 85,
    "start_time": "2023-06-25T21:34:32.933Z"
   },
   {
    "duration": 94,
    "start_time": "2023-06-25T21:34:33.020Z"
   },
   {
    "duration": 217,
    "start_time": "2023-06-25T21:34:33.116Z"
   },
   {
    "duration": 184,
    "start_time": "2023-06-25T21:34:33.338Z"
   },
   {
    "duration": 1487,
    "start_time": "2023-06-25T21:34:33.524Z"
   },
   {
    "duration": 165974,
    "start_time": "2023-06-25T21:34:35.031Z"
   },
   {
    "duration": 639602,
    "start_time": "2023-06-25T21:37:21.007Z"
   },
   {
    "duration": 16,
    "start_time": "2023-06-25T21:48:00.621Z"
   },
   {
    "duration": 25393,
    "start_time": "2023-06-25T21:48:00.643Z"
   },
   {
    "duration": 88,
    "start_time": "2023-06-25T21:48:26.113Z"
   },
   {
    "duration": 16,
    "start_time": "2023-06-25T21:48:26.207Z"
   },
   {
    "duration": 116,
    "start_time": "2023-06-25T21:48:26.225Z"
   },
   {
    "duration": 106,
    "start_time": "2023-06-25T21:48:26.411Z"
   },
   {
    "duration": 138,
    "start_time": "2023-06-26T06:03:08.102Z"
   },
   {
    "duration": 4,
    "start_time": "2023-06-26T06:03:16.729Z"
   },
   {
    "duration": 10,
    "start_time": "2023-06-26T06:03:23.116Z"
   },
   {
    "duration": 1867,
    "start_time": "2023-06-26T06:03:34.139Z"
   },
   {
    "duration": 4910,
    "start_time": "2023-06-26T06:08:57.433Z"
   },
   {
    "duration": 136,
    "start_time": "2023-06-26T06:09:10.501Z"
   },
   {
    "duration": 1823,
    "start_time": "2023-06-26T11:23:41.296Z"
   },
   {
    "duration": 127,
    "start_time": "2023-06-26T12:18:53.248Z"
   },
   {
    "duration": 1544,
    "start_time": "2023-06-26T12:19:02.352Z"
   },
   {
    "duration": 120,
    "start_time": "2023-06-26T12:19:03.898Z"
   },
   {
    "duration": 6,
    "start_time": "2023-06-26T12:19:04.020Z"
   },
   {
    "duration": 21,
    "start_time": "2023-06-26T12:19:04.028Z"
   },
   {
    "duration": 28,
    "start_time": "2023-06-26T12:19:04.051Z"
   },
   {
    "duration": 61,
    "start_time": "2023-06-26T12:19:04.081Z"
   },
   {
    "duration": 41,
    "start_time": "2023-06-26T12:19:04.144Z"
   },
   {
    "duration": 38,
    "start_time": "2023-06-26T12:19:04.187Z"
   },
   {
    "duration": 182,
    "start_time": "2023-06-26T12:19:04.227Z"
   },
   {
    "duration": 7,
    "start_time": "2023-06-26T12:19:04.412Z"
   },
   {
    "duration": 25,
    "start_time": "2023-06-26T12:19:04.421Z"
   },
   {
    "duration": 24,
    "start_time": "2023-06-26T12:19:04.448Z"
   },
   {
    "duration": 32,
    "start_time": "2023-06-26T12:19:04.474Z"
   },
   {
    "duration": 427,
    "start_time": "2023-06-26T12:19:04.508Z"
   },
   {
    "duration": 517,
    "start_time": "2023-06-26T12:19:04.937Z"
   },
   {
    "duration": 408,
    "start_time": "2023-06-26T12:19:05.456Z"
   },
   {
    "duration": 186,
    "start_time": "2023-06-26T12:19:05.866Z"
   },
   {
    "duration": 328,
    "start_time": "2023-06-26T12:19:06.053Z"
   },
   {
    "duration": 437,
    "start_time": "2023-06-26T12:19:06.384Z"
   },
   {
    "duration": 354,
    "start_time": "2023-06-26T12:19:06.823Z"
   },
   {
    "duration": 3385,
    "start_time": "2023-06-26T12:19:07.178Z"
   },
   {
    "duration": 93,
    "start_time": "2023-06-26T12:19:10.564Z"
   },
   {
    "duration": 379,
    "start_time": "2023-06-26T12:19:10.659Z"
   },
   {
    "duration": 507,
    "start_time": "2023-06-26T12:19:11.041Z"
   },
   {
    "duration": 4,
    "start_time": "2023-06-26T12:19:11.552Z"
   },
   {
    "duration": 84,
    "start_time": "2023-06-26T12:19:11.558Z"
   },
   {
    "duration": 8,
    "start_time": "2023-06-26T12:19:11.644Z"
   },
   {
    "duration": 8,
    "start_time": "2023-06-26T12:19:11.658Z"
   },
   {
    "duration": 8,
    "start_time": "2023-06-26T12:19:11.669Z"
   },
   {
    "duration": 15,
    "start_time": "2023-06-26T12:19:11.678Z"
   },
   {
    "duration": 7,
    "start_time": "2023-06-26T12:19:11.695Z"
   },
   {
    "duration": 17,
    "start_time": "2023-06-26T12:19:11.704Z"
   },
   {
    "duration": 634,
    "start_time": "2023-06-26T12:19:11.723Z"
   },
   {
    "duration": 42957,
    "start_time": "2023-06-26T12:19:12.360Z"
   },
   {
    "duration": 161938,
    "start_time": "2023-06-26T12:19:55.319Z"
   },
   {
    "duration": 9,
    "start_time": "2023-06-26T12:22:37.259Z"
   },
   {
    "duration": 5097,
    "start_time": "2023-06-26T12:22:37.271Z"
   },
   {
    "duration": 10,
    "start_time": "2023-06-26T12:22:42.369Z"
   },
   {
    "duration": 17,
    "start_time": "2023-06-26T12:22:42.381Z"
   },
   {
    "duration": 8,
    "start_time": "2023-06-26T12:22:42.400Z"
   },
   {
    "duration": 18,
    "start_time": "2023-06-26T12:22:42.410Z"
   },
   {
    "duration": 25,
    "start_time": "2023-06-26T12:22:42.432Z"
   },
   {
    "duration": 11,
    "start_time": "2023-06-26T12:24:50.510Z"
   },
   {
    "duration": 373,
    "start_time": "2023-06-26T12:25:16.028Z"
   },
   {
    "duration": 5,
    "start_time": "2023-06-26T12:25:33.517Z"
   },
   {
    "duration": 281,
    "start_time": "2023-06-26T12:25:33.525Z"
   },
   {
    "duration": 56,
    "start_time": "2023-06-26T12:25:33.809Z"
   },
   {
    "duration": 14,
    "start_time": "2023-06-26T12:25:33.867Z"
   },
   {
    "duration": 170,
    "start_time": "2023-06-26T12:25:33.883Z"
   },
   {
    "duration": 108,
    "start_time": "2023-06-26T12:25:34.055Z"
   },
   {
    "duration": 48,
    "start_time": "2023-06-26T12:25:34.169Z"
   },
   {
    "duration": 81,
    "start_time": "2023-06-26T12:25:34.219Z"
   },
   {
    "duration": 280,
    "start_time": "2023-06-26T12:25:34.302Z"
   },
   {
    "duration": 8,
    "start_time": "2023-06-26T12:25:34.584Z"
   },
   {
    "duration": 157,
    "start_time": "2023-06-26T12:25:34.593Z"
   },
   {
    "duration": 117,
    "start_time": "2023-06-26T12:25:34.752Z"
   },
   {
    "duration": 113,
    "start_time": "2023-06-26T12:25:34.871Z"
   },
   {
    "duration": 349,
    "start_time": "2023-06-26T12:25:34.989Z"
   },
   {
    "duration": 567,
    "start_time": "2023-06-26T12:25:35.341Z"
   },
   {
    "duration": 453,
    "start_time": "2023-06-26T12:25:35.910Z"
   },
   {
    "duration": 211,
    "start_time": "2023-06-26T12:25:36.367Z"
   },
   {
    "duration": 500,
    "start_time": "2023-06-26T12:25:36.580Z"
   },
   {
    "duration": 357,
    "start_time": "2023-06-26T12:25:37.082Z"
   },
   {
    "duration": 392,
    "start_time": "2023-06-26T12:25:37.441Z"
   },
   {
    "duration": 4528,
    "start_time": "2023-06-26T12:25:37.835Z"
   },
   {
    "duration": 89,
    "start_time": "2023-06-26T12:25:42.366Z"
   },
   {
    "duration": 117,
    "start_time": "2023-06-26T12:25:42.458Z"
   },
   {
    "duration": 292,
    "start_time": "2023-06-26T12:25:49.214Z"
   },
   {
    "duration": 342,
    "start_time": "2023-06-26T12:25:53.836Z"
   },
   {
    "duration": 335,
    "start_time": "2023-06-26T12:26:06.311Z"
   },
   {
    "duration": 297,
    "start_time": "2023-06-26T12:26:12.413Z"
   },
   {
    "duration": 18,
    "start_time": "2023-06-26T12:26:23.942Z"
   },
   {
    "duration": 608,
    "start_time": "2023-06-26T12:27:21.728Z"
   },
   {
    "duration": 19,
    "start_time": "2023-06-26T12:27:58.453Z"
   },
   {
    "duration": 462,
    "start_time": "2023-06-26T12:29:31.908Z"
   },
   {
    "duration": 630,
    "start_time": "2023-06-26T12:29:52.612Z"
   },
   {
    "duration": 402,
    "start_time": "2023-06-26T12:32:08.802Z"
   },
   {
    "duration": 515,
    "start_time": "2023-06-26T12:32:20.487Z"
   },
   {
    "duration": 269,
    "start_time": "2023-06-26T12:32:48.428Z"
   },
   {
    "duration": 393,
    "start_time": "2023-06-26T12:33:15.820Z"
   },
   {
    "duration": 215,
    "start_time": "2023-06-26T12:35:15.815Z"
   },
   {
    "duration": 6,
    "start_time": "2023-06-26T12:35:28.004Z"
   },
   {
    "duration": 5,
    "start_time": "2023-06-26T12:36:03.465Z"
   },
   {
    "duration": 13,
    "start_time": "2023-06-26T12:36:15.021Z"
   },
   {
    "duration": 245,
    "start_time": "2023-06-26T12:36:26.258Z"
   },
   {
    "duration": 4,
    "start_time": "2023-06-26T12:37:10.000Z"
   },
   {
    "duration": 4,
    "start_time": "2023-06-26T12:37:43.913Z"
   },
   {
    "duration": 12,
    "start_time": "2023-06-26T12:37:56.400Z"
   },
   {
    "duration": 11,
    "start_time": "2023-06-26T12:38:17.925Z"
   },
   {
    "duration": 4,
    "start_time": "2023-06-26T12:42:06.464Z"
   },
   {
    "duration": 26,
    "start_time": "2023-06-26T12:42:22.567Z"
   },
   {
    "duration": 5,
    "start_time": "2023-06-26T12:43:16.591Z"
   },
   {
    "duration": 35,
    "start_time": "2023-06-26T12:43:24.809Z"
   },
   {
    "duration": 6,
    "start_time": "2023-06-26T12:43:32.854Z"
   },
   {
    "duration": 30,
    "start_time": "2023-06-26T12:43:35.312Z"
   },
   {
    "duration": 5,
    "start_time": "2023-06-26T12:45:49.639Z"
   },
   {
    "duration": 92,
    "start_time": "2023-06-26T12:45:49.648Z"
   },
   {
    "duration": 5,
    "start_time": "2023-06-26T12:45:49.742Z"
   },
   {
    "duration": 45,
    "start_time": "2023-06-26T12:45:49.749Z"
   },
   {
    "duration": 11,
    "start_time": "2023-06-26T12:45:49.797Z"
   },
   {
    "duration": 15,
    "start_time": "2023-06-26T12:45:49.810Z"
   },
   {
    "duration": 16,
    "start_time": "2023-06-26T12:45:49.827Z"
   },
   {
    "duration": 44,
    "start_time": "2023-06-26T12:45:49.845Z"
   },
   {
    "duration": 174,
    "start_time": "2023-06-26T12:45:49.891Z"
   },
   {
    "duration": 5,
    "start_time": "2023-06-26T12:45:50.069Z"
   },
   {
    "duration": 8,
    "start_time": "2023-06-26T12:45:50.076Z"
   },
   {
    "duration": 45,
    "start_time": "2023-06-26T12:45:50.087Z"
   },
   {
    "duration": 68,
    "start_time": "2023-06-26T12:45:50.134Z"
   },
   {
    "duration": 456,
    "start_time": "2023-06-26T12:45:50.206Z"
   },
   {
    "duration": 552,
    "start_time": "2023-06-26T12:45:50.669Z"
   },
   {
    "duration": 462,
    "start_time": "2023-06-26T12:45:51.224Z"
   },
   {
    "duration": 372,
    "start_time": "2023-06-26T12:45:51.688Z"
   },
   {
    "duration": 377,
    "start_time": "2023-06-26T12:45:52.063Z"
   },
   {
    "duration": 336,
    "start_time": "2023-06-26T12:45:52.441Z"
   },
   {
    "duration": 393,
    "start_time": "2023-06-26T12:45:52.780Z"
   },
   {
    "duration": 9702,
    "start_time": "2023-06-26T12:45:53.176Z"
   },
   {
    "duration": 365,
    "start_time": "2023-06-26T12:46:02.951Z"
   },
   {
    "duration": 619,
    "start_time": "2023-06-26T12:46:03.319Z"
   },
   {
    "duration": 247,
    "start_time": "2023-06-26T12:46:03.940Z"
   },
   {
    "duration": 16,
    "start_time": "2023-06-26T12:46:04.189Z"
   },
   {
    "duration": 23,
    "start_time": "2023-06-26T12:46:04.207Z"
   },
   {
    "duration": 44,
    "start_time": "2023-06-26T12:46:04.233Z"
   },
   {
    "duration": 52,
    "start_time": "2023-06-26T12:46:04.281Z"
   },
   {
    "duration": 60,
    "start_time": "2023-06-26T12:46:38.945Z"
   },
   {
    "duration": 43,
    "start_time": "2023-06-26T12:48:04.407Z"
   },
   {
    "duration": 15,
    "start_time": "2023-06-26T12:51:17.503Z"
   },
   {
    "duration": 1650,
    "start_time": "2023-06-26T12:51:32.016Z"
   },
   {
    "duration": 49,
    "start_time": "2023-06-26T12:51:33.669Z"
   },
   {
    "duration": 6,
    "start_time": "2023-06-26T12:51:33.720Z"
   },
   {
    "duration": 38,
    "start_time": "2023-06-26T12:51:33.727Z"
   },
   {
    "duration": 11,
    "start_time": "2023-06-26T12:51:33.767Z"
   },
   {
    "duration": 15,
    "start_time": "2023-06-26T12:51:33.779Z"
   },
   {
    "duration": 14,
    "start_time": "2023-06-26T12:51:33.796Z"
   },
   {
    "duration": 24,
    "start_time": "2023-06-26T12:51:33.814Z"
   },
   {
    "duration": 190,
    "start_time": "2023-06-26T12:51:33.856Z"
   },
   {
    "duration": 14,
    "start_time": "2023-06-26T12:51:34.053Z"
   },
   {
    "duration": 16,
    "start_time": "2023-06-26T12:51:34.071Z"
   },
   {
    "duration": 8,
    "start_time": "2023-06-26T12:51:34.090Z"
   },
   {
    "duration": 15,
    "start_time": "2023-06-26T12:51:34.101Z"
   },
   {
    "duration": 424,
    "start_time": "2023-06-26T12:51:34.119Z"
   },
   {
    "duration": 507,
    "start_time": "2023-06-26T12:51:34.545Z"
   },
   {
    "duration": 448,
    "start_time": "2023-06-26T12:51:35.054Z"
   },
   {
    "duration": 184,
    "start_time": "2023-06-26T12:51:35.504Z"
   },
   {
    "duration": 318,
    "start_time": "2023-06-26T12:51:35.690Z"
   },
   {
    "duration": 461,
    "start_time": "2023-06-26T12:51:36.011Z"
   },
   {
    "duration": 353,
    "start_time": "2023-06-26T12:51:36.474Z"
   },
   {
    "duration": 4945,
    "start_time": "2023-06-26T12:51:36.829Z"
   },
   {
    "duration": 356,
    "start_time": "2023-06-26T12:51:41.855Z"
   },
   {
    "duration": 460,
    "start_time": "2023-06-26T12:51:42.213Z"
   },
   {
    "duration": 225,
    "start_time": "2023-06-26T12:51:42.675Z"
   },
   {
    "duration": 15,
    "start_time": "2023-06-26T12:51:42.902Z"
   },
   {
    "duration": 11,
    "start_time": "2023-06-26T12:51:42.919Z"
   },
   {
    "duration": 75,
    "start_time": "2023-06-26T12:51:42.932Z"
   },
   {
    "duration": 6,
    "start_time": "2023-06-26T12:51:43.009Z"
   },
   {
    "duration": 8,
    "start_time": "2023-06-26T12:51:43.017Z"
   },
   {
    "duration": 5,
    "start_time": "2023-06-26T12:51:43.027Z"
   },
   {
    "duration": 9,
    "start_time": "2023-06-26T12:51:43.054Z"
   },
   {
    "duration": 11,
    "start_time": "2023-06-26T12:51:43.067Z"
   },
   {
    "duration": 13,
    "start_time": "2023-06-26T12:51:43.080Z"
   },
   {
    "duration": 383,
    "start_time": "2023-06-26T12:51:43.095Z"
   },
   {
    "duration": 44227,
    "start_time": "2023-06-26T12:51:43.558Z"
   },
   {
    "duration": 194383,
    "start_time": "2023-06-26T12:52:27.788Z"
   },
   {
    "duration": 78,
    "start_time": "2023-06-26T12:55:42.174Z"
   },
   {
    "duration": 6770,
    "start_time": "2023-06-26T12:55:42.255Z"
   },
   {
    "duration": 12,
    "start_time": "2023-06-26T12:55:49.028Z"
   },
   {
    "duration": 17,
    "start_time": "2023-06-26T12:55:49.042Z"
   },
   {
    "duration": 12,
    "start_time": "2023-06-26T12:55:49.065Z"
   },
   {
    "duration": 28,
    "start_time": "2023-06-26T12:55:49.081Z"
   },
   {
    "duration": 306,
    "start_time": "2023-06-26T12:55:49.112Z"
   },
   {
    "duration": 1898,
    "start_time": "2023-06-26T12:58:59.242Z"
   },
   {
    "duration": 64,
    "start_time": "2023-06-26T12:59:01.142Z"
   },
   {
    "duration": 53,
    "start_time": "2023-06-26T12:59:01.208Z"
   },
   {
    "duration": 231,
    "start_time": "2023-06-26T12:59:01.264Z"
   },
   {
    "duration": 124,
    "start_time": "2023-06-26T12:59:01.498Z"
   },
   {
    "duration": 236,
    "start_time": "2023-06-26T12:59:01.623Z"
   },
   {
    "duration": 228,
    "start_time": "2023-06-26T12:59:01.861Z"
   },
   {
    "duration": 192,
    "start_time": "2023-06-26T12:59:02.091Z"
   },
   {
    "duration": 317,
    "start_time": "2023-06-26T12:59:02.286Z"
   },
   {
    "duration": 7,
    "start_time": "2023-06-26T12:59:02.605Z"
   },
   {
    "duration": 123,
    "start_time": "2023-06-26T12:59:02.614Z"
   },
   {
    "duration": 102,
    "start_time": "2023-06-26T12:59:02.739Z"
   },
   {
    "duration": 71,
    "start_time": "2023-06-26T12:59:02.843Z"
   },
   {
    "duration": 574,
    "start_time": "2023-06-26T12:59:02.917Z"
   },
   {
    "duration": 602,
    "start_time": "2023-06-26T12:59:03.493Z"
   },
   {
    "duration": 485,
    "start_time": "2023-06-26T12:59:04.097Z"
   },
   {
    "duration": 217,
    "start_time": "2023-06-26T12:59:04.584Z"
   },
   {
    "duration": 392,
    "start_time": "2023-06-26T12:59:04.803Z"
   },
   {
    "duration": 566,
    "start_time": "2023-06-26T12:59:05.197Z"
   },
   {
    "duration": 411,
    "start_time": "2023-06-26T12:59:05.771Z"
   },
   {
    "duration": 6677,
    "start_time": "2023-06-26T12:59:06.184Z"
   },
   {
    "duration": 418,
    "start_time": "2023-06-26T12:59:12.875Z"
   },
   {
    "duration": 577,
    "start_time": "2023-06-26T12:59:13.296Z"
   },
   {
    "duration": 268,
    "start_time": "2023-06-26T12:59:13.875Z"
   },
   {
    "duration": 33,
    "start_time": "2023-06-26T12:59:14.145Z"
   },
   {
    "duration": 37,
    "start_time": "2023-06-26T12:59:14.180Z"
   },
   {
    "duration": 85,
    "start_time": "2023-06-26T12:59:14.219Z"
   },
   {
    "duration": 8,
    "start_time": "2023-06-26T12:59:14.307Z"
   },
   {
    "duration": 69,
    "start_time": "2023-06-26T12:59:14.318Z"
   },
   {
    "duration": 55,
    "start_time": "2023-06-26T12:59:14.389Z"
   },
   {
    "duration": 59,
    "start_time": "2023-06-26T12:59:14.447Z"
   },
   {
    "duration": 72,
    "start_time": "2023-06-26T12:59:14.508Z"
   },
   {
    "duration": 54,
    "start_time": "2023-06-26T12:59:14.582Z"
   },
   {
    "duration": 640,
    "start_time": "2023-06-26T12:59:14.638Z"
   },
   {
    "duration": 56438,
    "start_time": "2023-06-26T12:59:15.288Z"
   },
   {
    "duration": 300827,
    "start_time": "2023-06-26T13:00:11.729Z"
   },
   {
    "duration": 10,
    "start_time": "2023-06-26T13:05:12.558Z"
   },
   {
    "duration": 5313,
    "start_time": "2023-06-26T13:05:12.570Z"
   },
   {
    "duration": 9,
    "start_time": "2023-06-26T13:05:17.885Z"
   },
   {
    "duration": 40,
    "start_time": "2023-06-26T13:05:17.896Z"
   },
   {
    "duration": 11,
    "start_time": "2023-06-26T13:05:17.941Z"
   },
   {
    "duration": 32,
    "start_time": "2023-06-26T13:05:17.954Z"
   },
   {
    "duration": 3423,
    "start_time": "2023-06-26T13:06:29.195Z"
   },
   {
    "duration": 44,
    "start_time": "2023-06-26T17:43:50.715Z"
   }
  ],
  "kernelspec": {
   "display_name": "Python 3 (ipykernel)",
   "language": "python",
   "name": "python3"
  },
  "language_info": {
   "codemirror_mode": {
    "name": "ipython",
    "version": 3
   },
   "file_extension": ".py",
   "mimetype": "text/x-python",
   "name": "python",
   "nbconvert_exporter": "python",
   "pygments_lexer": "ipython3",
   "version": "3.9.5"
  },
  "toc": {
   "base_numbering": 1,
   "nav_menu": {},
   "number_sections": true,
   "sideBar": true,
   "skip_h1_title": true,
   "title_cell": "Содержание",
   "title_sidebar": "Contents",
   "toc_cell": true,
   "toc_position": {},
   "toc_section_display": true,
   "toc_window_display": false
  }
 },
 "nbformat": 4,
 "nbformat_minor": 2
}
